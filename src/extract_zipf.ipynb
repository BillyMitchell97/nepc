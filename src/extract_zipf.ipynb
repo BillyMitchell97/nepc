{
 "cells": [
  {
   "cell_type": "code",
   "execution_count": 2,
   "metadata": {},
   "outputs": [],
   "source": [
    "import pdfplumber\n",
    "import scraper\n",
    "import numpy as np\n",
    "import config"
   ]
  },
  {
   "cell_type": "code",
   "execution_count": 3,
   "metadata": {},
   "outputs": [],
   "source": [
    "userHome = config.userHome()\n",
    "pdfHome = userHome + \"/projects/cs/ref/angus/\"\n",
    "outdir = userHome + \"/projects/cs/data/raw/ext/n2/\""
   ]
  },
  {
   "cell_type": "code",
   "execution_count": 4,
   "metadata": {},
   "outputs": [],
   "source": [
    "pdfZipf = scraper.getPDF(pdfHome + \"20_zipf_et_al-1980-Journal_of_Geophysical_Research__Space_Physics.pdf\")"
   ]
  },
  {
   "cell_type": "code",
   "execution_count": 5,
   "metadata": {},
   "outputs": [],
   "source": [
    "filenames = []\n",
    "filenames.append(outdir + 'dissociation_2D_20_zipf_3a')\n",
    "filenames.append(outdir + 'dissociation_2D_19_zipf_3b')\n",
    "filenames.append(outdir + 'dissociation_2D_total_zipf_3c')\n",
    "filenames.append(outdir + 'dissociation_2P_zipf_3d')\n",
    "filenames.append(outdir + 'dissociation_N2_total_zipf_3e')"
   ]
  },
  {
   "cell_type": "code",
   "execution_count": 6,
   "metadata": {},
   "outputs": [
    {
     "name": "stdout",
     "output_type": "stream",
     "text": [
      "/Users/adamson//projects/cs/data/raw/ext/n2/dissociation_2D_20_zipf_3a does not exist\n",
      "/Users/adamson//projects/cs/data/raw/ext/n2/dissociation_2D_20_zipf_3a.metadata does not exist\n",
      "/Users/adamson//projects/cs/data/raw/ext/n2/dissociation_2D_19_zipf_3b does not exist\n",
      "/Users/adamson//projects/cs/data/raw/ext/n2/dissociation_2D_19_zipf_3b.metadata does not exist\n",
      "/Users/adamson//projects/cs/data/raw/ext/n2/dissociation_2D_total_zipf_3c does not exist\n",
      "/Users/adamson//projects/cs/data/raw/ext/n2/dissociation_2D_total_zipf_3c.metadata does not exist\n",
      "/Users/adamson//projects/cs/data/raw/ext/n2/dissociation_2P_zipf_3d does not exist\n",
      "/Users/adamson//projects/cs/data/raw/ext/n2/dissociation_2P_zipf_3d.metadata does not exist\n",
      "/Users/adamson//projects/cs/data/raw/ext/n2/dissociation_N2_total_zipf_3e does not exist\n",
      "/Users/adamson//projects/cs/data/raw/ext/n2/dissociation_N2_total_zipf_3e.metadata does not exist\n"
     ]
    }
   ],
   "source": [
    "for filename in filenames:\n",
    "    scraper.rmfile(filename)\n",
    "    scraper.rmfile(filename + \".metadata\")"
   ]
  },
  {
   "cell_type": "code",
   "execution_count": 7,
   "metadata": {},
   "outputs": [],
   "source": [
    "cropDimX = [120, 150, 180, 480]\n",
    "cropDimY = []\n",
    "cropDimY.append([180, 170, 240, 480])\n",
    "cropDimY.append([240, 295, 300, 480])\n",
    "cropDimY.append([300, 170, 350, 480])\n",
    "cropDimY.append([350, 190, 410, 480])\n",
    "cropDimY.append([410, 150, 470, 480])"
   ]
  },
  {
   "cell_type": "code",
   "execution_count": 9,
   "metadata": {},
   "outputs": [],
   "source": [
    "background = '''in situ study of the excitation and collisional\n",
    "    deactivation of N(2p) atoms in an IBC II + aurora. The N(2p) \n",
    "    concentration and altitude distribution\n",
    "    from 110 to 195 km was determined from measurements of\n",
    "    the intensity of the NI(4S - 2p;lambda=3466 Angstrom) doublet.\n",
    "    The optical data were obtained by a filtered photometer onboard a \n",
    "    Taurus-Orion sounding rocket (33.001 UA) that was\n",
    "    launched into a bright auroral arc. Complementary measurements of the \n",
    "    intensity of the (0, 0) first negative band of N2+[lambda=3914 Angstrom] \n",
    "    and of the flux and energy distribution of the precipitating electrons in the \n",
    "    0-500 eV energy range were also made'''\n",
    "metadata= []\n",
    "metadata.append({\n",
    "    \"specie\":\"N2\",\n",
    "    \"process\":\"dissociation\",\n",
    "    \"units_e\":1.0,\n",
    "    \"units_sigma\":1.0E-4,\n",
    "    \"ref\":\"zipf1980\",\n",
    "    \"background\":background})"
   ]
  },
  {
   "cell_type": "code",
   "execution_count": 25,
   "metadata": {},
   "outputs": [
    {
     "name": "stdout",
     "output_type": "stream",
     "text": [
      "0\n"
     ]
    }
   ],
   "source": [
    "dataX = scraper.getColumnStrings(pdf=pdfZipf,pageNumber=6,cropDimArray=cropDimX,locateTables=False)\n",
    "dataX = scraper.textArrayToFloatArray(dataX)\n",
    "for i in range(len(filenames)):\n",
    "    dataY = scraper.getColumnStrings(pdf=pdfZipf,pageNumber=6,cropDimArray=cropDimY[i],locateTables=False)\n",
    "    dataY=[s.replace('(', 'E') for s in dataY]\n",
    "    dataY=[s.replace(')', '') for s in dataY]\n",
    "    dataY=[s.replace('t', '') for s in dataY]\n",
    "    dataY=[s.replace(',', '.') for s in dataY]\n",
    "    dataY=[s.replace(' ', '') for s in dataY]\n",
    "    dataY=scraper.textArrayToFloatArray(dataY)\n",
    "    N=len(dataX)-len(dataY)\n",
    "    for i in range(N):\n",
    "        dataY=np.concatenate(([[0]],dataY),axis=0)\n",
    "        \n",
    "for i in range(len(metadata)):\n",
    "    print(i)"
   ]
  },
  {
   "cell_type": "code",
   "execution_count": null,
   "metadata": {},
   "outputs": [],
   "source": [
    "\"made it here\""
   ]
  },
  {
   "cell_type": "code",
   "execution_count": null,
   "metadata": {},
   "outputs": [],
   "source": [
    "scraper.writeDataToFile(data,file3a)\n",
    "scraper.writeMetaDataToFile(filename=file3a+\".metadata\",\n",
    "                   specie=\"N2\",\n",
    "                   process=\"dissociation\",\n",
    "                   units_e=1.0,\n",
    "                   units_sigma=1.0E-4,\n",
    "                   ref=\"zipf1980\",\n",
    "                   background='Weighted sum of Winters gas cell and Cosby fast $N_2$ beam data; for Cosby data, the correlated pair N + N was detected by a time and position sensitive detecter. Error for Cosby data was 20% and error for Winters data was 30%.')"
   ]
  }
 ],
 "metadata": {
  "kernelspec": {
   "display_name": "Python 3",
   "language": "python",
   "name": "python3"
  },
  "language_info": {
   "codemirror_mode": {
    "name": "ipython",
    "version": 3
   },
   "file_extension": ".py",
   "mimetype": "text/x-python",
   "name": "python",
   "nbconvert_exporter": "python",
   "pygments_lexer": "ipython3",
   "version": "3.7.2"
  }
 },
 "nbformat": 4,
 "nbformat_minor": 2
}
