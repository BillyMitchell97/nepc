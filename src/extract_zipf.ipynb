{
 "cells": [
  {
   "cell_type": "code",
   "execution_count": 1,
   "metadata": {},
   "outputs": [],
   "source": [
    "import pdfplumber\n",
    "import scraper\n",
    "import numpy as np\n",
    "import config"
   ]
  },
  {
   "cell_type": "code",
   "execution_count": 2,
   "metadata": {},
   "outputs": [],
   "source": [
    "userHome = config.userHome()\n",
    "pdfHome = userHome + \"/projects/cs/ref/angus/\"\n",
    "outdir = userHome + \"/projects/cs/data/raw/ext/n2/\""
   ]
  },
  {
   "cell_type": "code",
   "execution_count": 3,
   "metadata": {},
   "outputs": [],
   "source": [
    "pdfZipf = scraper.getPDF(pdfHome + \"20_zipf_et_al-1980-Journal_of_Geophysical_Research__Space_Physics.pdf\")"
   ]
  },
  {
   "cell_type": "code",
   "execution_count": 4,
   "metadata": {},
   "outputs": [],
   "source": [
    "file3a = outdir + 'dissociation_2D_zipf_3a'"
   ]
  },
  {
   "cell_type": "code",
   "execution_count": 5,
   "metadata": {},
   "outputs": [
    {
     "name": "stdout",
     "output_type": "stream",
     "text": [
      "/home/adamson//projects/cs/data/raw/ext/n2/dissociation_2D_zipf_3a does not exist\n",
      "/home/adamson//projects/cs/data/raw/ext/n2/dissociation_2D_zipf_3a.metadata does not exist\n"
     ]
    }
   ],
   "source": [
    "scraper.rmfile(file3a)\n",
    "scraper.rmfile(file3a + \".metadata\")"
   ]
  },
  {
   "cell_type": "code",
   "execution_count": 15,
   "metadata": {},
   "outputs": [],
   "source": [
    "cropDim1 = [120, 170, 180, 480]\n",
    "cropDim2 = [300, 170, 350, 480]"
   ]
  },
  {
   "cell_type": "code",
   "execution_count": 17,
   "metadata": {},
   "outputs": [],
   "source": [
    "data1 = scraper.getColumnStrings(pdf=pdfZipf,pageNumber=6,cropDimArray=cropDim1,locateTables=False)\n",
    "data2 = scraper.getColumnStrings(pdf=pdfZipf,pageNumber=6,cropDimArray=cropDim2,locateTables=False)"
   ]
  },
  {
   "cell_type": "code",
   "execution_count": 18,
   "metadata": {},
   "outputs": [],
   "source": [
    "data1 = scraper.textArrayToFloatArray(data1)"
   ]
  },
  {
   "cell_type": "code",
   "execution_count": 19,
   "metadata": {},
   "outputs": [],
   "source": [
    "data2=[s.replace('(', 'E') for s in data2]\n",
    "data2=[s.replace(')', '') for s in data2]\n",
    "data2=[s.replace('t', '') for s in data2]\n",
    "data2=[s.replace(',', '.') for s in data2]\n",
    "data2=[s.replace(' ', '') for s in data2]\n",
    "data2=scraper.textArrayToFloatArray(data2)"
   ]
  },
  {
   "cell_type": "code",
   "execution_count": 22,
   "metadata": {},
   "outputs": [],
   "source": [
    "data=np.concatenate((data1,data2),axis=1)"
   ]
  },
  {
   "cell_type": "code",
   "execution_count": null,
   "metadata": {},
   "outputs": [],
   "source": [
    "\"made it here\""
   ]
  },
  {
   "cell_type": "code",
   "execution_count": null,
   "metadata": {},
   "outputs": [],
   "source": [
    "scraper.writeDataToFile(data,file3a)\n",
    "scraper.writeMetaDataToFile(filename=file3a+\".metadata\",\n",
    "                   specie=\"N2\",\n",
    "                   process=\"dissociation\",\n",
    "                   units_e=1.0,\n",
    "                   units_sigma=1.0E-4,\n",
    "                   ref=\"zipf1980\",\n",
    "                   background='Weighted sum of Winters gas cell and Cosby fast $N_2$ beam data; for Cosby data, the correlated pair N + N was detected by a time and position sensitive detecter. Error for Cosby data was 20% and error for Winters data was 30%.')"
   ]
  }
 ],
 "metadata": {
  "kernelspec": {
   "display_name": "Python 3",
   "language": "python",
   "name": "python3"
  },
  "language_info": {
   "codemirror_mode": {
    "name": "ipython",
    "version": 3
   },
   "file_extension": ".py",
   "mimetype": "text/x-python",
   "name": "python",
   "nbconvert_exporter": "python",
   "pygments_lexer": "ipython3",
   "version": "3.7.2"
  }
 },
 "nbformat": 4,
 "nbformat_minor": 2
}
