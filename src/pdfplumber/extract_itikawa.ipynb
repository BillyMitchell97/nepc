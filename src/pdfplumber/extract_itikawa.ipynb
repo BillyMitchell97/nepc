{
 "cells": [
  {
   "cell_type": "code",
   "execution_count": 1,
   "metadata": {},
   "outputs": [],
   "source": [
    "import pdfplumber\n",
    "import scraper"
   ]
  },
  {
   "cell_type": "code",
   "execution_count": 2,
   "metadata": {},
   "outputs": [],
   "source": [
    "pdfItikawa = scraper.getPDF(\"/home/adamson/projects/cs/ref/angus/16_Itikawa_J_Phys_Chem_Ref_Data_35_31_2006.pdf\")\n",
    "pdfBuckman = scraper.getPDF(\"/home/adamson/projects/cs/ref/angus/16_29_buckman_2003.pdf\")"
   ]
  },
  {
   "cell_type": "code",
   "execution_count": 3,
   "metadata": {},
   "outputs": [],
   "source": [
    "outdir=\"../../data/raw/ext/n2/itikawa/extracted/\""
   ]
  },
  {
   "cell_type": "code",
   "execution_count": 34,
   "metadata": {},
   "outputs": [],
   "source": [
    "scraper.removeOutdir(outdir)"
   ]
  },
  {
   "cell_type": "code",
   "execution_count": 35,
   "metadata": {},
   "outputs": [],
   "source": [
    "cropDim = [(300, 503, 390, 720),(400, 503, 470, 720),(480, 503, 560, 720)]"
   ]
  },
  {
   "cell_type": "code",
   "execution_count": 36,
   "metadata": {
    "scrolled": false
   },
   "outputs": [],
   "source": [
    "data = scraper.getTableData(pdf=pdfItikawa,pageNumber=3,cropDimArray=cropDim,locateTables=False,omitRegexp='[0-9]a')\n",
    "scraper.writeDataToFile([data[0]],outdir+\"total_itikawa2006_2a_data\")\n",
    "scraper.writeMetaDataToFile(filename=outdir+\"total_itikawa2006_2a\",\n",
    "                   specie=\"N2\",\n",
    "                   process=\"total\",\n",
    "                   units_e=1.0,\n",
    "                   units_sigma=1.0E-20,\n",
    "                   ref=\"itikawa2006\",\n",
    "                   background='computed from weighted average of four sets of experimental data, primarily time of flight (TOF) experiments; Itikawa states that the data may have large uncertainty (up to +/- 20%)',\n",
    "                   lpu=0.2,\n",
    "                   upu=0.2)\n",
    "\n",
    "scraper.writeDataToFile([data[1],data[2]],outdir+\"total_itikawa2006_2b_data\")\n",
    "scraper.writeMetaDataToFile(filename=outdir+\"total_itikawa2006_2b\",\n",
    "                   specie=\"N2\",\n",
    "                   process=\"total\",\n",
    "                   units_e=1.0,\n",
    "                   units_sigma=1.0E-20,\n",
    "                   ref=\"itikawa2006\",\n",
    "                   background='computed from weighted average of nine sets of experimental data, primarily time of flight (TOF) experiments; no estimate of the uncertainty'\n",
    "                   )"
   ]
  },
  {
   "cell_type": "code",
   "execution_count": 37,
   "metadata": {},
   "outputs": [],
   "source": [
    "#TODO: resonance region total cross section from karwasz2003"
   ]
  },
  {
   "cell_type": "code",
   "execution_count": 38,
   "metadata": {},
   "outputs": [],
   "source": [
    "cropDim = [(70, 410, 220, 550),(220, 410, 370, 550),(370, 410, 500, 550)]"
   ]
  },
  {
   "cell_type": "code",
   "execution_count": 39,
   "metadata": {
    "scrolled": false
   },
   "outputs": [],
   "source": [
    "data = scraper.getTableData(pdf=pdfBuckman,pageNumber=5,cropDimArray=cropDim,locateTables=False)"
   ]
  },
  {
   "cell_type": "code",
   "execution_count": 41,
   "metadata": {},
   "outputs": [],
   "source": [
    "scraper.writeDataToFile(data,outdir+\"elastic_buckman2003_6.2.5.2_data\")\n",
    "scraper.writeMetaDataToFile(filename=outdir+\"elastic_buckman2003_6.2.5.2\",\n",
    "                   specie=\"N2\",\n",
    "                   process=\"elastic\",\n",
    "                   units_e=1.0,\n",
    "                   units_sigma=1.0E-20,\n",
    "                   ref=\"buckman2003\",\n",
    "                   background='derived from differential scattering measurements; at low energies, in the region of the dominant 2Pig resonance, the level of detail in the DCS measurements does not permit the fine details of the resonance profile to be extracted, so a broad envelope of the resonance enhanced cross section is thus provided; there is good general agreement between the preferred cross section and theoretical calculations',\n",
    "                   lpu=0.2,\n",
    "                   upu=0.2)"
   ]
  },
  {
   "cell_type": "code",
   "execution_count": null,
   "metadata": {},
   "outputs": [],
   "source": [
    "#continue from here..."
   ]
  },
  {
   "cell_type": "code",
   "execution_count": null,
   "metadata": {},
   "outputs": [],
   "source": [
    "cropDim[5] = [(300, 105, 390, 333),(390, 105, 480, 333),(480, 105, 570, 333)]"
   ]
  },
  {
   "cell_type": "code",
   "execution_count": null,
   "metadata": {
    "scrolled": false
   },
   "outputs": [],
   "source": [
    "itikawa_multicolumn_table(5, p6FilenameGenerator, \"Energy(eV),Cross Section(1E-16 cm^2)\", locateTables=False, omitRegexp='[0-9]a')"
   ]
  },
  {
   "cell_type": "code",
   "execution_count": null,
   "metadata": {},
   "outputs": [],
   "source": [
    "cropDim[6] = [(50, 105, 170, 275),(180, 105, 300, 275)]"
   ]
  },
  {
   "cell_type": "code",
   "execution_count": null,
   "metadata": {
    "scrolled": false
   },
   "outputs": [],
   "source": [
    "itikawa_multicolumn_table(6, p7FilenameGenerator, \"Energy(eV),Cross Section(1E-16 cm^2)\", locateTables=False)"
   ]
  },
  {
   "cell_type": "code",
   "execution_count": null,
   "metadata": {},
   "outputs": [],
   "source": [
    "cropDim[7] = [(52, 541, 300, 721)]"
   ]
  },
  {
   "cell_type": "code",
   "execution_count": null,
   "metadata": {
    "scrolled": false
   },
   "outputs": [],
   "source": [
    "itikawa_multicolumn_table(7, p8FilenameGenerator, \"Energy(eV),Cross Section(1E-16 cm^2)\", locateTables=False, omitRegexp='[0-9]a')"
   ]
  },
  {
   "cell_type": "code",
   "execution_count": null,
   "metadata": {},
   "outputs": [],
   "source": [
    "def p10FilenameGenerator(i):\n",
    "    return outdir + \"tr_001_\" + str(i + 2).zfill(3)"
   ]
  },
  {
   "cell_type": "code",
   "execution_count": null,
   "metadata": {},
   "outputs": [],
   "source": [
    "cropDim[9] = [(120, 440, 200, 750),(210,440,290,750),(290,440,400,750),(400,440,500,750)]"
   ]
  },
  {
   "cell_type": "code",
   "execution_count": null,
   "metadata": {
    "scrolled": true
   },
   "outputs": [],
   "source": [
    "itikawa_table(9, p10FilenameGenerator, \"Energy(eV),Cross Section(1E-16 cm^2)\", locateTables=False)"
   ]
  },
  {
   "cell_type": "code",
   "execution_count": null,
   "metadata": {},
   "outputs": [],
   "source": [
    "def p11FilenameGenerator(i):\n",
    "    return outdir + \"tr_001_\" + str(i + 6).zfill(3)"
   ]
  },
  {
   "cell_type": "code",
   "execution_count": null,
   "metadata": {},
   "outputs": [],
   "source": [
    "cropDim[10] = [(40, 120, 120, 450),(130,120,210,450),(210,120,290,450),\n",
    "               (310,120,400,450),(400,120,480,450),(480,120,560,450)]"
   ]
  },
  {
   "cell_type": "code",
   "execution_count": null,
   "metadata": {},
   "outputs": [],
   "source": [
    "itikawa_table(10, p11FilenameGenerator, \"Energy(eV),Cross Section(1E-16 cm^2)\")"
   ]
  }
 ],
 "metadata": {
  "kernelspec": {
   "display_name": "Python 3",
   "language": "python",
   "name": "python3"
  },
  "language_info": {
   "codemirror_mode": {
    "name": "ipython",
    "version": 3
   },
   "file_extension": ".py",
   "mimetype": "text/x-python",
   "name": "python",
   "nbconvert_exporter": "python",
   "pygments_lexer": "ipython3",
   "version": "3.7.2"
  }
 },
 "nbformat": 4,
 "nbformat_minor": 2
}
