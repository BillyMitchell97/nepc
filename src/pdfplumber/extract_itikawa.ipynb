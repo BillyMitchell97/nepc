{
 "cells": [
  {
   "cell_type": "code",
   "execution_count": 1,
   "metadata": {},
   "outputs": [],
   "source": [
    "import pdfplumber\n",
    "import re\n",
    "import sys\n",
    "import os\n",
    "import json"
   ]
  },
  {
   "cell_type": "code",
   "execution_count": 2,
   "metadata": {},
   "outputs": [],
   "source": [
    "if (sys.platform == 'linux'):\n",
    "    pdf = pdfplumber.open(\"/home/adamson/projects/cs/ref/angus/16_Itikawa_J_Phys_Chem_Ref_Data_35_31_2006.pdf\")"
   ]
  },
  {
   "cell_type": "code",
   "execution_count": 3,
   "metadata": {},
   "outputs": [],
   "source": [
    "cropDim=[0 for i in range(len(pdf.pages))]"
   ]
  },
  {
   "cell_type": "code",
   "execution_count": 4,
   "metadata": {},
   "outputs": [],
   "source": [
    "def p4FilenameGenerator():\n",
    "    return \"../../data/raw/ext/itikawa_n2/total\""
   ]
  },
  {
   "cell_type": "code",
   "execution_count": 5,
   "metadata": {},
   "outputs": [],
   "source": [
    "def p5FilenameGenerator():\n",
    "    return \"../../data/raw/ext/itikawa_n2/elastic\""
   ]
  },
  {
   "cell_type": "code",
   "execution_count": 6,
   "metadata": {},
   "outputs": [],
   "source": [
    "def p6FilenameGenerator():\n",
    "    return \"../../data/raw/ext/itikawa_n2/momentum\""
   ]
  },
  {
   "cell_type": "code",
   "execution_count": 7,
   "metadata": {},
   "outputs": [],
   "source": [
    "def p7FilenameGenerator():\n",
    "    return \"../../data/raw/ext/itikawa_n2/rot_0_2\""
   ]
  },
  {
   "cell_type": "code",
   "execution_count": 8,
   "metadata": {},
   "outputs": [],
   "source": [
    "def p8FilenameGenerator():\n",
    "    return \"../../data/raw/ext/itikawa_n2/vib_0_1\""
   ]
  },
  {
   "cell_type": "code",
   "execution_count": 9,
   "metadata": {},
   "outputs": [],
   "source": [
    "def p10FilenameGenerator(i):\n",
    "    return \"../../data/raw/ext/itikawa_n2/tr_001_\" + str(i + 2).zfill(3)"
   ]
  },
  {
   "cell_type": "code",
   "execution_count": 10,
   "metadata": {},
   "outputs": [],
   "source": [
    "def p11FilenameGenerator(i):\n",
    "    return \"../../data/raw/ext/itikawa_n2/tr_001_\" + str(i + 6).zfill(3)"
   ]
  },
  {
   "cell_type": "code",
   "execution_count": 11,
   "metadata": {},
   "outputs": [],
   "source": [
    "def itikawa_table(ipage, filenameGenerator, fileHeader, locateTables=False):\n",
    "    if (cropDim[ipage] != 0):\n",
    "        pg = pdf.pages[ipage]\n",
    "        for i in range(len(cropDim[ipage])):\n",
    "            pgCropped = pg.crop(cropDim[ipage][i])\n",
    "            if (locateTables):\n",
    "                display(pgCropped.to_image().reset().draw_rects(pgCropped.chars))\n",
    "            else:\n",
    "                textSpaceDelim = pgCropped.extract_text().split(\"\\n\")\n",
    "                textCommaDelim = fileHeader + \"\\n\"\n",
    "                for j in range(len(textSpaceDelim)):\n",
    "                    textCommaDelim = textCommaDelim + (re.sub(\"\\s+\", \",\", textSpaceDelim[j].strip())) + \"\\n\"\n",
    "                filename = filenameGenerator(i)\n",
    "                exists = os.path.isfile(filename)\n",
    "                if exists:\n",
    "                    print(\"Skipping \" + filename + \". It exists already.\")\n",
    "                else:\n",
    "                    f = open(filename, \"x\")\n",
    "                    f.write(textCommaDelim)\n",
    "                    f.close()"
   ]
  },
  {
   "cell_type": "code",
   "execution_count": 12,
   "metadata": {},
   "outputs": [],
   "source": [
    "#TODO: refactor the multiple calls to display(pgCropped...)\n",
    "def itikawa_multicolumn_table(ipage, filenameGenerator, fileHeader, locateTables=False, omitRegexp=''):\n",
    "    if (cropDim[ipage] != 0):\n",
    "        pg = pdf.pages[ipage]\n",
    "        filename = filenameGenerator()\n",
    "        exists = os.path.isfile(filename)\n",
    "        if exists:\n",
    "            print(\"Skipping \" + filename + \". It exists already.\")\n",
    "        else:\n",
    "            if (locateTables==False):\n",
    "                f = open(filename, \"x\")\n",
    "                textCommaDelim = fileHeader + \"\\n\"\n",
    "                for i in range(len(cropDim[ipage])):\n",
    "                    pgCropped = pg.crop(cropDim[ipage][i])\n",
    "                    textSpaceDelim = pgCropped.extract_text().split(\"\\n\")\n",
    "                    for j in range(len(textSpaceDelim)):\n",
    "                        if (omitRegexp == '' or not(bool(re.search(omitRegexp, textSpaceDelim[j])))):\n",
    "                            textCommaDelim = textCommaDelim + (re.sub(\"\\s+\", \",\", textSpaceDelim[j].strip())) + \"\\n\"\n",
    "                f.write(textCommaDelim)\n",
    "                f.close()\n",
    "            else:\n",
    "                for i in range(len(cropDim[ipage])):\n",
    "                    pgCropped = pg.crop(cropDim[ipage][i])\n",
    "                    display(pgCropped.to_image().reset().draw_rects(pgCropped.chars))\n"
   ]
  },
  {
   "cell_type": "code",
   "execution_count": 22,
   "metadata": {},
   "outputs": [],
   "source": [
    "#TODO: refactor the multiple calls to display(pgCropped...)\n",
    "def itikawa_multicolumn_table_json(ipage, filenameGenerator, fileHeader, locateTables=False, omitRegexp=''):\n",
    "    if (cropDim[ipage] != 0):\n",
    "        pg = pdf.pages[ipage]\n",
    "        filename = filenameGenerator()\n",
    "        exists = os.path.isfile(filename)\n",
    "        #if exists:\n",
    "        #    print(\"Skipping \" + filename + \". It exists already.\")\n",
    "        #else:\n",
    "        if (locateTables==False):\n",
    "            #f = open(filename, \"x\")\n",
    "            textCommaDelim = fileHeader + \"\\n\"\n",
    "            for i in range(len(cropDim[ipage])):\n",
    "                pgCropped = pg.crop(cropDim[ipage][i])\n",
    "                textSpaceDelim = pgCropped.extract_text().split(\"\\n\")\n",
    "                for j in range(len(textSpaceDelim)):\n",
    "                    if (omitRegexp == '' or not(bool(re.search(omitRegexp, textSpaceDelim[j])))):\n",
    "                        textCommaDelim = textCommaDelim + (re.sub(\"\\s+\", \",\", textSpaceDelim[j].strip())) + \"\\n\"\n",
    "            #f.write(textCommaDelim)\n",
    "            #f.close()\n",
    "            print(json.dumps(textCommaDelim))\n",
    "        else:\n",
    "            for i in range(len(cropDim[ipage])):\n",
    "                pgCropped = pg.crop(cropDim[ipage][i])\n",
    "                display(pgCropped.to_image().reset().draw_rects(pgCropped.chars))\n"
   ]
  },
  {
   "cell_type": "code",
   "execution_count": 23,
   "metadata": {},
   "outputs": [],
   "source": [
    "cropDim[3] = [(300, 503, 390, 720),(400, 503, 470, 720),(480, 503, 560, 720)]"
   ]
  },
  {
   "cell_type": "code",
   "execution_count": 24,
   "metadata": {
    "scrolled": true
   },
   "outputs": [
    {
     "name": "stdout",
     "output_type": "stream",
     "text": [
      "\"Energy(eV),Cross Section(1E-16 cm^2)\\n0.1,4.88\\n0.12,5.13\\n0.15,5.56\\n0.17,5.85\\n0.2,6.25\\n0.25,6.84\\n0.3,7.32\\n0.35,7.72\\n0.4,8.06\\n0.45,8.33\\n0.5,8.61\\n0.6,8.96\\n0.7,9.25\\n0.8,9.48\\n0.9,9.66\\n1.0,9.85\\n5.0,11.8\\n6.0,11.4\\n7.0,11.4\\n8.0,11.5\\n9.0,11.7\\n10,12.0\\n12,12.4\\n15,13.2\\n17,13.5\\n20,13.7\\n25,13.5\\n30,13.0\\n35,12.4\\n40,12.0\\n45,11.6\\n50,11.3\\n60,10.7\\n70,10.2\\n80,9.72\\n90,9.30\\n100,8.94\\n120,8.33\\n150,7.48\\n170,7.02\\n200,6.43\\n250,5.66\\n300,5.04\\n350,4.54\\n400,4.15\\n450,3.82\\n500,3.55\\n600,3.14\\n700,2.79\\n800,2.55\\n900,2.32\\n1000,2.13\\n\"\n"
     ]
    }
   ],
   "source": [
    "itikawa_multicolumn_table_json(3, p4FilenameGenerator, \"Energy(eV),Cross Section(1E-16 cm^2)\", locateTables=False, omitRegexp='[0-9]a')"
   ]
  },
  {
   "cell_type": "code",
   "execution_count": 110,
   "metadata": {},
   "outputs": [],
   "source": [
    "cropDim[4] = [(300, 470, 420, 730),(430, 470, 550, 730)]"
   ]
  },
  {
   "cell_type": "code",
   "execution_count": 115,
   "metadata": {
    "scrolled": false
   },
   "outputs": [],
   "source": [
    "itikawa_multicolumn_table(4, p5FilenameGenerator, \"Energy(eV),Cross Section(1E-16 cm^2)\", locateTables=False, omitRegexp='[0-9]a')"
   ]
  },
  {
   "cell_type": "code",
   "execution_count": 139,
   "metadata": {},
   "outputs": [],
   "source": [
    "cropDim[5] = [(300, 105, 390, 333),(390, 105, 480, 333),(480, 105, 570, 333)]"
   ]
  },
  {
   "cell_type": "code",
   "execution_count": 141,
   "metadata": {
    "scrolled": false
   },
   "outputs": [],
   "source": [
    "itikawa_multicolumn_table(5, p6FilenameGenerator, \"Energy(eV),Cross Section(1E-16 cm^2)\", locateTables=False, omitRegexp='[0-9]a')"
   ]
  },
  {
   "cell_type": "code",
   "execution_count": 153,
   "metadata": {},
   "outputs": [],
   "source": [
    "cropDim[6] = [(50, 105, 170, 275),(180, 105, 300, 275)]"
   ]
  },
  {
   "cell_type": "code",
   "execution_count": 155,
   "metadata": {
    "scrolled": false
   },
   "outputs": [],
   "source": [
    "itikawa_multicolumn_table(6, p7FilenameGenerator, \"Energy(eV),Cross Section(1E-16 cm^2)\", locateTables=False)"
   ]
  },
  {
   "cell_type": "code",
   "execution_count": 172,
   "metadata": {},
   "outputs": [],
   "source": [
    "cropDim[7] = [(52, 541, 300, 721)]"
   ]
  },
  {
   "cell_type": "code",
   "execution_count": 174,
   "metadata": {
    "scrolled": false
   },
   "outputs": [],
   "source": [
    "itikawa_multicolumn_table(7, p8FilenameGenerator, \"Energy(eV),Cross Section(1E-16 cm^2)\", locateTables=False, omitRegexp='[0-9]a')"
   ]
  },
  {
   "cell_type": "code",
   "execution_count": 23,
   "metadata": {},
   "outputs": [],
   "source": [
    "cropDim[9] = [(120, 440, 200, 750),(210,440,290,750),(290,440,400,750),(400,440,500,750)]"
   ]
  },
  {
   "cell_type": "code",
   "execution_count": 58,
   "metadata": {
    "scrolled": true
   },
   "outputs": [
    {
     "name": "stdout",
     "output_type": "stream",
     "text": [
      "Skipping ../../data/raw/ext/itikawa_n2/tr_001_002. It exists already.\n",
      "Skipping ../../data/raw/ext/itikawa_n2/tr_001_003. It exists already.\n",
      "Skipping ../../data/raw/ext/itikawa_n2/tr_001_004. It exists already.\n",
      "Skipping ../../data/raw/ext/itikawa_n2/tr_001_005. It exists already.\n"
     ]
    }
   ],
   "source": [
    "itikawa_table(9, p10FilenameGenerator, \"Energy(eV),Cross Section(1E-16 cm^2)\", locateTables=False)"
   ]
  },
  {
   "cell_type": "code",
   "execution_count": 59,
   "metadata": {},
   "outputs": [],
   "source": [
    "cropDim[10] = [(40, 120, 120, 450),(130,120,210,450),(210,120,290,450),\n",
    "               (310,120,400,450),(400,120,480,450),(480,120,560,450)]"
   ]
  },
  {
   "cell_type": "code",
   "execution_count": 60,
   "metadata": {},
   "outputs": [
    {
     "name": "stdout",
     "output_type": "stream",
     "text": [
      "Skipping ../../data/raw/ext/itikawa_n2/tr_001_006. It exists already.\n",
      "Skipping ../../data/raw/ext/itikawa_n2/tr_001_007. It exists already.\n",
      "Skipping ../../data/raw/ext/itikawa_n2/tr_001_008. It exists already.\n",
      "Skipping ../../data/raw/ext/itikawa_n2/tr_001_009. It exists already.\n",
      "Skipping ../../data/raw/ext/itikawa_n2/tr_001_010. It exists already.\n",
      "Skipping ../../data/raw/ext/itikawa_n2/tr_001_011. It exists already.\n"
     ]
    }
   ],
   "source": [
    "itikawa_table(10, p11FilenameGenerator, \"Energy(eV),Cross Section(1E-16 cm^2)\")"
   ]
  }
 ],
 "metadata": {
  "kernelspec": {
   "display_name": "Python 3",
   "language": "python",
   "name": "python3"
  },
  "language_info": {
   "codemirror_mode": {
    "name": "ipython",
    "version": 3
   },
   "file_extension": ".py",
   "mimetype": "text/x-python",
   "name": "python",
   "nbconvert_exporter": "python",
   "pygments_lexer": "ipython3",
   "version": "3.7.2"
  }
 },
 "nbformat": 4,
 "nbformat_minor": 2
}
