{
 "cells": [
  {
   "cell_type": "code",
   "execution_count": 4,
   "metadata": {},
   "outputs": [],
   "source": [
    "import pdfplumber\n",
    "import scraper"
   ]
  },
  {
   "cell_type": "code",
   "execution_count": 25,
   "metadata": {},
   "outputs": [],
   "source": [
    "pdfItikawa = scraper.getPDF(\"/home/adamson/projects/cs/ref/angus/16_Itikawa_J_Phys_Chem_Ref_Data_35_31_2006.pdf\")\n",
    "pdfBuckman = scraper.getPDF(\"/home/adamson/projects/cs/ref/angus/16_29_buckman_2003.pdf\")\n",
    "pdfKarwasz = scraper.getPDF(\"/home/adamson/projects/cs/ref/angus/16_9_karwasz_2003.pdf\")"
   ]
  },
  {
   "cell_type": "code",
   "execution_count": 18,
   "metadata": {},
   "outputs": [],
   "source": [
    "outItikawa=\"../../data/raw/ext/n2/itikawa2006/extracted/\"\n",
    "outBuckman=\"../../data/raw/ext/n2/buckman2003/extracted/\"\n",
    "outKarwasz=\"../../data/raw/ext/n2/karwasz2003/extracted/\""
   ]
  },
  {
   "cell_type": "code",
   "execution_count": 22,
   "metadata": {},
   "outputs": [],
   "source": [
    "scraper.removeOutdir(outItikawa)\n",
    "scraper.removeOutdir(outBuckman)\n",
    "scraper.removeOutdir(outKarwasz)"
   ]
  },
  {
   "cell_type": "code",
   "execution_count": 23,
   "metadata": {},
   "outputs": [],
   "source": [
    "cropDim = [(300, 503, 390, 720),(400, 503, 470, 720),(480, 503, 560, 720)]"
   ]
  },
  {
   "cell_type": "code",
   "execution_count": 24,
   "metadata": {
    "scrolled": false
   },
   "outputs": [],
   "source": [
    "data = scraper.getTableData(pdf=pdfItikawa,pageNumber=3,cropDimArray=cropDim,locateTables=False,omitRegexp='[0-9]a')\n",
    "scraper.writeDataToFile([data[0]],outItikawa+\"total_itikawa2006_2a_data\")\n",
    "scraper.writeMetaDataToFile(filename=outItikawa+\"total_itikawa2006_2a\",\n",
    "                   specie=\"N2\",\n",
    "                   process=\"total\",\n",
    "                   units_e=1.0,\n",
    "                   units_sigma=1.0E-20,\n",
    "                   ref=\"itikawa2006\",\n",
    "                   background='computed from weighted average of four sets of experimental data, primarily time of flight (TOF) experiments; Itikawa states that the data may have large uncertainty (up to +/- 20%)',\n",
    "                   lpu=0.2,\n",
    "                   upu=0.2)\n",
    "\n",
    "scraper.writeDataToFile([data[1],data[2]],outItikawa+\"total_itikawa2006_2b_data\")\n",
    "scraper.writeMetaDataToFile(filename=outItikawa+\"total_itikawa2006_2b\",\n",
    "                   specie=\"N2\",\n",
    "                   process=\"total\",\n",
    "                   units_e=1.0,\n",
    "                   units_sigma=1.0E-20,\n",
    "                   ref=\"itikawa2006\",\n",
    "                   background='computed from weighted average of nine sets of experimental data, primarily time of flight (TOF) experiments; no estimate of the uncertainty'\n",
    "                   )"
   ]
  },
  {
   "cell_type": "code",
   "execution_count": 63,
   "metadata": {},
   "outputs": [],
   "source": [
    "cropDim = [(60, 165, 180, 645),(180, 165, 290, 645),(290, 165, 400, 645),(400, 165, 510, 645)]"
   ]
  },
  {
   "cell_type": "code",
   "execution_count": 65,
   "metadata": {},
   "outputs": [],
   "source": [
    "data = scraper.getTableData(pdf=pdfKarwasz,pageNumber=14,cropDimArray=cropDim,locateTables=False)"
   ]
  },
  {
   "cell_type": "code",
   "execution_count": 66,
   "metadata": {},
   "outputs": [],
   "source": [
    "scraper.writeDataToFile(data,outKarwasz+\"total_karwasz2003_6.1.3a_data\")\n",
    "scraper.writeMetaDataToFile(filename=outKarwasz+\"total_karwasz2003_6.1.3a\",\n",
    "                            specie=\"N2\",\n",
    "                            process=\"total\",\n",
    "                            units_e=1.0,\n",
    "                            units_sigma=1.0E-20,\n",
    "                            ref=\"karwasz2003\",\n",
    "                            background='This structure is due to the presence of the 2Pig resonant state which manifests itself in total, elastic and vibrational excitation cross sections; different TCS measurements agree on the position and height of the peaks; the resonant structure in N2 , in particular as measured in Kennerly, R.E.: Phys. Rev. A 21 (1980) 1876, is the most frequently used as standard in the energy scale calibration for low-energy electron scattering.'\n",
    "                           )"
   ]
  },
  {
   "cell_type": "code",
   "execution_count": 67,
   "metadata": {},
   "outputs": [],
   "source": [
    "cropDim = [(70, 410, 220, 550),(220, 410, 370, 550),(370, 410, 500, 550)]"
   ]
  },
  {
   "cell_type": "code",
   "execution_count": 68,
   "metadata": {
    "scrolled": false
   },
   "outputs": [],
   "source": [
    "data = scraper.getTableData(pdf=pdfBuckman,pageNumber=5,cropDimArray=cropDim,locateTables=False)"
   ]
  },
  {
   "cell_type": "code",
   "execution_count": 69,
   "metadata": {},
   "outputs": [],
   "source": [
    "scraper.writeDataToFile(data,outBuckman+\"elastic_buckman2003_6.2.5.2_data\")\n",
    "scraper.writeMetaDataToFile(filename=outBuckman+\"elastic_buckman2003_6.2.5.2\",\n",
    "                   specie=\"N2\",\n",
    "                   process=\"elastic\",\n",
    "                   units_e=1.0,\n",
    "                   units_sigma=1.0E-20,\n",
    "                   ref=\"buckman2003\",\n",
    "                   background='derived from differential scattering measurements; at low energies, in the region of the dominant 2Pig resonance, the level of detail in the DCS measurements does not permit the fine details of the resonance profile to be extracted, so a broad envelope of the resonance enhanced cross section is thus provided; there is good general agreement between the preferred cross section and theoretical calculations',\n",
    "                   lpu=0.2,\n",
    "                   upu=0.2)"
   ]
  },
  {
   "cell_type": "code",
   "execution_count": null,
   "metadata": {},
   "outputs": [],
   "source": [
    "#continue from here..."
   ]
  },
  {
   "cell_type": "code",
   "execution_count": null,
   "metadata": {},
   "outputs": [],
   "source": [
    "cropDim[5] = [(300, 105, 390, 333),(390, 105, 480, 333),(480, 105, 570, 333)]"
   ]
  },
  {
   "cell_type": "code",
   "execution_count": null,
   "metadata": {
    "scrolled": false
   },
   "outputs": [],
   "source": [
    "itikawa_multicolumn_table(5, p6FilenameGenerator, \"Energy(eV),Cross Section(1E-16 cm^2)\", locateTables=False, omitRegexp='[0-9]a')"
   ]
  },
  {
   "cell_type": "code",
   "execution_count": null,
   "metadata": {},
   "outputs": [],
   "source": [
    "cropDim[6] = [(50, 105, 170, 275),(180, 105, 300, 275)]"
   ]
  },
  {
   "cell_type": "code",
   "execution_count": null,
   "metadata": {
    "scrolled": false
   },
   "outputs": [],
   "source": [
    "itikawa_multicolumn_table(6, p7FilenameGenerator, \"Energy(eV),Cross Section(1E-16 cm^2)\", locateTables=False)"
   ]
  },
  {
   "cell_type": "code",
   "execution_count": null,
   "metadata": {},
   "outputs": [],
   "source": [
    "cropDim[7] = [(52, 541, 300, 721)]"
   ]
  },
  {
   "cell_type": "code",
   "execution_count": null,
   "metadata": {
    "scrolled": false
   },
   "outputs": [],
   "source": [
    "itikawa_multicolumn_table(7, p8FilenameGenerator, \"Energy(eV),Cross Section(1E-16 cm^2)\", locateTables=False, omitRegexp='[0-9]a')"
   ]
  },
  {
   "cell_type": "code",
   "execution_count": null,
   "metadata": {},
   "outputs": [],
   "source": [
    "def p10FilenameGenerator(i):\n",
    "    return outdir + \"tr_001_\" + str(i + 2).zfill(3)"
   ]
  },
  {
   "cell_type": "code",
   "execution_count": null,
   "metadata": {},
   "outputs": [],
   "source": [
    "cropDim[9] = [(120, 440, 200, 750),(210,440,290,750),(290,440,400,750),(400,440,500,750)]"
   ]
  },
  {
   "cell_type": "code",
   "execution_count": null,
   "metadata": {
    "scrolled": true
   },
   "outputs": [],
   "source": [
    "itikawa_table(9, p10FilenameGenerator, \"Energy(eV),Cross Section(1E-16 cm^2)\", locateTables=False)"
   ]
  },
  {
   "cell_type": "code",
   "execution_count": null,
   "metadata": {},
   "outputs": [],
   "source": [
    "def p11FilenameGenerator(i):\n",
    "    return outdir + \"tr_001_\" + str(i + 6).zfill(3)"
   ]
  },
  {
   "cell_type": "code",
   "execution_count": null,
   "metadata": {},
   "outputs": [],
   "source": [
    "cropDim[10] = [(40, 120, 120, 450),(130,120,210,450),(210,120,290,450),\n",
    "               (310,120,400,450),(400,120,480,450),(480,120,560,450)]"
   ]
  },
  {
   "cell_type": "code",
   "execution_count": null,
   "metadata": {},
   "outputs": [],
   "source": [
    "itikawa_table(10, p11FilenameGenerator, \"Energy(eV),Cross Section(1E-16 cm^2)\")"
   ]
  }
 ],
 "metadata": {
  "kernelspec": {
   "display_name": "Python 3",
   "language": "python",
   "name": "python3"
  },
  "language_info": {
   "codemirror_mode": {
    "name": "ipython",
    "version": 3
   },
   "file_extension": ".py",
   "mimetype": "text/x-python",
   "name": "python",
   "nbconvert_exporter": "python",
   "pygments_lexer": "ipython3",
   "version": "3.7.2"
  }
 },
 "nbformat": 4,
 "nbformat_minor": 2
}
