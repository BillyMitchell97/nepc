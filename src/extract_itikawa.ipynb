{
 "cells": [
  {
   "cell_type": "code",
   "execution_count": 1,
   "metadata": {},
   "outputs": [],
   "source": [
    "import pdfplumber\n",
    "import scraper\n",
    "import numpy as np\n",
    "import config"
   ]
  },
  {
   "cell_type": "code",
   "execution_count": 2,
   "metadata": {},
   "outputs": [],
   "source": [
    "userHome = config.userHome()\n",
    "pdfHome = userHome + \"/projects/cs/ref/angus/\"\n",
    "outdir = userHome + \"/projects/cs/data/raw/ext/n2/\""
   ]
  },
  {
   "cell_type": "code",
   "execution_count": 3,
   "metadata": {},
   "outputs": [],
   "source": [
    "pdfItikawa = scraper.getPDF(pdfHome + \"16_Itikawa_J_Phys_Chem_Ref_Data_35_31_2006.pdf\")\n",
    "pdfBuckman = scraper.getPDF(pdfHome + \"16_29_buckman_2003.pdf\")\n",
    "pdfKarwasz = scraper.getPDF(pdfHome + \"16_9_karwasz_2003.pdf\")\n",
    "pdfElford = scraper.getPDF(pdfHome + \"16_31_elford_2003.pdf\")\n",
    "pdfZipf = scraper.getPDF(pdfHome + \"20_zipf_et_al-1980-Journal_of_Geophysical_Research__Space_Physics.pdf\")"
   ]
  },
  {
   "cell_type": "code",
   "execution_count": 4,
   "metadata": {},
   "outputs": [],
   "source": [
    "scraper.rmdir(outdir)\n",
    "scraper.mkdir(outdir)"
   ]
  },
  {
   "cell_type": "code",
   "execution_count": 5,
   "metadata": {},
   "outputs": [],
   "source": [
    "cropDim = [(300, 503, 390, 720),(400, 503, 470, 720),(480, 503, 560, 720)]"
   ]
  },
  {
   "cell_type": "code",
   "execution_count": 6,
   "metadata": {
    "scrolled": true
   },
   "outputs": [],
   "source": [
    "data = scraper.getTableData(pdf=pdfItikawa,pageNumber=3,cropDimArray=cropDim,locateTables=False,omitRegexp='[0-9]a')"
   ]
  },
  {
   "cell_type": "code",
   "execution_count": 7,
   "metadata": {},
   "outputs": [],
   "source": [
    "splitIndex = np.where(data[:,0]==5.0)[0][0]\n",
    "scraper.writeDataToFile(data[:splitIndex],outdir+\"total_itikawa2006_2a\")\n",
    "scraper.writeMetaDataToFile(filename=outdir+\"total_itikawa2006_2a.metadata\",\n",
    "                   specie=\"N2\",\n",
    "                   process=\"total\",\n",
    "                   units_e=1.0,\n",
    "                   units_sigma=1.0E-20,\n",
    "                   ref=\"itikawa2006\",\n",
    "                   background='computed from weighted average of four sets of experimental data, primarily time of flight (TOF) experiments; Itikawa states that the data may have large uncertainty (up to +/- 20%)',\n",
    "                   lpu=0.2,\n",
    "                   upu=0.2)\n",
    "\n",
    "scraper.writeDataToFile(data[splitIndex:],outdir+\"total_itikawa2006_2b\")\n",
    "scraper.writeMetaDataToFile(filename=outdir+\"total_itikawa2006_2b.metadata\",\n",
    "                   specie=\"N2\",\n",
    "                   process=\"total\",\n",
    "                   units_e=1.0,\n",
    "                   units_sigma=1.0E-20,\n",
    "                   ref=\"itikawa2006\",\n",
    "                   background='computed from weighted average of nine sets of experimental data, primarily time of flight (TOF) experiments; no estimate of the uncertainty'\n",
    "                   )"
   ]
  },
  {
   "cell_type": "code",
   "execution_count": 8,
   "metadata": {},
   "outputs": [],
   "source": [
    "cropDim = [(60, 165, 180, 645),(180, 165, 290, 645),(290, 165, 400, 645),(400, 165, 510, 645)]"
   ]
  },
  {
   "cell_type": "code",
   "execution_count": 9,
   "metadata": {},
   "outputs": [],
   "source": [
    "data = scraper.getTableData(pdf=pdfKarwasz,pageNumber=14,cropDimArray=cropDim,locateTables=False)"
   ]
  },
  {
   "cell_type": "code",
   "execution_count": 10,
   "metadata": {},
   "outputs": [],
   "source": [
    "scraper.writeDataToFile(data,outdir+\"total_karwasz2003_6.1.3a\")\n",
    "scraper.writeMetaDataToFile(filename=outdir+\"total_karwasz2003_6.1.3a.metadata\",\n",
    "                            specie=\"N2\",\n",
    "                            process=\"total\",\n",
    "                            units_e=1.0,\n",
    "                            units_sigma=1.0E-20,\n",
    "                            ref=\"karwasz2003\",\n",
    "                            background='This structure is due to the presence of the 2Pig resonant state which manifests itself in total, elastic and vibrational excitation cross sections; different TCS measurements agree on the position and height of the peaks; the resonant structure in N2 , in particular as measured in Kennerly, R.E.: Phys. Rev. A 21 (1980) 1876, is the most frequently used as standard in the energy scale calibration for low-energy electron scattering.'\n",
    "                           )"
   ]
  },
  {
   "cell_type": "code",
   "execution_count": 11,
   "metadata": {},
   "outputs": [],
   "source": [
    "cropDim = [(70, 410, 220, 550),(220, 410, 370, 550),(370, 410, 500, 550)]"
   ]
  },
  {
   "cell_type": "code",
   "execution_count": 12,
   "metadata": {
    "scrolled": false
   },
   "outputs": [],
   "source": [
    "data = scraper.getTableData(pdf=pdfBuckman,pageNumber=5,cropDimArray=cropDim,locateTables=False)"
   ]
  },
  {
   "cell_type": "code",
   "execution_count": 13,
   "metadata": {},
   "outputs": [],
   "source": [
    "scraper.writeDataToFile(data,outdir+\"elastic_buckman2003_6.2.5.2\")\n",
    "scraper.writeMetaDataToFile(filename=outdir+\"elastic_buckman2003_6.2.5.2.metadata\",\n",
    "                   specie=\"N2\",\n",
    "                   process=\"elastic\",\n",
    "                   units_e=1.0,\n",
    "                   units_sigma=1.0E-20,\n",
    "                   ref=\"buckman2003\",\n",
    "                   background='derived from differential scattering measurements; at low energies, in the region of the dominant 2Pig resonance, the level of detail in the DCS measurements does not permit the fine details of the resonance profile to be extracted, so a broad envelope of the resonance enhanced cross section is thus provided; there is good general agreement between the preferred cross section and theoretical calculations',\n",
    "                   lpu=0.2,\n",
    "                   upu=0.2)"
   ]
  },
  {
   "cell_type": "code",
   "execution_count": 14,
   "metadata": {},
   "outputs": [],
   "source": [
    "cropDim = [(90,255,200,750),(200,255,360,750),(360,255,520,750)]"
   ]
  },
  {
   "cell_type": "code",
   "execution_count": 15,
   "metadata": {
    "scrolled": false
   },
   "outputs": [],
   "source": [
    "data = scraper.getTableData(pdf=pdfElford,pageNumber=6,cropDimArray=cropDim,locateTables=False)"
   ]
  },
  {
   "cell_type": "code",
   "execution_count": 16,
   "metadata": {},
   "outputs": [],
   "source": [
    "splitIndexA = np.where(data[:,0]==0.5)[0][0]\n",
    "splitIndexB = np.where(data[:,0]==1.9)[0][0]\n",
    "splitIndexC = np.where(data[:,0]==3.5)[0][0]\n",
    "scraper.writeDataToFile(data[:splitIndexA],outdir+\"momentum_elford2003_a\")\n",
    "scraper.writeMetaDataToFile(filename=outdir+\"momentum_elford2003_a.metadata\",\n",
    "                            specie=\"N2\",\n",
    "                            process=\"momentum\",\n",
    "                            units_e=1.0,\n",
    "                            units_sigma=1.0E-20,\n",
    "                            ref=\"elford2003\",\n",
    "                            background='',\n",
    "                            lpu=0.05,\n",
    "                            upu=0.05)\n",
    "\n",
    "scraper.writeDataToFile(data[splitIndexA:splitIndexB],outdir+\"momentum_elford2003_b\")\n",
    "scraper.writeMetaDataToFile(filename=outdir+\"momentum_elford2003_b.metadata\",\n",
    "                            specie=\"N2\",\n",
    "                            process=\"momentum\",\n",
    "                            units_e=1.0,\n",
    "                            units_sigma=1.0E-20,\n",
    "                            ref=\"elford2003\",\n",
    "                            background='',\n",
    "                            lpu=0.1,\n",
    "                            upu=0.1)\n",
    "\n",
    "scraper.writeDataToFile(data[splitIndexB:splitIndexC],outdir+\"momentum_elford2003_c\")\n",
    "scraper.writeMetaDataToFile(filename=outdir+\"momentum_elford2003_c.metadata\",\n",
    "                            specie=\"N2\",\n",
    "                            process=\"momentum\",\n",
    "                            units_e=1.0,\n",
    "                            units_sigma=1.0E-20,\n",
    "                            ref=\"elford2003\",\n",
    "                            background='from theoretical momentum  transfer  cross  sections for  vibrational transitions v=0->0; the table in the original reference (Robertson 1997) gives cross sections for v=0->1,2 transitions and total momentum transfer cross sections as the sum of the three components'\n",
    "                           )\n",
    "\n",
    "scraper.writeDataToFile(data[splitIndexC:],outdir+\"momentum_elford2003_d\")\n",
    "scraper.writeMetaDataToFile(filename=outdir+\"momentum_elford2003_d.metadata\",\n",
    "                            specie=\"N2\",\n",
    "                            process=\"momentum\",\n",
    "                            units_e=1.0,\n",
    "                            units_sigma=1.0E-20,\n",
    "                            ref=\"elford2003\",\n",
    "                            background='',\n",
    "                            lpu=0.2,\n",
    "                            upu=0.2)"
   ]
  },
  {
   "cell_type": "code",
   "execution_count": 17,
   "metadata": {
    "scrolled": false
   },
   "outputs": [],
   "source": [
    "#TODO: incorporate vibrational cross sections from Brunger"
   ]
  },
  {
   "cell_type": "code",
   "execution_count": 18,
   "metadata": {},
   "outputs": [],
   "source": [
    "cropDim = [(50, 105, 170, 275),(180, 105, 300, 275)]"
   ]
  },
  {
   "cell_type": "code",
   "execution_count": 19,
   "metadata": {
    "scrolled": false
   },
   "outputs": [],
   "source": [
    "data = scraper.getTableData(pdf=pdfItikawa,pageNumber=6,cropDimArray=cropDim,locateTables=False)\n",
    "scraper.writeDataToFile(data,outdir+\"rotational_itikawa2006\")\n",
    "scraper.writeMetaDataToFile(filename=outdir+\"rotational_itikawa2006.metadata\",\n",
    "                            specie=\"N2\",\n",
    "                            process=\"excitation_j\",\n",
    "                            units_e=1.0,\n",
    "                            units_sigma=1.0E-20,\n",
    "                            ref=\"itikawa2006\",\n",
    "                            lhs_j=0,\n",
    "                            rhs_j=2,\n",
    "                            background='for J=0->2 transition; based on theoretical calculations of morrison1997',\n",
    "                            lpu=0.1,\n",
    "                            upu=0.1)"
   ]
  },
  {
   "cell_type": "markdown",
   "metadata": {},
   "source": [
    "Itikawa, Table 8. Recommended cross sections for the electron impact excitation from the ground state $N_2 (X^1\\Sigma)$ (Part 1)"
   ]
  },
  {
   "cell_type": "code",
   "execution_count": 20,
   "metadata": {},
   "outputs": [],
   "source": [
    "cropDim = [(120, 440, 200, 750),(210,440,290,750),(290,440,400,750),(400,440,500,750)]"
   ]
  },
  {
   "cell_type": "code",
   "execution_count": 21,
   "metadata": {
    "scrolled": false
   },
   "outputs": [],
   "source": [
    "data = []\n",
    "for i in range(len(cropDim)):\n",
    "    data.append(scraper.getTableData(pdf=pdfItikawa,pageNumber=9,cropDimArray=[cropDim[i]],locateTables=False))\n",
    "\n",
    "splitIndex = np.where(data[0][:,0]==15)[0][0]"
   ]
  },
  {
   "cell_type": "code",
   "execution_count": 22,
   "metadata": {},
   "outputs": [],
   "source": [
    "backgroundText = \"\"\"R-matrix method theoretical cross sections have been referred to for the detailed\n",
    "structure near threshold; oherwise a weighted average of the experimental cross sections has been taken\n",
    "with a polynomial least square fit to the energy dependence of the individual set of the cross\n",
    "sections; thus the estimated uncertainty indicates the degree\n",
    "of the concurrence of the individual experimental results\"\"\"\n",
    "\n",
    "dataArray=[data[0][:splitIndex],data[0][splitIndex:],data[1],data[2],data[3]]\n",
    "lpuArray=[.4,.35,.35,.35,.4]\n",
    "upuArray=lpuArray\n",
    "rhsArray=['A3Sigmau+','A3Sigmau+','B3Pig','W3Deltau','Bp3Sigmau-']\n",
    "\n",
    "for i in range(len(dataArray)):\n",
    "    scraper.writeCSToFile(filename=outdir+\"excitation_itikawa2006_a_\"+str(i),\n",
    "                      dataArray=dataArray[i],\n",
    "                      specie=\"N2\",\n",
    "                      process=\"excitation\",\n",
    "                      lhsA='X1Sigmag+',\n",
    "                      rhsA=rhsArray[i],\n",
    "                      units_e=1.0,\n",
    "                      units_sigma=1.0E-20,\n",
    "                      ref=\"itikawa2006\",\n",
    "                      background=config.removeCRs(backgroundText),\n",
    "                      lpu=lpuArray[i],\n",
    "                      upu=upuArray[i])"
   ]
  },
  {
   "cell_type": "markdown",
   "metadata": {},
   "source": [
    "Itikawa, Table 8. Recommended cross sections for the electron impact excitation from the ground state $N_2 (X^1\\Sigma)$ (Parts 2 and 3)"
   ]
  },
  {
   "cell_type": "code",
   "execution_count": 23,
   "metadata": {},
   "outputs": [],
   "source": [
    "cropDim = [(40, 120, 120, 450),(130,120,210,450),(210,120,290,450),\n",
    "           (310,120,400,450),(400,120,480,450),(480,120,560,450)]"
   ]
  },
  {
   "cell_type": "code",
   "execution_count": 24,
   "metadata": {
    "scrolled": false
   },
   "outputs": [],
   "source": [
    "data = []\n",
    "for i in range(len(cropDim)):\n",
    "    data.append(scraper.getTableData(pdf=pdfItikawa,pageNumber=10,cropDimArray=[cropDim[i]],locateTables=False))"
   ]
  },
  {
   "cell_type": "code",
   "execution_count": 25,
   "metadata": {},
   "outputs": [],
   "source": [
    "backgroundText = [\"\"\"a weighted average of the experimental\n",
    "cross sections has been taken with a polynomial least square\n",
    "fit to the energy dependence of the individual set of the cross\n",
    "sections. Thus the estimated uncertainty indicates the degree\n",
    "of the concurrence of the individual experimental results\"\"\",\n",
    "\"\"\"when compling the data set, Brunger considered\n",
    "four sets of beam measurements, an electron energy loss measurement in which the data\n",
    "were normalized using an emission cross section of the\n",
    "Lyman–Birge–Hopfield (LBH) system, and Mason\n",
    "and Newell's direct detection of the excited molecule\"\"\",\n",
    "\"\"\"a weighted average of the experimental\n",
    "cross sections has been taken with a polynomial least square\n",
    "fit to the energy dependence of the individual set of the cross\n",
    "sections. Thus the estimated uncertainty indicates the degree\n",
    "of the concurrence of the individual experimental results\"\"\",\n",
    "\"\"\"a weighted average of the experimental\n",
    "cross sections has been taken with a polynomial least square\n",
    "fit to the energy dependence of the individual set of the cross\n",
    "sections. Thus the estimated uncertainty indicates the degree\n",
    "of the concurrence of the individual experimental results\"\"\",\n",
    "\"\"\"Brunger determined their recommended\n",
    "values considering five sets of\n",
    "beam measurementsthe cross section; the data has\n",
    "a sharp peak in the vicinity of the threshold\n",
    "identified with a core-excited shape resonance; two groups\n",
    "have determined the resonant cross section with the use of\n",
    "direct detection of the molecule in the metastable E state; \n",
    "the magnitudes of the two sets of cross section differ significantly\n",
    "from one another; by using a trochoidal electron\n",
    "spectrometer, Poparich determined the absolute\n",
    "values of the cross section at 11.94 and 12.14 eV, and this measurement\n",
    "supported one set of the cross section against the\n",
    "other\"\"\",\n",
    "\"\"\"a weighted average of the experimental\n",
    "cross sections has been taken with a polynomial least square\n",
    "fit to the energy dependence of the individual set of the cross\n",
    "sections. Thus the estimated uncertainty indicates the degree\n",
    "of the concurrence of the individual experimental results\"\"\"]\n",
    "                  \n",
    "lpuArray=[.3,.25,.3,.3,.4,.33]\n",
    "upuArray=lpuArray\n",
    "rhsArray=['apSigmau-','a1Pig','w1Deltau','C3Piu','E3Sigmag+','app1Sigmag+']\n",
    "\n",
    "for i in range(len(data)):\n",
    "    scraper.writeCSToFile(filename=outdir+\"excitation_itikawa2006_b_\"+str(i),\n",
    "                      dataArray=data[i],\n",
    "                      specie=\"N2\",\n",
    "                      process=\"excitation\",\n",
    "                      lhsA='X1Sigmag+',\n",
    "                      rhsA=rhsArray[i],\n",
    "                      units_e=1.0,\n",
    "                      units_sigma=1.0E-20,\n",
    "                      ref=\"itikawa2006\",\n",
    "                      background=config.removeCRs(backgroundText[i]),\n",
    "                      lpu=lpuArray[i],\n",
    "                      upu=upuArray[i])"
   ]
  },
  {
   "cell_type": "code",
   "execution_count": 26,
   "metadata": {},
   "outputs": [],
   "source": [
    "cropDim = [(300,490,390,780),(390,490,480,780),(480,490,560,780)]"
   ]
  },
  {
   "cell_type": "code",
   "execution_count": 27,
   "metadata": {
    "scrolled": false
   },
   "outputs": [],
   "source": [
    "data = []\n",
    "for i in range(len(cropDim)):\n",
    "    data.append(scraper.getTableData(pdf=pdfItikawa,pageNumber=12,cropDimArray=[cropDim[i]],locateTables=False))"
   ]
  },
  {
   "cell_type": "code",
   "execution_count": 28,
   "metadata": {},
   "outputs": [],
   "source": [
    "lpuArray=['\\\\N',.135,.22]\n",
    "upuArray=lpuArray\n",
    "lhsArray=['a1Pig','C3Piu','c4p1Sigmau+']\n",
    "rhsArray=['X1Sigmag+','B3Pig','X1Sigmag+']\n",
    "wavelengthArray=[135.4,337.1,95.8]\n",
    "lhs_vArray=[3,0,0]\n",
    "rhs_vArray=[0,0,0]\n",
    "\n",
    "for i in range(len(data)):\n",
    "    scraper.writeCSToFile(filename=outdir+\"c_deexcitation_v_itikawa2006_\"+str(i),\n",
    "                      dataArray=data[i],\n",
    "                      specie=\"N2\",\n",
    "                      process=\"c_deexcitation_v\",\n",
    "                      lhsA=lhsArray[i],\n",
    "                      rhsA=rhsArray[i],\n",
    "                      wavelength=wavelengthArray[i],\n",
    "                      lhs_v=lhs_vArray[i],\n",
    "                      rhs_v=rhs_vArray[i],\n",
    "                      units_e=1.0,\n",
    "                      units_sigma=1.0E-22,\n",
    "                      ref=\"itikawa2006\",\n",
    "                      background='',\n",
    "                      lpu=lpuArray[i],\n",
    "                      upu=upuArray[i])"
   ]
  },
  {
   "cell_type": "markdown",
   "metadata": {},
   "source": [
    "Itikawa, Table 14. Total dissociation cross section for electron collisions with $N_2$ recommended by Cosby."
   ]
  },
  {
   "cell_type": "code",
   "execution_count": 29,
   "metadata": {},
   "outputs": [],
   "source": [
    "cropDim = [(60, 560, 300, 750)]"
   ]
  },
  {
   "cell_type": "code",
   "execution_count": 30,
   "metadata": {
    "scrolled": true
   },
   "outputs": [],
   "source": [
    "data = scraper.getTableData(pdf=pdfItikawa,pageNumber=17,cropDimArray=cropDim,locateTables=False)"
   ]
  },
  {
   "cell_type": "code",
   "execution_count": 31,
   "metadata": {},
   "outputs": [],
   "source": [
    "scraper.writeDataToFile(data,outdir+\"total_dissociation_itikawa2006_14\")\n",
    "scraper.writeMetaDataToFile(filename=outdir+\"total_dissociation_itikawa2006_14.metadata\",\n",
    "                   specie=\"N2\",\n",
    "                   process=\"dissociation\",\n",
    "                   units_e=1.0,\n",
    "                   units_sigma=1.0E-20,\n",
    "                   ref=\"itikawa2006\",\n",
    "                   background='Weighted sum of Winters gas cell and Cosby fast $N_2$ beam data; for Cosby data, the correlated pair N + N was detected by a time and position sensitive detecter. Error for Cosby data was 20% and error for Winters data was 30%.',\n",
    "                   lpu=0.3,\n",
    "                   upu=0.3)"
   ]
  },
  {
   "cell_type": "code",
   "execution_count": null,
   "metadata": {},
   "outputs": [],
   "source": []
  },
  {
   "cell_type": "code",
   "execution_count": 32,
   "metadata": {},
   "outputs": [],
   "source": [
    "cropDim = [(60, 120, 240, 480)]"
   ]
  },
  {
   "cell_type": "code",
   "execution_count": 33,
   "metadata": {
    "scrolled": true
   },
   "outputs": [
    {
     "ename": "AttributeError",
     "evalue": "module 'scraper' has no attribute 'getTableStrings'",
     "output_type": "error",
     "traceback": [
      "\u001b[0;31m---------------------------------------------------------------------------\u001b[0m",
      "\u001b[0;31mAttributeError\u001b[0m                            Traceback (most recent call last)",
      "\u001b[0;32m<ipython-input-33-7b227c0c839b>\u001b[0m in \u001b[0;36m<module>\u001b[0;34m\u001b[0m\n\u001b[0;32m----> 1\u001b[0;31m \u001b[0mdata\u001b[0m \u001b[0;34m=\u001b[0m \u001b[0mscraper\u001b[0m\u001b[0;34m.\u001b[0m\u001b[0mgetTableStrings\u001b[0m\u001b[0;34m(\u001b[0m\u001b[0mpdf\u001b[0m\u001b[0;34m=\u001b[0m\u001b[0mpdfZipf\u001b[0m\u001b[0;34m,\u001b[0m\u001b[0mpageNumber\u001b[0m\u001b[0;34m=\u001b[0m\u001b[0;36m6\u001b[0m\u001b[0;34m,\u001b[0m\u001b[0mcropDimArray\u001b[0m\u001b[0;34m=\u001b[0m\u001b[0mcropDim\u001b[0m\u001b[0;34m,\u001b[0m\u001b[0mlocateTables\u001b[0m\u001b[0;34m=\u001b[0m\u001b[0;32mFalse\u001b[0m\u001b[0;34m)\u001b[0m\u001b[0;34m\u001b[0m\u001b[0;34m\u001b[0m\u001b[0m\n\u001b[0m",
      "\u001b[0;31mAttributeError\u001b[0m: module 'scraper' has no attribute 'getTableStrings'"
     ]
    }
   ],
   "source": [
    "data = scraper.getTableStrings(pdf=pdfZipf,pageNumber=6,cropDimArray=cropDim,locateTables=False)"
   ]
  },
  {
   "cell_type": "code",
   "execution_count": null,
   "metadata": {},
   "outputs": [],
   "source": [
    "data"
   ]
  },
  {
   "cell_type": "code",
   "execution_count": null,
   "metadata": {},
   "outputs": [],
   "source": []
  }
 ],
 "metadata": {
  "kernelspec": {
   "display_name": "Python 3",
   "language": "python",
   "name": "python3"
  },
  "language_info": {
   "codemirror_mode": {
    "name": "ipython",
    "version": 3
   },
   "file_extension": ".py",
   "mimetype": "text/x-python",
   "name": "python",
   "nbconvert_exporter": "python",
   "pygments_lexer": "ipython3",
   "version": "3.7.2"
  }
 },
 "nbformat": 4,
 "nbformat_minor": 2
}
