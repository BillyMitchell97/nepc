{
 "cells": [
  {
   "cell_type": "code",
   "execution_count": 1,
   "metadata": {},
   "outputs": [],
   "source": [
    "import numpy as np\n",
    "import pcs as pcs\n",
    "import matplotlib.pyplot as plt\n",
    "from scipy.optimize import minimize\n",
    "from scipy.optimize import least_squares\n",
    "from nepc import nepc\n",
    "from nepc.methods.mp import mp as mp\n",
    "from nepc.methods.thomson import thomson as thomson\n",
    "from nepc.methods.wunderlich import gryzinski as gryzinski\n",
    "from nepc.util.constants import N2_DIATOMIC_CONSTANTS\n",
    "from nepc.util.constants import MU_NITROGEN_KG\n",
    "from nepc.util.constants import WAVENUMBER_PER_EV as WAVENUMBER_PER_EV\n",
    "from numpy import exp"
   ]
  },
  {
   "cell_type": "markdown",
   "metadata": {},
   "source": [
    "# Plot psi_v, v=10"
   ]
  },
  {
   "cell_type": "code",
   "execution_count": 2,
   "metadata": {},
   "outputs": [
    {
     "data": {
      "text/plain": [
       "dict_keys(['N2(X1Sigmag+)', 'N2(A3Sigmau+)', 'N2(B3Pig)', 'N2(W3Deltau)', 'N2(Bp3Sigmau-)', 'N2(ap1Sigmau-)', 'N2(a1Pig)', 'N2(w1Deltau)', 'N2(C3Piu)', 'N2+(X2Sigmag+)', 'N2+(A2Piu)', 'N2+(B2Sigmau+)', 'N2+(C2Sigmau+)'])"
      ]
     },
     "execution_count": 2,
     "metadata": {},
     "output_type": "execute_result"
    }
   ],
   "source": [
    "N2_DIATOMIC_CONSTANTS.keys()"
   ]
  },
  {
   "cell_type": "markdown",
   "metadata": {},
   "source": [
    "# Compute Overlap Matrix and Check for Identity"
   ]
  },
  {
   "cell_type": "code",
   "execution_count": 3,
   "metadata": {},
   "outputs": [],
   "source": [
    "overlap_X = thomson.fcf_v(vp_max=10, vpp_max=10,\n",
    "                          diatomic_constants_p=N2_DIATOMIC_CONSTANTS['N2(X1Sigmag+)'],\n",
    "                          diatomic_constants_pp=N2_DIATOMIC_CONSTANTS['N2(X1Sigmag+)'],\n",
    "                          reduced_mass=MU_NITROGEN_KG,\n",
    "                          k=15,\n",
    "                          delta_r=.5,\n",
    "                          dbug=False)"
   ]
  },
  {
   "cell_type": "code",
   "execution_count": 4,
   "metadata": {},
   "outputs": [
    {
     "data": {
      "text/plain": [
       "3.161428664381842e-07"
      ]
     },
     "execution_count": 4,
     "metadata": {},
     "output_type": "execute_result"
    }
   ],
   "source": [
    "thomson.rmse_diagonal_elements(np.asarray(overlap_X))"
   ]
  },
  {
   "cell_type": "code",
   "execution_count": 5,
   "metadata": {},
   "outputs": [
    {
     "name": "stdout",
     "output_type": "stream",
     "text": [
      "i: 1; rmse: 1.176836406102666e-14\n",
      "i: 2; rmse: 7.395002138012975e-14\n",
      "i: 3; rmse: 7.568746825928083e-14\n",
      "i: 4; rmse: 6.917836816315628e-13\n",
      "i: 5; rmse: 1.8139926137618884e-12\n",
      "i: 6; rmse: 5.928549341399212e-11\n",
      "i: 7; rmse: 1.19007640217334e-09\n",
      "i: 8; rmse: 3.498371376887217e-09\n",
      "i: 9; rmse: 5.628449990979163e-09\n",
      "i: 10; rmse: 1.5065349718683008e-07\n",
      "i: 11; rmse: 3.161428664381842e-07\n"
     ]
    }
   ],
   "source": [
    "thomson.incremental_rmse_diagonal_elements(np.asarray(overlap_X))"
   ]
  },
  {
   "cell_type": "code",
   "execution_count": 6,
   "metadata": {},
   "outputs": [
    {
     "data": {
      "text/plain": [
       "6.371907694890456e-09"
      ]
     },
     "execution_count": 6,
     "metadata": {},
     "output_type": "execute_result"
    }
   ],
   "source": [
    "thomson.rmse_off_diagonal_elements(np.asarray(overlap_X))"
   ]
  },
  {
   "cell_type": "code",
   "execution_count": 7,
   "metadata": {},
   "outputs": [
    {
     "name": "stdout",
     "output_type": "stream",
     "text": [
      "i: 2; rmse: 2.035766006449552e-25\n",
      "i: 3; rmse: 7.383796949441263e-24\n",
      "i: 4; rmse: 1.4220724653275325e-21\n",
      "i: 5; rmse: 5.661805700118586e-20\n",
      "i: 6; rmse: 1.3281017281782437e-17\n",
      "i: 7; rmse: 1.2702339582927547e-15\n",
      "i: 8; rmse: 3.710459103402972e-15\n",
      "i: 9; rmse: 2.2655393863261183e-13\n",
      "i: 10; rmse: 5.4361129387637255e-11\n",
      "i: 11; rmse: 6.371907694890456e-09\n"
     ]
    }
   ],
   "source": [
    "thomson.incremental_rmse_off_diagonal_elements(np.asarray(overlap_X))"
   ]
  },
  {
   "cell_type": "markdown",
   "metadata": {},
   "source": [
    "# Closure relationship for FCF\n",
    "If the FCF sum over vpp for a given vp are greater than 0.99, that's were we'll stop including cross sections"
   ]
  },
  {
   "cell_type": "code",
   "execution_count": 8,
   "metadata": {},
   "outputs": [],
   "source": [
    "p_list = ['N2(X1Sigmag+)',  'N2(A3Sigmau+)', 'N2(B3Pig)', 'N2(W3Deltau)', 'N2(Bp3Sigmau-)', 'N2(ap1Sigmau-)', 'N2(a1Pig)', 'N2(w1Deltau)', 'N2(C3Piu)']\n",
    "pp_list = ['N2+(X2Sigmag+)', 'N2+(A2Piu)', 'N2+(B2Sigmau+)', 'N2+(C2Sigmau+)']\n",
    "vp_list = [0,1,2,3,4,5,6,7,8]\n",
    "vpp_list = [0,1,2,3,4,5,6,7,8,9]"
   ]
  },
  {
   "cell_type": "code",
   "execution_count": 9,
   "metadata": {},
   "outputs": [],
   "source": [
    "fcf = []\n",
    "\"\"\"fcf[p][pp][vp][vpp]\"\"\"\n",
    "for p in np.arange(len(p_list)):\n",
    "    fcf.append([])\n",
    "    for pp in np.arange(len(pp_list)):\n",
    "        fcf[p].append(thomson.fcf_v(vp_max=10, vpp_max=10,\n",
    "                          diatomic_constants_p=N2_DIATOMIC_CONSTANTS[p_list[p]],\n",
    "                          diatomic_constants_pp=N2_DIATOMIC_CONSTANTS[pp_list[pp]],\n",
    "                          reduced_mass=MU_NITROGEN_KG,\n",
    "                          k=15,\n",
    "                          delta_r=.5,\n",
    "                          dbug=False))"
   ]
  },
  {
   "cell_type": "code",
   "execution_count": 10,
   "metadata": {},
   "outputs": [],
   "source": [
    "max_vpp = [1,5,1]"
   ]
  },
  {
   "cell_type": "code",
   "execution_count": 11,
   "metadata": {},
   "outputs": [],
   "source": [
    "fcf_closure_matrix = []\n",
    "\"fcf_closure_matrix[p][pp][vp] provides the vpp state # needed to reach >0.99 closure\"\n",
    "\"Example: fcf_closure_matrix[0][1][2]=4 (X1Sigmag+ -> A2Piu, vp=2, vpp(0+1+2+3+4))\"\n",
    "for p in np.arange(9):\n",
    "    fcf_closure_matrix.append([])\n",
    "    for pp in np.arange(4):\n",
    "        fcf_closure_matrix[p].append([])\n",
    "        \n",
    "\"X1Sigmag+\"\n",
    "fcf_closure_matrix[0].insert(0, [1,3,4,5,6,7,9,9,np.nan])\n",
    "fcf_closure_matrix[0].insert(1, [5,7,9,np.nan,np.nan,np.nan,np.nan,np.nan,np.nan])\n",
    "fcf_closure_matrix[0].insert(2, [1,2,4,5,6,6,7,8,9])\n",
    "fcf_closure_matrix[0].insert(3, [np.nan,np.nan,np.nan,np.nan,np.nan,np.nan,np.nan,np.nan,np.nan])\n",
    "\n",
    "\"A3Piu+\"\n",
    "fcf_closure_matrix[1].insert(0, [np.nan,np.nan,np.nan,np.nan,np.nan,np.nan,np.nan,np.nan,np.nan])\n",
    "fcf_closure_matrix[1].insert(1, [5,6,8,9,np.nan,np.nan,np.nan,np.nan,np.nan])\n",
    "fcf_closure_matrix[1].insert(2, [np.nan,np.nan,np.nan,np.nan,np.nan,np.nan,np.nan,np.nan,np.nan])\n",
    "fcf_closure_matrix[1].insert(3, [3,5,7,9,np.nan,np.nan,np.nan,np.nan,np.nan])\n",
    "\n",
    "\"B3Pig\"\n",
    "fcf_closure_matrix[2].insert(0, [5,6,8,9,9,np.nan,np.nan,np.nan,np.nan])\n",
    "fcf_closure_matrix[2].insert(1, [np.nan,np.nan,np.nan,np.nan,np.nan,np.nan,np.nan,np.nan,np.nan])\n",
    "fcf_closure_matrix[2].insert(2, [np.nan,np.nan,np.nan,np.nan,np.nan,np.nan,np.nan,np.nan,np.nan])\n",
    "fcf_closure_matrix[2].insert(3, [7,9,np.nan,np.nan,np.nan,np.nan,np.nan,np.nan,np.nan])\n",
    "\n",
    "\"W3Deltau\"\n",
    "fcf_closure_matrix[3].insert(0, [np.nan,np.nan,np.nan,np.nan,np.nan,np.nan,np.nan,np.nan,np.nan])\n",
    "fcf_closure_matrix[3].insert(1, [4,6,8,9,9,np.nan,np.nan,np.nan,np.nan])\n",
    "fcf_closure_matrix[3].insert(2, [np.nan,np.nan,np.nan,np.nan,np.nan,np.nan,np.nan,np.nan,np.nan])\n",
    "fcf_closure_matrix[3].insert(3, [2,5,6,9,9,np.nan,np.nan,np.nan,np.nan])\n",
    "\n",
    "\"Bp3Sigmau-\"\n",
    "fcf_closure_matrix[4].insert(0, [np.nan,np.nan,np.nan,np.nan,np.nan,np.nan,np.nan,np.nan,np.nan])\n",
    "fcf_closure_matrix[4].insert(1, [4,6,8,9,9,np.nan,np.nan,np.nan,np.nan])\n",
    "fcf_closure_matrix[4].insert(2, [np.nan,np.nan,np.nan,np.nan,np.nan,np.nan,np.nan,np.nan,np.nan])\n",
    "fcf_closure_matrix[4].insert(3, [2,5,6,9,9,np.nan,np.nan,np.nan,np.nan])\n",
    "\n",
    "\"ap1Sigmau-\"\n",
    "fcf_closure_matrix[5].insert(0, [np.nan,np.nan,np.nan,np.nan,np.nan,np.nan,np.nan,np.nan,np.nan])\n",
    "fcf_closure_matrix[5].insert(1, [4,6,8,9,9,np.nan,np.nan,np.nan,np.nan])\n",
    "fcf_closure_matrix[5].insert(2, [np.nan,np.nan,np.nan,np.nan,np.nan,np.nan,np.nan,np.nan,np.nan])\n",
    "fcf_closure_matrix[5].insert(3, [2,5,6,9,9,np.nan,np.nan,np.nan,np.nan])\n",
    "\n",
    "\"a1Pig\"\n",
    "fcf_closure_matrix[6].insert(0, [5,7,9,9,np.nan,np.nan,np.nan,np.nan,np.nan])\n",
    "fcf_closure_matrix[6].insert(1, [np.nan,np.nan,np.nan,np.nan,np.nan,np.nan,np.nan,np.nan,np.nan])\n",
    "fcf_closure_matrix[6].insert(2, [np.nan,np.nan,np.nan,np.nan,np.nan,np.nan,np.nan,np.nan,np.nan])\n",
    "fcf_closure_matrix[6].insert(3, [6,9,np.nan,np.nan,np.nan,np.nan,np.nan,np.nan,np.nan])\n",
    "\n",
    "\"w1Deltau\"\n",
    "fcf_closure_matrix[7].insert(0, [np.nan,np.nan,np.nan,np.nan,np.nan,np.nan,np.nan,np.nan,np.nan])\n",
    "fcf_closure_matrix[7].insert(1, [4,6,7,8,9,np.nan,np.nan,np.nan,np.nan])\n",
    "fcf_closure_matrix[7].insert(2, [np.nan,np.nan,np.nan,np.nan,np.nan,np.nan,np.nan,np.nan,np.nan])\n",
    "fcf_closure_matrix[7].insert(3, [2,5,6,9,9,np.nan,np.nan,np.nan,np.nan])\n",
    "\n",
    "\"C3Piu\"\n",
    "fcf_closure_matrix[8].insert(0, [np.nan,np.nan,np.nan,np.nan,np.nan,np.nan,np.nan,np.nan,np.nan])\n",
    "fcf_closure_matrix[8].insert(1, [np.nan,np.nan,np.nan,np.nan,np.nan,np.nan,np.nan,np.nan,np.nan])\n",
    "fcf_closure_matrix[8].insert(2, [5,7,9,9,np.nan,np.nan,np.nan,np.nan,np.nan])\n",
    "fcf_closure_matrix[8].insert(3, [np.nan,np.nan,np.nan,np.nan,np.nan,np.nan,np.nan,np.nan,np.nan])"
   ]
  },
  {
   "cell_type": "markdown",
   "metadata": {},
   "source": [
    "# Total cross section data from literature"
   ]
  },
  {
   "cell_type": "code",
   "execution_count": 12,
   "metadata": {},
   "outputs": [],
   "source": [
    "INCIDENT_ENERGY = [16.0, 16.5, 17.0, 17.5, 18.0, 18.5, 19.0, 19.5, 20.0, 20.5, 21.0, 21.5, 22.0, 22.5, 23.0, 23.5, 24.0, 24.5, 25.0, 30.0, 35.0, 40.0, 45.0, 50.0, 55.0, 60.0, 65.0, 70.0, 75.0, 80.0, 85.0, 90.0, 95.0, 100.0, 110.0, 120.0, 140.0, 160.0, 180.0, 200.0, 225.0, 250.0, 275.0, 300.0, 350.0, 400.0, 450.0, 500.0, 550.0, 600.0, 650.0, 700.0, 750.0, 800.0, 850.0, 900.0, 950.0, 1000.0]\n",
    "ITIKAWA = np.asarray([0.0211, 0.0466, 0.0713, 0.0985, 0.129, 0.164, 0.199, 0.23, 0.27, 0.308, 0.344, 0.38, 0.418, 0.455, 0.492, 0.528, 0.565, 0.603, 0.64, 0.929, 1.16, 1.37, 1.52, 1.6, 1.66, 1.72, 1.74, 1.78, 1.8, 1.81, 1.82, 1.83, 1.85, 1.85, 1.83, 1.81, 1.78, 1.72, 1.67, 1.61, 1.55, 1.48, 1.41, 1.37, 1.28, 1.2, 1.11, 1.05, 0.998, 0.943, 0.88, 0.844, 0.796, 0.765, 0.738, 0.719, 0.698, 0.676])"
   ]
  },
  {
   "cell_type": "code",
   "execution_count": 13,
   "metadata": {},
   "outputs": [
    {
     "data": {
      "text/plain": [
       "100.0"
      ]
     },
     "execution_count": 13,
     "metadata": {},
     "output_type": "execute_result"
    }
   ],
   "source": [
    "INCIDENT_ENERGY[33]"
   ]
  },
  {
   "cell_type": "markdown",
   "metadata": {},
   "source": [
    "# Function for computing the cross sections for N2 X1 to N2+ X2, A2, B2. It will be used to find the coefficients of the universal function"
   ]
  },
  {
   "cell_type": "code",
   "execution_count": 14,
   "metadata": {},
   "outputs": [],
   "source": [
    "def compute_totalcs(Coefficients):\n",
    "    A, B, C = Coefficients\n",
    "    pcs_XX = []\n",
    "    pcs_XA = []\n",
    "    pcs_XB = []\n",
    "    total_pcs = np.zeros(58)   \n",
    "    \n",
    "    for vpp in np.arange(2):\n",
    "        pcs_data = pcs.pcs(p_state='N2(X1Sigmag+)', pp_state='N2+(X2Sigmag+)', \n",
    "                            vp=0, vpp=vpp, fcf=fcf[0][0][0][vpp],\n",
    "                            a=A, b=B, c=C)[1]\n",
    "        pcs_XX.append(pcs_data)\n",
    "        \n",
    "    for vpp in np.arange(6):\n",
    "        pcs_data = pcs.pcs(p_state='N2(X1Sigmag+)', pp_state='N2+(A2Piu)', \n",
    "                            vp=0, vpp=vpp, fcf=fcf[0][1][0][vpp],\n",
    "                            a=A, b=B, c=C)[1]\n",
    "        pcs_XA.append(pcs_data)\n",
    "        \n",
    "    for vpp in np.arange(2):\n",
    "        pcs_data = pcs.pcs(p_state='N2(X1Sigmag+)', pp_state='N2+(B2Sigmau+)', \n",
    "                            vp=0, vpp=vpp, fcf=fcf[0][2][0][vpp],\n",
    "                            a=A, b=B, c=C)[1]\n",
    "        pcs_XB.append(pcs_data)\n",
    "\n",
    "    pcs_XX = pcs_XX[0] + pcs_XX[1]\n",
    "    pcs_XA = pcs_XA[0] + pcs_XA[1] + pcs_XA[2] + pcs_XA[3] + pcs_XA[4] + pcs_XA[5]\n",
    "    pcs_XB = pcs_XB[0] + pcs_XB[1]\n",
    "    \n",
    "    total_pcs = pcs_XX + pcs_XA + pcs_XB\n",
    "    \n",
    "    return total_pcs, pcs_XX, pcs_XA, pcs_XB"
   ]
  },
  {
   "cell_type": "markdown",
   "metadata": {},
   "source": [
    "# Initial guess for universal function parameters: a=2.6, b=9.2, c=2.4"
   ]
  },
  {
   "cell_type": "code",
   "execution_count": 15,
   "metadata": {},
   "outputs": [],
   "source": [
    "def ssr_total(Coefficients):\n",
    "    \"\"\"computes the SSR for the total cross section compared to Itikawa's. \n",
    "    Then using minimize to find the coefficients that produce the smallest SSR\"\"\"\n",
    "    \n",
    "    total_pcs = compute_totalcs(Coefficients)[0]\n",
    "    \n",
    "    diff_sq = (ITIKAWA - (total_pcs*1.0E20))**2\n",
    "    sum_diff = np.sum(diff_sq)\n",
    "    \n",
    "    return sum_diff"
   ]
  },
  {
   "cell_type": "code",
   "execution_count": 16,
   "metadata": {},
   "outputs": [
    {
     "name": "stdout",
     "output_type": "stream",
     "text": [
      "6.71083629453519\n",
      "Optimization terminated successfully.\n",
      "         Current function value: 0.047834\n",
      "         Iterations: 145\n",
      "         Function evaluations: 266\n",
      " final_simplex: (array([[ 2.56261422, 11.74626326,  1.00890865],\n",
      "       [ 2.56261422, 11.74626325,  1.00890865],\n",
      "       [ 2.56261422, 11.74626326,  1.00890865],\n",
      "       [ 2.56261422, 11.74626326,  1.00890865]]), array([0.04783391, 0.04783391, 0.04783391, 0.04783391]))\n",
      "           fun: 0.04783390527304007\n",
      "       message: 'Optimization terminated successfully.'\n",
      "          nfev: 266\n",
      "           nit: 145\n",
      "        status: 0\n",
      "       success: True\n",
      "             x: array([ 2.56261422, 11.74626326,  1.00890865])\n"
     ]
    }
   ],
   "source": [
    "print(ssr_total([1.91, 10, 2]))\n",
    "x0 = np.asarray([1.91, 10, 2])\n",
    "res =  minimize(ssr_total, x0, method='nelder-mead', options={'xtol': 1e-8, 'disp':True})\n",
    "print(res)"
   ]
  },
  {
   "cell_type": "markdown",
   "metadata": {},
   "source": [
    "### The coefficients are good to 1.0E-7 and fluxuate a bit after that for different initial values"
   ]
  },
  {
   "cell_type": "markdown",
   "metadata": {},
   "source": [
    "# Computing the partial cross sections"
   ]
  },
  {
   "cell_type": "code",
   "execution_count": 17,
   "metadata": {},
   "outputs": [
    {
     "name": "stdout",
     "output_type": "stream",
     "text": [
      "XX: 54.91349148767361; XA: 92.07603572138949; XB: 37.69418210303359\n"
     ]
    }
   ],
   "source": [
    "all_pcs = compute_totalcs([2.56261423, 1.00890863, 11.74626336])\n",
    "total_pcs = all_pcs[0]\n",
    "pcsXX = all_pcs[1]\n",
    "pcsXA = all_pcs[2]\n",
    "pcsXB = all_pcs[3]\n",
    "\n",
    "print('XX: {}; XA: {}; XB: {}'.format(pcsXX[33]*1.0E22, pcsXA[33]*1.0E22, pcsXB[33]*1.0E22))"
   ]
  },
  {
   "cell_type": "code",
   "execution_count": 18,
   "metadata": {},
   "outputs": [
    {
     "name": "stdout",
     "output_type": "stream",
     "text": [
      "XX: 39.94720707515701; XA: 66.59062724159247; XB: 27.060970955837043\n"
     ]
    }
   ],
   "source": [
    "all_pcs = compute_totalcs([1.91, 10, 2])\n",
    "total_pcs = all_pcs[0]\n",
    "pcsXX = all_pcs[1]\n",
    "pcsXA = all_pcs[2]\n",
    "pcsXB = all_pcs[3]\n",
    "\n",
    "print('XX: {}; XA: {}; XB: {}'.format(pcsXX[33]*1.0E22, pcsXA[33]*1.0E22, pcsXB[33]*1.0E22))"
   ]
  },
  {
   "cell_type": "markdown",
   "metadata": {},
   "source": [
    "## Matrix loop for computing all the partial cross sections allowed by the closure relationship"
   ]
  },
  {
   "cell_type": "code",
   "execution_count": 19,
   "metadata": {},
   "outputs": [],
   "source": [
    "partial_cross_sections = []\n",
    "\"\"\"partial_cross_sections[p][pp][vp][vpp][energy/cross section]\"\"\"\n",
    "for p in np.arange(len(p_list)):\n",
    "    partial_cross_sections.append([])\n",
    "    for pp in np.arange(len(pp_list)):\n",
    "        partial_cross_sections[p].append([])\n",
    "        for vp in np.arange(9):\n",
    "            partial_cross_sections[p][pp].append([])\n",
    "            if type(fcf_closure_matrix[p][pp][vp])==int:\n",
    "                for vpp in np.arange(fcf_closure_matrix[p][pp][vp]+1):\n",
    "                    partial_cross_sections[p][pp][vp].append(pcs.pcs(p_state=p_list[p], pp_state=pp_list[pp], \n",
    "                                                                vp=vp, vpp=vpp, fcf=fcf[p][pp][vp][vpp],\n",
    "                                                                a=2.56261423, b=1.00890863, c=11.74626336))"
   ]
  },
  {
   "cell_type": "markdown",
   "metadata": {},
   "source": [
    "# Sorting Partial Cross Sections"
   ]
  },
  {
   "cell_type": "markdown",
   "metadata": {},
   "source": [
    "# Figures and Tables"
   ]
  },
  {
   "cell_type": "code",
   "execution_count": 20,
   "metadata": {},
   "outputs": [
    {
     "data": {
      "image/png": "[encoded data removed]",
      "text/plain": [
       "<Figure size 720x1080 with 1 Axes>"
      ]
     },
     "metadata": {
      "needs_background": "light"
     },
     "output_type": "display_data"
    }
   ],
   "source": [
    "fig, ax = plt.subplots(1, figsize=(10,15))\n",
    "ax.plot(INCIDENT_ENERGY, (partial_cross_sections[0][0][0][0][1]+partial_cross_sections[0][0][0][1][1])*1.0E20, '--', label='Model: X$^2\\Sigma_g^+$')\n",
    "ax.plot(INCIDENT_ENERGY, (partial_cross_sections[0][1][0][0][1]+partial_cross_sections[0][1][0][1][1]+partial_cross_sections[0][1][0][2][1]+partial_cross_sections[0][1][0][3][1]+partial_cross_sections[0][1][0][4][1]+partial_cross_sections[0][1][0][5][1])*1.0E20, ':', label='Model: A$^2\\Pi_u$')\n",
    "ax.plot(INCIDENT_ENERGY, (partial_cross_sections[0][2][0][0][1]+partial_cross_sections[0][2][0][1][1])*1.0E20, '-.', label='Model: B$^2\\Sigma_u^+$')\n",
    "ax.plot(INCIDENT_ENERGY, (partial_cross_sections[0][0][0][0][1]+partial_cross_sections[0][0][0][1][1]+partial_cross_sections[0][1][0][0][1]+partial_cross_sections[0][1][0][1][1]+partial_cross_sections[0][1][0][2][1]+partial_cross_sections[0][1][0][3][1]+partial_cross_sections[0][1][0][4][1]+partial_cross_sections[0][1][0][5][1]+partial_cross_sections[0][2][0][0][1]+partial_cross_sections[0][2][0][1][1])*1.0E20, label='Model: Total')\n",
    "ax.plot(INCIDENT_ENERGY, ITIKAWA, 'ks', label='Itikawa')\n",
    "ax.set_xscale('log')\n",
    "ax.set_ylabel('Cross Section (cm$^2$ 1e-16)')\n",
    "ax.set_xlabel('Energy (eV)')\n",
    "#ax.set_title(r'Comparision of Morse-Pekeris Thomson model for N$_2$ X$^1\\Sigma_g^+$ v$^p$=0 to N$_2^+$ ionization cross sections to experimental data')\n",
    "ax.legend()\n",
    "plt.show()"
   ]
  },
  {
   "cell_type": "code",
   "execution_count": 21,
   "metadata": {},
   "outputs": [
    {
     "name": "stdout",
     "output_type": "stream",
     "text": [
      "E(eV) & Itikawa (cm e-16) & Model Total & X$^2\\Sigma_g^+$ & A$^2\\Pi_u$ & B$^2\\Sigma_u^+$ \\\\\n",
      "\\hline\n",
      "16.0 & 0.02 & 0.01 & 0.01 & 0.00 & 0.00  \\\\\n",
      "16.5 & 0.05 & 0.03 & 0.03 & 0.00 & 0.00  \\\\\n",
      "17.0 & 0.07 & 0.05 & 0.05 & 0.01 & 0.00  \\\\\n",
      "17.5 & 0.10 & 0.09 & 0.06 & 0.03 & 0.00  \\\\\n",
      "18.0 & 0.13 & 0.13 & 0.08 & 0.05 & 0.00  \\\\\n",
      "18.5 & 0.16 & 0.16 & 0.09 & 0.07 & 0.00  \\\\\n",
      "19.0 & 0.20 & 0.21 & 0.10 & 0.10 & 0.00  \\\\\n",
      "19.5 & 0.23 & 0.25 & 0.12 & 0.12 & 0.01  \\\\\n",
      "20.0 & 0.27 & 0.29 & 0.13 & 0.14 & 0.02  \\\\\n",
      "20.5 & 0.31 & 0.34 & 0.14 & 0.16 & 0.03  \\\\\n",
      "21.0 & 0.34 & 0.38 & 0.15 & 0.18 & 0.04  \\\\\n",
      "21.5 & 0.38 & 0.42 & 0.16 & 0.20 & 0.05  \\\\\n",
      "22.0 & 0.42 & 0.46 & 0.18 & 0.22 & 0.06  \\\\\n",
      "22.5 & 0.46 & 0.49 & 0.19 & 0.24 & 0.07  \\\\\n",
      "23.0 & 0.49 & 0.53 & 0.20 & 0.26 & 0.07  \\\\\n",
      "23.5 & 0.53 & 0.57 & 0.21 & 0.28 & 0.08  \\\\\n",
      "24.0 & 0.56 & 0.60 & 0.22 & 0.30 & 0.09  \\\\\n",
      "24.5 & 0.60 & 0.63 & 0.23 & 0.31 & 0.09  \\\\\n",
      "25.0 & 0.64 & 0.67 & 0.24 & 0.33 & 0.10  \\\\\n",
      "30.0 & 0.93 & 0.94 & 0.31 & 0.47 & 0.16  \\\\\n",
      "35.0 & 1.16 & 1.15 & 0.37 & 0.57 & 0.21  \\\\\n",
      "40.0 & 1.37 & 1.32 & 0.42 & 0.65 & 0.24  \\\\\n",
      "45.0 & 1.52 & 1.44 & 0.45 & 0.72 & 0.27  \\\\\n",
      "50.0 & 1.60 & 1.54 & 0.48 & 0.77 & 0.30  \\\\\n",
      "55.0 & 1.66 & 1.62 & 0.50 & 0.81 & 0.31  \\\\\n",
      "60.0 & 1.72 & 1.68 & 0.51 & 0.84 & 0.33  \\\\\n",
      "65.0 & 1.74 & 1.73 & 0.53 & 0.86 & 0.34  \\\\\n",
      "70.0 & 1.78 & 1.76 & 0.53 & 0.88 & 0.35  \\\\\n",
      "75.0 & 1.80 & 1.79 & 0.54 & 0.89 & 0.36  \\\\\n",
      "80.0 & 1.81 & 1.81 & 0.55 & 0.90 & 0.36  \\\\\n",
      "85.0 & 1.82 & 1.83 & 0.55 & 0.91 & 0.37  \\\\\n",
      "90.0 & 1.83 & 1.84 & 0.55 & 0.92 & 0.37  \\\\\n",
      "95.0 & 1.85 & 1.84 & 0.55 & 0.92 & 0.38  \\\\\n",
      "100.0 & 1.85 & 1.85 & 0.55 & 0.92 & 0.38  \\\\\n",
      "110.0 & 1.83 & 1.84 & 0.55 & 0.92 & 0.38  \\\\\n",
      "120.0 & 1.81 & 1.83 & 0.54 & 0.92 & 0.38  \\\\\n",
      "140.0 & 1.78 & 1.80 & 0.53 & 0.90 & 0.37  \\\\\n",
      "160.0 & 1.72 & 1.75 & 0.51 & 0.87 & 0.37  \\\\\n",
      "180.0 & 1.67 & 1.70 & 0.49 & 0.85 & 0.36  \\\\\n",
      "200.0 & 1.61 & 1.65 & 0.48 & 0.82 & 0.35  \\\\\n",
      "225.0 & 1.55 & 1.58 & 0.45 & 0.79 & 0.34  \\\\\n",
      "250.0 & 1.48 & 1.51 & 0.43 & 0.76 & 0.32  \\\\\n",
      "275.0 & 1.41 & 1.45 & 0.42 & 0.72 & 0.31  \\\\\n",
      "300.0 & 1.37 & 1.39 & 0.40 & 0.70 & 0.30  \\\\\n",
      "350.0 & 1.28 & 1.29 & 0.37 & 0.64 & 0.28  \\\\\n",
      "400.0 & 1.20 & 1.19 & 0.34 & 0.60 & 0.26  \\\\\n",
      "450.0 & 1.11 & 1.11 & 0.31 & 0.56 & 0.24  \\\\\n",
      "500.0 & 1.05 & 1.04 & 0.29 & 0.52 & 0.23  \\\\\n",
      "550.0 & 1.00 & 0.98 & 0.27 & 0.49 & 0.21  \\\\\n",
      "600.0 & 0.94 & 0.92 & 0.26 & 0.46 & 0.20  \\\\\n",
      "650.0 & 0.88 & 0.87 & 0.24 & 0.44 & 0.19  \\\\\n",
      "700.0 & 0.84 & 0.83 & 0.23 & 0.41 & 0.18  \\\\\n",
      "750.0 & 0.80 & 0.78 & 0.22 & 0.39 & 0.17  \\\\\n",
      "800.0 & 0.77 & 0.75 & 0.21 & 0.37 & 0.17  \\\\\n",
      "850.0 & 0.74 & 0.71 & 0.20 & 0.36 & 0.16  \\\\\n",
      "900.0 & 0.72 & 0.68 & 0.19 & 0.34 & 0.15  \\\\\n",
      "950.0 & 0.70 & 0.65 & 0.18 & 0.33 & 0.15  \\\\\n",
      "1000.0 & 0.68 & 0.63 & 0.17 & 0.31 & 0.14  \\\\\n"
     ]
    }
   ],
   "source": [
    "tmp_XX = (partial_cross_sections[0][0][0][0][1]+partial_cross_sections[0][0][0][1][1])*1.0E20\n",
    "tmp_XA = (partial_cross_sections[0][1][0][0][1]+partial_cross_sections[0][1][0][1][1]+partial_cross_sections[0][1][0][2][1]+partial_cross_sections[0][1][0][3][1]+partial_cross_sections[0][1][0][4][1]+partial_cross_sections[0][1][0][5][1])*1.0E20\n",
    "tmp_XB = (partial_cross_sections[0][2][0][0][1]+partial_cross_sections[0][2][0][1][1])*1.0E20\n",
    "tmp_total = tmp_XX+tmp_XA+tmp_XB\n",
    "\n",
    "print(r'E(eV) & Itikawa (cm e-16) & Model Total & X$^2\\Sigma_g^+$ & A$^2\\Pi_u$ & B$^2\\Sigma_u^+$ \\\\')\n",
    "print('\\hline')\n",
    "for i in np.arange(58):\n",
    "    print('{0:.1f} & {1:.2f} & {2:.2f} & {3:.2f} & {4:.2f} & {5:.2f}  \\\\\\\\' .format(INCIDENT_ENERGY[i], ITIKAWA[i], tmp_total[i], tmp_XX[i], tmp_XA[i], tmp_XB[i]))"
   ]
  },
  {
   "cell_type": "markdown",
   "metadata": {},
   "source": [
    "## Computing the percent error"
   ]
  },
  {
   "cell_type": "code",
   "execution_count": 22,
   "metadata": {},
   "outputs": [
    {
     "name": "stdout",
     "output_type": "stream",
     "text": [
      "0.050404374092132644\n",
      "[0.36556086328007864, 0.36253452870153813, 0.2866128957467907, 0.12480617757471818, 0.027777501518245252, 0.0013296334779709074, 0.031010356558600696, 0.08905834062346633, 0.0905749850913682, 0.09429744981313537, 0.09972241450191721, 0.10076579041001568, 0.09342922778018879, 0.0871198567535611, 0.07946082788099978, 0.07284491965558605, 0.06333223834761129, 0.051568061864315125, 0.04130898787589859, 0.015622785274777777, 0.005214724972864629, 0.039389797503193866, 0.05124801587072748, 0.03702535063558998, 0.025190722593486755, 0.02388627845097852, 0.007838407458923037, 0.009484114767763386, 0.0048892372644988085, 0.0012065566855930234, 0.004025118979719658, 0.004169798612926256, 0.0032902371123688353, 0.0017096793940720601, 0.008033088787836588, 0.013572314062238218, 0.010662034472456833, 0.01854257752378236, 0.01771738618227398, 0.022062980414653658, 0.018276067214465112, 0.022542820812022576, 0.02946901551985043, 0.01696931408610693, 0.0056568614534390285, 0.004695734447452046, 0.00264495308323195, 0.008318107847889524, 0.020174371742653085, 0.02282264819247977, 0.010160931454882005, 0.021631256302404627, 0.014046684473409942, 0.022623929363944237, 0.03269566895870212, 0.050155582294696424, 0.062255257223959026, 0.07041822839537355]\n"
     ]
    }
   ],
   "source": [
    "def percent_error(theoretical, experimental):\n",
    "    return abs(experimental - theoretical)/abs(theoretical)\n",
    "\n",
    "percenterror = []\n",
    "tot_percenterror = 0\n",
    "for i in np.arange(58):\n",
    "    percenterror.append(percent_error(ITIKAWA[i], tmp_total[i]))\n",
    "    tot_percenterror += percent_error(ITIKAWA[i], tmp_total[i])\n",
    "average_percent_error = tot_percenterror/58\n",
    "print(average_percent_error)\n",
    "print(percenterror)"
   ]
  },
  {
   "cell_type": "markdown",
   "metadata": {},
   "source": [
    "## Branching ratios for N2+(X2), N2+(A2), N2+(B2) "
   ]
  },
  {
   "cell_type": "markdown",
   "metadata": {},
   "source": [
    "### Computing by dividing the cross sections of each individual state by the total cross section (all at 100 eV) "
   ]
  },
  {
   "cell_type": "code",
   "execution_count": 23,
   "metadata": {},
   "outputs": [
    {
     "name": "stdout",
     "output_type": "stream",
     "text": [
      "N2+(X2): 0.30\n",
      "N2+(A2): 0.50\n",
      "N2+(B2): 0.21\n"
     ]
    }
   ],
   "source": [
    "print('N2+(X2): {0:.2f}\\nN2+(A2): {1:.2f}\\nN2+(B2): {2:.2f}'.format(0.55/1.85, 0.92/1.85, 0.38/1.85))"
   ]
  },
  {
   "cell_type": "code",
   "execution_count": 24,
   "metadata": {},
   "outputs": [
    {
     "name": "stdout",
     "output_type": "stream",
     "text": [
      "5.031954146000916e-21\n",
      "2.4165444452093803e-21\n",
      "3.3248910983670726e-21\n"
     ]
    }
   ],
   "source": [
    "print(partial_cross_sections[0][0][0][0][1][33])\n",
    "print(partial_cross_sections[0][1][0][0][1][33])\n",
    "print(partial_cross_sections[0][2][0][0][1][33])"
   ]
  },
  {
   "cell_type": "markdown",
   "metadata": {},
   "source": [
    "# Computing cross sections using the Gryzinski theory"
   ]
  },
  {
   "cell_type": "code",
   "execution_count": null,
   "metadata": {},
   "outputs": [],
   "source": []
  },
  {
   "cell_type": "markdown",
   "metadata": {},
   "source": [
    "# Comparisons and fits based on Shemansky Model\n",
    "### Each p' to p'' state gets its own universal function fit based on Shemansky's model"
   ]
  },
  {
   "cell_type": "code",
   "execution_count": 28,
   "metadata": {},
   "outputs": [],
   "source": [
    "import csv\n",
    "SHEMANSKY = []\n",
    "with open('shemansky.csv', newline='') as csvfile:\n",
    "    data = csv.reader(csvfile, delimiter=',', quoting=csv.QUOTE_NONNUMERIC)\n",
    "    for row in data:\n",
    "        SHEMANSKY.append(row)\n",
    "\n",
    "for i in np.arange(55, 67):\n",
    "    SHEMANSKY[i].insert(1, 0.0)        \n",
    "\n",
    "INCIDENT_ENERGY_SHE = []\n",
    "SHEMANSKY_OBS = []\n",
    "SHEMANSKY_MODEL = []\n",
    "SHEMANSKY_XX = []\n",
    "SHEMANSKY_XA =[]\n",
    "SHEMANSKY_XB = []\n",
    "\n",
    "for i in np.arange(67):\n",
    "    INCIDENT_ENERGY_SHE.append(SHEMANSKY[i][0])\n",
    "    SHEMANSKY_OBS.append(SHEMANSKY[i][1])\n",
    "    SHEMANSKY_MODEL.append(SHEMANSKY[i][2])\n",
    "    SHEMANSKY_XX.append(SHEMANSKY[i][3])\n",
    "    SHEMANSKY_XA.append(SHEMANSKY[i][4])\n",
    "    SHEMANSKY_XB.append(SHEMANSKY[i][5])\n",
    "INCIDENT_ENERGY_SHE = np.asarray(INCIDENT_ENERGY_SHE)\n",
    "SHEMANSKY_OBS = np.asarray(SHEMANSKY_OBS)/100\n",
    "SHEMANSKY_MODEL = np.asarray(SHEMANSKY_MODEL)/100\n",
    "SHEMANSKY_XX = np.asarray(SHEMANSKY_XX)/100\n",
    "SHEMANSKY_XA = np.asarray(SHEMANSKY_XA)/100\n",
    "SHEMANSKY_XB = np.asarray(SHEMANSKY_XB)/100"
   ]
  },
  {
   "cell_type": "markdown",
   "metadata": {},
   "source": [
    "## N2 X1Sigmag+ to N2+ X2Sigmag+"
   ]
  },
  {
   "cell_type": "code",
   "execution_count": 29,
   "metadata": {},
   "outputs": [],
   "source": [
    "def find_ufc_XX(Coefficients):\n",
    "    \"\"\"computes the SSR for the total cross section compared to Itikawa's. \n",
    "    Then using minimize to find the coefficients that produce the smallest SSR\"\"\"\n",
    "    N, B, C = Coefficients\n",
    "    ee_pcs = []\n",
    "    for pp in np.arange(1):\n",
    "        for vp in np.arange(1):\n",
    "            for vpp in np.arange(2):\n",
    "                pcs_data = pcs.pcs(p_state=p_list[0], pp_state=pp_list[pp], \n",
    "                               vp=vp, vpp=vpp, fcf=fcf[pp][vp][vpp],\n",
    "                               a=N, b=B, c=C)\n",
    "                sigmas = []\n",
    "                for i in range(len(pcs_data)):\n",
    "                    sigmas.append(pcs_data[i][1])\n",
    "                ee_pcs.append(sigmas)\n",
    "    \n",
    "    ee_pcs[0].pop(0)\n",
    "    ee_pcs[0].pop(16)\n",
    "    ee_pcs[0].pop(16)\n",
    "    ee_pcs[1].pop(0)\n",
    "    ee_pcs[1].pop(16)\n",
    "    ee_pcs[1].pop(16)\n",
    "    ee_pcs = np.asarray(ee_pcs)\n",
    "    total_pcs = np.zeros(55)\n",
    "    for i in ee_pcs:\n",
    "        total_pcs += i\n",
    "    \n",
    "    SHEMANSKY_XX_55 = []\n",
    "    INCIDENT_ENERGY_SHE_55 = []\n",
    "    for i in np.arange(55):\n",
    "        SHEMANSKY_XX_55.append(SHEMANSKY_XX[i])\n",
    "        INCIDENT_ENERGY_SHE_55.append(INCIDENT_ENERGY_SHE[i])\n",
    "    \n",
    "    SHEMANSKY_XX_55 = np.asarray(SHEMANSKY_XX_55)\n",
    "    \n",
    "    diff_sq = (SHEMANSKY_XX_55 - (total_pcs*1.0E20))**2\n",
    "    sum_diff = np.sum(diff_sq)\n",
    "    \n",
    "    return sum_diff"
   ]
  },
  {
   "cell_type": "code",
   "execution_count": 30,
   "metadata": {},
   "outputs": [
    {
     "ename": "ValueError",
     "evalue": "The truth value of an array with more than one element is ambiguous. Use a.any() or a.all()",
     "output_type": "error",
     "traceback": [
      "\u001b[0;31m---------------------------------------------------------------------------\u001b[0m",
      "\u001b[0;31mValueError\u001b[0m                                Traceback (most recent call last)",
      "\u001b[0;32m<ipython-input-30-2af98ba55770>\u001b[0m in \u001b[0;36m<module>\u001b[0;34m\u001b[0m\n\u001b[1;32m      6\u001b[0m             pcs_data = pcs.pcs(p_state=p_list[0], pp_state=pp_list[pp], \n\u001b[1;32m      7\u001b[0m                                \u001b[0mvp\u001b[0m\u001b[0;34m=\u001b[0m\u001b[0mvp\u001b[0m\u001b[0;34m,\u001b[0m \u001b[0mvpp\u001b[0m\u001b[0;34m=\u001b[0m\u001b[0mvpp\u001b[0m\u001b[0;34m,\u001b[0m \u001b[0mfcf\u001b[0m\u001b[0;34m=\u001b[0m\u001b[0mfcf\u001b[0m\u001b[0;34m[\u001b[0m\u001b[0mpp\u001b[0m\u001b[0;34m]\u001b[0m\u001b[0;34m[\u001b[0m\u001b[0mvp\u001b[0m\u001b[0;34m]\u001b[0m\u001b[0;34m[\u001b[0m\u001b[0mvpp\u001b[0m\u001b[0;34m]\u001b[0m\u001b[0;34m,\u001b[0m\u001b[0;34m\u001b[0m\u001b[0;34m\u001b[0m\u001b[0m\n\u001b[0;32m----> 8\u001b[0;31m                                a=N, b=B, c=C)\n\u001b[0m\u001b[1;32m      9\u001b[0m             \u001b[0msigmas\u001b[0m \u001b[0;34m=\u001b[0m \u001b[0;34m[\u001b[0m\u001b[0;34m]\u001b[0m\u001b[0;34m\u001b[0m\u001b[0;34m\u001b[0m\u001b[0m\n\u001b[1;32m     10\u001b[0m             \u001b[0;32mfor\u001b[0m \u001b[0mi\u001b[0m \u001b[0;32min\u001b[0m \u001b[0mrange\u001b[0m\u001b[0;34m(\u001b[0m\u001b[0mlen\u001b[0m\u001b[0;34m(\u001b[0m\u001b[0mpcs_data\u001b[0m\u001b[0;34m)\u001b[0m\u001b[0;34m)\u001b[0m\u001b[0;34m:\u001b[0m\u001b[0;34m\u001b[0m\u001b[0;34m\u001b[0m\u001b[0m\n",
      "\u001b[0;32m~/projects/nepc/nepc/methods/pcs/pcs.py\u001b[0m in \u001b[0;36mpcs\u001b[0;34m(p_state, pp_state, vp, vpp, fcf, a, b, c, electron_energy)\u001b[0m\n\u001b[1;32m     58\u001b[0m                            \u001b[0muniversal_function\u001b[0m\u001b[0;34m(\u001b[0m\u001b[0;34m(\u001b[0m\u001b[0mi\u001b[0m\u001b[0;34m/\u001b[0m\u001b[0mTv_vppvp_ev\u001b[0m\u001b[0;34m)\u001b[0m\u001b[0;34m,\u001b[0m \u001b[0ma\u001b[0m\u001b[0;34m=\u001b[0m\u001b[0ma\u001b[0m\u001b[0;34m,\u001b[0m \u001b[0mb\u001b[0m\u001b[0;34m=\u001b[0m\u001b[0mb\u001b[0m\u001b[0;34m,\u001b[0m \u001b[0mc\u001b[0m\u001b[0;34m=\u001b[0m\u001b[0mc\u001b[0m\u001b[0;34m)\u001b[0m \u001b[0;34m*\u001b[0m\u001b[0;34m\u001b[0m\u001b[0;34m\u001b[0m\u001b[0m\n\u001b[1;32m     59\u001b[0m                            np.float64(fcf) / (Tv_vppvp_ev * ELEMENTARY_CHARGE)**2)\n\u001b[0;32m---> 60\u001b[0;31m         \u001b[0;32mif\u001b[0m \u001b[0msigma\u001b[0m \u001b[0;34m<\u001b[0m \u001b[0;36m0.0\u001b[0m\u001b[0;34m:\u001b[0m\u001b[0;34m\u001b[0m\u001b[0;34m\u001b[0m\u001b[0m\n\u001b[0m\u001b[1;32m     61\u001b[0m             \u001b[0mpcs_list\u001b[0m\u001b[0;34m.\u001b[0m\u001b[0mappend\u001b[0m\u001b[0;34m(\u001b[0m\u001b[0;36m0.0\u001b[0m\u001b[0;34m)\u001b[0m\u001b[0;34m\u001b[0m\u001b[0;34m\u001b[0m\u001b[0m\n\u001b[1;32m     62\u001b[0m         \u001b[0;32melse\u001b[0m\u001b[0;34m:\u001b[0m\u001b[0;34m\u001b[0m\u001b[0;34m\u001b[0m\u001b[0m\n",
      "\u001b[0;31mValueError\u001b[0m: The truth value of an array with more than one element is ambiguous. Use a.any() or a.all()"
     ]
    }
   ],
   "source": [
    "ee_pcs_XX = []\n",
    "N, B, C = [4.48610974, 16.53230571,  0.67914942]\n",
    "for pp in np.arange(1):\n",
    "    for vp in np.arange(1):\n",
    "        for vpp in np.arange(2):\n",
    "            pcs_data = pcs.pcs(p_state=p_list[0], pp_state=pp_list[pp], \n",
    "                               vp=vp, vpp=vpp, fcf=fcf[pp][vp][vpp],\n",
    "                               a=N, b=B, c=C)\n",
    "            sigmas = []\n",
    "            for i in range(len(pcs_data)):\n",
    "                sigmas.append(pcs_data[i][1])\n",
    "            ee_pcs_XX.append(sigmas)\n",
    "            \n",
    "ee_pcs_XX[0].pop(0)\n",
    "ee_pcs_XX[0].pop(16)\n",
    "ee_pcs_XX[0].pop(16)\n",
    "ee_pcs_XX[1].pop(0)\n",
    "ee_pcs_XX[1].pop(16)\n",
    "ee_pcs_XX[1].pop(16)\n",
    "ee_pcs_XX = np.asarray(ee_pcs_XX)\n",
    "total_pcs_XX = np.zeros(55)\n",
    "for i in ee_pcs_XX:\n",
    "    total_pcs_XX += i\n",
    "\n",
    "SHEMANSKY_XX_55 = []\n",
    "INCIDENT_ENERGY_SHE_55 = []\n",
    "for i in np.arange(55):\n",
    "    SHEMANSKY_XX_55.append(SHEMANSKY_XX[i])\n",
    "    INCIDENT_ENERGY_SHE_55.append(INCIDENT_ENERGY_SHE[i])\n",
    "    \n",
    "SHEMANSKY_XX_55 = np.asarray(SHEMANSKY_XX_55)\n",
    "\n",
    "INCIDENT_ENERGY_55 = []\n",
    "for i in INCIDENT_ENERGY:\n",
    "    INCIDENT_ENERGY_55.append(i)\n",
    "INCIDENT_ENERGY_55.pop(0)\n",
    "INCIDENT_ENERGY_55.pop(16)\n",
    "INCIDENT_ENERGY_55.pop(16)\n",
    "\n",
    "diff_sq = (SHEMANSKY_XX_55 - (total_pcs_XX*1.0E20))**2\n",
    "np.sum(diff_sq)"
   ]
  },
  {
   "cell_type": "code",
   "execution_count": 31,
   "metadata": {},
   "outputs": [
    {
     "ename": "ValueError",
     "evalue": "The truth value of an array with more than one element is ambiguous. Use a.any() or a.all()",
     "output_type": "error",
     "traceback": [
      "\u001b[0;31m---------------------------------------------------------------------------\u001b[0m",
      "\u001b[0;31mValueError\u001b[0m                                Traceback (most recent call last)",
      "\u001b[0;32m<ipython-input-31-306de3541e26>\u001b[0m in \u001b[0;36m<module>\u001b[0;34m\u001b[0m\n\u001b[0;32m----> 1\u001b[0;31m \u001b[0mfind_ufc_XX\u001b[0m\u001b[0;34m(\u001b[0m\u001b[0;34m[\u001b[0m\u001b[0;36m2.56261423\u001b[0m\u001b[0;34m,\u001b[0m \u001b[0;36m11.74626331\u001b[0m\u001b[0;34m,\u001b[0m  \u001b[0;36m1.00890865\u001b[0m\u001b[0;34m]\u001b[0m\u001b[0;34m)\u001b[0m\u001b[0;34m\u001b[0m\u001b[0;34m\u001b[0m\u001b[0m\n\u001b[0m\u001b[1;32m      2\u001b[0m \u001b[0mx0\u001b[0m \u001b[0;34m=\u001b[0m \u001b[0mnp\u001b[0m\u001b[0;34m.\u001b[0m\u001b[0masarray\u001b[0m\u001b[0;34m(\u001b[0m\u001b[0;34m[\u001b[0m\u001b[0;36m2.56261423\u001b[0m\u001b[0;34m,\u001b[0m \u001b[0;36m11.74626331\u001b[0m\u001b[0;34m,\u001b[0m  \u001b[0;36m1.00890865\u001b[0m\u001b[0;34m]\u001b[0m\u001b[0;34m)\u001b[0m\u001b[0;34m\u001b[0m\u001b[0;34m\u001b[0m\u001b[0m\n\u001b[1;32m      3\u001b[0m \u001b[0mres\u001b[0m \u001b[0;34m=\u001b[0m  \u001b[0mminimize\u001b[0m\u001b[0;34m(\u001b[0m\u001b[0mfind_ufc_XX\u001b[0m\u001b[0;34m,\u001b[0m \u001b[0mx0\u001b[0m\u001b[0;34m,\u001b[0m \u001b[0mmethod\u001b[0m\u001b[0;34m=\u001b[0m\u001b[0;34m'nelder-mead'\u001b[0m\u001b[0;34m,\u001b[0m \u001b[0moptions\u001b[0m\u001b[0;34m=\u001b[0m\u001b[0;34m{\u001b[0m\u001b[0;34m'xtol'\u001b[0m\u001b[0;34m:\u001b[0m \u001b[0;36m1e-8\u001b[0m\u001b[0;34m,\u001b[0m \u001b[0;34m'disp'\u001b[0m\u001b[0;34m:\u001b[0m\u001b[0;32mTrue\u001b[0m\u001b[0;34m}\u001b[0m\u001b[0;34m)\u001b[0m\u001b[0;34m\u001b[0m\u001b[0;34m\u001b[0m\u001b[0m\n\u001b[1;32m      4\u001b[0m \u001b[0mprint\u001b[0m\u001b[0;34m(\u001b[0m\u001b[0mres\u001b[0m\u001b[0;34m)\u001b[0m\u001b[0;34m\u001b[0m\u001b[0;34m\u001b[0m\u001b[0m\n",
      "\u001b[0;32m<ipython-input-29-a2e3ac81925a>\u001b[0m in \u001b[0;36mfind_ufc_XX\u001b[0;34m(Coefficients)\u001b[0m\n\u001b[1;32m      9\u001b[0m                 pcs_data = pcs.pcs(p_state=p_list[0], pp_state=pp_list[pp], \n\u001b[1;32m     10\u001b[0m                                \u001b[0mvp\u001b[0m\u001b[0;34m=\u001b[0m\u001b[0mvp\u001b[0m\u001b[0;34m,\u001b[0m \u001b[0mvpp\u001b[0m\u001b[0;34m=\u001b[0m\u001b[0mvpp\u001b[0m\u001b[0;34m,\u001b[0m \u001b[0mfcf\u001b[0m\u001b[0;34m=\u001b[0m\u001b[0mfcf\u001b[0m\u001b[0;34m[\u001b[0m\u001b[0mpp\u001b[0m\u001b[0;34m]\u001b[0m\u001b[0;34m[\u001b[0m\u001b[0mvp\u001b[0m\u001b[0;34m]\u001b[0m\u001b[0;34m[\u001b[0m\u001b[0mvpp\u001b[0m\u001b[0;34m]\u001b[0m\u001b[0;34m,\u001b[0m\u001b[0;34m\u001b[0m\u001b[0;34m\u001b[0m\u001b[0m\n\u001b[0;32m---> 11\u001b[0;31m                                a=N, b=B, c=C)\n\u001b[0m\u001b[1;32m     12\u001b[0m                 \u001b[0msigmas\u001b[0m \u001b[0;34m=\u001b[0m \u001b[0;34m[\u001b[0m\u001b[0;34m]\u001b[0m\u001b[0;34m\u001b[0m\u001b[0;34m\u001b[0m\u001b[0m\n\u001b[1;32m     13\u001b[0m                 \u001b[0;32mfor\u001b[0m \u001b[0mi\u001b[0m \u001b[0;32min\u001b[0m \u001b[0mrange\u001b[0m\u001b[0;34m(\u001b[0m\u001b[0mlen\u001b[0m\u001b[0;34m(\u001b[0m\u001b[0mpcs_data\u001b[0m\u001b[0;34m)\u001b[0m\u001b[0;34m)\u001b[0m\u001b[0;34m:\u001b[0m\u001b[0;34m\u001b[0m\u001b[0;34m\u001b[0m\u001b[0m\n",
      "\u001b[0;32m~/projects/nepc/nepc/methods/pcs/pcs.py\u001b[0m in \u001b[0;36mpcs\u001b[0;34m(p_state, pp_state, vp, vpp, fcf, a, b, c, electron_energy)\u001b[0m\n\u001b[1;32m     58\u001b[0m                            \u001b[0muniversal_function\u001b[0m\u001b[0;34m(\u001b[0m\u001b[0;34m(\u001b[0m\u001b[0mi\u001b[0m\u001b[0;34m/\u001b[0m\u001b[0mTv_vppvp_ev\u001b[0m\u001b[0;34m)\u001b[0m\u001b[0;34m,\u001b[0m \u001b[0ma\u001b[0m\u001b[0;34m=\u001b[0m\u001b[0ma\u001b[0m\u001b[0;34m,\u001b[0m \u001b[0mb\u001b[0m\u001b[0;34m=\u001b[0m\u001b[0mb\u001b[0m\u001b[0;34m,\u001b[0m \u001b[0mc\u001b[0m\u001b[0;34m=\u001b[0m\u001b[0mc\u001b[0m\u001b[0;34m)\u001b[0m \u001b[0;34m*\u001b[0m\u001b[0;34m\u001b[0m\u001b[0;34m\u001b[0m\u001b[0m\n\u001b[1;32m     59\u001b[0m                            np.float64(fcf) / (Tv_vppvp_ev * ELEMENTARY_CHARGE)**2)\n\u001b[0;32m---> 60\u001b[0;31m         \u001b[0;32mif\u001b[0m \u001b[0msigma\u001b[0m \u001b[0;34m<\u001b[0m \u001b[0;36m0.0\u001b[0m\u001b[0;34m:\u001b[0m\u001b[0;34m\u001b[0m\u001b[0;34m\u001b[0m\u001b[0m\n\u001b[0m\u001b[1;32m     61\u001b[0m             \u001b[0mpcs_list\u001b[0m\u001b[0;34m.\u001b[0m\u001b[0mappend\u001b[0m\u001b[0;34m(\u001b[0m\u001b[0;36m0.0\u001b[0m\u001b[0;34m)\u001b[0m\u001b[0;34m\u001b[0m\u001b[0;34m\u001b[0m\u001b[0m\n\u001b[1;32m     62\u001b[0m         \u001b[0;32melse\u001b[0m\u001b[0;34m:\u001b[0m\u001b[0;34m\u001b[0m\u001b[0;34m\u001b[0m\u001b[0m\n",
      "\u001b[0;31mValueError\u001b[0m: The truth value of an array with more than one element is ambiguous. Use a.any() or a.all()"
     ]
    }
   ],
   "source": [
    "find_ufc_XX([2.56261423, 11.74626331,  1.00890865])\n",
    "x0 = np.asarray([2.56261423, 11.74626331,  1.00890865])\n",
    "res =  minimize(find_ufc_XX, x0, method='nelder-mead', options={'xtol': 1e-8, 'disp':True})\n",
    "print(res)"
   ]
  },
  {
   "cell_type": "code",
   "execution_count": null,
   "metadata": {},
   "outputs": [],
   "source": [
    "fig3, ax3 = plt.subplots(1)\n",
    "ax3.plot(INCIDENT_ENERGY_55, (total_pcs_XX)*1.0E20, label='thomson XX')\n",
    "ax3.plot(INCIDENT_ENERGY_SHE_55, SHEMANSKY_XX_55, label='she_xx')\n",
    "ax3.set_xscale('log')\n",
    "ax3.set_ylabel('cm$^2 (1e-16)$')\n",
    "ax3.set_xlabel('eV')\n",
    "ax3.legend()\n",
    "plt.show()"
   ]
  },
  {
   "cell_type": "markdown",
   "metadata": {},
   "source": [
    "## N2 X1Sigmag+ to N2+ A2Piu"
   ]
  },
  {
   "cell_type": "code",
   "execution_count": null,
   "metadata": {},
   "outputs": [],
   "source": [
    "def find_ufc_XA(Coefficients):\n",
    "    \"\"\"computes the SSR for the total cross section compared to Itikawa's. \n",
    "    Then using minimize to find the coefficients that produce the smallest SSR\"\"\"\n",
    "    N, B, C = Coefficients\n",
    "    ee_pcs = []\n",
    "    for pp in np.arange(1,2):\n",
    "        for vp in np.arange(1):\n",
    "            for vpp in np.arange(6):\n",
    "                pcs_data = pcs.pcs(p_state=p_list[0], pp_state=pp_list[pp], \n",
    "                               vp=vp, vpp=vpp, fcf=fcf[pp][vp][vpp],\n",
    "                               a=N, b=B, c=C)\n",
    "                sigmas = []\n",
    "                for i in range(len(pcs_data)):\n",
    "                    sigmas.append(pcs_data[i][1])\n",
    "                ee_pcs.append(sigmas)\n",
    "    for i in np.arange(6):\n",
    "        ee_pcs[i].pop(0)\n",
    "        ee_pcs[i].pop(16)\n",
    "        ee_pcs[i].pop(16)\n",
    "        ee_pcs = np.asarray(ee_pcs)\n",
    "    total_pcs = np.zeros(55)\n",
    "    for i in ee_pcs:\n",
    "        total_pcs += i\n",
    "    \n",
    "    SHEMANSKY_XA_55 = []\n",
    "    INCIDENT_ENERGY_SHE_55 = []\n",
    "    for i in np.arange(55):\n",
    "        SHEMANSKY_XA_55.append(SHEMANSKY_XA[i])\n",
    "        INCIDENT_ENERGY_SHE_55.append(INCIDENT_ENERGY_SHE[i])\n",
    "    \n",
    "    SHEMANSKY_XA_55 = np.asarray(SHEMANSKY_XA_55)\n",
    "    \n",
    "    diff_sq = (SHEMANSKY_XA_55 - (total_pcs*1.0E20))**2\n",
    "    sum_diff = np.sum(diff_sq)\n",
    "    \n",
    "    return sum_diff"
   ]
  },
  {
   "cell_type": "code",
   "execution_count": null,
   "metadata": {},
   "outputs": [],
   "source": [
    "ee_pcs_XA = []\n",
    "N, B, C = [1.91631027, 4.19096724, 4.19096734]\n",
    "for pp in np.arange(1,2):\n",
    "    for vp in np.arange(1):\n",
    "        for vpp in np.arange(6):\n",
    "            pcs_data = pcs.pcs(p_state=p_list[0], pp_state=pp_list[pp], \n",
    "                               vp=vp, vpp=vpp, fcf=fcf[pp][vp][vpp],\n",
    "                               a=N, b=B, c=C)\n",
    "            sigmas = []\n",
    "            for i in range(len(pcs_data)):\n",
    "                sigmas.append(pcs_data[i][1])\n",
    "            ee_pcs_XA.append(sigmas)\n",
    "\n",
    "for i in np.arange(6):\n",
    "    ee_pcs_XA[i].pop(0)\n",
    "    ee_pcs_XA[i].pop(16)\n",
    "    ee_pcs_XA[i].pop(16)\n",
    "\n",
    "ee_pcs_XA = np.asarray(ee_pcs_XA)\n",
    "total_pcs_XA = np.zeros(55)\n",
    "for i in ee_pcs_XA:\n",
    "    total_pcs_XA += i\n",
    "\n",
    "SHEMANSKY_XA_55 = []\n",
    "INCIDENT_ENERGY_SHE_55 = []\n",
    "for i in np.arange(55):\n",
    "    SHEMANSKY_XA_55.append(SHEMANSKY_XA[i])\n",
    "    INCIDENT_ENERGY_SHE_55.append(INCIDENT_ENERGY_SHE[i])\n",
    "    \n",
    "SHEMANSKY_XA_55 = np.asarray(SHEMANSKY_XA_55)\n",
    "\n",
    "INCIDENT_ENERGY_55 = []\n",
    "for i in INCIDENT_ENERGY:\n",
    "    INCIDENT_ENERGY_55.append(i)\n",
    "INCIDENT_ENERGY_55.pop(0)\n",
    "INCIDENT_ENERGY_55.pop(16)\n",
    "INCIDENT_ENERGY_55.pop(16)\n",
    "\n",
    "diff_sq = (SHEMANSKY_XA_55 - (total_pcs_XA*1.0E20))**2\n",
    "np.sum(diff_sq)"
   ]
  },
  {
   "cell_type": "code",
   "execution_count": null,
   "metadata": {},
   "outputs": [],
   "source": [
    "find_ufc_XA([2.56261423, 11.74626331,  1.00890865])\n",
    "x0 = np.asarray([2.56261423, 11.74626331,  1.00890865])\n",
    "res =  minimize(find_ufc_XA, x0, method='nelder-mead', options={'xtol': 1e-8, 'disp':True})\n",
    "print(res)"
   ]
  },
  {
   "cell_type": "code",
   "execution_count": null,
   "metadata": {},
   "outputs": [],
   "source": [
    "fig4, ax4 = plt.subplots(1)\n",
    "ax4.plot(INCIDENT_ENERGY_55, (total_pcs_XA)*1.0E20, label='thomson XA')\n",
    "ax4.plot(INCIDENT_ENERGY_SHE_55, SHEMANSKY_XA_55, label='she_xa')\n",
    "ax4.set_xscale('log')\n",
    "ax4.set_ylabel('cm$^2 (1e-16)$')\n",
    "ax4.set_xlabel('eV')\n",
    "ax4.legend()\n",
    "plt.show()"
   ]
  },
  {
   "cell_type": "markdown",
   "metadata": {},
   "source": [
    "## N2 X1Sigmag+ to N2+ B2Sigmau+"
   ]
  },
  {
   "cell_type": "code",
   "execution_count": null,
   "metadata": {},
   "outputs": [],
   "source": [
    "def find_ufc_XB(Coefficients):\n",
    "    \"\"\"computes the SSR for the total cross section compared to Itikawa's. \n",
    "    Then using minimize to find the coefficients that produce the smallest SSR\"\"\"\n",
    "    N, B, C = Coefficients\n",
    "    ee_pcs = []\n",
    "    for pp in np.arange(2,3):\n",
    "        for vp in np.arange(1):\n",
    "            for vpp in np.arange(2):\n",
    "                pcs_data = pcs.pcs(p_state=p_list[0], pp_state=pp_list[pp], \n",
    "                               vp=vp, vpp=vpp, fcf=fcf[pp][vp][vpp],\n",
    "                               a=N, b=B, c=C)\n",
    "                sigmas = []\n",
    "                for i in range(len(pcs_data)):\n",
    "                    sigmas.append(pcs_data[i][1])\n",
    "                ee_pcs.append(sigmas)\n",
    "    for i in np.arange(2):\n",
    "        ee_pcs[i].pop(0)\n",
    "        ee_pcs[i].pop(16)\n",
    "        ee_pcs[i].pop(16)\n",
    "        ee_pcs = np.asarray(ee_pcs)\n",
    "    total_pcs = np.zeros(55)\n",
    "    for i in ee_pcs:\n",
    "        total_pcs += i\n",
    "    \n",
    "    SHEMANSKY_XB_55 = []\n",
    "    INCIDENT_ENERGY_SHE_55 = []\n",
    "    for i in np.arange(55):\n",
    "        SHEMANSKY_XB_55.append(SHEMANSKY_XB[i])\n",
    "        INCIDENT_ENERGY_SHE_55.append(INCIDENT_ENERGY_SHE[i])\n",
    "    \n",
    "    SHEMANSKY_XB_55 = np.asarray(SHEMANSKY_XB_55)\n",
    "    \n",
    "    diff_sq = (SHEMANSKY_XB_55 - (total_pcs*1.0E20))**2\n",
    "    sum_diff = np.sum(diff_sq)\n",
    "    \n",
    "    return sum_diff"
   ]
  },
  {
   "cell_type": "code",
   "execution_count": null,
   "metadata": {},
   "outputs": [],
   "source": [
    "ee_pcs_XB = []\n",
    "N, B, C = [1.36055036, 8.63427827, 1.27025972]\n",
    "for pp in np.arange(2,3):\n",
    "    for vp in np.arange(1):\n",
    "        for vpp in np.arange(2):\n",
    "            pcs_data = pcs.pcs(p_state=p_list[0], pp_state=pp_list[pp], \n",
    "                               vp=vp, vpp=vpp, fcf=fcf[pp][vp][vpp],\n",
    "                               a=N, b=B, c=C)\n",
    "            sigmas = []\n",
    "            for i in range(len(pcs_data)):\n",
    "                sigmas.append(pcs_data[i][1])\n",
    "            ee_pcs_XB.append(sigmas)\n",
    "\n",
    "for i in np.arange(2):\n",
    "    ee_pcs_XB[i].pop(0)\n",
    "    ee_pcs_XB[i].pop(16)\n",
    "    ee_pcs_XB[i].pop(16)\n",
    "\n",
    "ee_pcs_XB = np.asarray(ee_pcs_XB)\n",
    "total_pcs_XB = np.zeros(55)\n",
    "for i in ee_pcs_XB:\n",
    "    total_pcs_XB += i\n",
    "\n",
    "SHEMANSKY_XB_55 = []\n",
    "INCIDENT_ENERGY_SHE_55 = []\n",
    "for i in np.arange(55):\n",
    "    SHEMANSKY_XB_55.append(SHEMANSKY_XB[i])\n",
    "    INCIDENT_ENERGY_SHE_55.append(INCIDENT_ENERGY_SHE[i])\n",
    "    \n",
    "SHEMANSKY_XB_55 = np.asarray(SHEMANSKY_XB_55)\n",
    "\n",
    "INCIDENT_ENERGY_55 = []\n",
    "for i in INCIDENT_ENERGY:\n",
    "    INCIDENT_ENERGY_55.append(i)\n",
    "INCIDENT_ENERGY_55.pop(0)\n",
    "INCIDENT_ENERGY_55.pop(16)\n",
    "INCIDENT_ENERGY_55.pop(16)\n",
    "\n",
    "diff_sq = (SHEMANSKY_XB_55 - (total_pcs_XB*1.0E20))**2\n",
    "np.sum(diff_sq)"
   ]
  },
  {
   "cell_type": "code",
   "execution_count": null,
   "metadata": {},
   "outputs": [],
   "source": [
    "find_ufc_XB([2.56261423, 11.74626331,  1.00890865])\n",
    "x0 = np.asarray([2.56261423, 11.74626331,  1.00890865])\n",
    "res =  minimize(find_ufc_XB, x0, method='nelder-mead', options={'xtol': 1e-8, 'disp':True})\n",
    "print(res)"
   ]
  },
  {
   "cell_type": "code",
   "execution_count": null,
   "metadata": {},
   "outputs": [],
   "source": [
    "fig5, ax5 = plt.subplots(1)\n",
    "ax5.plot(INCIDENT_ENERGY_55, (total_pcs_XB)*1.0E20, label='thomson XB')\n",
    "ax5.plot(INCIDENT_ENERGY_SHE_55, SHEMANSKY_XB_55, label='she_xb')\n",
    "ax5.set_xscale('log')\n",
    "ax5.set_ylabel('cm$^2 (1e-16)$')\n",
    "ax5.set_xlabel('eV')\n",
    "ax5.legend()\n",
    "plt.show()"
   ]
  },
  {
   "cell_type": "markdown",
   "metadata": {},
   "source": [
    "# Comparing the totals for different f(x) for X,A,B"
   ]
  },
  {
   "cell_type": "code",
   "execution_count": null,
   "metadata": {},
   "outputs": [],
   "source": [
    "ITIKAWA_55 = []\n",
    "for i in ITIKAWA:\n",
    "    ITIKAWA_55.append(i)\n",
    "ITIKAWA_55.pop(0)\n",
    "ITIKAWA_55.pop(16)\n",
    "ITIKAWA_55.pop(16)\n",
    "\n",
    "fig6, ax6 = plt.subplots(1)\n",
    "ax6.plot(INCIDENT_ENERGY_55, (total_pcs_XX+total_pcs_XA+total_pcs_XB)*1.0E20, label='total')\n",
    "ax6.plot(INCIDENT_ENERGY_55, ITIKAWA_55, label='itikawa')\n",
    "ax6.plot(INCIDENT_ENERGY_SHE, SHEMANSKY_MODEL, label='she_model')\n",
    "ax6.set_xscale('log')\n",
    "ax6.set_ylabel('cm$^2 (1e-16)$')\n",
    "ax6.set_xlabel('eV')\n",
    "ax6.legend()\n",
    "plt.show()"
   ]
  },
  {
   "cell_type": "code",
   "execution_count": null,
   "metadata": {},
   "outputs": [],
   "source": []
  }
 ],
 "metadata": {
  "kernelspec": {
   "display_name": "Python 3",
   "language": "python",
   "name": "python3"
  },
  "language_info": {
   "codemirror_mode": {
    "name": "ipython",
    "version": 3
   },
   "file_extension": ".py",
   "mimetype": "text/x-python",
   "name": "python",
   "nbconvert_exporter": "python",
   "pygments_lexer": "ipython3",
   "version": "3.7.2"
  }
 },
 "nbformat": 4,
 "nbformat_minor": 2
}
