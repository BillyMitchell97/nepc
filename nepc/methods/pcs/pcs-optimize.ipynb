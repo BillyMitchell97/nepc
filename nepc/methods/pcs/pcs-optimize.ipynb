{
 "cells": [
  {
   "cell_type": "code",
   "execution_count": 1,
   "metadata": {},
   "outputs": [],
   "source": [
    "import numpy as np\n",
    "import pcs as pcs\n",
    "import matplotlib.pyplot as plt\n",
    "from scipy.optimize import minimize\n",
    "from scipy.optimize import least_squares\n",
    "from nepc import nepc\n",
    "from nepc.methods.mp import mp as mp\n",
    "from nepc.methods.thomson import thomson as thomson\n",
    "from nepc.util.constants import N2_DIATOMIC_CONSTANTS\n",
    "from nepc.util.constants import MU_NITROGEN_KG\n",
    "from nepc.util.constants import WAVENUMBER_PER_EV as WAVENUMBER_PER_EV\n",
    "from numpy import exp"
   ]
  },
  {
   "cell_type": "markdown",
   "metadata": {},
   "source": [
    "# Plot psi_v, v=10"
   ]
  },
  {
   "cell_type": "code",
   "execution_count": 5,
   "metadata": {},
   "outputs": [
    {
     "data": {
      "text/plain": [
       "dict_keys(['N2(X1Sigmag+)', 'N2(A3Sigmau+)', 'N2(B3Pig)', 'N2(W3Deltau)', 'N2(Bp3Sigmau-)', 'N2(ap1Sigmau-)', 'N2(a1Pig)', 'N2(w1Deltau)', 'N2(C3Piu)', 'N2+(X2Sigmag+)', 'N2+(A2Piu)', 'N2+(B2Sigmau+)', 'N2+(C2Sigmau+)'])"
      ]
     },
     "execution_count": 5,
     "metadata": {},
     "output_type": "execute_result"
    }
   ],
   "source": [
    "N2_DIATOMIC_CONSTANTS.keys()"
   ]
  },
  {
   "cell_type": "markdown",
   "metadata": {},
   "source": [
    "# Compute Overlap Matrix and Check for Identity"
   ]
  },
  {
   "cell_type": "code",
   "execution_count": 6,
   "metadata": {},
   "outputs": [],
   "source": [
    "overlap_X = thomson.fcf_v(vp_max=10, vpp_max=10,\n",
    "                          diatomic_constants_p=N2_DIATOMIC_CONSTANTS['N2(X1Sigmag+)'],\n",
    "                          diatomic_constants_pp=N2_DIATOMIC_CONSTANTS['N2(X1Sigmag+)'],\n",
    "                          reduced_mass=MU_NITROGEN_KG,\n",
    "                          k=17,\n",
    "                          delta_r=.5,\n",
    "                          dbug=False)"
   ]
  },
  {
   "cell_type": "code",
   "execution_count": 7,
   "metadata": {},
   "outputs": [
    {
     "data": {
      "text/plain": [
       "4.115206214252541e-07"
      ]
     },
     "execution_count": 7,
     "metadata": {},
     "output_type": "execute_result"
    }
   ],
   "source": [
    "thomson.rmse_diagonal_elements(np.asarray(overlap_X))"
   ]
  },
  {
   "cell_type": "code",
   "execution_count": 8,
   "metadata": {},
   "outputs": [
    {
     "name": "stdout",
     "output_type": "stream",
     "text": [
      "i: 1; rmse: 1.2434497875801753e-14\n",
      "i: 2; rmse: 5.844456963317449e-14\n",
      "i: 3; rmse: 8.705960933385516e-14\n",
      "i: 4; rmse: 1.3228087202133447e-13\n",
      "i: 5; rmse: 8.628411822787013e-12\n",
      "i: 6; rmse: 2.0702115185528743e-11\n",
      "i: 7; rmse: 7.328597843980401e-10\n",
      "i: 8; rmse: 2.784505527958912e-09\n",
      "i: 9; rmse: 4.102019172911683e-08\n",
      "i: 10; rmse: 2.1819391570116893e-07\n",
      "i: 11; rmse: 4.115206214252541e-07\n"
     ]
    }
   ],
   "source": [
    "thomson.incremental_rmse_diagonal_elements(np.asarray(overlap_X))"
   ]
  },
  {
   "cell_type": "code",
   "execution_count": 9,
   "metadata": {},
   "outputs": [
    {
     "data": {
      "text/plain": [
       "6.141937313299019e-09"
      ]
     },
     "execution_count": 9,
     "metadata": {},
     "output_type": "execute_result"
    }
   ],
   "source": [
    "thomson.rmse_off_diagonal_elements(np.asarray(overlap_X))"
   ]
  },
  {
   "cell_type": "code",
   "execution_count": 10,
   "metadata": {},
   "outputs": [
    {
     "name": "stdout",
     "output_type": "stream",
     "text": [
      "i: 2; rmse: 2.074522339725268e-25\n",
      "i: 3; rmse: 7.19577869861297e-24\n",
      "i: 4; rmse: 1.4098660106951825e-21\n",
      "i: 5; rmse: 5.293939028789621e-20\n",
      "i: 6; rmse: 1.3997629509065152e-17\n",
      "i: 7; rmse: 1.251273893768826e-15\n",
      "i: 8; rmse: 3.987297853306026e-15\n",
      "i: 9; rmse: 2.0832045321553765e-13\n",
      "i: 10; rmse: 5.172114071122606e-11\n",
      "i: 11; rmse: 6.141937313299019e-09\n"
     ]
    }
   ],
   "source": [
    "thomson.incremental_rmse_off_diagonal_elements(np.asarray(overlap_X))"
   ]
  },
  {
   "cell_type": "markdown",
   "metadata": {},
   "source": [
    "# Closure relationship for FCF\n",
    "If the FCF sum over vpp for a given vp are greater than 0.99, that's were we'll stop including cross sections"
   ]
  },
  {
   "cell_type": "code",
   "execution_count": 11,
   "metadata": {},
   "outputs": [],
   "source": [
    "p_list = ['N2(X1Sigmag+)']\n",
    "pp_list = ['N2+(X2Sigmag+)', 'N2+(A2Piu)', 'N2+(B2Sigmau+)']\n",
    "vp_list = [0]\n",
    "fcf = []\n",
    "\"\"\"fcf[pp][vp][vpp]\"\"\"\n",
    "for pp in pp_list:\n",
    "    for vp in vp_list:\n",
    "        fcf.append(thomson.fcf_v(vp_max=10, vpp_max=10,\n",
    "                          diatomic_constants_p=N2_DIATOMIC_CONSTANTS['N2(X1Sigmag+)'],\n",
    "                          diatomic_constants_pp=N2_DIATOMIC_CONSTANTS[pp],\n",
    "                          reduced_mass=MU_NITROGEN_KG,\n",
    "                          k=17,\n",
    "                          delta_r=.5,\n",
    "                          dbug=False))"
   ]
  },
  {
   "cell_type": "code",
   "execution_count": 93,
   "metadata": {},
   "outputs": [],
   "source": [
    "max_vpp = [1,5,1]"
   ]
  },
  {
   "cell_type": "markdown",
   "metadata": {},
   "source": [
    "# Total cross section data from literature"
   ]
  },
  {
   "cell_type": "code",
   "execution_count": 12,
   "metadata": {},
   "outputs": [],
   "source": [
    "INCIDENT_ENERGY = [16.0, 16.5, 17.0, 17.5, 18.0, 18.5, 19.0, 19.5, 20.0, 20.5, 21.0, 21.5, 22.0, 22.5, 23.0, 23.5, 24.0, 24.5, 25.0, 30.0, 35.0, 40.0, 45.0, 50.0, 55.0, 60.0, 65.0, 70.0, 75.0, 80.0, 85.0, 90.0, 95.0, 100.0, 110.0, 120.0, 140.0, 160.0, 180.0, 200.0, 225.0, 250.0, 275.0, 300.0, 350.0, 400.0, 450.0, 500.0, 550.0, 600.0, 650.0, 700.0, 750.0, 800.0, 850.0, 900.0, 950.0, 1000.0]\n",
    "ITIKAWA = np.asarray([0.0211, 0.0466, 0.0713, 0.0985, 0.129, 0.164, 0.199, 0.23, 0.27, 0.308, 0.344, 0.38, 0.418, 0.455, 0.492, 0.528, 0.565, 0.603, 0.64, 0.929, 1.16, 1.37, 1.52, 1.6, 1.66, 1.72, 1.74, 1.78, 1.8, 1.81, 1.82, 1.83, 1.85, 1.85, 1.83, 1.81, 1.78, 1.72, 1.67, 1.61, 1.55, 1.48, 1.41, 1.37, 1.28, 1.2, 1.11, 1.05, 0.998, 0.943, 0.88, 0.844, 0.796, 0.765, 0.738, 0.719, 0.698, 0.676])"
   ]
  },
  {
   "cell_type": "code",
   "execution_count": 69,
   "metadata": {},
   "outputs": [
    {
     "data": {
      "text/plain": [
       "100.0"
      ]
     },
     "execution_count": 69,
     "metadata": {},
     "output_type": "execute_result"
    }
   ],
   "source": [
    "INCIDENT_ENERGY[33]"
   ]
  },
  {
   "cell_type": "markdown",
   "metadata": {},
   "source": [
    "# Function to compute partial cross section data array"
   ]
  },
  {
   "cell_type": "markdown",
   "metadata": {},
   "source": [
    "## Made for p'=X1, p''=X2, A2, B2. Uses only one single f(x) fit"
   ]
  },
  {
   "cell_type": "code",
   "execution_count": 13,
   "metadata": {},
   "outputs": [],
   "source": [
    "def compute_pcs_array(a, b, c):\n",
    "    ee_pcs = []\n",
    "    for pp in np.arange(3):\n",
    "        for vp in np.arange(1):\n",
    "            for vpp in np.arange(max_vpp[pp]+1):\n",
    "                pcs_data = pcs.pcs(p_state=p_list[0], pp_state=pp_list[pp], \n",
    "                               vp=vp, vpp=vpp, fcf=fcf[pp][vp][vpp],\n",
    "                               a=a[pp+vpp], b=b, c=c)\n",
    "                sigmas = []\n",
    "                for i in range(len(pcs_data)):\n",
    "                    sigmas.append(pcs_data[i][1])\n",
    "                ee_pcs.append(sigmas)\n",
    "    return ee_pcs"
   ]
  },
  {
   "cell_type": "markdown",
   "metadata": {},
   "source": [
    "## Same as above, but returns the total cs of p'' state"
   ]
  },
  {
   "cell_type": "code",
   "execution_count": null,
   "metadata": {},
   "outputs": [],
   "source": [
    "def compute_totalcs(Coefficients):\n",
    "    N, B, C = Coefficients\n",
    "    pcs_XX = []\n",
    "    pcs_XA = []\n",
    "    pcs_XB = []\n",
    "    total_pcs = np.zeros(58)   \n",
    "    \n",
    "    for vpp in np.arange(2):\n",
    "        pcs_data = np.asarray(pcs.pcs(p_state='N2(X1Sigmag+)', pp_state='N2+(X2Sigmag+)', \n",
    "                            vp=0, vpp=vpp, fcf=fcf[0][0][vpp],\n",
    "                            a=N, b=B, c=C)) \n",
    "        sigma = []\n",
    "        for i in np.arange(58):\n",
    "            sigma.append(pcs_data[i][1])\n",
    "        pcs_XX.append(sigma)\n",
    "        \n",
    "    for vpp in np.arange(6):\n",
    "        pcs_data = np.asarray(pcs.pcs(p_state='N2(X1Sigmag+)', pp_state='N2+(A2Piu)', \n",
    "                            vp=0, vpp=vpp, fcf=fcf[1][0][vpp],\n",
    "                            a=N, b=B, c=C))\n",
    "        sigma = []\n",
    "        for i in np.arange(58):\n",
    "            sigma.append(pcs_data[i][1])\n",
    "        pcs_XA.append(sigma)\n",
    "        \n",
    "    for vpp in np.arange(2):\n",
    "        pcs_data = np.asarray(pcs.pcs(p_state='N2(X1Sigmag+)', pp_state='N2+(B2Sigmau+)', \n",
    "                            vp=0, vpp=vpp, fcf=fcf[2][0][vpp],\n",
    "                            a=N, b=B, c=C))\n",
    "        sigma = []\n",
    "        for i in np.arange(58):\n",
    "            sigma.append(pcs_data[i][1])\n",
    "        pcs_XB.append(sigma)\n",
    "\n",
    "    pcs_XX = np.asarray(pcs_XX)\n",
    "    for i in pcs_XX:\n",
    "        total_pcs += i\n",
    "    pcs_XA = np.asarray(pcs_XA)\n",
    "    for i in pcs_XA:\n",
    "        total_pcs += i\n",
    "    pcs_XB = np.asarray(pcs_XB)\n",
    "    for i in pcs_XB:\n",
    "        total_pcs += i\n",
    "    \n",
    "    return total_pcs, pcs_XX, pcs_XA, pcs_XB"
   ]
  },
  {
   "cell_type": "markdown",
   "metadata": {},
   "source": [
    "## Attempts to make individual f(x) fit for p''=X2, B2 and p''=A2"
   ]
  },
  {
   "cell_type": "code",
   "execution_count": 92,
   "metadata": {},
   "outputs": [],
   "source": [
    "def compute_totalcs_all(Coefficients):\n",
    "    N, B_sigma, C_sigma, B_pi, C_pi = Coefficients\n",
    "    pcs_XX = []\n",
    "    pcs_XA = []\n",
    "    pcs_XB = []\n",
    "    total_pcs = np.zeros(58)\n",
    "    \n",
    "    \n",
    "    for vpp in np.arange(2):\n",
    "        pcs_data = np.asarray(pcs.pcs(p_state='N2(X1Sigmag+)', pp_state='N2+(X2Sigmag+)', \n",
    "                            vp=0, vpp=vpp, fcf=fcf[0][0][vpp],\n",
    "                            a=N, b=B_sigma, c=C_sigma)) \n",
    "        sigma = []\n",
    "        for i in np.arange(58):\n",
    "            sigma.append(pcs_data[i][1])\n",
    "        pcs_XX.append(sigma)\n",
    "        \n",
    "    for vpp in np.arange(6):\n",
    "        pcs_data = np.asarray(pcs.pcs(p_state='N2(X1Sigmag+)', pp_state='N2+(A2Piu)', \n",
    "                            vp=0, vpp=vpp, fcf=fcf[1][0][vpp],\n",
    "                            a=N, b=B_pi, c=C_pi))\n",
    "        sigma = []\n",
    "        for i in np.arange(58):\n",
    "            sigma.append(pcs_data[i][1])\n",
    "        pcs_XA.append(sigma)\n",
    "        \n",
    "    for vpp in np.arange(2):\n",
    "        pcs_data = np.asarray(pcs.pcs(p_state='N2(X1Sigmag+)', pp_state='N2+(B2Sigmau+)', \n",
    "                            vp=0, vpp=vpp, fcf=fcf[2][0][vpp],\n",
    "                            a=N, b=B_sigma, c=C_sigma))\n",
    "        sigma = []\n",
    "        for i in np.arange(58):\n",
    "            sigma.append(pcs_data[i][1])\n",
    "        pcs_XB.append(sigma)\n",
    "\n",
    "    pcs_XX = np.asarray(pcs_XX)\n",
    "    for i in pcs_XX:\n",
    "        total_pcs += i\n",
    "    pcs_XA = np.asarray(pcs_XA)\n",
    "    for i in pcs_XA:\n",
    "        total_pcs += i\n",
    "    pcs_XB = np.asarray(pcs_XB)\n",
    "    for i in pcs_XB:\n",
    "        total_pcs += i\n",
    "    \n",
    "    return total_pcs"
   ]
  },
  {
   "cell_type": "markdown",
   "metadata": {},
   "source": [
    "# Initial guess for universal function parameters"
   ]
  },
  {
   "cell_type": "code",
   "execution_count": 14,
   "metadata": {},
   "outputs": [],
   "source": [
    "a=np.zeros(10)+2.5626 #2.6\n",
    "b=11.7463 #9.2\n",
    "c=1.0089 #2.4"
   ]
  },
  {
   "cell_type": "code",
   "execution_count": 17,
   "metadata": {},
   "outputs": [],
   "source": [
    "def find_ufc(Coefficients):\n",
    "    \"\"\"computes the SSR for the total cross section compared to Itikawa's. \n",
    "    Then using minimize to find the coefficients that produce the smallest SSR\"\"\"\n",
    "    N, B, C = Coefficients\n",
    "    ee_pcs = []\n",
    "    for pp in np.arange(3):\n",
    "        for vp in np.arange(1):\n",
    "            for vpp in np.arange(max_vpp[pp]+1):\n",
    "                pcs_data = pcs.pcs(p_state=p_list[0], pp_state=pp_list[pp], \n",
    "                               vp=vp, vpp=vpp, fcf=fcf[pp][vp][vpp],\n",
    "                               a=N, b=B, c=C)\n",
    "                sigmas = []\n",
    "                for i in range(len(pcs_data)):\n",
    "                    sigmas.append(pcs_data[i][1])\n",
    "                ee_pcs.append(sigmas)\n",
    "    ee_pcs = np.asarray(ee_pcs)\n",
    "    total_pcs = np.zeros(58)\n",
    "    for i in ee_pcs:\n",
    "        total_pcs += i\n",
    "    \n",
    "    diff_sq = (ITIKAWA - (total_pcs*1.0E20))**2\n",
    "    sum_diff = np.sum(diff_sq)\n",
    "    \n",
    "    return sum_diff"
   ]
  },
  {
   "cell_type": "code",
   "execution_count": null,
   "metadata": {},
   "outputs": [],
   "source": [
    "def find_ufc_total(Coefficients):\n",
    "    \"\"\"computes the SSR for the total cross section compared to Itikawa's. \n",
    "    Then using minimize to find the coefficients that produce the smallest SSR\"\"\"\n",
    "    N, B, C = Coefficients\n",
    "    \n",
    "    pcs_XX = []\n",
    "    pcs_XA = []\n",
    "    pcs_XB = []\n",
    "    total_pcs = np.zeros(58)\n",
    "    \n",
    "    \n",
    "    for vpp in np.arange(2):\n",
    "        pcs_data = np.asarray(pcs.pcs(p_state='N2(X1Sigmag+)', pp_state='N2+(X2Sigmag+)', \n",
    "                            vp=0, vpp=vpp, fcf=fcf[0][0][vpp],\n",
    "                            a=N, b=B, c=C)) \n",
    "        sigma = []\n",
    "        for i in np.arange(58):\n",
    "            sigma.append(pcs_data[i][1])\n",
    "        pcs_XX.append(sigma)\n",
    "        \n",
    "    for vpp in np.arange(6):\n",
    "        pcs_data = np.asarray(pcs.pcs(p_state='N2(X1Sigmag+)', pp_state='N2+(A2Piu)', \n",
    "                            vp=0, vpp=vpp, fcf=fcf[1][0][vpp],\n",
    "                            a=N, b=B, c=C))\n",
    "        sigma = []\n",
    "        for i in np.arange(58):\n",
    "            sigma.append(pcs_data[i][1])\n",
    "        pcs_XA.append(sigma)\n",
    "        \n",
    "    for vpp in np.arange(2):\n",
    "        pcs_data = np.asarray(pcs.pcs(p_state='N2(X1Sigmag+)', pp_state='N2+(B2Sigmau+)', \n",
    "                            vp=0, vpp=vpp, fcf=fcf[2][0][vpp],\n",
    "                            a=N, b=B, c=C))\n",
    "        sigma = []\n",
    "        for i in np.arange(58):\n",
    "            sigma.append(pcs_data[i][1])\n",
    "        pcs_XB.append(sigma)\n",
    "\n",
    "    pcs_XX = np.asarray(pcs_XX)\n",
    "    for i in pcs_XX:\n",
    "        total_pcs += i\n",
    "    pcs_XA = np.asarray(pcs_XA)\n",
    "    for i in pcs_XA:\n",
    "        total_pcs += i\n",
    "    pcs_XB = np.asarray(pcs_XB)\n",
    "    for i in pcs_XB:\n",
    "        total_pcs += i\n",
    "    \n",
    "    \n",
    "    diff_sq = (ITIKAWA - (total_pcs*1.0E20))**2\n",
    "    sum_diff = np.sum(diff_sq)\n",
    "    \n",
    "    return sum_diff"
   ]
  },
  {
   "cell_type": "code",
   "execution_count": 21,
   "metadata": {},
   "outputs": [],
   "source": [
    "def find_ufc_sigmapi(Coefficients):\n",
    "    \"\"\"computes the SSR for the total cross section compared to Itikawa's. \n",
    "    Then using minimize to find the coefficients that produce the smallest SSR\"\"\"\n",
    "    N, B_sigma, C_sigma, B_pi, C_pi = Coefficients\n",
    "    pcs_XX = []\n",
    "    pcs_XA = []\n",
    "    pcs_XB = []\n",
    "    total_pcs = np.zeros(58)\n",
    "    \n",
    "    \n",
    "    for vpp in np.arange(2):\n",
    "        pcs_data = np.asarray(pcs.pcs(p_state='N2(X1Sigmag+)', pp_state='N2+(X2Sigmag+)', \n",
    "                            vp=0, vpp=vpp, fcf=fcf[0][0][vpp],\n",
    "                            a=N, b=B_sigma, c=C_sigma)) \n",
    "        sigma = []\n",
    "        for i in np.arange(58):\n",
    "            sigma.append(pcs_data[i][1])\n",
    "        pcs_XX.append(sigma)\n",
    "        \n",
    "    for vpp in np.arange(6):\n",
    "        pcs_data = np.asarray(pcs.pcs(p_state='N2(X1Sigmag+)', pp_state='N2+(A2Piu)', \n",
    "                            vp=0, vpp=vpp, fcf=fcf[1][0][vpp],\n",
    "                            a=N, b=B_pi, c=C_pi))\n",
    "        sigma = []\n",
    "        for i in np.arange(58):\n",
    "            sigma.append(pcs_data[i][1])\n",
    "        pcs_XA.append(sigma)\n",
    "        \n",
    "    for vpp in np.arange(2):\n",
    "        pcs_data = np.asarray(pcs.pcs(p_state='N2(X1Sigmag+)', pp_state='N2+(B2Sigmau+)', \n",
    "                            vp=0, vpp=vpp, fcf=fcf[2][0][vpp],\n",
    "                            a=N, b=B_sigma, c=C_sigma))\n",
    "        sigma = []\n",
    "        for i in np.arange(58):\n",
    "            sigma.append(pcs_data[i][1])\n",
    "        pcs_XB.append(sigma)\n",
    "\n",
    "    pcs_XX = np.asarray(pcs_XX)\n",
    "    for i in pcs_XX:\n",
    "        total_pcs += i\n",
    "    pcs_XA = np.asarray(pcs_XA)\n",
    "    for i in pcs_XA:\n",
    "        total_pcs += i\n",
    "    pcs_XB = np.asarray(pcs_XB)\n",
    "    for i in pcs_XB:\n",
    "        total_pcs += i\n",
    "    \n",
    "    \n",
    "    diff_sq = (ITIKAWA - (total_pcs*1.0E20))**2\n",
    "    sum_diff = np.sum(diff_sq)\n",
    "    \n",
    "    return sum_diff"
   ]
  },
  {
   "cell_type": "code",
   "execution_count": 74,
   "metadata": {},
   "outputs": [
    {
     "name": "stdout",
     "output_type": "stream",
     "text": [
      "Optimization terminated successfully.\n",
      "         Current function value: 0.047834\n",
      "         Iterations: 162\n",
      "         Function evaluations: 296\n",
      " final_simplex: (array([[ 2.56261423, 11.74626338,  1.00890863],\n",
      "       [ 2.56261423, 11.74626338,  1.00890863],\n",
      "       [ 2.56261423, 11.74626338,  1.00890863],\n",
      "       [ 2.56261423, 11.74626339,  1.00890863]]), array([0.04783391, 0.04783391, 0.04783391, 0.04783391]))\n",
      "           fun: 0.04783390527319322\n",
      "       message: 'Optimization terminated successfully.'\n",
      "          nfev: 296\n",
      "           nit: 162\n",
      "        status: 0\n",
      "       success: True\n",
      "             x: array([ 2.56261423, 11.74626338,  1.00890863])\n"
     ]
    }
   ],
   "source": [
    "find_ufc([2.6, 9.0, 1.5])\n",
    "x0 = np.asarray([2.6, 9.0, 1.5])\n",
    "res =  minimize(find_ufc_total, x0, method='nelder-mead', options={'xtol': 1e-8, 'disp':True})\n",
    "print(res)"
   ]
  },
  {
   "cell_type": "code",
   "execution_count": 60,
   "metadata": {},
   "outputs": [
    {
     "name": "stdout",
     "output_type": "stream",
     "text": [
      "Optimization terminated successfully.\n",
      "         Current function value: 0.047834\n",
      "         Iterations: 162\n",
      "         Function evaluations: 296\n",
      " final_simplex: (array([[ 2.56261423, 11.74626338,  1.00890863],\n",
      "       [ 2.56261423, 11.74626338,  1.00890863],\n",
      "       [ 2.56261423, 11.74626338,  1.00890863],\n",
      "       [ 2.56261423, 11.74626339,  1.00890863]]), array([0.04783391, 0.04783391, 0.04783391, 0.04783391]))\n",
      "           fun: 0.04783390527319322\n",
      "       message: 'Optimization terminated successfully.'\n",
      "          nfev: 296\n",
      "           nit: 162\n",
      "        status: 0\n",
      "       success: True\n",
      "             x: array([ 2.56261423, 11.74626338,  1.00890863])\n"
     ]
    }
   ],
   "source": [
    "find_ufc_total([2.6, 9.0, 1.5])\n",
    "x0 = np.asarray([2.6, 9.0, 1.5])\n",
    "res =  minimize(find_ufc_total, x0, method='nelder-mead', options={'xtol': 1e-8, 'disp':True})\n",
    "print(res)"
   ]
  },
  {
   "cell_type": "markdown",
   "metadata": {},
   "source": [
    "# Computing the partial cross sections"
   ]
  },
  {
   "cell_type": "code",
   "execution_count": 94,
   "metadata": {},
   "outputs": [],
   "source": [
    "ee_pcs = np.asarray(compute_pcs_array(a, b, c))"
   ]
  },
  {
   "cell_type": "code",
   "execution_count": 73,
   "metadata": {},
   "outputs": [
    {
     "name": "stdout",
     "output_type": "stream",
     "text": [
      "XX: 54.913491427180624; XA: 92.0760356161788; XB: 37.694182058868584\n"
     ]
    }
   ],
   "source": [
    "all_pcs = compute_totalcs([2.56261423, 11.74626338,  1.00890863])\n",
    "total_pcs = all_pcs[0]\n",
    "pcsXX = all_pcs[1][0]+all_pcs[1][1]\n",
    "pcsXA = all_pcs[2][0]+all_pcs[2][1]+all_pcs[2][2]+all_pcs[2][3]+all_pcs[2][4]+all_pcs[2][5]\n",
    "pcsXB = all_pcs[3][0]+all_pcs[3][1]\n",
    "\n",
    "print('XX: {}; XA: {}; XB: {}'.format(pcsXX[33]*1.0E22, pcsXA[33]*1.0E22, pcsXB[33]*1.0E22))"
   ]
  },
  {
   "cell_type": "markdown",
   "metadata": {},
   "source": [
    "# Figures and Tables"
   ]
  },
  {
   "cell_type": "code",
   "execution_count": 68,
   "metadata": {},
   "outputs": [
    {
     "data": {
      "image/png": "[encoded data removed]",
      "text/plain": [
       "<Figure size 720x1440 with 1 Axes>"
      ]
     },
     "metadata": {
      "needs_background": "light"
     },
     "output_type": "display_data"
    }
   ],
   "source": [
    "fig1, ax1 = plt.subplots(1, figsize=(10,20))\n",
    "ax1.plot(INCIDENT_ENERGY, total_pcs*1.0E20, label='total')\n",
    "ax1.plot(INCIDENT_ENERGY, pcsXX*1.0E20, label='XX')\n",
    "ax1.plot(INCIDENT_ENERGY, pcsXA*1.0E20, label='XA')\n",
    "ax1.plot(INCIDENT_ENERGY, pcsXB*1.0E20, label='XB')\n",
    "ax1.plot(INCIDENT_ENERGY, ITIKAWA, label='itikawa')\n",
    "ax1.set_xscale('log')\n",
    "ax1.set_ylabel('cm$^2 (1e-16)$')\n",
    "ax1.set_xlabel('eV')\n",
    "ax1.legend()\n",
    "plt.show()"
   ]
  },
  {
   "cell_type": "markdown",
   "metadata": {},
   "source": []
  },
  {
   "cell_type": "markdown",
   "metadata": {},
   "source": [
    "# Comparisons and fits based on Shemansky Model\n",
    "### Each p' to p'' state gets its own universal function fit based on Shemansky's model"
   ]
  },
  {
   "cell_type": "code",
   "execution_count": 91,
   "metadata": {},
   "outputs": [],
   "source": [
    "import csv\n",
    "SHEMANSKY = []\n",
    "with open('shemansky.csv', newline='') as csvfile:\n",
    "    data = csv.reader(csvfile, delimiter=',', quoting=csv.QUOTE_NONNUMERIC)\n",
    "    for row in data:\n",
    "        SHEMANSKY.append(row)\n",
    "\n",
    "for i in np.arange(55, 67):\n",
    "    SHEMANSKY[i].insert(1, 0.0)        \n",
    "\n",
    "INCIDENT_ENERGY_SHE = []\n",
    "SHEMANSKY_OBS = []\n",
    "SHEMANSKY_MODEL = []\n",
    "SHEMANSKY_XX = []\n",
    "SHEMANSKY_XA =[]\n",
    "SHEMANSKY_XB = []\n",
    "\n",
    "for i in np.arange(67):\n",
    "    INCIDENT_ENERGY_SHE.append(SHEMANSKY[i][0])\n",
    "    SHEMANSKY_OBS.append(SHEMANSKY[i][1])\n",
    "    SHEMANSKY_MODEL.append(SHEMANSKY[i][2])\n",
    "    SHEMANSKY_XX.append(SHEMANSKY[i][3])\n",
    "    SHEMANSKY_XA.append(SHEMANSKY[i][4])\n",
    "    SHEMANSKY_XB.append(SHEMANSKY[i][5])\n",
    "INCIDENT_ENERGY_SHE = np.asarray(INCIDENT_ENERGY_SHE)\n",
    "SHEMANSKY_OBS = np.asarray(SHEMANSKY_OBS)/100\n",
    "SHEMANSKY_MODEL = np.asarray(SHEMANSKY_MODEL)/100\n",
    "SHEMANSKY_XX = np.asarray(SHEMANSKY_XX)/100\n",
    "SHEMANSKY_XA = np.asarray(SHEMANSKY_XA)/100\n",
    "SHEMANSKY_XB = np.asarray(SHEMANSKY_XB)/100"
   ]
  },
  {
   "cell_type": "markdown",
   "metadata": {},
   "source": [
    "## N2 X1Sigmag+ to N2+ X2Sigmag+"
   ]
  },
  {
   "cell_type": "code",
   "execution_count": 76,
   "metadata": {},
   "outputs": [],
   "source": [
    "def find_ufc_XX(Coefficients):\n",
    "    \"\"\"computes the SSR for the total cross section compared to Itikawa's. \n",
    "    Then using minimize to find the coefficients that produce the smallest SSR\"\"\"\n",
    "    N, B, C = Coefficients\n",
    "    ee_pcs = []\n",
    "    for pp in np.arange(1):\n",
    "        for vp in np.arange(1):\n",
    "            for vpp in np.arange(2):\n",
    "                pcs_data = pcs.pcs(p_state=p_list[0], pp_state=pp_list[pp], \n",
    "                               vp=vp, vpp=vpp, fcf=fcf[pp][vp][vpp],\n",
    "                               a=N, b=B, c=C)\n",
    "                sigmas = []\n",
    "                for i in range(len(pcs_data)):\n",
    "                    sigmas.append(pcs_data[i][1])\n",
    "                ee_pcs.append(sigmas)\n",
    "    \n",
    "    ee_pcs[0].pop(0)\n",
    "    ee_pcs[0].pop(16)\n",
    "    ee_pcs[0].pop(16)\n",
    "    ee_pcs[1].pop(0)\n",
    "    ee_pcs[1].pop(16)\n",
    "    ee_pcs[1].pop(16)\n",
    "    ee_pcs = np.asarray(ee_pcs)\n",
    "    total_pcs = np.zeros(55)\n",
    "    for i in ee_pcs:\n",
    "        total_pcs += i\n",
    "    \n",
    "    SHEMANSKY_XX_55 = []\n",
    "    INCIDENT_ENERGY_SHE_55 = []\n",
    "    for i in np.arange(55):\n",
    "        SHEMANSKY_XX_55.append(SHEMANSKY_XX[i])\n",
    "        INCIDENT_ENERGY_SHE_55.append(INCIDENT_ENERGY_SHE[i])\n",
    "    \n",
    "    SHEMANSKY_XX_55 = np.asarray(SHEMANSKY_XX_55)\n",
    "    \n",
    "    diff_sq = (SHEMANSKY_XX_55 - (total_pcs*1.0E20))**2\n",
    "    sum_diff = np.sum(diff_sq)\n",
    "    \n",
    "    return sum_diff"
   ]
  },
  {
   "cell_type": "code",
   "execution_count": 77,
   "metadata": {},
   "outputs": [
    {
     "data": {
      "text/plain": [
       "0.03812307702765247"
      ]
     },
     "execution_count": 77,
     "metadata": {},
     "output_type": "execute_result"
    }
   ],
   "source": [
    "ee_pcs_XX = []\n",
    "N, B, C = [4.48610974, 16.53230571,  0.67914942]\n",
    "for pp in np.arange(1):\n",
    "    for vp in np.arange(1):\n",
    "        for vpp in np.arange(2):\n",
    "            pcs_data = pcs.pcs(p_state=p_list[0], pp_state=pp_list[pp], \n",
    "                               vp=vp, vpp=vpp, fcf=fcf[pp][vp][vpp],\n",
    "                               a=N, b=B, c=C)\n",
    "            sigmas = []\n",
    "            for i in range(len(pcs_data)):\n",
    "                sigmas.append(pcs_data[i][1])\n",
    "            ee_pcs_XX.append(sigmas)\n",
    "            \n",
    "ee_pcs_XX[0].pop(0)\n",
    "ee_pcs_XX[0].pop(16)\n",
    "ee_pcs_XX[0].pop(16)\n",
    "ee_pcs_XX[1].pop(0)\n",
    "ee_pcs_XX[1].pop(16)\n",
    "ee_pcs_XX[1].pop(16)\n",
    "ee_pcs_XX = np.asarray(ee_pcs_XX)\n",
    "total_pcs_XX = np.zeros(55)\n",
    "for i in ee_pcs_XX:\n",
    "    total_pcs_XX += i\n",
    "\n",
    "SHEMANSKY_XX_55 = []\n",
    "INCIDENT_ENERGY_SHE_55 = []\n",
    "for i in np.arange(55):\n",
    "    SHEMANSKY_XX_55.append(SHEMANSKY_XX[i])\n",
    "    INCIDENT_ENERGY_SHE_55.append(INCIDENT_ENERGY_SHE[i])\n",
    "    \n",
    "SHEMANSKY_XX_55 = np.asarray(SHEMANSKY_XX_55)\n",
    "\n",
    "INCIDENT_ENERGY_55 = []\n",
    "for i in INCIDENT_ENERGY:\n",
    "    INCIDENT_ENERGY_55.append(i)\n",
    "INCIDENT_ENERGY_55.pop(0)\n",
    "INCIDENT_ENERGY_55.pop(16)\n",
    "INCIDENT_ENERGY_55.pop(16)\n",
    "\n",
    "diff_sq = (SHEMANSKY_XX_55 - (total_pcs_XX*1.0E20))**2\n",
    "np.sum(diff_sq)"
   ]
  },
  {
   "cell_type": "code",
   "execution_count": 80,
   "metadata": {},
   "outputs": [
    {
     "name": "stdout",
     "output_type": "stream",
     "text": [
      "Optimization terminated successfully.\n",
      "         Current function value: 0.038123\n",
      "         Iterations: 124\n",
      "         Function evaluations: 242\n",
      " final_simplex: (array([[ 4.48610974, 16.53230571,  0.67914942],\n",
      "       [ 4.48610974, 16.53230571,  0.67914942],\n",
      "       [ 4.48610974, 16.53230572,  0.67914942],\n",
      "       [ 4.48610974, 16.53230572,  0.67914942]]), array([0.03812308, 0.03812308, 0.03812308, 0.03812308]))\n",
      "           fun: 0.03812307702765245\n",
      "       message: 'Optimization terminated successfully.'\n",
      "          nfev: 242\n",
      "           nit: 124\n",
      "        status: 0\n",
      "       success: True\n",
      "             x: array([ 4.48610974, 16.53230571,  0.67914942])\n"
     ]
    }
   ],
   "source": [
    "find_ufc_XX([2.56261423, 11.74626331,  1.00890865])\n",
    "x0 = np.asarray([2.56261423, 11.74626331,  1.00890865])\n",
    "res =  minimize(find_ufc_XX, x0, method='nelder-mead', options={'xtol': 1e-8, 'disp':True})\n",
    "print(res)"
   ]
  },
  {
   "cell_type": "code",
   "execution_count": 81,
   "metadata": {},
   "outputs": [
    {
     "data": {
      "image/png": "[encoded data removed]",
      "text/plain": [
       "<Figure size 432x288 with 1 Axes>"
      ]
     },
     "metadata": {
      "needs_background": "light"
     },
     "output_type": "display_data"
    }
   ],
   "source": [
    "fig3, ax3 = plt.subplots(1)\n",
    "ax3.plot(INCIDENT_ENERGY_55, (total_pcs_XX)*1.0E20, label='thomson XX')\n",
    "ax3.plot(INCIDENT_ENERGY_SHE_55, SHEMANSKY_XX_55, label='she_xx')\n",
    "ax3.set_xscale('log')\n",
    "ax3.set_ylabel('cm$^2 (1e-16)$')\n",
    "ax3.set_xlabel('eV')\n",
    "ax3.legend()\n",
    "plt.show()"
   ]
  },
  {
   "cell_type": "markdown",
   "metadata": {},
   "source": [
    "## N2 X1Sigmag+ to N2+ A2Piu"
   ]
  },
  {
   "cell_type": "code",
   "execution_count": 82,
   "metadata": {},
   "outputs": [],
   "source": [
    "def find_ufc_XA(Coefficients):\n",
    "    \"\"\"computes the SSR for the total cross section compared to Itikawa's. \n",
    "    Then using minimize to find the coefficients that produce the smallest SSR\"\"\"\n",
    "    N, B, C = Coefficients\n",
    "    ee_pcs = []\n",
    "    for pp in np.arange(1,2):\n",
    "        for vp in np.arange(1):\n",
    "            for vpp in np.arange(6):\n",
    "                pcs_data = pcs.pcs(p_state=p_list[0], pp_state=pp_list[pp], \n",
    "                               vp=vp, vpp=vpp, fcf=fcf[pp][vp][vpp],\n",
    "                               a=N, b=B, c=C)\n",
    "                sigmas = []\n",
    "                for i in range(len(pcs_data)):\n",
    "                    sigmas.append(pcs_data[i][1])\n",
    "                ee_pcs.append(sigmas)\n",
    "    for i in np.arange(6):\n",
    "        ee_pcs[i].pop(0)\n",
    "        ee_pcs[i].pop(16)\n",
    "        ee_pcs[i].pop(16)\n",
    "        ee_pcs = np.asarray(ee_pcs)\n",
    "    total_pcs = np.zeros(55)\n",
    "    for i in ee_pcs:\n",
    "        total_pcs += i\n",
    "    \n",
    "    SHEMANSKY_XA_55 = []\n",
    "    INCIDENT_ENERGY_SHE_55 = []\n",
    "    for i in np.arange(55):\n",
    "        SHEMANSKY_XA_55.append(SHEMANSKY_XA[i])\n",
    "        INCIDENT_ENERGY_SHE_55.append(INCIDENT_ENERGY_SHE[i])\n",
    "    \n",
    "    SHEMANSKY_XA_55 = np.asarray(SHEMANSKY_XA_55)\n",
    "    \n",
    "    diff_sq = (SHEMANSKY_XA_55 - (total_pcs*1.0E20))**2\n",
    "    sum_diff = np.sum(diff_sq)\n",
    "    \n",
    "    return sum_diff"
   ]
  },
  {
   "cell_type": "code",
   "execution_count": 83,
   "metadata": {},
   "outputs": [
    {
     "data": {
      "text/plain": [
       "0.015625901484710825"
      ]
     },
     "execution_count": 83,
     "metadata": {},
     "output_type": "execute_result"
    }
   ],
   "source": [
    "ee_pcs_XA = []\n",
    "N, B, C = [1.91631027, 4.19096724, 4.19096734]\n",
    "for pp in np.arange(1,2):\n",
    "    for vp in np.arange(1):\n",
    "        for vpp in np.arange(6):\n",
    "            pcs_data = pcs.pcs(p_state=p_list[0], pp_state=pp_list[pp], \n",
    "                               vp=vp, vpp=vpp, fcf=fcf[pp][vp][vpp],\n",
    "                               a=N, b=B, c=C)\n",
    "            sigmas = []\n",
    "            for i in range(len(pcs_data)):\n",
    "                sigmas.append(pcs_data[i][1])\n",
    "            ee_pcs_XA.append(sigmas)\n",
    "\n",
    "for i in np.arange(6):\n",
    "    ee_pcs_XA[i].pop(0)\n",
    "    ee_pcs_XA[i].pop(16)\n",
    "    ee_pcs_XA[i].pop(16)\n",
    "\n",
    "ee_pcs_XA = np.asarray(ee_pcs_XA)\n",
    "total_pcs_XA = np.zeros(55)\n",
    "for i in ee_pcs_XA:\n",
    "    total_pcs_XA += i\n",
    "\n",
    "SHEMANSKY_XA_55 = []\n",
    "INCIDENT_ENERGY_SHE_55 = []\n",
    "for i in np.arange(55):\n",
    "    SHEMANSKY_XA_55.append(SHEMANSKY_XA[i])\n",
    "    INCIDENT_ENERGY_SHE_55.append(INCIDENT_ENERGY_SHE[i])\n",
    "    \n",
    "SHEMANSKY_XA_55 = np.asarray(SHEMANSKY_XA_55)\n",
    "\n",
    "INCIDENT_ENERGY_55 = []\n",
    "for i in INCIDENT_ENERGY:\n",
    "    INCIDENT_ENERGY_55.append(i)\n",
    "INCIDENT_ENERGY_55.pop(0)\n",
    "INCIDENT_ENERGY_55.pop(16)\n",
    "INCIDENT_ENERGY_55.pop(16)\n",
    "\n",
    "diff_sq = (SHEMANSKY_XA_55 - (total_pcs_XA*1.0E20))**2\n",
    "np.sum(diff_sq)"
   ]
  },
  {
   "cell_type": "code",
   "execution_count": 84,
   "metadata": {},
   "outputs": [
    {
     "name": "stdout",
     "output_type": "stream",
     "text": [
      "Optimization terminated successfully.\n",
      "         Current function value: 0.015626\n",
      "         Iterations: 183\n",
      "         Function evaluations: 340\n",
      " final_simplex: (array([[1.91631027, 4.19096724, 4.19096734],\n",
      "       [1.91631027, 4.19096725, 4.19096733],\n",
      "       [1.91631027, 4.19096723, 4.19096735],\n",
      "       [1.91631027, 4.19096724, 4.19096734]]), array([0.0156259, 0.0156259, 0.0156259, 0.0156259]))\n",
      "           fun: 0.015625901484710793\n",
      "       message: 'Optimization terminated successfully.'\n",
      "          nfev: 340\n",
      "           nit: 183\n",
      "        status: 0\n",
      "       success: True\n",
      "             x: array([1.91631027, 4.19096724, 4.19096734])\n"
     ]
    }
   ],
   "source": [
    "find_ufc_XA([2.56261423, 11.74626331,  1.00890865])\n",
    "x0 = np.asarray([2.56261423, 11.74626331,  1.00890865])\n",
    "res =  minimize(find_ufc_XA, x0, method='nelder-mead', options={'xtol': 1e-8, 'disp':True})\n",
    "print(res)"
   ]
  },
  {
   "cell_type": "code",
   "execution_count": 85,
   "metadata": {},
   "outputs": [
    {
     "data": {
      "image/png": "[encoded data removed]",
      "text/plain": [
       "<Figure size 432x288 with 1 Axes>"
      ]
     },
     "metadata": {
      "needs_background": "light"
     },
     "output_type": "display_data"
    }
   ],
   "source": [
    "fig4, ax4 = plt.subplots(1)\n",
    "ax4.plot(INCIDENT_ENERGY_55, (total_pcs_XA)*1.0E20, label='thomson XA')\n",
    "ax4.plot(INCIDENT_ENERGY_SHE_55, SHEMANSKY_XA_55, label='she_xa')\n",
    "ax4.set_xscale('log')\n",
    "ax4.set_ylabel('cm$^2 (1e-16)$')\n",
    "ax4.set_xlabel('eV')\n",
    "ax4.legend()\n",
    "plt.show()"
   ]
  },
  {
   "cell_type": "markdown",
   "metadata": {},
   "source": [
    "## N2 X1Sigmag+ to N2+ B2Sigmau+"
   ]
  },
  {
   "cell_type": "code",
   "execution_count": 86,
   "metadata": {},
   "outputs": [],
   "source": [
    "def find_ufc_XB(Coefficients):\n",
    "    \"\"\"computes the SSR for the total cross section compared to Itikawa's. \n",
    "    Then using minimize to find the coefficients that produce the smallest SSR\"\"\"\n",
    "    N, B, C = Coefficients\n",
    "    ee_pcs = []\n",
    "    for pp in np.arange(2,3):\n",
    "        for vp in np.arange(1):\n",
    "            for vpp in np.arange(2):\n",
    "                pcs_data = pcs.pcs(p_state=p_list[0], pp_state=pp_list[pp], \n",
    "                               vp=vp, vpp=vpp, fcf=fcf[pp][vp][vpp],\n",
    "                               a=N, b=B, c=C)\n",
    "                sigmas = []\n",
    "                for i in range(len(pcs_data)):\n",
    "                    sigmas.append(pcs_data[i][1])\n",
    "                ee_pcs.append(sigmas)\n",
    "    for i in np.arange(2):\n",
    "        ee_pcs[i].pop(0)\n",
    "        ee_pcs[i].pop(16)\n",
    "        ee_pcs[i].pop(16)\n",
    "        ee_pcs = np.asarray(ee_pcs)\n",
    "    total_pcs = np.zeros(55)\n",
    "    for i in ee_pcs:\n",
    "        total_pcs += i\n",
    "    \n",
    "    SHEMANSKY_XB_55 = []\n",
    "    INCIDENT_ENERGY_SHE_55 = []\n",
    "    for i in np.arange(55):\n",
    "        SHEMANSKY_XB_55.append(SHEMANSKY_XB[i])\n",
    "        INCIDENT_ENERGY_SHE_55.append(INCIDENT_ENERGY_SHE[i])\n",
    "    \n",
    "    SHEMANSKY_XB_55 = np.asarray(SHEMANSKY_XB_55)\n",
    "    \n",
    "    diff_sq = (SHEMANSKY_XB_55 - (total_pcs*1.0E20))**2\n",
    "    sum_diff = np.sum(diff_sq)\n",
    "    \n",
    "    return sum_diff"
   ]
  },
  {
   "cell_type": "code",
   "execution_count": 87,
   "metadata": {},
   "outputs": [
    {
     "data": {
      "text/plain": [
       "0.0016218340015292656"
      ]
     },
     "execution_count": 87,
     "metadata": {},
     "output_type": "execute_result"
    }
   ],
   "source": [
    "ee_pcs_XB = []\n",
    "N, B, C = [1.36055036, 8.63427827, 1.27025972]\n",
    "for pp in np.arange(2,3):\n",
    "    for vp in np.arange(1):\n",
    "        for vpp in np.arange(2):\n",
    "            pcs_data = pcs.pcs(p_state=p_list[0], pp_state=pp_list[pp], \n",
    "                               vp=vp, vpp=vpp, fcf=fcf[pp][vp][vpp],\n",
    "                               a=N, b=B, c=C)\n",
    "            sigmas = []\n",
    "            for i in range(len(pcs_data)):\n",
    "                sigmas.append(pcs_data[i][1])\n",
    "            ee_pcs_XB.append(sigmas)\n",
    "\n",
    "for i in np.arange(2):\n",
    "    ee_pcs_XB[i].pop(0)\n",
    "    ee_pcs_XB[i].pop(16)\n",
    "    ee_pcs_XB[i].pop(16)\n",
    "\n",
    "ee_pcs_XB = np.asarray(ee_pcs_XB)\n",
    "total_pcs_XB = np.zeros(55)\n",
    "for i in ee_pcs_XB:\n",
    "    total_pcs_XB += i\n",
    "\n",
    "SHEMANSKY_XB_55 = []\n",
    "INCIDENT_ENERGY_SHE_55 = []\n",
    "for i in np.arange(55):\n",
    "    SHEMANSKY_XB_55.append(SHEMANSKY_XB[i])\n",
    "    INCIDENT_ENERGY_SHE_55.append(INCIDENT_ENERGY_SHE[i])\n",
    "    \n",
    "SHEMANSKY_XB_55 = np.asarray(SHEMANSKY_XB_55)\n",
    "\n",
    "INCIDENT_ENERGY_55 = []\n",
    "for i in INCIDENT_ENERGY:\n",
    "    INCIDENT_ENERGY_55.append(i)\n",
    "INCIDENT_ENERGY_55.pop(0)\n",
    "INCIDENT_ENERGY_55.pop(16)\n",
    "INCIDENT_ENERGY_55.pop(16)\n",
    "\n",
    "diff_sq = (SHEMANSKY_XB_55 - (total_pcs_XB*1.0E20))**2\n",
    "np.sum(diff_sq)"
   ]
  },
  {
   "cell_type": "code",
   "execution_count": 88,
   "metadata": {},
   "outputs": [
    {
     "name": "stdout",
     "output_type": "stream",
     "text": [
      "Optimization terminated successfully.\n",
      "         Current function value: 0.001622\n",
      "         Iterations: 139\n",
      "         Function evaluations: 275\n",
      " final_simplex: (array([[1.36055036, 8.63427827, 1.27025972],\n",
      "       [1.36055036, 8.63427826, 1.27025973],\n",
      "       [1.36055036, 8.63427826, 1.27025972],\n",
      "       [1.36055036, 8.63427826, 1.27025973]]), array([0.00162183, 0.00162183, 0.00162183, 0.00162183]))\n",
      "           fun: 0.0016218340015292597\n",
      "       message: 'Optimization terminated successfully.'\n",
      "          nfev: 275\n",
      "           nit: 139\n",
      "        status: 0\n",
      "       success: True\n",
      "             x: array([1.36055036, 8.63427827, 1.27025972])\n"
     ]
    }
   ],
   "source": [
    "find_ufc_XB([2.56261423, 11.74626331,  1.00890865])\n",
    "x0 = np.asarray([2.56261423, 11.74626331,  1.00890865])\n",
    "res =  minimize(find_ufc_XB, x0, method='nelder-mead', options={'xtol': 1e-8, 'disp':True})\n",
    "print(res)"
   ]
  },
  {
   "cell_type": "code",
   "execution_count": 89,
   "metadata": {},
   "outputs": [
    {
     "data": {
      "image/png": "[encoded data removed]",
      "text/plain": [
       "<Figure size 432x288 with 1 Axes>"
      ]
     },
     "metadata": {
      "needs_background": "light"
     },
     "output_type": "display_data"
    }
   ],
   "source": [
    "fig5, ax5 = plt.subplots(1)\n",
    "ax5.plot(INCIDENT_ENERGY_55, (total_pcs_XB)*1.0E20, label='thomson XB')\n",
    "ax5.plot(INCIDENT_ENERGY_SHE_55, SHEMANSKY_XB_55, label='she_xb')\n",
    "ax5.set_xscale('log')\n",
    "ax5.set_ylabel('cm$^2 (1e-16)$')\n",
    "ax5.set_xlabel('eV')\n",
    "ax5.legend()\n",
    "plt.show()"
   ]
  },
  {
   "cell_type": "markdown",
   "metadata": {},
   "source": [
    "# Comparing the totals for different f(x) for X,A,B"
   ]
  },
  {
   "cell_type": "code",
   "execution_count": 90,
   "metadata": {},
   "outputs": [
    {
     "data": {
      "image/png": "[encoded data removed]",
      "text/plain": [
       "<Figure size 432x288 with 1 Axes>"
      ]
     },
     "metadata": {
      "needs_background": "light"
     },
     "output_type": "display_data"
    }
   ],
   "source": [
    "ITIKAWA_55 = []\n",
    "for i in ITIKAWA:\n",
    "    ITIKAWA_55.append(i)\n",
    "ITIKAWA_55.pop(0)\n",
    "ITIKAWA_55.pop(16)\n",
    "ITIKAWA_55.pop(16)\n",
    "\n",
    "fig6, ax6 = plt.subplots(1)\n",
    "ax6.plot(INCIDENT_ENERGY_55, (total_pcs_XX+total_pcs_XA+total_pcs_XB)*1.0E20, label='total')\n",
    "ax6.plot(INCIDENT_ENERGY_55, ITIKAWA_55, label='itikawa')\n",
    "ax6.plot(INCIDENT_ENERGY_SHE, SHEMANSKY_MODEL, label='she_model')\n",
    "ax6.set_xscale('log')\n",
    "ax6.set_ylabel('cm$^2 (1e-16)$')\n",
    "ax6.set_xlabel('eV')\n",
    "ax6.legend()\n",
    "plt.show()"
   ]
  },
  {
   "cell_type": "code",
   "execution_count": null,
   "metadata": {},
   "outputs": [],
   "source": []
  }
 ],
 "metadata": {
  "kernelspec": {
   "display_name": "Python 3",
   "language": "python",
   "name": "python3"
  },
  "language_info": {
   "codemirror_mode": {
    "name": "ipython",
    "version": 3
   },
   "file_extension": ".py",
   "mimetype": "text/x-python",
   "name": "python",
   "nbconvert_exporter": "python",
   "pygments_lexer": "ipython3",
   "version": "3.7.2"
  }
 },
 "nbformat": 4,
 "nbformat_minor": 2
}
