{
 "cells": [
  {
   "cell_type": "code",
   "execution_count": 139,
   "metadata": {},
   "outputs": [],
   "source": [
    "import numpy as np\n",
    "import pcs as pcs\n",
    "import matplotlib.pyplot as plt\n",
    "from scipy.optimize import minimize\n",
    "from scipy.optimize import least_squares\n",
    "from nepc import nepc\n",
    "from nepc.methods.mp import mp as mp\n",
    "from nepc.methods.thomson import thomson as thomson\n",
    "from nepc.util.constants import N2_DIATOMIC_CONSTANTS\n",
    "from nepc.util.constants import MU_NITROGEN_KG\n",
    "from nepc.util.constants import WAVENUMBER_PER_EV as WAVENUMBER_PER_EV\n",
    "from numpy import exp"
   ]
  },
  {
   "cell_type": "markdown",
   "metadata": {},
   "source": [
    "# Plot psi_v, v=10"
   ]
  },
  {
   "cell_type": "code",
   "execution_count": 2,
   "metadata": {},
   "outputs": [
    {
     "data": {
      "text/plain": [
       "dict_keys(['N2(X1Sigmag+)', 'N2(A3Sigmau+)', 'N2(B3Pig)', 'N2(W3Deltau)', 'N2(Bp3Sigmau-)', 'N2(ap1Sigmau-)', 'N2(a1Pig)', 'N2(w1Deltau)', 'N2(C3Piu)', 'N2+(X2Sigmag+)', 'N2+(A2Piu)', 'N2+(B2Sigmau+)', 'N2+(C2Sigmau+)'])"
      ]
     },
     "execution_count": 2,
     "metadata": {},
     "output_type": "execute_result"
    }
   ],
   "source": [
    "N2_DIATOMIC_CONSTANTS.keys()"
   ]
  },
  {
   "cell_type": "markdown",
   "metadata": {},
   "source": [
    "# Compute Overlap Matrix and Check for Identity"
   ]
  },
  {
   "cell_type": "code",
   "execution_count": 3,
   "metadata": {},
   "outputs": [],
   "source": [
    "overlap_X = thomson.fcf_v(vp_max=10, vpp_max=10,\n",
    "                          diatomic_constants_p=N2_DIATOMIC_CONSTANTS['N2(X1Sigmag+)'],\n",
    "                          diatomic_constants_pp=N2_DIATOMIC_CONSTANTS['N2(X1Sigmag+)'],\n",
    "                          reduced_mass=MU_NITROGEN_KG,\n",
    "                          k=17,\n",
    "                          delta_r=.5,\n",
    "                          dbug=False)"
   ]
  },
  {
   "cell_type": "code",
   "execution_count": 4,
   "metadata": {},
   "outputs": [
    {
     "data": {
      "text/plain": [
       "4.115206214252541e-07"
      ]
     },
     "execution_count": 4,
     "metadata": {},
     "output_type": "execute_result"
    }
   ],
   "source": [
    "thomson.rmse_diagonal_elements(np.asarray(overlap_X))"
   ]
  },
  {
   "cell_type": "code",
   "execution_count": 5,
   "metadata": {},
   "outputs": [
    {
     "name": "stdout",
     "output_type": "stream",
     "text": [
      "i: 1; rmse: 1.2434497875801753e-14\n",
      "i: 2; rmse: 5.844456963317449e-14\n",
      "i: 3; rmse: 8.705960933385516e-14\n",
      "i: 4; rmse: 1.3228087202133447e-13\n",
      "i: 5; rmse: 8.628411822787013e-12\n",
      "i: 6; rmse: 2.0702115185528743e-11\n",
      "i: 7; rmse: 7.328597843980401e-10\n",
      "i: 8; rmse: 2.784505527958912e-09\n",
      "i: 9; rmse: 4.102019172911683e-08\n",
      "i: 10; rmse: 2.1819391570116893e-07\n",
      "i: 11; rmse: 4.115206214252541e-07\n"
     ]
    }
   ],
   "source": [
    "thomson.incremental_rmse_diagonal_elements(np.asarray(overlap_X))"
   ]
  },
  {
   "cell_type": "code",
   "execution_count": 6,
   "metadata": {},
   "outputs": [
    {
     "data": {
      "text/plain": [
       "6.141937313299019e-09"
      ]
     },
     "execution_count": 6,
     "metadata": {},
     "output_type": "execute_result"
    }
   ],
   "source": [
    "thomson.rmse_off_diagonal_elements(np.asarray(overlap_X))"
   ]
  },
  {
   "cell_type": "code",
   "execution_count": 7,
   "metadata": {},
   "outputs": [
    {
     "name": "stdout",
     "output_type": "stream",
     "text": [
      "i: 2; rmse: 2.074522339725268e-25\n",
      "i: 3; rmse: 7.19577869861297e-24\n",
      "i: 4; rmse: 1.4098660106951825e-21\n",
      "i: 5; rmse: 5.293939028789621e-20\n",
      "i: 6; rmse: 1.3997629509065152e-17\n",
      "i: 7; rmse: 1.251273893768826e-15\n",
      "i: 8; rmse: 3.987297853306026e-15\n",
      "i: 9; rmse: 2.0832045321553765e-13\n",
      "i: 10; rmse: 5.172114071122606e-11\n",
      "i: 11; rmse: 6.141937313299019e-09\n"
     ]
    }
   ],
   "source": [
    "thomson.incremental_rmse_off_diagonal_elements(np.asarray(overlap_X))"
   ]
  },
  {
   "cell_type": "markdown",
   "metadata": {},
   "source": [
    "# Closure relationship for FCF\n",
    "If the FCF sum over vpp for a given vp are greater than 0.99, that's were we'll stop including cross sections"
   ]
  },
  {
   "cell_type": "code",
   "execution_count": 17,
   "metadata": {},
   "outputs": [],
   "source": [
    "p_list = ['N2(X1Sigmag+)']\n",
    "pp_list = ['N2+(X2Sigmag+)', 'N2+(A2Piu)', 'N2+(B2Sigmau+)']\n",
    "vp_list = [0]\n",
    "fcf = []\n",
    "for pp in pp_list:\n",
    "    for vp in vp_list:\n",
    "        fcf.append(thomson.fcf_v(vp_max=10, vpp_max=10,\n",
    "                          diatomic_constants_p=N2_DIATOMIC_CONSTANTS['N2(X1Sigmag+)'],\n",
    "                          diatomic_constants_pp=N2_DIATOMIC_CONSTANTS[pp],\n",
    "                          reduced_mass=MU_NITROGEN_KG,\n",
    "                          k=17,\n",
    "                          delta_r=.5,\n",
    "                          dbug=False))"
   ]
  },
  {
   "cell_type": "code",
   "execution_count": 21,
   "metadata": {},
   "outputs": [
    {
     "data": {
      "text/plain": [
       "0.0860346223473763"
      ]
     },
     "execution_count": 21,
     "metadata": {},
     "output_type": "execute_result"
    }
   ],
   "source": [
    "fcf[0][0][1]"
   ]
  },
  {
   "cell_type": "markdown",
   "metadata": {},
   "source": [
    "# Total cross section data from literature"
   ]
  },
  {
   "cell_type": "code",
   "execution_count": 9,
   "metadata": {},
   "outputs": [],
   "source": [
    "INCIDENT_ENERGY = [16.0, 16.5, 17.0, 17.5, 18.0, 18.5, 19.0, 19.5, 20.0, 20.5, 21.0, 21.5, 22.0, 22.5, 23.0, 23.5, 24.0, 24.5, 25.0, 30.0, 35.0, 40.0, 45.0, 50.0, 55.0, 60.0, 65.0, 70.0, 75.0, 80.0, 85.0, 90.0, 95.0, 100.0, 110.0, 120.0, 140.0, 160.0, 180.0, 200.0, 225.0, 250.0, 275.0, 300.0, 350.0, 400.0, 450.0, 500.0, 550.0, 600.0, 650.0, 700.0, 750.0, 800.0, 850.0, 900.0, 950.0, 1000.0]\n",
    "ITIKAWA = np.asarray([0.0211, 0.0466, 0.0713, 0.0985, 0.129, 0.164, 0.199, 0.23, 0.27, 0.308, 0.344, 0.38, 0.418, 0.455, 0.492, 0.528, 0.565, 0.603, 0.64, 0.929, 1.16, 1.37, 1.52, 1.6, 1.66, 1.72, 1.74, 1.78, 1.8, 1.81, 1.82, 1.83, 1.85, 1.85, 1.83, 1.81, 1.78, 1.72, 1.67, 1.61, 1.55, 1.48, 1.41, 1.37, 1.28, 1.2, 1.11, 1.05, 0.998, 0.943, 0.88, 0.844, 0.796, 0.765, 0.738, 0.719, 0.698, 0.676])"
   ]
  },
  {
   "cell_type": "markdown",
   "metadata": {},
   "source": [
    "# Function to compute partial cross section data array"
   ]
  },
  {
   "cell_type": "code",
   "execution_count": 22,
   "metadata": {},
   "outputs": [],
   "source": [
    "def compute_pcs_array(a, b, c):\n",
    "    ee_pcs = []\n",
    "    for pp in np.arange(3):\n",
    "        for vp in np.arange(1):\n",
    "            for vpp in np.arange(max_vpp[pp]+1):\n",
    "                pcs_data = pcs.pcs(p_state=p_list[0], pp_state=pp_list[pp], \n",
    "                               vp=vp, vpp=vpp, fcf=fcf[pp][vp][vpp],\n",
    "                               a=a[pp+vpp], b=b, c=c)\n",
    "                sigmas = []\n",
    "                for i in range(len(pcs_data)):\n",
    "                    sigmas.append(pcs_data[i][1])\n",
    "                ee_pcs.append(sigmas)\n",
    "    return ee_pcs"
   ]
  },
  {
   "cell_type": "markdown",
   "metadata": {},
   "source": [
    "# Initial guess for universal function parameters"
   ]
  },
  {
   "cell_type": "code",
   "execution_count": 157,
   "metadata": {},
   "outputs": [],
   "source": [
    "a=np.zeros(10)+2.376 #2.6\n",
    "b=9.096 #9.2\n",
    "c=1.526 #2.4"
   ]
  },
  {
   "cell_type": "code",
   "execution_count": 158,
   "metadata": {},
   "outputs": [],
   "source": [
    "max_vpp = [1,5,1]"
   ]
  },
  {
   "cell_type": "code",
   "execution_count": 159,
   "metadata": {},
   "outputs": [],
   "source": [
    "ee_pcs = np.asarray(compute_pcs_array(a, b, c))"
   ]
  },
  {
   "cell_type": "code",
   "execution_count": 150,
   "metadata": {},
   "outputs": [],
   "source": [
    "def find_ufc(Coefficients):\n",
    "    N, B, C = Coefficients\n",
    "    ee_pcs = []\n",
    "    for pp in np.arange(3):\n",
    "        for vp in np.arange(1):\n",
    "            for vpp in np.arange(max_vpp[pp]+1):\n",
    "                pcs_data = pcs.pcs(p_state=p_list[0], pp_state=pp_list[pp], \n",
    "                               vp=vp, vpp=vpp, fcf=fcf[pp][vp][vpp],\n",
    "                               a=N, b=B, c=C)\n",
    "                sigmas = []\n",
    "                for i in range(len(pcs_data)):\n",
    "                    sigmas.append(pcs_data[i][1])\n",
    "                ee_pcs.append(sigmas)\n",
    "    ee_pcs = np.asarray(ee_pcs)\n",
    "    total_pcs = np.zeros(58)\n",
    "    for i in ee_pcs:\n",
    "        total_pcs += i\n",
    "    \n",
    "    diff_sq = (ITIKAWA - (total_pcs*1.0E20))**2\n",
    "    sum_diff = np.sum(diff_sq)\n",
    "    \n",
    "    return sum_diff"
   ]
  },
  {
   "cell_type": "code",
   "execution_count": 156,
   "metadata": {},
   "outputs": [
    {
     "data": {
      "text/plain": [
       "0.0734403307385275"
      ]
     },
     "execution_count": 156,
     "metadata": {},
     "output_type": "execute_result"
    }
   ],
   "source": [
    "find_ufc([2.376, 9.0959, 1.5258])"
   ]
  },
  {
   "cell_type": "code",
   "execution_count": 154,
   "metadata": {},
   "outputs": [
    {
     "name": "stdout",
     "output_type": "stream",
     "text": [
      " active_mask: array([0., 0., 0.])\n",
      "        cost: 0.002696159012441694\n",
      "         fun: array([0.0734324])\n",
      "        grad: array([ 0.00138975, -0.00152878, -0.00015555])\n",
      "         jac: array([[ 0.01892552, -0.02081894, -0.0021183 ]])\n",
      "     message: 'The maximum number of function evaluations is exceeded.'\n",
      "        nfev: 300\n",
      "        njev: 288\n",
      "  optimality: 0.0015287846340323998\n",
      "      status: 0\n",
      "     success: False\n",
      "           x: array([2.37564177, 9.09587669, 1.52576305])\n"
     ]
    }
   ],
   "source": [
    "res = least_squares(find_ufc, x0=[2.6, 9.2, 3.0])\n",
    "print(res)"
   ]
  },
  {
   "cell_type": "code",
   "execution_count": 155,
   "metadata": {},
   "outputs": [
    {
     "name": "stdout",
     "output_type": "stream",
     "text": [
      "Optimization terminated successfully.\n",
      "         Current function value: 0.047834\n",
      "         Iterations: 209\n",
      "         Function evaluations: 377\n",
      " final_simplex: (array([[ 2.56261423, 11.74626331,  1.00890865],\n",
      "       [ 2.56261423, 11.74626331,  1.00890865],\n",
      "       [ 2.56261423, 11.74626332,  1.00890865],\n",
      "       [ 2.56261423, 11.7462633 ,  1.00890865]]), array([0.04783391, 0.04783391, 0.04783391, 0.04783391]))\n",
      "           fun: 0.04783390527319322\n",
      "       message: 'Optimization terminated successfully.'\n",
      "          nfev: 377\n",
      "           nit: 209\n",
      "        status: 0\n",
      "       success: True\n",
      "             x: array([ 2.56261423, 11.74626331,  1.00890865])\n"
     ]
    }
   ],
   "source": [
    "x0 = np.asarray([2.6, 9.2, 3.0])\n",
    "res =  minimize(find_ufc, x0, method='nelder-mead', options={'xtol': 1e-8, 'disp':True})\n",
    "print(res)"
   ]
  },
  {
   "cell_type": "code",
   "execution_count": 160,
   "metadata": {},
   "outputs": [
    {
     "data": {
      "image/png": "[encoded data removed]",
      "text/plain": [
       "<Figure size 432x288 with 1 Axes>"
      ]
     },
     "metadata": {
      "needs_background": "light"
     },
     "output_type": "display_data"
    }
   ],
   "source": [
    "fig1, ax1 = plt.subplots(1)\n",
    "for i in range(len(ee_pcs)):\n",
    "    ax1.plot(INCIDENT_ENERGY, ee_pcs[i]*1.0E20, label='{}'.format(i))\n",
    "ax1.plot(INCIDENT_ENERGY, np.sum(ee_pcs*1.0E20, axis=0), label='total')\n",
    "ax1.plot(INCIDENT_ENERGY, ITIKAWA, label='itikawa')\n",
    "ax1.set_xscale('log')\n",
    "ax1.set_ylabel('cm$^2$')\n",
    "ax1.set_xlabel('eV')\n",
    "ax1.legend()\n",
    "plt.show()"
   ]
  },
  {
   "cell_type": "markdown",
   "metadata": {},
   "source": []
  },
  {
   "cell_type": "markdown",
   "metadata": {},
   "source": [
    "# Figures and Tables"
   ]
  },
  {
   "cell_type": "markdown",
   "metadata": {},
   "source": [
    "## N2 X1Sigmag+ to N2+ X2Sigmag+"
   ]
  },
  {
   "cell_type": "markdown",
   "metadata": {},
   "source": [
    "## N2 X1Sigmag+ to N2+ A2Piu"
   ]
  },
  {
   "cell_type": "markdown",
   "metadata": {},
   "source": [
    "## N2 X1Sigmag+ to N2+ B2Sigmau+"
   ]
  },
  {
   "cell_type": "markdown",
   "metadata": {},
   "source": [
    "## Comparison against Itikawa compiled cross sections\n",
    "The Itikawa total cross sections need to be multiplied by 18 to reach our total"
   ]
  },
  {
   "cell_type": "code",
   "execution_count": null,
   "metadata": {},
   "outputs": [],
   "source": []
  }
 ],
 "metadata": {
  "kernelspec": {
   "display_name": "Python 3",
   "language": "python",
   "name": "python3"
  },
  "language_info": {
   "codemirror_mode": {
    "name": "ipython",
    "version": 3
   },
   "file_extension": ".py",
   "mimetype": "text/x-python",
   "name": "python",
   "nbconvert_exporter": "python",
   "pygments_lexer": "ipython3",
   "version": "3.7.2"
  }
 },
 "nbformat": 4,
 "nbformat_minor": 2
}
