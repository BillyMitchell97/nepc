{
 "cells": [
  {
   "cell_type": "code",
   "execution_count": 1,
   "metadata": {},
   "outputs": [],
   "source": [
    "import numpy as np\n",
    "import pcs as pcs\n",
    "import matplotlib.pyplot as plt\n",
    "from nepc import nepc\n",
    "from nepc.methods.mp import mp as mp\n",
    "from nepc.methods.thomson import thomson as thomson\n",
    "from nepc.util.constants import N2_DIATOMIC_CONSTANTS\n",
    "from nepc.util.constants import MU_NITROGEN_KG"
   ]
  },
  {
   "cell_type": "markdown",
   "metadata": {},
   "source": [
    "# Computing the FCFs"
   ]
  },
  {
   "cell_type": "code",
   "execution_count": 2,
   "metadata": {},
   "outputs": [
    {
     "data": {
      "text/plain": [
       "dict_keys(['N2(X1Sigmag+)', 'N2(A3Sigmau+)', 'N2(B3Pig)', 'N2(W3Deltau)', 'N2(Bp3Sigmau-)', 'N2(ap1Sigmau-)', 'N2(a1Pig)', 'N2(w1Deltau)', 'N2(C3Piu)', 'N2+(X2Sigmag+)', 'N2+(A2Piu)', 'N2+(B2Sigmau+)', 'N2+(C2Sigmau+)'])"
      ]
     },
     "execution_count": 2,
     "metadata": {},
     "output_type": "execute_result"
    }
   ],
   "source": [
    "N2_DIATOMIC_CONSTANTS.keys()"
   ]
  },
  {
   "cell_type": "code",
   "execution_count": 2,
   "metadata": {},
   "outputs": [],
   "source": [
    "p_list=['N2(X1Sigmag+)']\n",
    "pp_list=['N2+(X2Sigmag+)', 'N2+(A2Piu)', 'N2+(B2Sigmau+)']\n",
    "vp_list = np.arange(1)\n",
    "vpp_list = np.arange(11)\n",
    "jp_list = np.arange(1)\n",
    "jpp_list = np.arange(1)\n",
    "psi_p_keep = [p_list,[0,5,10],[0]]\n",
    "psi_pp_keep = [pp_list,[0,5,10],[0]]\n",
    "dbug = False\n",
    "Vr_p, Vr_pp, psi_p, psi_pp, fcf = thomson.fcf(p_list, pp_list, vp_list, vpp_list, jp_list, jpp_list,\n",
    "                                              diatomic_constants=N2_DIATOMIC_CONSTANTS,\n",
    "                                              reduced_mass=MU_NITROGEN_KG,\n",
    "                                              k=17,\n",
    "                                              delta_r=.5,\n",
    "                                              psi_p_keep=psi_p_keep,\n",
    "                                              psi_pp_keep=psi_pp_keep,\n",
    "                                              dbug=False)"
   ]
  },
  {
   "cell_type": "code",
   "execution_count": 3,
   "metadata": {},
   "outputs": [
    {
     "data": {
      "text/plain": [
       "[[[[[[0.9111053554293523,\n",
       "      0.08578454898490828,\n",
       "      0.0030890683690264894,\n",
       "      1.2188887890569222e-05,\n",
       "      6.407390005207784e-06,\n",
       "      2.1572293043248827e-06,\n",
       "      2.576434906620324e-07,\n",
       "      1.569375162339991e-08,\n",
       "      3.234213089814609e-10,\n",
       "      1.9700860311339444e-10,\n",
       "      2.7936018037018185e-11]]]],\n",
       "  [[[[0.2510403690196151,\n",
       "      0.32947802319931685,\n",
       "      0.23299253538095982,\n",
       "      0.11744680528924896,\n",
       "      0.04707701320720317,\n",
       "      0.015851710210823256,\n",
       "      0.004615733466871714,\n",
       "      0.0011769619827573026,\n",
       "      0.0002622523227593461,\n",
       "      5.0046434692287646e-05,\n",
       "      7.6193968844718935e-06]]]],\n",
       "  [[[[0.8752507226304342,\n",
       "      0.12087468128009445,\n",
       "      0.003869932676010388,\n",
       "      1.7877596159402138e-06,\n",
       "      2.8658021928482722e-06,\n",
       "      2.967379017517014e-09,\n",
       "      6.444278137556794e-09,\n",
       "      4.3139245690059095e-10,\n",
       "      6.960548189062843e-12,\n",
       "      8.078479799870244e-14,\n",
       "      1.3615388849141739e-12]]]]]]"
      ]
     },
     "execution_count": 3,
     "metadata": {},
     "output_type": "execute_result"
    }
   ],
   "source": [
    "fcf"
   ]
  },
  {
   "cell_type": "markdown",
   "metadata": {},
   "source": [
    "# Closure relationship for FCF\n",
    "If the FCF sum over vpp for a given vp are greater than 0.99, that's were we'll stop including cross sections"
   ]
  },
  {
   "cell_type": "code",
   "execution_count": 4,
   "metadata": {},
   "outputs": [
    {
     "name": "stdout",
     "output_type": "stream",
     "text": [
      "pp: 0; vpp: 1; sum_fcf = 0.9968899044142606 > 0.99\n",
      "pp: 1; vpp: 5; sum_fcf = 0.9938864563071671 > 0.99\n",
      "pp: 2; vpp: 1; sum_fcf = 0.9961254039105287 > 0.99\n"
     ]
    }
   ],
   "source": [
    "max_vpp = []\n",
    "for pp in np.arange(3):\n",
    "    sum_fcf = 0\n",
    "    vpp = -1\n",
    "    while sum_fcf < 0.99:\n",
    "        vpp += 1\n",
    "        sum_fcf += fcf[0][pp][0][0][0][vpp]\n",
    "    print('pp: {}; vpp: {}; sum_fcf = {} > 0.99'.format(pp, vpp, sum_fcf))\n",
    "    max_vpp.append(vpp)"
   ]
  },
  {
   "cell_type": "code",
   "execution_count": 5,
   "metadata": {},
   "outputs": [
    {
     "data": {
      "text/plain": [
       "[1, 5, 1]"
      ]
     },
     "execution_count": 5,
     "metadata": {},
     "output_type": "execute_result"
    }
   ],
   "source": [
    "max_vpp"
   ]
  },
  {
   "cell_type": "markdown",
   "metadata": {},
   "source": [
    "# Total cross section data from literature"
   ]
  },
  {
   "cell_type": "code",
   "execution_count": 6,
   "metadata": {},
   "outputs": [],
   "source": [
    "INCIDENT_ENERGY = [16.0, 16.5, 17.0, 17.5, 18.0, 18.5, 19.0, 19.5, 20.0, 20.5, 21.0, 21.5, 22.0, 22.5, 23.0, 23.5, 24.0, 24.5, 25.0, 30.0, 35.0, 40.0, 45.0, 50.0, 55.0, 60.0, 65.0, 70.0, 75.0, 80.0, 85.0, 90.0, 95.0, 100.0, 110.0, 120.0, 140.0, 160.0, 180.0, 200.0, 225.0, 250.0, 275.0, 300.0, 350.0, 400.0, 450.0, 500.0, 550.0, 600.0, 650.0, 700.0, 750.0, 800.0, 850.0, 900.0, 950.0, 1000.0]\n",
    "ITIKAWA = np.asarray([0.0211, 0.0466, 0.0713, 0.0985, 0.129, 0.164, 0.199, 0.23, 0.27, 0.308, 0.344, 0.38, 0.418, 0.455, 0.492, 0.528, 0.565, 0.603, 0.64, 0.929, 1.16, 1.37, 1.52, 1.6, 1.66, 1.72, 1.74, 1.78, 1.8, 1.81, 1.82, 1.83, 1.85, 1.85, 1.83, 1.81, 1.78, 1.72, 1.67, 1.61, 1.55, 1.48, 1.41, 1.37, 1.28, 1.2, 1.11, 1.05, 0.998, 0.943, 0.88, 0.844, 0.796, 0.765, 0.738, 0.719, 0.698, 0.676])"
   ]
  },
  {
   "cell_type": "markdown",
   "metadata": {},
   "source": [
    "# Function to compute partial cross section data array"
   ]
  },
  {
   "cell_type": "code",
   "execution_count": 29,
   "metadata": {},
   "outputs": [],
   "source": [
    "def compute_pcs_array(a, b, c):\n",
    "    ee_pcs = []\n",
    "    for pp in np.arange(3):\n",
    "        for vpp in np.arange(max_vpp[pp]+1):\n",
    "            pcs_data = pcs.pcs(p_state=p_list[0], pp_state=pp_list[pp], \n",
    "                               vp=0, vpp=vpp, fcf=fcf[0][pp][0][0][0][vpp],\n",
    "                               a=a[pp+vpp], b=b, c=c)\n",
    "            sigmas = []\n",
    "            for i in range(len(pcs_data)):\n",
    "                sigmas.append(pcs_data[i][1])\n",
    "            ee_pcs.append(sigmas)\n",
    "    return ee_pcs"
   ]
  },
  {
   "cell_type": "markdown",
   "metadata": {},
   "source": [
    "# Initial guess for universal function parameters"
   ]
  },
  {
   "cell_type": "code",
   "execution_count": 67,
   "metadata": {},
   "outputs": [],
   "source": [
    "a=np.zeros(10)+2.6\n",
    "b=2.4\n",
    "c=9.2"
   ]
  },
  {
   "cell_type": "code",
   "execution_count": 68,
   "metadata": {},
   "outputs": [
    {
     "data": {
      "text/plain": [
       "10"
      ]
     },
     "execution_count": 68,
     "metadata": {},
     "output_type": "execute_result"
    }
   ],
   "source": [
    "ee_pcs = np.asarray(compute_pcs_array(a, b, c))\n",
    "len(ee_pcs)"
   ]
  },
  {
   "cell_type": "code",
   "execution_count": 69,
   "metadata": {},
   "outputs": [
    {
     "data": {
      "text/plain": [
       "58"
      ]
     },
     "execution_count": 69,
     "metadata": {},
     "output_type": "execute_result"
    }
   ],
   "source": [
    "len(ee_pcs[0])"
   ]
  },
  {
   "cell_type": "code",
   "execution_count": 70,
   "metadata": {},
   "outputs": [
    {
     "data": {
      "image/png": "[encoded data removed]",
      "text/plain": [
       "<Figure size 432x288 with 1 Axes>"
      ]
     },
     "metadata": {
      "needs_background": "light"
     },
     "output_type": "display_data"
    }
   ],
   "source": [
    "fig1, ax1 = plt.subplots(1)\n",
    "for i in range(len(ee_pcs)):\n",
    "    ax1.plot(INCIDENT_ENERGY, ee_pcs[i]*100**2, label='{}'.format(i))\n",
    "ax1.plot(INCIDENT_ENERGY, np.sum(ee_pcs*100**2, axis=0), label='total')\n",
    "ax1.plot(INCIDENT_ENERGY, ITIKAWA*1.0E-16, label='itikawa')\n",
    "ax1.set_xscale('log')\n",
    "ax1.set_ylabel('cm$^2$')\n",
    "ax1.set_xlabel('eV')\n",
    "ax1.legend()\n",
    "plt.show()"
   ]
  },
  {
   "cell_type": "markdown",
   "metadata": {},
   "source": []
  },
  {
   "cell_type": "code",
   "execution_count": 5,
   "metadata": {},
   "outputs": [],
   "source": [
    "X1_X2 = []\n",
    "for vp in vp_list:\n",
    "    \"\"\"X1_X2[vp]\"\"\"\n",
    "    X1_X2.append([])\n",
    "    for vpp in vpp_list:\n",
    "        \"\"\"X1_X2[vp][vpp][pcs]\"\"\"\n",
    "        sigma = []\n",
    "        for i in np.arange(58):\n",
    "            sigma.append(ee_pcs[0][0][vp][vpp][i][1])\n",
    "        X1_X2[vp].append(np.asarray(sigma))\n",
    "\n",
    "X1_A2 = []\n",
    "for vp in vp_list:\n",
    "    \"\"\"X1_A2[vp]\"\"\"\n",
    "    X1_A2.append([])\n",
    "    for vpp in vpp_list:\n",
    "        \"\"\"X1_A2[vp][vpp][pcs]\"\"\"\n",
    "        sigma = []\n",
    "        for i in np.arange(58):\n",
    "            sigma.append(ee_pcs[0][1][vp][vpp][i][1])\n",
    "        X1_A2[vp].append(np.asarray(sigma))\n",
    "        \n",
    "X1_B2 = []\n",
    "for vp in vp_list:\n",
    "    \"\"\"X1_B2[vp]\"\"\"\n",
    "    X1_B2.append([])\n",
    "    for vpp in vpp_list:\n",
    "        \"\"\"X1_B2[vp][vpp][pcs]\"\"\"\n",
    "        sigma = []\n",
    "        for i in np.arange(58):\n",
    "            sigma.append(ee_pcs[0][2][vp][vpp][i][1])\n",
    "        X1_B2[vp].append(np.asarray(sigma))"
   ]
  },
  {
   "cell_type": "markdown",
   "metadata": {},
   "source": [
    "# Figures and Tables"
   ]
  },
  {
   "cell_type": "markdown",
   "metadata": {},
   "source": [
    "## N2 X1Sigmag+ to N2+ X2Sigmag+"
   ]
  },
  {
   "cell_type": "code",
   "execution_count": 22,
   "metadata": {},
   "outputs": [
    {
     "name": "stdout",
     "output_type": "stream",
     "text": [
      "\\hline\n",
      "   16.0 & 0.1776 & 0.0057 & 0.1833 \\\\\n",
      "   16.5 & 0.3846 & 0.0245 & 0.4090 \\\\\n",
      "   17.0 & 0.5864 & 0.0428 & 0.6292 \\\\\n",
      "   17.5 & 0.7833 & 0.0607 & 0.8440 \\\\\n",
      "   18.0 & 0.9755 & 0.0781 & 1.0536 \\\\\n",
      "   18.5 & 1.1629 & 0.0951 & 1.2580 \\\\\n",
      "   19.0 & 1.3459 & 0.1117 & 1.4576 \\\\\n",
      "   19.5 & 1.5244 & 0.1280 & 1.6524 \\\\\n",
      "   20.0 & 1.6987 & 0.1438 & 1.8425 \\\\\n",
      "   20.5 & 1.8689 & 0.1593 & 2.0281 \\\\\n",
      "   21.0 & 2.0350 & 0.1744 & 2.2093 \\\\\n",
      "   21.5 & 2.1972 & 0.1891 & 2.3863 \\\\\n",
      "   22.0 & 2.3556 & 0.2036 & 2.5591 \\\\\n",
      "   22.5 & 2.5102 & 0.2176 & 2.7279 \\\\\n",
      "   23.0 & 2.6613 & 0.2314 & 2.8927 \\\\\n",
      "   23.5 & 2.8089 & 0.2448 & 3.0537 \\\\\n",
      "   24.0 & 2.9531 & 0.2580 & 3.2111 \\\\\n",
      "   24.5 & 3.0939 & 0.2708 & 3.3648 \\\\\n",
      "   25.0 & 3.2316 & 0.2834 & 3.5149 \\\\\n",
      "   30.0 & 4.4478 & 0.3945 & 4.8423 \\\\\n",
      "   35.0 & 5.4201 & 0.4836 & 5.9037 \\\\\n",
      "   40.0 & 6.2014 & 0.5554 & 6.7568 \\\\\n",
      "   45.0 & 6.8315 & 0.6135 & 7.4451 \\\\\n",
      "   50.0 & 7.3405 & 0.6606 & 8.0011 \\\\\n",
      "   55.0 & 7.7514 & 0.6988 & 8.4502 \\\\\n",
      "   60.0 & 8.0824 & 0.7297 & 8.8121 \\\\\n",
      "   65.0 & 8.3478 & 0.7546 & 9.1024 \\\\\n",
      "   70.0 & 8.5590 & 0.7745 & 9.3335 \\\\\n",
      "   75.0 & 8.7252 & 0.7903 & 9.5155 \\\\\n",
      "   80.0 & 8.8538 & 0.8026 & 9.6564 \\\\\n",
      "   85.0 & 8.9508 & 0.8120 & 9.7629 \\\\\n",
      "   90.0 & 9.0214 & 0.8190 & 9.8404 \\\\\n",
      "   95.0 & 9.0695 & 0.8239 & 9.8935 \\\\\n",
      "   100.0 & 9.0988 & 0.8271 & 9.9259 \\\\\n",
      "   110.0 & 9.1117 & 0.8291 & 9.9409 \\\\\n",
      "   120.0 & 9.0782 & 0.8268 & 9.9050 \\\\\n",
      "   140.0 & 8.9200 & 0.8137 & 9.7337 \\\\\n",
      "   160.0 & 8.6913 & 0.7938 & 9.4851 \\\\\n",
      "   180.0 & 8.4289 & 0.7706 & 9.1995 \\\\\n",
      "   200.0 & 8.1534 & 0.7461 & 8.8994 \\\\\n",
      "   225.0 & 7.8080 & 0.7151 & 8.5231 \\\\\n",
      "   250.0 & 7.4726 & 0.6849 & 8.1576 \\\\\n",
      "   275.0 & 7.1531 & 0.6561 & 7.8092 \\\\\n",
      "   300.0 & 6.8519 & 0.6288 & 7.4807 \\\\\n",
      "   350.0 & 6.3055 & 0.5792 & 6.8847 \\\\\n",
      "   400.0 & 5.8289 & 0.5359 & 6.3648 \\\\\n",
      "   450.0 & 5.4132 & 0.4979 & 5.9111 \\\\\n",
      "   500.0 & 5.0491 & 0.4647 & 5.5138 \\\\\n",
      "   550.0 & 4.7286 & 0.4354 & 5.1640 \\\\\n",
      "   600.0 & 4.4448 & 0.4094 & 4.8542 \\\\\n",
      "   650.0 & 4.1922 & 0.3863 & 4.5784 \\\\\n",
      "   700.0 & 3.9659 & 0.3655 & 4.3315 \\\\\n",
      "   750.0 & 3.7624 & 0.3468 & 4.1092 \\\\\n",
      "   800.0 & 3.5783 & 0.3299 & 3.9082 \\\\\n",
      "   850.0 & 3.4111 & 0.3146 & 3.7257 \\\\\n",
      "   900.0 & 3.2586 & 0.3006 & 3.5592 \\\\\n",
      "   950.0 & 3.1190 & 0.2878 & 3.4068 \\\\\n",
      "   1000.0 & 2.9908 & 0.2760 & 3.2668 \\\\\n",
      "\\hline\n"
     ]
    }
   ],
   "source": [
    "\"\"\"Table data in LaTeX format\"\"\"\n",
    "print('\\hline')\n",
    "for i in np.arange(58):\n",
    "    print(r'   %.1f & %.4f & %.4f & %.4f \\\\' %(INCIDENT_ENERGY[i], X1_X2[0][0][i]*1e20, X1_X2[0][1][i]*1e20, (X1_X2[0][0][i]+X1_X2[0][1][i])*1e20))\n",
    "print('\\hline')"
   ]
  },
  {
   "cell_type": "markdown",
   "metadata": {},
   "source": [
    "## N2 X1Sigmag+ to N2+ A2Piu"
   ]
  },
  {
   "cell_type": "code",
   "execution_count": null,
   "metadata": {},
   "outputs": [],
   "source": [
    "fig2, ax2 = plt.subplots(1)\n",
    "ax2.plot(INCIDENT_ENERGY, X1_A2[0][0]*100**2, 'r-', label='vpp=0')\n",
    "ax2.plot(INCIDENT_ENERGY, X1_A2[0][1]*100**2, 'b-', label='vpp=1')\n",
    "ax2.plot(INCIDENT_ENERGY, X1_A2[0][2]*100**2, 'g-', label='vpp=2')\n",
    "ax2.plot(INCIDENT_ENERGY, X1_A2[0][3]*100**2, 'k-', label='vpp=3')\n",
    "ax2.plot(INCIDENT_ENERGY, X1_A2[0][4]*100**2, 'm-', label='vpp=4')\n",
    "ax2.plot(INCIDENT_ENERGY, X1_A2[0][5]*100**2, 'c-', label='vpp=5')\n",
    "ax2.plot(INCIDENT_ENERGY, (X1_A2[0][0]+X1_A2[0][1]+X1_A2[0][2]+X1_A2[0][3]+X1_A2[0][4]+X1_A2[0][5])*100**2, 'y-', label='sum')\n",
    "ax2.set_xscale('log')\n",
    "ax2.set_ylabel('cm$^2$')\n",
    "ax2.set_xlabel('eV')\n",
    "ax2.set_title(r'N$_2$ X$^1\\Sigma_g^+$ to N$_2^+$ A$^2\\Pi_u$')\n",
    "ax2.legend()\n",
    "plt.show()"
   ]
  },
  {
   "cell_type": "markdown",
   "metadata": {},
   "source": [
    "## N2 X1Sigmag+ to N2+ B2Sigmau+"
   ]
  },
  {
   "cell_type": "code",
   "execution_count": null,
   "metadata": {},
   "outputs": [],
   "source": [
    "fig3, ax3 = plt.subplots(1)\n",
    "ax3.plot(INCIDENT_ENERGY, X1_B2[0][0]*100**2, 'r-', label='vpp=0')\n",
    "ax3.plot(INCIDENT_ENERGY, X1_B2[0][1]*100**2, 'b-', label='vpp=1')\n",
    "ax3.plot(INCIDENT_ENERGY, (X1_B2[0][0]+X1_B2[0][1])*100**2, 'y-', label='sum')\n",
    "ax3.set_xscale('log')\n",
    "ax3.set_ylabel('cm$^2$')\n",
    "ax3.set_xlabel('eV')\n",
    "ax3.set_title(r'N$_2$ X$^1\\Sigma_g^+$ to N$_2^+$ B$^2\\Sigma_u^+$')\n",
    "ax3.legend()\n",
    "plt.show()"
   ]
  },
  {
   "cell_type": "markdown",
   "metadata": {},
   "source": [
    "## Comparison against Itikawa compiled cross sections\n",
    "The Itikawa total cross sections need to be multiplied by 18 to reach our total"
   ]
  },
  {
   "cell_type": "code",
   "execution_count": null,
   "metadata": {},
   "outputs": [],
   "source": [
    "N2_N2P_TCS = X1_X2[0][0]+X1_X2[0][1]+X1_A2[0][0]+X1_A2[0][1]+X1_A2[0][2]+X1_A2[0][3]+X1_A2[0][4]+X1_A2[0][5]+X1_B2[0][0]+X1_B2[0][1]\n",
    "\n",
    "fig4, ax4 = plt.subplots(1)\n",
    "ax4.plot(INCIDENT_ENERGY, ITIKAWA*10**(-16), 'r-', label='Itikawa')\n",
    "ax4.plot(INCIDENT_ENERGY, N2_N2P_TCS*100**2, 'k-', label='Total')\n",
    "ax4.set_xscale('log')\n",
    "ax4.set_ylabel('cm$^2$')\n",
    "ax4.set_xlabel('eV')\n",
    "ax4.set_title(r'Comparision of Itikawa to our Total')\n",
    "ax4.legend()\n",
    "plt.show()"
   ]
  },
  {
   "cell_type": "code",
   "execution_count": null,
   "metadata": {},
   "outputs": [],
   "source": []
  }
 ],
 "metadata": {
  "kernelspec": {
   "display_name": "Python 3",
   "language": "python",
   "name": "python3"
  },
  "language_info": {
   "codemirror_mode": {
    "name": "ipython",
    "version": 3
   },
   "file_extension": ".py",
   "mimetype": "text/x-python",
   "name": "python",
   "nbconvert_exporter": "python",
   "pygments_lexer": "ipython3",
   "version": "3.7.2"
  }
 },
 "nbformat": 4,
 "nbformat_minor": 2
}
