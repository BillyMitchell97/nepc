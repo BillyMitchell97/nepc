{
 "cells": [
  {
   "cell_type": "code",
   "execution_count": 1,
   "metadata": {},
   "outputs": [],
   "source": [
    "import numpy as np\n",
    "import pcs as pcs\n",
    "from nepc import nepc\n",
    "from nepc.methods.mp import mp as mp\n",
    "from nepc.methods.thomson import thomson as thomson\n",
    "from nepc.util.constants import N2_DIATOMIC_CONSTANTS\n",
    "from nepc.util.constants import MU_NITROGEN_KG"
   ]
  },
  {
   "cell_type": "code",
   "execution_count": 2,
   "metadata": {},
   "outputs": [],
   "source": [
    "p_list=['N2(X1Sigmag+)']\n",
    "pp_list=['N2+(X2Sigmag+)', 'N2+(A2Piu)', 'N2+(B2Sigmau+)']\n",
    "vp_list = np.arange(1)\n",
    "vpp_list = np.arange(11)\n",
    "jp_list = np.arange(1)\n",
    "jpp_list = np.arange(1)\n",
    "psi_p_keep = [p_list,[0,5,10],[0]]\n",
    "psi_pp_keep = [pp_list,[0,5,10],[0]]\n",
    "dbug = False\n",
    "fcf = thomson.fcf(p_list, pp_list, vp_list, vpp_list, jp_list, jpp_list,\n",
    "                  diatomic_constants=N2_DIATOMIC_CONSTANTS,\n",
    "                  reduced_mass=MU_NITROGEN_KG,\n",
    "                  k=17,\n",
    "                  delta_r=.5,\n",
    "                  psi_p_keep=psi_p_keep,\n",
    "                  psi_pp_keep=psi_pp_keep,\n",
    "                  dbug=False)[4]\n",
    "sigma = []\n",
    "for p in np.arange(1):\n",
    "    for pp in np.arange(3):\n",
    "        for vp in vp_list:\n",
    "            for vpp in vpp_list:\n",
    "                sigma.append(pcs.pcs(p_list[p], pp_list[pp], vp, vpp, fcf[p][pp][0][0][vp][vpp]))"
   ]
  },
  {
   "cell_type": "code",
   "execution_count": null,
   "metadata": {},
   "outputs": [],
   "source": []
  },
  {
   "cell_type": "code",
   "execution_count": null,
   "metadata": {},
   "outputs": [],
   "source": []
  }
 ],
 "metadata": {
  "kernelspec": {
   "display_name": "Python 3",
   "language": "python",
   "name": "python3"
  },
  "language_info": {
   "codemirror_mode": {
    "name": "ipython",
    "version": 3
   },
   "file_extension": ".py",
   "mimetype": "text/x-python",
   "name": "python",
   "nbconvert_exporter": "python",
   "pygments_lexer": "ipython3",
   "version": "3.7.2"
  }
 },
 "nbformat": 4,
 "nbformat_minor": 2
}
