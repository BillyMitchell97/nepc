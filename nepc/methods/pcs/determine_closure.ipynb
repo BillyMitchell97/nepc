{
 "cells": [
  {
   "cell_type": "code",
   "execution_count": 1,
   "metadata": {},
   "outputs": [],
   "source": [
    "import numpy as np\n",
    "import pcs as pcs\n",
    "import matplotlib.pyplot as plt\n",
    "from nepc import nepc\n",
    "from nepc.methods.mp import mp as mp\n",
    "from nepc.methods.thomson import thomson as thomson\n",
    "from nepc.util.constants import N2_DIATOMIC_CONSTANTS\n",
    "from nepc.util.constants import MU_NITROGEN_KG\n",
    "from nepc.util.constants import WAVENUMBER_PER_EV as WAVENUMBER_PER_EV\n",
    "from numpy import exp"
   ]
  },
  {
   "cell_type": "markdown",
   "metadata": {},
   "source": [
    "# Plot psi_v, v=10"
   ]
  },
  {
   "cell_type": "code",
   "execution_count": 2,
   "metadata": {},
   "outputs": [
    {
     "data": {
      "text/plain": [
       "dict_keys(['N2(X1Sigmag+)', 'N2(A3Sigmau+)', 'N2(B3Pig)', 'N2(W3Deltau)', 'N2(Bp3Sigmau-)', 'N2(ap1Sigmau-)', 'N2(a1Pig)', 'N2(w1Deltau)', 'N2(C3Piu)', 'N2+(X2Sigmag+)', 'N2+(A2Piu)', 'N2+(B2Sigmau+)', 'N2+(C2Sigmau+)'])"
      ]
     },
     "execution_count": 2,
     "metadata": {},
     "output_type": "execute_result"
    }
   ],
   "source": [
    "N2_DIATOMIC_CONSTANTS.keys()"
   ]
  },
  {
   "cell_type": "code",
   "execution_count": 4,
   "metadata": {},
   "outputs": [],
   "source": [
    "r_array, psi_p_X, psi_pp_X, Vr_p_X, Vr_pp_X = thomson.psi_v(vp=10, vpp=10,\n",
    "                  diatomic_constants_p=N2_DIATOMIC_CONSTANTS['N2(X1Sigmag+)'],\n",
    "                  diatomic_constants_pp=N2_DIATOMIC_CONSTANTS['N2+(X2Sigmag+)'],\n",
    "                  reduced_mass=MU_NITROGEN_KG,\n",
    "                  k=17,\n",
    "                  delta_r=.5,\n",
    "                  dbug=False)"
   ]
  },
  {
   "cell_type": "code",
   "execution_count": 5,
   "metadata": {},
   "outputs": [],
   "source": [
    "def Vr_array(Vr_p, r_array):\n",
    "    return ((mp.Te(Vr_p['To'], Vr_p['we'], Vr_p['wexe']) + \n",
    "             Vr_p['De']*(1.0 - exp(-Vr_p['a']*(r_array - Vr_p['re'])))**2 )/WAVENUMBER_PER_EV)"
   ]
  },
  {
   "cell_type": "code",
   "execution_count": 8,
   "metadata": {},
   "outputs": [],
   "source": [
    "Vr_p_X_array = Vr_array(Vr_p_X, r_array)\n",
    "Vr_pp_X_array = Vr_array(Vr_pp_X, r_array)"
   ]
  },
  {
   "cell_type": "code",
   "execution_count": 9,
   "metadata": {},
   "outputs": [],
   "source": [
    "Tv_p_X_10 = mp.Tv(10, Vr_p_X['To'], Vr_p_X['we'], Vr_p_X['wexe'])/WAVENUMBER_PER_EV\n",
    "Tv_pp_X_10 = mp.Tv(10, Vr_pp_X['To'], Vr_pp_X['we'], Vr_pp_X['wexe'])/WAVENUMBER_PER_EV"
   ]
  },
  {
   "cell_type": "code",
   "execution_count": 13,
   "metadata": {},
   "outputs": [
    {
     "data": {
      "image/png": "[encoded data removed]",
      "text/plain": [
       "<Figure size 432x288 with 1 Axes>"
      ]
     },
     "metadata": {
      "needs_background": "light"
     },
     "output_type": "display_data"
    }
   ],
   "source": [
    "fig,  ax1 = plt.subplots(1)\n",
    "ax1.plot(r_array, Vr_p_X_array, 'black',\n",
    "         r_array, Vr_pp_X_array, 'black',\n",
    "         r_array, psi_p_X + Tv_p_X_10, 'black', \n",
    "         r_array, psi_pp_X + Tv_pp_X_10, 'black', lw=1)\n",
    "ax1.plot([r_array[0], r_array[-1]], [Tv_p_X_10,Tv_p_X_10], 'black', \n",
    "         [r_array[0], r_array[-1]], [Tv_pp_X_10,Tv_pp_X_10], 'black', ls='--', lw=.5)\n",
    "ax1.set_xlim(.5, 2.0)\n",
    "ax1.set_ylim(-0.5, 25)\n",
    "ax1.set_ylabel('Energy (eV)')\n",
    "ax1.set_xlabel('Internuclear distance ($\\AA$)')\n",
    "plt.show()"
   ]
  },
  {
   "cell_type": "markdown",
   "metadata": {},
   "source": [
    "# Compute Overlap Matrix and Check for Identity"
   ]
  },
  {
   "cell_type": "code",
   "execution_count": 25,
   "metadata": {},
   "outputs": [],
   "source": [
    "overlap_X = thomson.fcf_v(vp_max=10, vpp_max=10,\n",
    "                          diatomic_constants_p=N2_DIATOMIC_CONSTANTS['N2(X1Sigmag+)'],\n",
    "                          diatomic_constants_pp=N2_DIATOMIC_CONSTANTS['N2(X1Sigmag+)'],\n",
    "                          reduced_mass=MU_NITROGEN_KG,\n",
    "                          k=17,\n",
    "                          delta_r=.5,\n",
    "                          dbug=False)"
   ]
  },
  {
   "cell_type": "code",
   "execution_count": 40,
   "metadata": {},
   "outputs": [
    {
     "data": {
      "text/plain": [
       "4.115975731347987e-07"
      ]
     },
     "execution_count": 40,
     "metadata": {},
     "output_type": "execute_result"
    }
   ],
   "source": [
    "thomson.rmse_diagonal_elements(np.asarray(overlap_X))"
   ]
  },
  {
   "cell_type": "code",
   "execution_count": 41,
   "metadata": {},
   "outputs": [
    {
     "name": "stdout",
     "output_type": "stream",
     "text": [
      "i: 1; rmse: 1.2434497875801753e-14\n",
      "i: 2; rmse: 5.844456963317449e-14\n",
      "i: 3; rmse: 8.705960933385516e-14\n",
      "i: 4; rmse: 1.3228087202133447e-13\n",
      "i: 5; rmse: 8.627418902497996e-12\n",
      "i: 6; rmse: 2.070143500535053e-11\n",
      "i: 7; rmse: 7.328131216053268e-10\n",
      "i: 8; rmse: 2.783541706933249e-09\n",
      "i: 9; rmse: 4.101190684672122e-08\n",
      "i: 10; rmse: 2.1820593021132868e-07\n",
      "i: 11; rmse: 4.115975731347987e-07\n"
     ]
    }
   ],
   "source": [
    "thomson.incremental_rmse_diagonal_elements(np.asarray(overlap_X))"
   ]
  },
  {
   "cell_type": "code",
   "execution_count": 42,
   "metadata": {},
   "outputs": [
    {
     "data": {
      "text/plain": [
       "6.141968809344218e-09"
      ]
     },
     "execution_count": 42,
     "metadata": {},
     "output_type": "execute_result"
    }
   ],
   "source": [
    "thomson.rmse_off_diagonal_elements(np.asarray(overlap_X))"
   ]
  },
  {
   "cell_type": "code",
   "execution_count": 43,
   "metadata": {},
   "outputs": [
    {
     "name": "stdout",
     "output_type": "stream",
     "text": [
      "i: 2; rmse: 2.074522339725268e-25\n",
      "i: 3; rmse: 7.195835259280646e-24\n",
      "i: 4; rmse: 1.4098713900934806e-21\n",
      "i: 5; rmse: 5.293946037032414e-20\n",
      "i: 6; rmse: 1.3997529058531574e-17\n",
      "i: 7; rmse: 1.2512783765787558e-15\n",
      "i: 8; rmse: 3.9874670519521434e-15\n",
      "i: 9; rmse: 2.0832281798712301e-13\n",
      "i: 10; rmse: 5.172134397905407e-11\n",
      "i: 11; rmse: 6.141968809344218e-09\n"
     ]
    }
   ],
   "source": [
    "thomson.incremental_rmse_off_diagonal_elements(np.asarray(overlap_X))"
   ]
  },
  {
   "cell_type": "markdown",
   "metadata": {},
   "source": [
    "# Closure relationship for FCF\n",
    "If the FCF sum over vpp for a given vp are greater than 0.99, that's were we'll stop including cross sections\n",
    "\n",
    "TODO: we need to determine v'' for closure for all combinations of p' and p'' for v'=0-10."
   ]
  },
  {
   "cell_type": "code",
   "execution_count": 4,
   "metadata": {},
   "outputs": [
    {
     "name": "stdout",
     "output_type": "stream",
     "text": [
      "pp: 0; vpp: 1; sum_fcf = 0.9968899044142606 > 0.99\n",
      "pp: 1; vpp: 5; sum_fcf = 0.9938864563071671 > 0.99\n",
      "pp: 2; vpp: 1; sum_fcf = 0.9961254039105287 > 0.99\n"
     ]
    }
   ],
   "source": [
    "max_vpp = []\n",
    "for pp in np.arange(3):\n",
    "    sum_fcf = 0\n",
    "    vpp = -1\n",
    "    while sum_fcf < 0.99:\n",
    "        vpp += 1\n",
    "        sum_fcf += fcf[0][pp][0][0][0][vpp]\n",
    "    print('pp: {}; vpp: {}; sum_fcf = {} > 0.99'.format(pp, vpp, sum_fcf))\n",
    "    max_vpp.append(vpp)"
   ]
  },
  {
   "cell_type": "code",
   "execution_count": 5,
   "metadata": {},
   "outputs": [
    {
     "data": {
      "text/plain": [
       "[1, 5, 1]"
      ]
     },
     "execution_count": 5,
     "metadata": {},
     "output_type": "execute_result"
    }
   ],
   "source": [
    "max_vpp"
   ]
  }
 ],
 "metadata": {
  "kernelspec": {
   "display_name": "Python 3",
   "language": "python",
   "name": "python3"
  },
  "language_info": {
   "codemirror_mode": {
    "name": "ipython",
    "version": 3
   },
   "file_extension": ".py",
   "mimetype": "text/x-python",
   "name": "python",
   "nbconvert_exporter": "python",
   "pygments_lexer": "ipython3",
   "version": "3.7.2"
  }
 },
 "nbformat": 4,
 "nbformat_minor": 2
}
