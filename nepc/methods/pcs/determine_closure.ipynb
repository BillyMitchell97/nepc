{
 "cells": [
  {
   "cell_type": "code",
   "execution_count": 1,
   "metadata": {},
   "outputs": [],
   "source": [
    "import numpy as np\n",
    "import timeit\n",
    "import pcs as pcs\n",
    "import matplotlib.pyplot as plt\n",
    "from nepc import nepc\n",
    "from nepc.methods.mp import mp as mp\n",
    "from nepc.methods.thomson import thomson as thomson\n",
    "from nepc.util.constants import N2_DIATOMIC_CONSTANTS\n",
    "from nepc.util.constants import MU_NITROGEN_KG\n",
    "from nepc.util.constants import WAVENUMBER_PER_EV as WAVENUMBER_PER_EV\n",
    "from numpy import exp"
   ]
  },
  {
   "cell_type": "markdown",
   "metadata": {},
   "source": [
    "# Plot psi_v, v=10"
   ]
  },
  {
   "cell_type": "code",
   "execution_count": 2,
   "metadata": {},
   "outputs": [
    {
     "data": {
      "text/plain": [
       "dict_keys(['N2(X1Sigmag+)', 'N2(A3Sigmau+)', 'N2(B3Pig)', 'N2(W3Deltau)', 'N2(Bp3Sigmau-)', 'N2(ap1Sigmau-)', 'N2(a1Pig)', 'N2(w1Deltau)', 'N2(C3Piu)', 'N2+(X2Sigmag+)', 'N2+(A2Piu)', 'N2+(B2Sigmau+)', 'N2+(C2Sigmau+)'])"
      ]
     },
     "execution_count": 2,
     "metadata": {},
     "output_type": "execute_result"
    }
   ],
   "source": [
    "N2_DIATOMIC_CONSTANTS.keys()"
   ]
  },
  {
   "cell_type": "code",
   "execution_count": 3,
   "metadata": {},
   "outputs": [],
   "source": [
    "r_array, psi_p_X, psi_pp_X, Vr_p_X, Vr_pp_X = thomson.psi_v(vp=10, vpp=10,\n",
    "                  diatomic_constants_p=N2_DIATOMIC_CONSTANTS['N2(X1Sigmag+)'],\n",
    "                  diatomic_constants_pp=N2_DIATOMIC_CONSTANTS['N2+(A2Piu)'],\n",
    "                  reduced_mass=MU_NITROGEN_KG,\n",
    "                  k=17,\n",
    "                  delta_r=.5,\n",
    "                  dbug=False)"
   ]
  },
  {
   "cell_type": "code",
   "execution_count": 4,
   "metadata": {},
   "outputs": [],
   "source": [
    "def Vr_array(Vr_p, r_array):\n",
    "    return ((mp.Te(Vr_p['To'], Vr_p['we'], Vr_p['wexe']) + \n",
    "             Vr_p['De']*(1.0 - exp(-Vr_p['a']*(r_array - Vr_p['re'])))**2 )/WAVENUMBER_PER_EV)"
   ]
  },
  {
   "cell_type": "code",
   "execution_count": 5,
   "metadata": {},
   "outputs": [],
   "source": [
    "Vr_p_X_array = Vr_array(Vr_p_X, r_array)\n",
    "Vr_pp_X_array = Vr_array(Vr_pp_X, r_array)"
   ]
  },
  {
   "cell_type": "code",
   "execution_count": 6,
   "metadata": {},
   "outputs": [],
   "source": [
    "Tv_p_X_10 = mp.Tv(10, Vr_p_X['To'], Vr_p_X['we'], Vr_p_X['wexe'])/WAVENUMBER_PER_EV\n",
    "Tv_pp_X_10 = mp.Tv(10, Vr_pp_X['To'], Vr_pp_X['we'], Vr_pp_X['wexe'])/WAVENUMBER_PER_EV"
   ]
  },
  {
   "cell_type": "code",
   "execution_count": 7,
   "metadata": {},
   "outputs": [
    {
     "data": {
      "image/png": "[encoded data removed]",
      "text/plain": [
       "<Figure size 432x288 with 1 Axes>"
      ]
     },
     "metadata": {
      "needs_background": "light"
     },
     "output_type": "display_data"
    }
   ],
   "source": [
    "fig,  ax1 = plt.subplots(1)\n",
    "ax1.plot(r_array, Vr_p_X_array, 'black',\n",
    "         r_array, Vr_pp_X_array, 'black',\n",
    "         r_array, psi_p_X + Tv_p_X_10, 'black', \n",
    "         r_array, psi_pp_X + Tv_pp_X_10, 'black', lw=1)\n",
    "ax1.plot([r_array[0], r_array[-1]], [Tv_p_X_10,Tv_p_X_10], 'black', \n",
    "         [r_array[0], r_array[-1]], [Tv_pp_X_10,Tv_pp_X_10], 'black', ls='--', lw=.5)\n",
    "ax1.set_xlim(.5, 2.0)\n",
    "ax1.set_ylim(-0.5, 35)\n",
    "ax1.set_ylabel('Energy (eV)')\n",
    "ax1.set_xlabel('Internuclear distance ($\\AA$)')\n",
    "plt.show()"
   ]
  },
  {
   "cell_type": "markdown",
   "metadata": {},
   "source": [
    "### For Delta r, \n",
    "### N2 X1Sigmag+ to N2+ X2Sigmag+, Delta r >= 0.45\n",
    "### N2 X1Sigmag+ to N2+ A2Piu+, Delta r >= 0.50\n",
    "### N2 X1Sigmag+ to N2+ B2Sigmau+, Delta r >= 0.45"
   ]
  },
  {
   "cell_type": "markdown",
   "metadata": {},
   "source": [
    "# Compute Overlap Matrix and Check for Identity"
   ]
  },
  {
   "cell_type": "code",
   "execution_count": 8,
   "metadata": {},
   "outputs": [],
   "source": [
    "from datetime import datetime"
   ]
  },
  {
   "cell_type": "code",
   "execution_count": 9,
   "metadata": {},
   "outputs": [
    {
     "name": "stdout",
     "output_type": "stream",
     "text": [
      "0:00:15.174052\n"
     ]
    }
   ],
   "source": [
    "start = datetime.now()\n",
    "overlap_X = thomson.fcf_v(vp_max=10, vpp_max=10,\n",
    "                          diatomic_constants_p=N2_DIATOMIC_CONSTANTS['N2(X1Sigmag+)'],\n",
    "                          diatomic_constants_pp=N2_DIATOMIC_CONSTANTS['N2(X1Sigmag+)'],\n",
    "                          reduced_mass=MU_NITROGEN_KG,\n",
    "                          k=17,\n",
    "                          delta_r=.5,\n",
    "                          dbug=False)\n",
    "stop = datetime.now()\n",
    "print(stop - start)"
   ]
  },
  {
   "cell_type": "code",
   "execution_count": 10,
   "metadata": {},
   "outputs": [
    {
     "data": {
      "text/plain": [
       "4.115206214252541e-07"
      ]
     },
     "execution_count": 10,
     "metadata": {},
     "output_type": "execute_result"
    }
   ],
   "source": [
    "thomson.rmse_diagonal_elements(np.asarray(overlap_X))"
   ]
  },
  {
   "cell_type": "code",
   "execution_count": 11,
   "metadata": {},
   "outputs": [
    {
     "name": "stdout",
     "output_type": "stream",
     "text": [
      "i: 1; rmse: 1.2434497875801753e-14\n",
      "i: 2; rmse: 5.844456963317449e-14\n",
      "i: 3; rmse: 8.705960933385516e-14\n",
      "i: 4; rmse: 1.3228087202133447e-13\n",
      "i: 5; rmse: 8.628411822787013e-12\n",
      "i: 6; rmse: 2.0702115185528743e-11\n",
      "i: 7; rmse: 7.328597843980401e-10\n",
      "i: 8; rmse: 2.784505527958912e-09\n",
      "i: 9; rmse: 4.102019172911683e-08\n",
      "i: 10; rmse: 2.1819391570116893e-07\n",
      "i: 11; rmse: 4.115206214252541e-07\n"
     ]
    }
   ],
   "source": [
    "thomson.incremental_rmse_diagonal_elements(np.asarray(overlap_X))"
   ]
  },
  {
   "cell_type": "code",
   "execution_count": 12,
   "metadata": {},
   "outputs": [
    {
     "data": {
      "text/plain": [
       "6.141937313299019e-09"
      ]
     },
     "execution_count": 12,
     "metadata": {},
     "output_type": "execute_result"
    }
   ],
   "source": [
    "thomson.rmse_off_diagonal_elements(np.asarray(overlap_X))"
   ]
  },
  {
   "cell_type": "code",
   "execution_count": 13,
   "metadata": {},
   "outputs": [
    {
     "name": "stdout",
     "output_type": "stream",
     "text": [
      "i: 2; rmse: 2.074522339725268e-25\n",
      "i: 3; rmse: 7.19577869861297e-24\n",
      "i: 4; rmse: 1.4098660106951825e-21\n",
      "i: 5; rmse: 5.293939028789621e-20\n",
      "i: 6; rmse: 1.3997629509065152e-17\n",
      "i: 7; rmse: 1.251273893768826e-15\n",
      "i: 8; rmse: 3.987297853306026e-15\n",
      "i: 9; rmse: 2.0832045321553765e-13\n",
      "i: 10; rmse: 5.172114071122606e-11\n",
      "i: 11; rmse: 6.141937313299019e-09\n"
     ]
    }
   ],
   "source": [
    "thomson.incremental_rmse_off_diagonal_elements(np.asarray(overlap_X))"
   ]
  },
  {
   "cell_type": "markdown",
   "metadata": {},
   "source": [
    "# Closure relationship for FCF\n",
    "If the FCF sum over vpp for a given vp are greater than 0.99, that's were we'll stop including cross sections\n",
    "\n",
    "TODO: we need to determine v'' for closure for all combinations of p' and p'' for v'=0-10."
   ]
  },
  {
   "cell_type": "code",
   "execution_count": 34,
   "metadata": {},
   "outputs": [],
   "source": [
    "def fcf_closure(fcf):\n",
    "    vp_max = len(fcf)-1\n",
    "    closure = []\n",
    "    for vp in np.arange(vp_max):\n",
    "        fcf_sum = 0\n",
    "        vpp = 0\n",
    "        for vpp in np.arange(11):\n",
    "            if fcf_sum < 0.99:\n",
    "                fcf_sum += fcf[vp][vpp]\n",
    "            else:\n",
    "                break\n",
    "        if fcf_sum > 0.99:\n",
    "            closure.append('vp: {}; vpp: {}; sum_fcf = {} > 0.99'.format(vp, vpp-1, fcf_sum))\n",
    "        elif fcf_sum < 0.99:\n",
    "            closure.append('vp: {}; vpp: {}; sum_fcf = {} < 0.99; FAILS'.format(vp, vpp-1, fcf_sum))\n",
    "    return closure"
   ]
  },
  {
   "cell_type": "markdown",
   "metadata": {},
   "source": [
    "# Computing closure for p' to p'' states"
   ]
  },
  {
   "cell_type": "code",
   "execution_count": 41,
   "metadata": {},
   "outputs": [],
   "source": [
    "p_list = ['N2(X1Sigmag+)', 'N2(A3Sigmau+)', 'N2(B3Pig)', 'N2(W3Deltau)', 'N2(Bp3Sigmau-)', 'N2(ap1Sigmau-)', 'N2(a1Pig)', 'N2(w1Deltau)', 'N2(C3Piu)']\n",
    "pp_list = ['N2+(X2Sigmag+)', 'N2+(A2Piu)', 'N2+(B2Sigmau+)', 'N2+(C2Sigmau+)']"
   ]
  },
  {
   "cell_type": "code",
   "execution_count": 40,
   "metadata": {},
   "outputs": [],
   "source": []
  },
  {
   "cell_type": "markdown",
   "metadata": {},
   "source": [
    "## X1Sigmag+"
   ]
  },
  {
   "cell_type": "code",
   "execution_count": 65,
   "metadata": {},
   "outputs": [],
   "source": [
    "fcf_X1 = []\n",
    "for pp in pp_list:\n",
    "    fcf_X1.append(thomson.fcf_v(vp_max=10, vpp_max=10,\n",
    "                          diatomic_constants_p=N2_DIATOMIC_CONSTANTS['N2(X1Sigmag+)'],\n",
    "                          diatomic_constants_pp=N2_DIATOMIC_CONSTANTS[pp],\n",
    "                          reduced_mass=MU_NITROGEN_KG,\n",
    "                          k=17,\n",
    "                          delta_r=.5,\n",
    "                          dbug=False))"
   ]
  },
  {
   "cell_type": "code",
   "execution_count": 66,
   "metadata": {},
   "outputs": [
    {
     "data": {
      "text/plain": [
       "['vp: 0; vpp: 1; sum_fcf = 0.997058799911257 > 0.99',\n",
       " 'vp: 1; vpp: 3; sum_fcf = 0.9998834884690369 > 0.99',\n",
       " 'vp: 2; vpp: 4; sum_fcf = 0.9995408773280239 > 0.99',\n",
       " 'vp: 3; vpp: 5; sum_fcf = 0.9986500107497955 > 0.99',\n",
       " 'vp: 4; vpp: 6; sum_fcf = 0.9967376292130717 > 0.99',\n",
       " 'vp: 5; vpp: 7; sum_fcf = 0.9931604602006356 > 0.99',\n",
       " 'vp: 6; vpp: 9; sum_fcf = 0.9992802887358266 > 0.99',\n",
       " 'vp: 7; vpp: 9; sum_fcf = 0.9987654220079796 > 0.99',\n",
       " 'vp: 8; vpp: 9; sum_fcf = 0.9643045736880783 < 0.99; FAILS',\n",
       " 'vp: 9; vpp: 9; sum_fcf = 0.7323236121903888 < 0.99; FAILS']"
      ]
     },
     "execution_count": 66,
     "metadata": {},
     "output_type": "execute_result"
    }
   ],
   "source": [
    "fcf_closure(fcf_X1[0])"
   ]
  },
  {
   "cell_type": "code",
   "execution_count": 67,
   "metadata": {},
   "outputs": [
    {
     "data": {
      "text/plain": [
       "['vp: 0; vpp: 5; sum_fcf = 0.9938864563071661 > 0.99',\n",
       " 'vp: 1; vpp: 7; sum_fcf = 0.9907279254231203 > 0.99',\n",
       " 'vp: 2; vpp: 9; sum_fcf = 0.9900026078737536 > 0.99',\n",
       " 'vp: 3; vpp: 9; sum_fcf = 0.9716748847740315 < 0.99; FAILS',\n",
       " 'vp: 4; vpp: 9; sum_fcf = 0.86542311893636 < 0.99; FAILS',\n",
       " 'vp: 5; vpp: 9; sum_fcf = 0.685323767356875 < 0.99; FAILS',\n",
       " 'vp: 6; vpp: 9; sum_fcf = 0.6136357458355904 < 0.99; FAILS',\n",
       " 'vp: 7; vpp: 9; sum_fcf = 0.611607884222799 < 0.99; FAILS',\n",
       " 'vp: 8; vpp: 9; sum_fcf = 0.5328664391653462 < 0.99; FAILS',\n",
       " 'vp: 9; vpp: 9; sum_fcf = 0.5402741504811926 < 0.99; FAILS']"
      ]
     },
     "execution_count": 67,
     "metadata": {},
     "output_type": "execute_result"
    }
   ],
   "source": [
    "fcf_closure(fcf_X1[1])"
   ]
  },
  {
   "cell_type": "code",
   "execution_count": 68,
   "metadata": {},
   "outputs": [
    {
     "data": {
      "text/plain": [
       "['vp: 0; vpp: 1; sum_fcf = 0.9961254039105287 > 0.99',\n",
       " 'vp: 1; vpp: 2; sum_fcf = 0.9917624422914812 > 0.99',\n",
       " 'vp: 2; vpp: 4; sum_fcf = 0.9997594280161222 > 0.99',\n",
       " 'vp: 3; vpp: 5; sum_fcf = 0.9992726752163584 > 0.99',\n",
       " 'vp: 4; vpp: 6; sum_fcf = 0.9983351655411763 > 0.99',\n",
       " 'vp: 5; vpp: 6; sum_fcf = 0.990234846455668 > 0.99',\n",
       " 'vp: 6; vpp: 7; sum_fcf = 0.9922290814958401 > 0.99',\n",
       " 'vp: 7; vpp: 8; sum_fcf = 0.9926802762928186 > 0.99',\n",
       " 'vp: 8; vpp: 9; sum_fcf = 0.9910648645307024 > 0.99',\n",
       " 'vp: 9; vpp: 9; sum_fcf = 0.982039876366751 < 0.99; FAILS']"
      ]
     },
     "execution_count": 68,
     "metadata": {},
     "output_type": "execute_result"
    }
   ],
   "source": [
    "fcf_closure(fcf_X1[2])"
   ]
  },
  {
   "cell_type": "markdown",
   "metadata": {},
   "source": [
    "## A3Sigmau+"
   ]
  },
  {
   "cell_type": "code",
   "execution_count": 61,
   "metadata": {},
   "outputs": [],
   "source": [
    "fcf_A3 = []\n",
    "for pp in pp_list:\n",
    "    fcf_A3.append(thomson.fcf_v(vp_max=10, vpp_max=10,\n",
    "                          diatomic_constants_p=N2_DIATOMIC_CONSTANTS['N2(A3Sigmau+)'],\n",
    "                          diatomic_constants_pp=N2_DIATOMIC_CONSTANTS[pp],\n",
    "                          reduced_mass=MU_NITROGEN_KG,\n",
    "                          k=17,\n",
    "                          delta_r=.5,\n",
    "                          dbug=False))"
   ]
  },
  {
   "cell_type": "code",
   "execution_count": 63,
   "metadata": {},
   "outputs": [
    {
     "data": {
      "text/plain": [
       "['vp: 0; vpp: 5; sum_fcf = 0.9982450765951602 > 0.99',\n",
       " 'vp: 1; vpp: 6; sum_fcf = 0.9905894209800232 > 0.99',\n",
       " 'vp: 2; vpp: 8; sum_fcf = 0.9971822034169983 > 0.99',\n",
       " 'vp: 3; vpp: 9; sum_fcf = 0.9920823749049258 > 0.99',\n",
       " 'vp: 4; vpp: 9; sum_fcf = 0.9818146149954714 < 0.99; FAILS',\n",
       " 'vp: 5; vpp: 9; sum_fcf = 0.8132112486258044 < 0.99; FAILS',\n",
       " 'vp: 6; vpp: 9; sum_fcf = 0.49516476136413745 < 0.99; FAILS',\n",
       " 'vp: 7; vpp: 9; sum_fcf = 0.47023683367421565 < 0.99; FAILS',\n",
       " 'vp: 8; vpp: 9; sum_fcf = 0.34780361344208643 < 0.99; FAILS',\n",
       " 'vp: 9; vpp: 9; sum_fcf = 0.3232132449784663 < 0.99; FAILS']"
      ]
     },
     "execution_count": 63,
     "metadata": {},
     "output_type": "execute_result"
    }
   ],
   "source": [
    "fcf_closure(fcf_A3[1])"
   ]
  },
  {
   "cell_type": "code",
   "execution_count": 94,
   "metadata": {},
   "outputs": [
    {
     "data": {
      "text/plain": [
       "['vp: 0; vpp: 3; sum_fcf = 0.9961313360435532 > 0.99',\n",
       " 'vp: 1; vpp: 5; sum_fcf = 0.9963874999428222 > 0.99',\n",
       " 'vp: 2; vpp: 7; sum_fcf = 0.9947614662196247 > 0.99',\n",
       " 'vp: 3; vpp: 9; sum_fcf = 0.9967470917901096 > 0.99',\n",
       " 'vp: 4; vpp: 9; sum_fcf = 0.9898036777575396 < 0.99; FAILS',\n",
       " 'vp: 5; vpp: 9; sum_fcf = 0.9153509516477826 < 0.99; FAILS',\n",
       " 'vp: 6; vpp: 9; sum_fcf = 0.7587562285364143 < 0.99; FAILS',\n",
       " 'vp: 7; vpp: 9; sum_fcf = 0.5723998964752812 < 0.99; FAILS',\n",
       " 'vp: 8; vpp: 9; sum_fcf = 0.5585406091423898 < 0.99; FAILS',\n",
       " 'vp: 9; vpp: 9; sum_fcf = 0.4995196108888875 < 0.99; FAILS']"
      ]
     },
     "execution_count": 94,
     "metadata": {},
     "output_type": "execute_result"
    }
   ],
   "source": [
    "fcf_closure(fcf_A3[3])"
   ]
  },
  {
   "cell_type": "markdown",
   "metadata": {},
   "source": [
    "## B3Pig"
   ]
  },
  {
   "cell_type": "code",
   "execution_count": 77,
   "metadata": {},
   "outputs": [],
   "source": [
    "fcf_B3 = []\n",
    "for pp in pp_list:\n",
    "    fcf_B3.append(thomson.fcf_v(vp_max=10, vpp_max=10,\n",
    "                          diatomic_constants_p=N2_DIATOMIC_CONSTANTS['N2(B3Pig)'],\n",
    "                          diatomic_constants_pp=N2_DIATOMIC_CONSTANTS[pp],\n",
    "                          reduced_mass=MU_NITROGEN_KG,\n",
    "                          k=17,\n",
    "                          delta_r=.5,\n",
    "                          dbug=False))"
   ]
  },
  {
   "cell_type": "code",
   "execution_count": 78,
   "metadata": {},
   "outputs": [
    {
     "data": {
      "text/plain": [
       "['vp: 0; vpp: 5; sum_fcf = 0.9989916730943961 > 0.99',\n",
       " 'vp: 1; vpp: 6; sum_fcf = 0.9945385979627724 > 0.99',\n",
       " 'vp: 2; vpp: 8; sum_fcf = 0.9985903709593055 > 0.99',\n",
       " 'vp: 3; vpp: 9; sum_fcf = 0.996064966636672 > 0.99',\n",
       " 'vp: 4; vpp: 9; sum_fcf = 0.9909191652560336 > 0.99',\n",
       " 'vp: 5; vpp: 9; sum_fcf = 0.8802193019968756 < 0.99; FAILS',\n",
       " 'vp: 6; vpp: 9; sum_fcf = 0.5618123852234389 < 0.99; FAILS',\n",
       " 'vp: 7; vpp: 9; sum_fcf = 0.4813093118220114 < 0.99; FAILS',\n",
       " 'vp: 8; vpp: 9; sum_fcf = 0.37779566323231495 < 0.99; FAILS',\n",
       " 'vp: 9; vpp: 9; sum_fcf = 0.3613075943339519 < 0.99; FAILS']"
      ]
     },
     "execution_count": 78,
     "metadata": {},
     "output_type": "execute_result"
    }
   ],
   "source": [
    "fcf_closure(fcf_B3[0])"
   ]
  },
  {
   "cell_type": "code",
   "execution_count": 95,
   "metadata": {},
   "outputs": [
    {
     "data": {
      "text/plain": [
       "['vp: 0; vpp: 7; sum_fcf = 0.9941348948558748 > 0.99',\n",
       " 'vp: 1; vpp: 9; sum_fcf = 0.9905959944824517 > 0.99',\n",
       " 'vp: 2; vpp: 9; sum_fcf = 0.9610152359314074 < 0.99; FAILS',\n",
       " 'vp: 3; vpp: 9; sum_fcf = 0.9003746114951535 < 0.99; FAILS',\n",
       " 'vp: 4; vpp: 9; sum_fcf = 0.825240846779364 < 0.99; FAILS',\n",
       " 'vp: 5; vpp: 9; sum_fcf = 0.7753395651155556 < 0.99; FAILS',\n",
       " 'vp: 6; vpp: 9; sum_fcf = 0.7736914944994989 < 0.99; FAILS',\n",
       " 'vp: 7; vpp: 9; sum_fcf = 0.7915913741104966 < 0.99; FAILS',\n",
       " 'vp: 8; vpp: 9; sum_fcf = 0.7628485293598724 < 0.99; FAILS',\n",
       " 'vp: 9; vpp: 9; sum_fcf = 0.7453906254592171 < 0.99; FAILS']"
      ]
     },
     "execution_count": 95,
     "metadata": {},
     "output_type": "execute_result"
    }
   ],
   "source": [
    "fcf_closure(fcf_B3[3])"
   ]
  },
  {
   "cell_type": "markdown",
   "metadata": {},
   "source": [
    "## W3Deltau"
   ]
  },
  {
   "cell_type": "code",
   "execution_count": 79,
   "metadata": {},
   "outputs": [],
   "source": [
    "fcf_W3 = []\n",
    "for pp in pp_list:\n",
    "    fcf_W3.append(thomson.fcf_v(vp_max=10, vpp_max=10,\n",
    "                          diatomic_constants_p=N2_DIATOMIC_CONSTANTS['N2(W3Deltau)'],\n",
    "                          diatomic_constants_pp=N2_DIATOMIC_CONSTANTS[pp],\n",
    "                          reduced_mass=MU_NITROGEN_KG,\n",
    "                          k=17,\n",
    "                          delta_r=.5,\n",
    "                          dbug=False)) "
   ]
  },
  {
   "cell_type": "code",
   "execution_count": 80,
   "metadata": {},
   "outputs": [
    {
     "data": {
      "text/plain": [
       "['vp: 0; vpp: 4; sum_fcf = 0.9902133629625113 > 0.99',\n",
       " 'vp: 1; vpp: 6; sum_fcf = 0.9949942076674905 > 0.99',\n",
       " 'vp: 2; vpp: 8; sum_fcf = 0.9988273679394052 > 0.99',\n",
       " 'vp: 3; vpp: 9; sum_fcf = 0.9968756139074334 > 0.99',\n",
       " 'vp: 4; vpp: 9; sum_fcf = 0.9931206899792332 > 0.99',\n",
       " 'vp: 5; vpp: 9; sum_fcf = 0.8996883113962235 < 0.99; FAILS',\n",
       " 'vp: 6; vpp: 9; sum_fcf = 0.5929019896359622 < 0.99; FAILS',\n",
       " 'vp: 7; vpp: 9; sum_fcf = 0.4820854342264164 < 0.99; FAILS',\n",
       " 'vp: 8; vpp: 9; sum_fcf = 0.398599144294156 < 0.99; FAILS',\n",
       " 'vp: 9; vpp: 9; sum_fcf = 0.37160702741765916 < 0.99; FAILS']"
      ]
     },
     "execution_count": 80,
     "metadata": {},
     "output_type": "execute_result"
    }
   ],
   "source": [
    "fcf_closure(fcf_W3[1])"
   ]
  },
  {
   "cell_type": "code",
   "execution_count": 96,
   "metadata": {},
   "outputs": [
    {
     "data": {
      "text/plain": [
       "['vp: 0; vpp: 2; sum_fcf = 0.9931496582751279 > 0.99',\n",
       " 'vp: 1; vpp: 5; sum_fcf = 0.9981812335524438 > 0.99',\n",
       " 'vp: 2; vpp: 6; sum_fcf = 0.9926282159664764 > 0.99',\n",
       " 'vp: 3; vpp: 9; sum_fcf = 0.998427915668 > 0.99',\n",
       " 'vp: 4; vpp: 9; sum_fcf = 0.9952780974368995 > 0.99',\n",
       " 'vp: 5; vpp: 9; sum_fcf = 0.9401881964687171 < 0.99; FAILS',\n",
       " 'vp: 6; vpp: 9; sum_fcf = 0.8416156678370089 < 0.99; FAILS',\n",
       " 'vp: 7; vpp: 9; sum_fcf = 0.5773332381545249 < 0.99; FAILS',\n",
       " 'vp: 8; vpp: 9; sum_fcf = 0.5468469925466936 < 0.99; FAILS',\n",
       " 'vp: 9; vpp: 9; sum_fcf = 0.5198590291378434 < 0.99; FAILS']"
      ]
     },
     "execution_count": 96,
     "metadata": {},
     "output_type": "execute_result"
    }
   ],
   "source": [
    "fcf_closure(fcf_W3[3])"
   ]
  },
  {
   "cell_type": "markdown",
   "metadata": {},
   "source": [
    "## B'3Sigmau-"
   ]
  },
  {
   "cell_type": "code",
   "execution_count": 81,
   "metadata": {},
   "outputs": [],
   "source": [
    "fcf_Bp3 = []\n",
    "for pp in pp_list:\n",
    "    fcf_Bp3.append(thomson.fcf_v(vp_max=10, vpp_max=10,\n",
    "                          diatomic_constants_p=N2_DIATOMIC_CONSTANTS['N2(Bp3Sigmau-)'],\n",
    "                          diatomic_constants_pp=N2_DIATOMIC_CONSTANTS[pp],\n",
    "                          reduced_mass=MU_NITROGEN_KG,\n",
    "                          k=17,\n",
    "                          delta_r=.5,\n",
    "                          dbug=False)) "
   ]
  },
  {
   "cell_type": "code",
   "execution_count": 82,
   "metadata": {},
   "outputs": [
    {
     "data": {
      "text/plain": [
       "['vp: 0; vpp: 4; sum_fcf = 0.9910354574639592 > 0.99',\n",
       " 'vp: 1; vpp: 6; sum_fcf = 0.9955484923189196 > 0.99',\n",
       " 'vp: 2; vpp: 8; sum_fcf = 0.9990168416249309 > 0.99',\n",
       " 'vp: 3; vpp: 9; sum_fcf = 0.9974412757220753 > 0.99',\n",
       " 'vp: 4; vpp: 9; sum_fcf = 0.9944864504980647 > 0.99',\n",
       " 'vp: 5; vpp: 9; sum_fcf = 0.9136594599094228 < 0.99; FAILS',\n",
       " 'vp: 6; vpp: 9; sum_fcf = 0.6195004392684085 < 0.99; FAILS',\n",
       " 'vp: 7; vpp: 9; sum_fcf = 0.48261084598963944 < 0.99; FAILS',\n",
       " 'vp: 8; vpp: 9; sum_fcf = 0.4164503959622943 < 0.99; FAILS',\n",
       " 'vp: 9; vpp: 9; sum_fcf = 0.37620985121077627 < 0.99; FAILS']"
      ]
     },
     "execution_count": 82,
     "metadata": {},
     "output_type": "execute_result"
    }
   ],
   "source": [
    "fcf_closure(fcf_Bp3[1])"
   ]
  },
  {
   "cell_type": "code",
   "execution_count": 97,
   "metadata": {},
   "outputs": [
    {
     "data": {
      "text/plain": [
       "['vp: 0; vpp: 2; sum_fcf = 0.9938363300019735 > 0.99',\n",
       " 'vp: 1; vpp: 5; sum_fcf = 0.9983440907298371 > 0.99',\n",
       " 'vp: 2; vpp: 6; sum_fcf = 0.9933641610329518 > 0.99',\n",
       " 'vp: 3; vpp: 9; sum_fcf = 0.9984281171866682 > 0.99',\n",
       " 'vp: 4; vpp: 9; sum_fcf = 0.9955621661223923 > 0.99',\n",
       " 'vp: 5; vpp: 9; sum_fcf = 0.942379225524622 < 0.99; FAILS',\n",
       " 'vp: 6; vpp: 9; sum_fcf = 0.8554867672680518 < 0.99; FAILS',\n",
       " 'vp: 7; vpp: 9; sum_fcf = 0.5783304849948522 < 0.99; FAILS',\n",
       " 'vp: 8; vpp: 9; sum_fcf = 0.5403312925340905 < 0.99; FAILS',\n",
       " 'vp: 9; vpp: 9; sum_fcf = 0.5160873518653712 < 0.99; FAILS']"
      ]
     },
     "execution_count": 97,
     "metadata": {},
     "output_type": "execute_result"
    }
   ],
   "source": [
    "fcf_closure(fcf_Bp3[3])"
   ]
  },
  {
   "cell_type": "markdown",
   "metadata": {},
   "source": [
    "## a'1Sigmau-"
   ]
  },
  {
   "cell_type": "code",
   "execution_count": 83,
   "metadata": {},
   "outputs": [],
   "source": [
    "fcf_ap1 = []\n",
    "for pp in pp_list:\n",
    "    fcf_ap1.append(thomson.fcf_v(vp_max=10, vpp_max=10,\n",
    "                          diatomic_constants_p=N2_DIATOMIC_CONSTANTS['N2(ap1Sigmau-)'],\n",
    "                          diatomic_constants_pp=N2_DIATOMIC_CONSTANTS[pp],\n",
    "                          reduced_mass=MU_NITROGEN_KG,\n",
    "                          k=17,\n",
    "                          delta_r=.5,\n",
    "                          dbug=False)) "
   ]
  },
  {
   "cell_type": "code",
   "execution_count": 88,
   "metadata": {},
   "outputs": [
    {
     "data": {
      "text/plain": [
       "['vp: 0; vpp: 4; sum_fcf = 0.9910257717095987 > 0.99',\n",
       " 'vp: 1; vpp: 6; sum_fcf = 0.9948728738122737 > 0.99',\n",
       " 'vp: 2; vpp: 8; sum_fcf = 0.9985529865882862 > 0.99',\n",
       " 'vp: 3; vpp: 9; sum_fcf = 0.9963846481773835 > 0.99',\n",
       " 'vp: 4; vpp: 9; sum_fcf = 0.9925252076161638 > 0.99',\n",
       " 'vp: 5; vpp: 9; sum_fcf = 0.9102727872124576 < 0.99; FAILS',\n",
       " 'vp: 6; vpp: 9; sum_fcf = 0.6414011395965846 < 0.99; FAILS',\n",
       " 'vp: 7; vpp: 9; sum_fcf = 0.5051953966930143 < 0.99; FAILS',\n",
       " 'vp: 8; vpp: 9; sum_fcf = 0.45687433651902554 < 0.99; FAILS',\n",
       " 'vp: 9; vpp: 9; sum_fcf = 0.39699048733612835 < 0.99; FAILS']"
      ]
     },
     "execution_count": 88,
     "metadata": {},
     "output_type": "execute_result"
    }
   ],
   "source": [
    "fcf_closure(fcf_ap1[1])"
   ]
  },
  {
   "cell_type": "code",
   "execution_count": 98,
   "metadata": {},
   "outputs": [
    {
     "data": {
      "text/plain": [
       "['vp: 0; vpp: 2; sum_fcf = 0.9938786571695724 > 0.99',\n",
       " 'vp: 1; vpp: 5; sum_fcf = 0.9977275642574791 > 0.99',\n",
       " 'vp: 2; vpp: 6; sum_fcf = 0.9914821098448463 > 0.99',\n",
       " 'vp: 3; vpp: 9; sum_fcf = 0.9966515641652415 > 0.99',\n",
       " 'vp: 4; vpp: 9; sum_fcf = 0.9918488213446041 > 0.99',\n",
       " 'vp: 5; vpp: 9; sum_fcf = 0.9207143031595868 < 0.99; FAILS',\n",
       " 'vp: 6; vpp: 9; sum_fcf = 0.83659752315894 < 0.99; FAILS',\n",
       " 'vp: 7; vpp: 9; sum_fcf = 0.5380367209135818 < 0.99; FAILS',\n",
       " 'vp: 8; vpp: 9; sum_fcf = 0.5005894757777712 < 0.99; FAILS',\n",
       " 'vp: 9; vpp: 9; sum_fcf = 0.4759867213006288 < 0.99; FAILS']"
      ]
     },
     "execution_count": 98,
     "metadata": {},
     "output_type": "execute_result"
    }
   ],
   "source": [
    "fcf_closure(fcf_ap1[3])"
   ]
  },
  {
   "cell_type": "markdown",
   "metadata": {},
   "source": [
    "## a1Pig"
   ]
  },
  {
   "cell_type": "code",
   "execution_count": 85,
   "metadata": {},
   "outputs": [],
   "source": [
    "fcf_a1 = []\n",
    "for pp in pp_list:\n",
    "    fcf_a1.append(thomson.fcf_v(vp_max=10, vpp_max=10,\n",
    "                          diatomic_constants_p=N2_DIATOMIC_CONSTANTS['N2(a1Pig)'],\n",
    "                          diatomic_constants_pp=N2_DIATOMIC_CONSTANTS[pp],\n",
    "                          reduced_mass=MU_NITROGEN_KG,\n",
    "                          k=17,\n",
    "                          delta_r=.5,\n",
    "                          dbug=False)) "
   ]
  },
  {
   "cell_type": "code",
   "execution_count": 89,
   "metadata": {},
   "outputs": [
    {
     "data": {
      "text/plain": [
       "['vp: 0; vpp: 5; sum_fcf = 0.9945847859112319 > 0.99',\n",
       " 'vp: 1; vpp: 7; sum_fcf = 0.9960099896295331 > 0.99',\n",
       " 'vp: 2; vpp: 9; sum_fcf = 0.9984008326169683 > 0.99',\n",
       " 'vp: 3; vpp: 9; sum_fcf = 0.9956350206735447 > 0.99',\n",
       " 'vp: 4; vpp: 9; sum_fcf = 0.9423998623916847 < 0.99; FAILS',\n",
       " 'vp: 5; vpp: 9; sum_fcf = 0.7224472553366127 < 0.99; FAILS',\n",
       " 'vp: 6; vpp: 9; sum_fcf = 0.5216388998639153 < 0.99; FAILS',\n",
       " 'vp: 7; vpp: 9; sum_fcf = 0.5097248865950738 < 0.99; FAILS',\n",
       " 'vp: 8; vpp: 9; sum_fcf = 0.40424495507482927 < 0.99; FAILS',\n",
       " 'vp: 9; vpp: 9; sum_fcf = 0.38172384747792115 < 0.99; FAILS']"
      ]
     },
     "execution_count": 89,
     "metadata": {},
     "output_type": "execute_result"
    }
   ],
   "source": [
    "fcf_closure(fcf_a1[0])"
   ]
  },
  {
   "cell_type": "code",
   "execution_count": 99,
   "metadata": {},
   "outputs": [
    {
     "data": {
      "text/plain": [
       "['vp: 0; vpp: 6; sum_fcf = 0.9911904234780348 > 0.99',\n",
       " 'vp: 1; vpp: 9; sum_fcf = 0.9908397849359006 > 0.99',\n",
       " 'vp: 2; vpp: 9; sum_fcf = 0.9620718629177024 < 0.99; FAILS',\n",
       " 'vp: 3; vpp: 9; sum_fcf = 0.9028873432212046 < 0.99; FAILS',\n",
       " 'vp: 4; vpp: 9; sum_fcf = 0.8292336900912148 < 0.99; FAILS',\n",
       " 'vp: 5; vpp: 9; sum_fcf = 0.7774105772395271 < 0.99; FAILS',\n",
       " 'vp: 6; vpp: 9; sum_fcf = 0.7759601611064806 < 0.99; FAILS',\n",
       " 'vp: 7; vpp: 9; sum_fcf = 0.787696099294161 < 0.99; FAILS',\n",
       " 'vp: 8; vpp: 9; sum_fcf = 0.7122034223901539 < 0.99; FAILS',\n",
       " 'vp: 9; vpp: 9; sum_fcf = 0.6434007981341511 < 0.99; FAILS']"
      ]
     },
     "execution_count": 99,
     "metadata": {},
     "output_type": "execute_result"
    }
   ],
   "source": [
    "fcf_closure(fcf_a1[3])"
   ]
  },
  {
   "cell_type": "markdown",
   "metadata": {},
   "source": [
    "## w1Deltau"
   ]
  },
  {
   "cell_type": "code",
   "execution_count": 90,
   "metadata": {},
   "outputs": [],
   "source": [
    "fcf_w1 = []\n",
    "for pp in pp_list:\n",
    "    fcf_w1.append(thomson.fcf_v(vp_max=10, vpp_max=10,\n",
    "                          diatomic_constants_p=N2_DIATOMIC_CONSTANTS['N2(w1Deltau)'],\n",
    "                          diatomic_constants_pp=N2_DIATOMIC_CONSTANTS[pp],\n",
    "                          reduced_mass=MU_NITROGEN_KG,\n",
    "                          k=17,\n",
    "                          delta_r=.5,\n",
    "                          dbug=False)) "
   ]
  },
  {
   "cell_type": "code",
   "execution_count": 91,
   "metadata": {},
   "outputs": [
    {
     "data": {
      "text/plain": [
       "['vp: 0; vpp: 4; sum_fcf = 0.9969633399752227 > 0.99',\n",
       " 'vp: 1; vpp: 6; sum_fcf = 0.9990206443865781 > 0.99',\n",
       " 'vp: 2; vpp: 7; sum_fcf = 0.9969669371984495 > 0.99',\n",
       " 'vp: 3; vpp: 8; sum_fcf = 0.9929413124537944 > 0.99',\n",
       " 'vp: 4; vpp: 9; sum_fcf = 0.999408493004598 > 0.99',\n",
       " 'vp: 5; vpp: 9; sum_fcf = 0.9764799782301534 < 0.99; FAILS',\n",
       " 'vp: 6; vpp: 9; sum_fcf = 0.7850808203836712 < 0.99; FAILS',\n",
       " 'vp: 7; vpp: 9; sum_fcf = 0.4861690693725154 < 0.99; FAILS',\n",
       " 'vp: 8; vpp: 9; sum_fcf = 0.47062752576821476 < 0.99; FAILS',\n",
       " 'vp: 9; vpp: 9; sum_fcf = 0.35554192781269534 < 0.99; FAILS']"
      ]
     },
     "execution_count": 91,
     "metadata": {},
     "output_type": "execute_result"
    }
   ],
   "source": [
    "fcf_closure(fcf_w1[1])"
   ]
  },
  {
   "cell_type": "code",
   "execution_count": 100,
   "metadata": {},
   "outputs": [
    {
     "data": {
      "text/plain": [
       "['vp: 0; vpp: 2; sum_fcf = 0.9971636744467197 > 0.99',\n",
       " 'vp: 1; vpp: 5; sum_fcf = 0.9984789069994857 > 0.99',\n",
       " 'vp: 2; vpp: 6; sum_fcf = 0.9952394914416748 > 0.99',\n",
       " 'vp: 3; vpp: 9; sum_fcf = 0.9970438344433785 > 0.99',\n",
       " 'vp: 4; vpp: 9; sum_fcf = 0.9939292987209118 > 0.99',\n",
       " 'vp: 5; vpp: 9; sum_fcf = 0.9546205507914467 < 0.99; FAILS',\n",
       " 'vp: 6; vpp: 9; sum_fcf = 0.913883112300261 < 0.99; FAILS',\n",
       " 'vp: 7; vpp: 9; sum_fcf = 0.6246560968288667 < 0.99; FAILS',\n",
       " 'vp: 8; vpp: 9; sum_fcf = 0.5367019540684163 < 0.99; FAILS',\n",
       " 'vp: 9; vpp: 9; sum_fcf = 0.4760628922927552 < 0.99; FAILS']"
      ]
     },
     "execution_count": 100,
     "metadata": {},
     "output_type": "execute_result"
    }
   ],
   "source": [
    "fcf_closure(fcf_w1[3])"
   ]
  },
  {
   "cell_type": "markdown",
   "metadata": {},
   "source": [
    "## C3Piu"
   ]
  },
  {
   "cell_type": "code",
   "execution_count": 92,
   "metadata": {},
   "outputs": [],
   "source": [
    "fcf_C3 = []\n",
    "for pp in pp_list:\n",
    "    fcf_C3.append(thomson.fcf_v(vp_max=10, vpp_max=10,\n",
    "                          diatomic_constants_p=N2_DIATOMIC_CONSTANTS['N2(C3Piu)'],\n",
    "                          diatomic_constants_pp=N2_DIATOMIC_CONSTANTS[pp],\n",
    "                          reduced_mass=MU_NITROGEN_KG,\n",
    "                          k=17,\n",
    "                          delta_r=.5,\n",
    "                          dbug=False)) "
   ]
  },
  {
   "cell_type": "code",
   "execution_count": 93,
   "metadata": {},
   "outputs": [
    {
     "data": {
      "text/plain": [
       "['vp: 0; vpp: 5; sum_fcf = 0.9966595662066768 > 0.99',\n",
       " 'vp: 1; vpp: 7; sum_fcf = 0.9965660883064286 > 0.99',\n",
       " 'vp: 2; vpp: 9; sum_fcf = 0.9979424178351968 > 0.99',\n",
       " 'vp: 3; vpp: 9; sum_fcf = 0.9945208371348635 > 0.99',\n",
       " 'vp: 4; vpp: 9; sum_fcf = 0.9498901469837917 < 0.99; FAILS',\n",
       " 'vp: 5; vpp: 9; sum_fcf = 0.7820094553686594 < 0.99; FAILS',\n",
       " 'vp: 6; vpp: 9; sum_fcf = 0.5928033469782766 < 0.99; FAILS',\n",
       " 'vp: 7; vpp: 9; sum_fcf = 0.5767230067707515 < 0.99; FAILS',\n",
       " 'vp: 8; vpp: 9; sum_fcf = 0.4836183412373247 < 0.99; FAILS',\n",
       " 'vp: 9; vpp: 9; sum_fcf = 0.46582008622438964 < 0.99; FAILS']"
      ]
     },
     "execution_count": 93,
     "metadata": {},
     "output_type": "execute_result"
    }
   ],
   "source": [
    "fcf_closure(fcf_C3[2])"
   ]
  },
  {
   "cell_type": "code",
   "execution_count": null,
   "metadata": {},
   "outputs": [],
   "source": []
  }
 ],
 "metadata": {
  "kernelspec": {
   "display_name": "Python 3",
   "language": "python",
   "name": "python3"
  },
  "language_info": {
   "codemirror_mode": {
    "name": "ipython",
    "version": 3
   },
   "file_extension": ".py",
   "mimetype": "text/x-python",
   "name": "python",
   "nbconvert_exporter": "python",
   "pygments_lexer": "ipython3",
   "version": "3.7.2"
  }
 },
 "nbformat": 4,
 "nbformat_minor": 2
}
