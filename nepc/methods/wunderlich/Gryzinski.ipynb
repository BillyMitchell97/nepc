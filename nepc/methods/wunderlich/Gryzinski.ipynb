{
 "cells": [
  {
   "cell_type": "code",
   "execution_count": 79,
   "metadata": {},
   "outputs": [],
   "source": [
    "from nepc import nepc\n",
    "import numpy as np\n",
    "import math\n",
    "import matplotlib.pyplot as plt\n",
    "from nepc.methods.wunderlich.gryzinski import gryzinski as gryzinski"
   ]
  },
  {
   "cell_type": "code",
   "execution_count": 80,
   "metadata": {},
   "outputs": [],
   "source": [
    "INCIDENT_ENERGY = [16.0, 16.5, 17.0, 17.5, 18.0, 18.5, 19.0, 19.5, 20.0, 20.5, 21.0, 21.5, 22.0, 22.5, 23.0, 23.5, 24.0, 24.5, 25.0, 30.0, 35.0, 40.0, 45.0, 50.0, 55.0, 60.0, 65.0, 70.0, 75.0, 80.0, 85.0, 90.0, 95.0, 100.0, 110.0, 120.0, 140.0, 160.0, 180.0, 200.0, 225.0, 250.0, 275.0, 300.0, 350.0, 400.0, 450.0, 500.0, 550.0, 600.0, 650.0, 700.0, 750.0, 800.0, 850.0, 900.0, 950.0, 1000.0]"
   ]
  },
  {
   "cell_type": "code",
   "execution_count": 81,
   "metadata": {},
   "outputs": [],
   "source": [
    "sigma_naught = 6.56e-18"
   ]
  },
  {
   "cell_type": "markdown",
   "metadata": {},
   "source": [
    "def gryzinski(N_e, E_e, E_thr, epsilon):\n",
    "    \"\"\"returns the cross section in terms of m^2\n",
    "       N_e: the effective number of equivalent electrons in the inital state of the transistion\n",
    "       E_e: inital energy of the impinging electron\n",
    "       E_thr: lower limit of the energy gain or threshold energy\n",
    "       epsilon: initial kinetic energy of the orbital electron to be excited; can be set to the ionization potential\"\"\"\n",
    "    sigma = ((N_e * sigma_naught / E_thr**2) * np.sqrt(epsilon**2 * E_e / (epsilon + E_e)**3) * \n",
    "            (1 - (E_thr / E_e))**((2*epsilon + E_thr) / (epsilon + E_thr)) * \n",
    "            ((E_thr / epsilon) + (2 / 3) * (1 - (E_thr / (2 * E_e))) * np.log(np.exp(1) + np.sqrt((E_e - E_thr) / epsilon))))\n",
    "    \n",
    "    return sigma"
   ]
  },
  {
   "cell_type": "code",
   "execution_count": 84,
   "metadata": {},
   "outputs": [],
   "source": [
    "sigma = gryzinski(\"N2(X1Sigmag+)\", \"N2+(X2Sigmag+)\", 0, 2, 0.01, INCIDENT_ENERGY, epsilon=15.581)"
   ]
  },
  {
   "cell_type": "code",
   "execution_count": 85,
   "metadata": {},
   "outputs": [
    {
     "data": {
      "text/plain": [
       "(array([  16. ,   16.5,   17. ,   17.5,   18. ,   18.5,   19. ,   19.5,\n",
       "          20. ,   20.5,   21. ,   21.5,   22. ,   22.5,   23. ,   23.5,\n",
       "          24. ,   24.5,   25. ,   30. ,   35. ,   40. ,   45. ,   50. ,\n",
       "          55. ,   60. ,   65. ,   70. ,   75. ,   80. ,   85. ,   90. ,\n",
       "          95. ,  100. ,  110. ,  120. ,  140. ,  160. ,  180. ,  200. ,\n",
       "         225. ,  250. ,  275. ,  300. ,  350. ,  400. ,  450. ,  500. ,\n",
       "         550. ,  600. ,  650. ,  700. ,  750. ,  800. ,  850. ,  900. ,\n",
       "         950. , 1000. ]),\n",
       " array([           nan, 8.99594991e-25, 3.00121580e-24, 5.62907924e-24,\n",
       "        8.56969206e-24, 1.17027208e-23, 1.49495826e-23, 1.82553627e-23,\n",
       "        2.15802453e-23, 2.48947514e-23, 2.81768101e-23, 3.14098321e-23,\n",
       "        3.45813753e-23, 3.76821886e-23, 4.07055048e-23, 4.36465084e-23,\n",
       "        4.65019263e-23, 4.92697093e-23, 5.19487824e-23, 7.40167510e-23,\n",
       "        8.87999487e-23, 9.83421660e-23, 1.04259560e-22, 1.07685959e-22,\n",
       "        1.09396467e-22, 1.09920630e-22, 1.09622970e-22, 1.08756925e-22,\n",
       "        1.07500479e-22, 1.05979774e-22, 1.04284906e-22, 1.02480610e-22,\n",
       "        1.00613592e-22, 9.87176100e-23, 9.49294427e-23, 9.12394555e-23,\n",
       "        8.43642601e-23, 7.82557988e-23, 7.28816158e-23, 6.81563730e-23,\n",
       "        6.30237749e-23, 5.86038822e-23, 5.47664795e-23, 5.14078481e-23,\n",
       "        4.58153280e-23, 4.13502522e-23, 3.77042091e-23, 3.46706040e-23,\n",
       "        3.21064946e-23, 2.99100667e-23, 2.80069269e-23, 2.63414905e-23,\n",
       "        2.48714053e-23, 2.35638407e-23, 2.23929550e-23, 2.13381295e-23,\n",
       "        2.03827115e-23, 1.95131030e-23]))"
      ]
     },
     "execution_count": 85,
     "metadata": {},
     "output_type": "execute_result"
    }
   ],
   "source": [
    "sigma"
   ]
  },
  {
   "cell_type": "code",
   "execution_count": 5,
   "metadata": {},
   "outputs": [
    {
     "data": {
      "text/plain": [
       "[<matplotlib.lines.Line2D at 0x7f3cc0399400>]"
      ]
     },
     "execution_count": 5,
     "metadata": {},
     "output_type": "execute_result"
    },
    {
     "data": {
      "image/png": "[encoded data removed]",
      "text/plain": [
       "<Figure size 432x288 with 1 Axes>"
      ]
     },
     "metadata": {
      "needs_background": "light"
     },
     "output_type": "display_data"
    }
   ],
   "source": [
    "plt.plot(sigma[0], sigma[1])"
   ]
  },
  {
   "cell_type": "code",
   "execution_count": 75,
   "metadata": {},
   "outputs": [],
   "source": [
    "from nepc import nepc\n",
    "from nepc.util.constants import WAVENUMBER_PER_EV as WAVENUMBER_PER_EV\n",
    "from nepc.util.constants import K_E as K_E\n",
    "from nepc.util.constants import N2_DIATOMIC_CONSTANTS as N2_DIATOMIC_CONSTANTS\n",
    "from nepc.methods.mp import Tv as Tv\n",
    "\n",
    "N2_VALENCE = {'N2(X1Sigmag+)': {'N2+(X2Sigmag+)': 2, 'N2+(A2Piu)': 4, 'N2+(B2Sigmau+)': 2, 'N2+(C2Sigmau+)': 0}}\n",
    "\n",
    "def gryzinski_test(p_state, pp_state, vp, vpp, fcf, electron_energy, epsilon=15.581):\n",
    "    \"\"\"returns the cross section in terms of m^2\n",
    "       N_e: the effective number of equivalent electrons in the inital state of the transistion\n",
    "       E_e: inital energy of the impinging electron\n",
    "       E_thr: lower limit of the energy gain or threshold energy\n",
    "       epsilon: initial kinetic energy of the orbital electron to be excited;\n",
    "                can be set to the ionization potential\"\"\"\n",
    "    sigma_naught = 6.56e-18\n",
    "\n",
    "    N_e = N2_VALENCE[p_state][pp_state]\n",
    "\n",
    "    p_To = N2_DIATOMIC_CONSTANTS[p_state]['To']\n",
    "    p_we = N2_DIATOMIC_CONSTANTS[p_state]['we']\n",
    "    p_wexe = N2_DIATOMIC_CONSTANTS[p_state]['wexe']\n",
    "\n",
    "    pp_To = N2_DIATOMIC_CONSTANTS[pp_state]['To']\n",
    "    pp_we = N2_DIATOMIC_CONSTANTS[pp_state]['we']\n",
    "    pp_wexe = N2_DIATOMIC_CONSTANTS[pp_state]['wexe']\n",
    "\n",
    "    Tv_vp = Tv(vp, p_To, p_we, p_wexe)\n",
    "    Tv_vpp = Tv(vpp, pp_To, pp_we, pp_wexe)\n",
    "\n",
    "    Tv_vppvp = Tv_vpp - Tv_vp\n",
    "    E_thr = float(Tv_vppvp / WAVENUMBER_PER_EV)\n",
    "\n",
    "    sigma_list = []\n",
    "    for i in electron_energy:\n",
    "        E_e = i\n",
    "        \n",
    "        T1 = (N_e * sigma_naught / E_thr**2)\n",
    "        T2 = (epsilon**2 * E_e / (epsilon + E_e)**3)**0.5\n",
    "        T3 = (1 - (E_thr / E_e))\n",
    "        T4 = ((2*epsilon + E_thr) / (epsilon + E_thr))\n",
    "        T5 = (E_thr / epsilon)\n",
    "        T6 = (2 / 3) * (1 - (E_thr / (2 * E_e)))\n",
    "        T7 = math.log(math.exp(1) + math.sqrt(abs(E_e - E_thr) / epsilon))\n",
    "        Total = T1 * T2 * (T3**T4) * (T5 + (T6 * T7))\n",
    "        \n",
    "    return T1, T2, T3, T4, T5, T6, T7, Total"
   ]
  },
  {
   "cell_type": "code",
   "execution_count": 78,
   "metadata": {},
   "outputs": [
    {
     "data": {
      "text/plain": [
       "(5.404571222089424e-20,\n",
       " 0.1253907950637424,\n",
       " 0.8441932404284864,\n",
       " 1.5000051993809491,\n",
       " 0.999979202692469,\n",
       " 0.6147310801428287,\n",
       " 1.6185882816165231,\n",
       " 1.048641254445501e-20)"
      ]
     },
     "execution_count": 78,
     "metadata": {},
     "output_type": "execute_result"
    }
   ],
   "source": [
    "gryzinski_test(\"N2(X1Sigmag+)\", \"N2+(X2Sigmag+)\", 0, 1, 0.917, [100], epsilon=15.581)"
   ]
  },
  {
   "cell_type": "code",
   "execution_count": null,
   "metadata": {},
   "outputs": [],
   "source": [
    "1.048641254445501e-20 + "
   ]
  }
 ],
 "metadata": {
  "kernelspec": {
   "display_name": "Python 3",
   "language": "python",
   "name": "python3"
  },
  "language_info": {
   "codemirror_mode": {
    "name": "ipython",
    "version": 3
   },
   "file_extension": ".py",
   "mimetype": "text/x-python",
   "name": "python",
   "nbconvert_exporter": "python",
   "pygments_lexer": "ipython3",
   "version": "3.7.2"
  }
 },
 "nbformat": 4,
 "nbformat_minor": 2
}
