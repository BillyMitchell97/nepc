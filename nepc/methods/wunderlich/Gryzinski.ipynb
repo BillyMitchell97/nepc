{
 "cells": [
  {
   "cell_type": "code",
   "execution_count": 10,
   "metadata": {},
   "outputs": [],
   "source": [
    "import numpy as np\n",
    "import matplotlib.pyplot as plt"
   ]
  },
  {
   "cell_type": "code",
   "execution_count": 5,
   "metadata": {},
   "outputs": [],
   "source": [
    "INCIDENT_ENERGY = [16.0, 16.5, 17.0, 17.5, 18.0, 18.5, 19.0, 19.5, 20.0, 20.5, 21.0, 21.5, 22.0, 22.5, 23.0, 23.5, 24.0, 24.5, 25.0, 30.0, 35.0, 40.0, 45.0, 50.0, 55.0, 60.0, 65.0, 70.0, 75.0, 80.0, 85.0, 90.0, 95.0, 100.0, 110.0, 120.0, 140.0, 160.0, 180.0, 200.0, 225.0, 250.0, 275.0, 300.0, 350.0, 400.0, 450.0, 500.0, 550.0, 600.0, 650.0, 700.0, 750.0, 800.0, 850.0, 900.0, 950.0, 1000.0]"
   ]
  },
  {
   "cell_type": "code",
   "execution_count": 2,
   "metadata": {},
   "outputs": [],
   "source": [
    "sigma_naught = 6.56e-18"
   ]
  },
  {
   "cell_type": "code",
   "execution_count": 3,
   "metadata": {},
   "outputs": [],
   "source": [
    "def gryzinski(N_e, E_e, E_thr, epsilon):\n",
    "    \"\"\"returns the cross section in terms of m^2\n",
    "       N_e: the effective number of equivalent electrons in the inital state of the transistion\n",
    "       E_e: inital energy of the impinging electron\n",
    "       E_thr: lower limit of the energy gain or threshold energy\"\"\"\n",
    "    sigma = ((N_e * sigma_naught / E_thr**2) * np.sqrt(epsilon**2 * E_e / (epsilon + E_e)**3) * \n",
    "            (1 - (E_thr / E_e))**((2*epsilon + E_thr) / (epsilon + E_thr)) * \n",
    "            ((E_thr / epsilon) + (2 / 3) * (1 - (E_thr / (2 * E_e))) * np.log(np.exp(1) + np.sqrt((E_e - E_thr) / epsilon))))\n",
    "    \n",
    "    return sigma"
   ]
  },
  {
   "cell_type": "code",
   "execution_count": 8,
   "metadata": {},
   "outputs": [],
   "source": [
    "cross_section = []\n",
    "for i in INCIDENT_ENERGY:\n",
    "    cross_section.append(gryzinski(2, i, 15.581, 15.581) * 0.917)"
   ]
  },
  {
   "cell_type": "code",
   "execution_count": 9,
   "metadata": {},
   "outputs": [
    {
     "data": {
      "text/plain": [
       "[1.0045671989458552e-22,\n",
       " 3.1357212443536973e-22,\n",
       " 5.77642445037546e-22,\n",
       " 8.721861458378043e-22,\n",
       " 1.1854315721201485e-21,\n",
       " 1.5096295024655237e-21,\n",
       " 1.83934486252851e-21,\n",
       " 2.170631846819964e-21,\n",
       " 2.50056974773113e-21,\n",
       " 2.82697514616329e-21,\n",
       " 3.148211195832644e-21,\n",
       " 3.463055067250607e-21,\n",
       " 3.770602487782735e-21,\n",
       " 4.0701971110888585e-21,\n",
       " 4.361377146076953e-21,\n",
       " 4.643834351132951e-21,\n",
       " 4.9173821064820266e-21,\n",
       " 5.181930286254283e-21,\n",
       " 5.437465308867363e-21,\n",
       " 7.524413661432721e-21,\n",
       " 8.90389699804622e-21,\n",
       " 9.782371433510283e-21,\n",
       " 1.0317320973352782e-20,\n",
       " 1.0617708423159463e-20,\n",
       " 1.0757445462795627e-20,\n",
       " 1.0786756268539621e-20,\n",
       " 1.0740065373448269e-20,\n",
       " 1.0641215924479602e-20,\n",
       " 1.0506891933183309e-20,\n",
       " 1.0348874546806825e-20,\n",
       " 1.0175545548235343e-20,\n",
       " 9.992901920855748e-21,\n",
       " 9.805249404876057e-21,\n",
       " 9.615682626681291e-21,\n",
       " 9.239049329890604e-21,\n",
       " 8.874099221147295e-21,\n",
       " 8.197477929336414e-21,\n",
       " 7.598835737073244e-21,\n",
       " 7.073551028009395e-21,\n",
       " 6.612535885141424e-21,\n",
       " 6.112502166696048e-21,\n",
       " 5.682408813810102e-21,\n",
       " 5.309321452036716e-21,\n",
       " 4.9829993311396844e-21,\n",
       " 4.440024887655418e-21,\n",
       " 4.0068150411827485e-21,\n",
       " 3.6532384845215505e-21,\n",
       " 3.359154104552385e-21,\n",
       " 3.110646442285265e-21,\n",
       " 2.897814122768718e-21,\n",
       " 2.7134280451887016e-21,\n",
       " 2.5520900801088823e-21,\n",
       " 2.4096891400534622e-21,\n",
       " 2.283039581739359e-21,\n",
       " 2.169634730719704e-21,\n",
       " 2.0674750661375365e-21,\n",
       " 1.9749460143873922e-21,\n",
       " 1.890729438137443e-21]"
      ]
     },
     "execution_count": 9,
     "metadata": {},
     "output_type": "execute_result"
    }
   ],
   "source": [
    "cross_section"
   ]
  },
  {
   "cell_type": "code",
   "execution_count": 11,
   "metadata": {},
   "outputs": [
    {
     "data": {
      "text/plain": [
       "[<matplotlib.lines.Line2D at 0x7f4bca33edd8>]"
      ]
     },
     "execution_count": 11,
     "metadata": {},
     "output_type": "execute_result"
    },
    {
     "data": {
      "image/png": "[encoded data removed]",
      "text/plain": [
       "<Figure size 432x288 with 1 Axes>"
      ]
     },
     "metadata": {
      "needs_background": "light"
     },
     "output_type": "display_data"
    }
   ],
   "source": [
    "plt.plot(INCIDENT_ENERGY, cross_section)"
   ]
  },
  {
   "cell_type": "code",
   "execution_count": null,
   "metadata": {},
   "outputs": [],
   "source": []
  }
 ],
 "metadata": {
  "kernelspec": {
   "display_name": "Python 3",
   "language": "python",
   "name": "python3"
  },
  "language_info": {
   "codemirror_mode": {
    "name": "ipython",
    "version": 3
   },
   "file_extension": ".py",
   "mimetype": "text/x-python",
   "name": "python",
   "nbconvert_exporter": "python",
   "pygments_lexer": "ipython3",
   "version": "3.7.2"
  }
 },
 "nbformat": 4,
 "nbformat_minor": 2
}
