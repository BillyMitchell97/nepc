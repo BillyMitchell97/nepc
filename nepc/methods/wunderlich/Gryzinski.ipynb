{
 "cells": [
  {
   "cell_type": "code",
   "execution_count": 1,
   "metadata": {},
   "outputs": [],
   "source": [
    "from nepc import nepc\n",
    "import numpy as np\n",
    "import matplotlib.pyplot as plt\n",
    "from nepc.methods.wunderlich.gryzinski import gryzinski as gryzinski"
   ]
  },
  {
   "cell_type": "code",
   "execution_count": 2,
   "metadata": {},
   "outputs": [],
   "source": [
    "INCIDENT_ENERGY = [16.0, 16.5, 17.0, 17.5, 18.0, 18.5, 19.0, 19.5, 20.0, 20.5, 21.0, 21.5, 22.0, 22.5, 23.0, 23.5, 24.0, 24.5, 25.0, 30.0, 35.0, 40.0, 45.0, 50.0, 55.0, 60.0, 65.0, 70.0, 75.0, 80.0, 85.0, 90.0, 95.0, 100.0, 110.0, 120.0, 140.0, 160.0, 180.0, 200.0, 225.0, 250.0, 275.0, 300.0, 350.0, 400.0, 450.0, 500.0, 550.0, 600.0, 650.0, 700.0, 750.0, 800.0, 850.0, 900.0, 950.0, 1000.0]"
   ]
  },
  {
   "cell_type": "code",
   "execution_count": 3,
   "metadata": {},
   "outputs": [],
   "source": [
    "sigma_naught = 6.56e-18"
   ]
  },
  {
   "cell_type": "markdown",
   "metadata": {},
   "source": [
    "def gryzinski(N_e, E_e, E_thr, epsilon):\n",
    "    \"\"\"returns the cross section in terms of m^2\n",
    "       N_e: the effective number of equivalent electrons in the inital state of the transistion\n",
    "       E_e: inital energy of the impinging electron\n",
    "       E_thr: lower limit of the energy gain or threshold energy\n",
    "       epsilon: initial kinetic energy of the orbital electron to be excited; can be set to the ionization potential\"\"\"\n",
    "    sigma = ((N_e * sigma_naught / E_thr**2) * np.sqrt(epsilon**2 * E_e / (epsilon + E_e)**3) * \n",
    "            (1 - (E_thr / E_e))**((2*epsilon + E_thr) / (epsilon + E_thr)) * \n",
    "            ((E_thr / epsilon) + (2 / 3) * (1 - (E_thr / (2 * E_e))) * np.log(np.exp(1) + np.sqrt((E_e - E_thr) / epsilon))))\n",
    "    \n",
    "    return sigma"
   ]
  },
  {
   "cell_type": "code",
   "execution_count": 12,
   "metadata": {},
   "outputs": [
    {
     "name": "stderr",
     "output_type": "stream",
     "text": [
      "/home/djwatkins/projects/nepc/nepc/methods/wunderlich/gryzinski.py:38: RuntimeWarning: invalid value encountered in double_scalars\n",
      "  sigma = np.float64((N_e * sigma_naught / E_thr**2) * np.sqrt(epsilon**2 * E_e / (epsilon + E_e)**3) * (1 - (E_thr / E_e))**((2*epsilon + E_thr) / (epsilon + E_thr)) * ((E_thr / epsilon) + (2 / 3) * (1 - (E_thr / (2 * E_e))) * np.log(np.exp(1) + np.sqrt((E_e - E_thr) / epsilon))))\n",
      "/home/djwatkins/projects/nepc/nepc/methods/wunderlich/gryzinski.py:38: RuntimeWarning: invalid value encountered in sqrt\n",
      "  sigma = np.float64((N_e * sigma_naught / E_thr**2) * np.sqrt(epsilon**2 * E_e / (epsilon + E_e)**3) * (1 - (E_thr / E_e))**((2*epsilon + E_thr) / (epsilon + E_thr)) * ((E_thr / epsilon) + (2 / 3) * (1 - (E_thr / (2 * E_e))) * np.log(np.exp(1) + np.sqrt((E_e - E_thr) / epsilon))))\n"
     ]
    }
   ],
   "source": [
    "sigma = gryzinski(\"N2(X1Sigmag+)\", \"N2+(X2Sigmag+)\", 0, 2, 0.917, INCIDENT_ENERGY, epsilon=15.581)"
   ]
  },
  {
   "cell_type": "code",
   "execution_count": 11,
   "metadata": {},
   "outputs": [
    {
     "data": {
      "text/plain": [
       "[<matplotlib.lines.Line2D at 0x7f344879eb38>]"
      ]
     },
     "execution_count": 11,
     "metadata": {},
     "output_type": "execute_result"
    },
    {
     "data": {
      "image/png": "[encoded data removed]",
      "text/plain": [
       "<Figure size 432x288 with 1 Axes>"
      ]
     },
     "metadata": {
      "needs_background": "light"
     },
     "output_type": "display_data"
    }
   ],
   "source": [
    "plt.plot(sigma[0], sigma[1])"
   ]
  },
  {
   "cell_type": "code",
   "execution_count": null,
   "metadata": {},
   "outputs": [],
   "source": []
  }
 ],
 "metadata": {
  "kernelspec": {
   "display_name": "Python 3",
   "language": "python",
   "name": "python3"
  },
  "language_info": {
   "codemirror_mode": {
    "name": "ipython",
    "version": 3
   },
   "file_extension": ".py",
   "mimetype": "text/x-python",
   "name": "python",
   "nbconvert_exporter": "python",
   "pygments_lexer": "ipython3",
   "version": "3.7.2"
  }
 },
 "nbformat": 4,
 "nbformat_minor": 2
}
