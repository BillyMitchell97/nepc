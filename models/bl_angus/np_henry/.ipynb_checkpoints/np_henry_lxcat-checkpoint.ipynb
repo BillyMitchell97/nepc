{
 "cells": [
  {
   "cell_type": "code",
   "execution_count": 1,
   "metadata": {},
   "outputs": [],
   "source": [
    "import os\n",
    "import numpy as np\n",
    "import parser\n",
    "from decimal import Decimal\n",
    "import time\n",
    "import datetime"
   ]
  },
  {
   "cell_type": "code",
   "execution_count": 2,
   "metadata": {},
   "outputs": [],
   "source": [
    "os.chdir(\"/Users/adamson/projects/Chemistry/Cross Sections/bl_angus/np_henry\")"
   ]
  },
  {
   "cell_type": "code",
   "execution_count": 3,
   "metadata": {},
   "outputs": [],
   "source": [
    "states = np.loadtxt(fname='states', skiprows=1, usecols=[0,1,2], dtype=str)"
   ]
  },
  {
   "cell_type": "code",
   "execution_count": 4,
   "metadata": {},
   "outputs": [
    {
     "data": {
      "text/plain": [
       "array([8.30775211e-15, 1.07514609e-15, 5.81977586e-16, 4.20919918e-16,\n",
       "       3.19298143e-16, 2.60771141e-16, 2.51620896e-16, 2.12953172e-16,\n",
       "       1.90611701e-16, 1.86470724e-16, 1.81584422e-16, 1.80822269e-16,\n",
       "       1.65216643e-16, 1.47338418e-16, 1.33224460e-16, 1.21687654e-16,\n",
       "       1.11716713e-16, 1.04150556e-16, 9.71530336e-17, 9.12039421e-17,\n",
       "       8.59459339e-17, 8.13965900e-17, 7.74303769e-17, 7.36940045e-17,\n",
       "       7.03426558e-17, 6.71687837e-17, 6.42473629e-17, 6.17202210e-17,\n",
       "       5.92931732e-17, 5.70801875e-17, 5.62432777e-17, 5.40779990e-17,\n",
       "       5.21748676e-17, 5.04571290e-17, 4.87042095e-17, 4.71472916e-17])"
      ]
     },
     "execution_count": 4,
     "metadata": {},
     "output_type": "execute_result"
    }
   ],
   "source": [
    "#We could use the energy dependent collision strength, but we won't\n",
    "cs_data=np.loadtxt(fname=\"collision_strength_Nii_001_002.csv\", skiprows=1, delimiter=\",\")\n",
    "1.197e-15/(9*cs_data[...,0])*cs_data[...,1]"
   ]
  },
  {
   "cell_type": "code",
   "execution_count": 5,
   "metadata": {
    "scrolled": true
   },
   "outputs": [
    {
     "data": {
      "text/plain": [
       "array([[0.   , 2.98 , 0.395],\n",
       "       [0.   , 0.   , 0.41 ]])"
      ]
     },
     "execution_count": 5,
     "metadata": {},
     "output_type": "execute_result"
    }
   ],
   "source": [
    "cs=np.zeros((2,3))\n",
    "cs[0,1]=2.98\n",
    "cs[0,2]=.395\n",
    "cs[1,2]=.410\n",
    "cs"
   ]
  },
  {
   "cell_type": "code",
   "execution_count": 12,
   "metadata": {},
   "outputs": [],
   "source": [
    "for i in [1,2]:\n",
    "    energy=np.concatenate((np.linspace(float(states[i,2]), 25, num=1000),\n",
    "                           np.linspace(30,150,num=25)))\n",
    "    #parser.lxcat expects values in 10^-16cm^2; Eqn 12 in Taylor is in cm^2\n",
    "    sigma_data=cs[0,i]*11.97/(9.*energy) \n",
    "    data=np.stack((energy,sigma_data),axis=1)\n",
    "    filename=\"tr_\"+states[0,0]+\"_\"+states[i,0]+\"_lxcat\"\n",
    "    process_type=\"EXCITATION\"\n",
    "    process=\"N(\"+states[0,1]+\")\"+\" -> N(\"+states[i,1]+\")\"\n",
    "    threshold=str(round(data[0,0],3))\n",
    "    species=\"e / N(\"+states[0,1]+\")\"\n",
    "    process_long=\"E + N(\"+states[0,1]+\")\"+\" -> E + N(\"+states[i,1]+\"), Excitation\"\n",
    "    parameter=\"E = \" + threshold + \" eV\"\n",
    "    updated=datetime.datetime.fromtimestamp(time.time()).strftime('%Y-%m-%d %H:%M:%S')\n",
    "    columns=\"Energy (eV) | Cross section (m2)\"\n",
    "        \n",
    "    parser.lxcat(filename,\n",
    "                    process_type,\n",
    "                    process,\n",
    "                    threshold,\n",
    "                    species,\n",
    "                    process_long,\n",
    "                    parameter,\n",
    "                    updated,\n",
    "                    columns,\n",
    "                    data)"
   ]
  },
  {
   "cell_type": "code",
   "execution_count": null,
   "metadata": {},
   "outputs": [],
   "source": []
  }
 ],
 "metadata": {
  "kernelspec": {
   "display_name": "Python 3",
   "language": "python",
   "name": "python3"
  },
  "language_info": {
   "codemirror_mode": {
    "name": "ipython",
    "version": 3
   },
   "file_extension": ".py",
   "mimetype": "text/x-python",
   "name": "python",
   "nbconvert_exporter": "python",
   "pygments_lexer": "ipython3",
   "version": "3.6.5"
  }
 },
 "nbformat": 4,
 "nbformat_minor": 2
}
