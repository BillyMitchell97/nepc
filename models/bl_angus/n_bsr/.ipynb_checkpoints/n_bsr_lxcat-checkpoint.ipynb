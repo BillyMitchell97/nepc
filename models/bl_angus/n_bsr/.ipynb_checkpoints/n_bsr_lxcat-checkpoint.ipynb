{
 "cells": [
  {
   "cell_type": "code",
   "execution_count": 1,
   "metadata": {},
   "outputs": [],
   "source": [
    "import os\n",
    "import numpy as np\n",
    "import parser\n",
    "from decimal import Decimal\n",
    "import time\n",
    "import datetime"
   ]
  },
  {
   "cell_type": "code",
   "execution_count": 2,
   "metadata": {},
   "outputs": [],
   "source": [
    "os.chdir(\"/Users/adamson/projects/Chemistry/Cross Sections/bl_angus/n_bsr/N_2014_archive\")"
   ]
  },
  {
   "cell_type": "code",
   "execution_count": 3,
   "metadata": {},
   "outputs": [],
   "source": [
    "states = np.loadtxt(fname='states', skiprows=1, usecols=[0,1], dtype=str)"
   ]
  },
  {
   "cell_type": "code",
   "execution_count": 4,
   "metadata": {},
   "outputs": [
    {
     "data": {
      "text/plain": [
       "array([['001', '2p3_4So'],\n",
       "       ['002', '2p3_2Do'],\n",
       "       ['003', '2p3_2Po'],\n",
       "       ['004', '2p2_3P_3s_4Pe'],\n",
       "       ['005', '2p2_3P_3s_2Pe'],\n",
       "       ['006', '2s_2p4_4Pe'],\n",
       "       ['007', '2p2_3P_3p_2So'],\n",
       "       ['008', '2p2_3P_3p_4Do'],\n",
       "       ['009', '2p2_3P_3p_4Po'],\n",
       "       ['010', '2p2_3P_3p_4So'],\n",
       "       ['011', '2p2_3P_3p_2Do'],\n",
       "       ['012', '2p2_3P_3p_2Po'],\n",
       "       ['013', '2p2_1D_3s_2De'],\n",
       "       ['014', '2p2_3P_4s_4Pe'],\n",
       "       ['015', '2p2_3P_4s_2Pe'],\n",
       "       ['016', '2p2_3P_3d_2Pe'],\n",
       "       ['017', '2p2_3P_3d_4Fe'],\n",
       "       ['018', '2p2_3P_3d_4Pe'],\n",
       "       ['019', '2p2_3P_3d_2Fe'],\n",
       "       ['020', '2p2_3P_3d_4De'],\n",
       "       ['021', '2p2_3P_3d_2De'],\n",
       "       ['022', '2p2_3P_4p_2So'],\n",
       "       ['023', '2p2_3P_4p_4Do'],\n",
       "       ['024', '2p2_3P_4p_4Po'],\n",
       "       ['025', '2p2_3P_4p_2Do'],\n",
       "       ['026', '2p2_3P_4p_4So'],\n",
       "       ['027', '2p2_3P_4p_2Po']], dtype='<U13')"
      ]
     },
     "execution_count": 4,
     "metadata": {},
     "output_type": "execute_result"
    }
   ],
   "source": [
    "states"
   ]
  },
  {
   "cell_type": "code",
   "execution_count": 7,
   "metadata": {},
   "outputs": [],
   "source": [
    "for i in range(len(states)):\n",
    "    for j in range(i+1,len(states)):\n",
    "        data_file=(\"tr_\"+states[i,0]+\"_\"+states[j,0])\n",
    "        data=np.loadtxt(fname=data_file, skiprows=1)\n",
    "        filename=\"../lxcat_format/\"+data_file+\"_lxcat\"\n",
    "        process_type=\"EXCITATION\"\n",
    "        process=\"N(\"+states[i,1]+\")\"+\" -> N(\"+states[j,1]+\")\"\n",
    "        threshold=str(round(data[0,0],3))\n",
    "        species=\"e / N(\"+states[i,1]+\")\"\n",
    "        process_long=\"E + N(\"+states[i,1]+\")\"+\" -> E + N(\"+states[j,1]+\"), Excitation\"\n",
    "        parameter=\"E = \" + threshold + \" eV\"\n",
    "        updated=datetime.datetime.fromtimestamp(time.time()).strftime('%Y-%m-%d %H:%M:%S')\n",
    "        columns=\"Energy (eV) | Cross section (m2)\"\n",
    "        \n",
    "        parser.lxcat(filename,\n",
    "                    process_type,\n",
    "                    process,\n",
    "                    threshold,\n",
    "                    species,\n",
    "                    process_long,\n",
    "                    parameter,\n",
    "                    updated,\n",
    "                    columns,\n",
    "                    data)"
   ]
  },
  {
   "cell_type": "code",
   "execution_count": 6,
   "metadata": {},
   "outputs": [],
   "source": [
    "electron_mass=9.10938356E-28\n",
    "N_mass=(14.00674+7*electron_mass)/6.0221409e+23\n",
    "m_M=electron_mass/N_mass"
   ]
  },
  {
   "cell_type": "code",
   "execution_count": 7,
   "metadata": {},
   "outputs": [],
   "source": [
    "for i in range(3):\n",
    "        data_file=(\"tr_\"+states[i,0]+\"_\"+states[i,0])\n",
    "        data=np.loadtxt(fname=data_file, skiprows=1)\n",
    "        filename=data_file+\"_lxcat\"\n",
    "        process_type=\"ELASTIC\"\n",
    "        process='N({})'.format(states[i,1])\n",
    "        threshold=m_M\n",
    "        species=\"e / N(\"+states[i,1]+\")\"\n",
    "        process_long='E + N({}), Elastic'.format(states[i,1])\n",
    "        parameter='m/M = {:.6e}'.format(threshold)\n",
    "        updated=datetime.datetime.fromtimestamp(time.time()).strftime('%Y-%m-%d %H:%M:%S')\n",
    "        columns=\"Energy (eV) | Cross section (m2)\"\n",
    "        \n",
    "        parser.lxcat(filename,\n",
    "                    process_type,\n",
    "                    process,\n",
    "                    threshold,\n",
    "                    species,\n",
    "                    process_long,\n",
    "                    parameter,\n",
    "                    updated,\n",
    "                    columns,\n",
    "                    data)"
   ]
  },
  {
   "cell_type": "code",
   "execution_count": 8,
   "metadata": {},
   "outputs": [],
   "source": [
    "for i in range(3):\n",
    "        data_file=(\"ion_\"+states[i,0])\n",
    "        data=np.loadtxt(fname=data_file, skiprows=1)\n",
    "        filename=data_file+\"_lxcat\"\n",
    "        process_type=\"IONIZATION\"\n",
    "        process='N({}) -> N({})^+'.format(states[i,1], states[i,1])\n",
    "        threshold=data[0,0]\n",
    "        species='e / N({})'.format(states[i,1])\n",
    "        process_long='E + N({}) -> E + E + N({})+, Ionization'.format(states[i,1], states[i,1])\n",
    "        parameter='E = {:.6e} eV'.format(threshold)\n",
    "        updated=datetime.datetime.fromtimestamp(time.time()).strftime('%Y-%m-%d %H:%M:%S')\n",
    "        columns=\"Energy (eV) | Cross section (m2)\"\n",
    "        \n",
    "        parser.lxcat(filename,\n",
    "                    process_type,\n",
    "                    process,\n",
    "                    threshold,\n",
    "                    species,\n",
    "                    process_long,\n",
    "                    parameter,\n",
    "                    updated,\n",
    "                    columns,\n",
    "                    data)"
   ]
  }
 ],
 "metadata": {
  "kernelspec": {
   "display_name": "Python 3",
   "language": "python",
   "name": "python3"
  },
  "language_info": {
   "codemirror_mode": {
    "name": "ipython",
    "version": 3
   },
   "file_extension": ".py",
   "mimetype": "text/x-python",
   "name": "python",
   "nbconvert_exporter": "python",
   "pygments_lexer": "ipython3",
   "version": "3.6.5"
  }
 },
 "nbformat": 4,
 "nbformat_minor": 2
}
