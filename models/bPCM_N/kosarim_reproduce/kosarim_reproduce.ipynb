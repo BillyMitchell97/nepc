{
 "cells": [
  {
   "cell_type": "code",
   "execution_count": 1,
   "metadata": {},
   "outputs": [],
   "source": [
    "import scipy.constants as const\n",
    "import csv\n",
    "import numpy as np\n",
    "import pandas as pd\n",
    "from sklearn.metrics import mean_squared_error as mse\n",
    "from math import sqrt\n",
    "import os"
   ]
  },
  {
   "cell_type": "code",
   "execution_count": 2,
   "metadata": {},
   "outputs": [],
   "source": [
    "os.chdir('/Users/padamson/projects/chimpr/bl_angus/kosarim_reproduce/')"
   ]
  },
  {
   "cell_type": "code",
   "execution_count": 3,
   "metadata": {},
   "outputs": [],
   "source": [
    "pi = const.pi\n",
    "e = const.e\n",
    "e0= const.epsilon_0"
   ]
  },
  {
   "cell_type": "code",
   "execution_count": 4,
   "metadata": {},
   "outputs": [],
   "source": [
    "eV_per_J = const.physical_constants[\"joule-electron volt relationship\"][0]\n",
    "cm_per_m = 100.0"
   ]
  },
  {
   "cell_type": "code",
   "execution_count": 5,
   "metadata": {},
   "outputs": [
    {
     "data": {
      "text/plain": [
       "array([[ 0.  , 15.8 , 15.4 ,  0.82,  2.1 ,  3.4 , 20.  , 30.  , 50.  ],\n",
       "       [ 4.  , 15.8 , 15.1 ,  0.87,  2.2 ,  3.5 , 20.  , 30.  , 50.  ],\n",
       "       [ 8.  , 15.9 , 14.9 ,  0.92,  2.2 ,  3.6 , 20.  , 30.  , 50.  ],\n",
       "       [12.  , 15.9 , 14.7 ,  0.92,  2.2 ,  3.6 , 20.  , 30.  , 50.  ],\n",
       "       [16.  , 16.  , 14.6 ,  0.92,  2.3 ,  3.6 , 20.  , 30.  , 50.  ],\n",
       "       [20.  , 16.1 , 14.4 ,  0.97,  2.3 ,  3.7 , 20.  , 30.  , 50.  ],\n",
       "       [24.  , 16.1 , 14.2 ,  1.  ,  2.4 ,  3.8 , 20.  , 30.  , 50.  ],\n",
       "       [28.  , 16.2 , 14.1 ,  1.  ,  2.4 ,  3.8 , 20.  , 30.  , 50.  ],\n",
       "       [32.  , 16.2 , 13.9 ,  1.1 ,  2.5 ,  3.9 , 20.  , 30.  , 50.  ],\n",
       "       [36.  , 16.2 , 13.8 ,  1.1 ,  2.5 ,  3.9 , 20.  , 30.  , 50.  ],\n",
       "       [40.  , 16.3 , 13.7 ,  1.1 ,  2.5 ,  3.9 , 20.  , 30.  , 50.  ]])"
      ]
     },
     "execution_count": 5,
     "metadata": {},
     "output_type": "execute_result"
    }
   ],
   "source": [
    "table2_ref = np.loadtxt(open(\"kosarim_table_2.csv\", \"rb\"), delimiter=\" \", skiprows=1)\n",
    "table2_ref"
   ]
  },
  {
   "cell_type": "code",
   "execution_count": 6,
   "metadata": {},
   "outputs": [
    {
     "data": {
      "text/plain": [
       "array([[ 0.  , 17.8 , 16.8 ,  0.79,  2.9 ,  5.2 , 20.  , 30.  , 50.  ],\n",
       "       [ 4.  , 19.  , 15.7 ,  0.9 ,  3.1 ,  5.3 , 20.  , 30.  , 50.  ],\n",
       "       [ 8.  , 20.  , 15.2 ,  0.95,  3.2 ,  5.4 , 20.  , 30.  , 50.  ],\n",
       "       [12.  , 20.6 , 14.8 ,  1.  ,  3.3 ,  5.5 , 20.  , 30.  , 50.  ],\n",
       "       [16.  , 20.4 , 14.5 ,  1.2 ,  3.5 ,  5.8 , 20.  , 30.  , 50.  ],\n",
       "       [20.  , 20.  , 14.2 ,  1.4 ,  3.7 ,  6.1 , 20.  , 30.  , 50.  ],\n",
       "       [24.  , 19.6 , 14.1 ,  1.5 ,  3.9 ,  6.4 , 20.  , 30.  , 50.  ],\n",
       "       [28.  , 19.2 , 14.  ,  1.6 ,  4.1 ,  6.6 , 20.  , 30.  , 50.  ],\n",
       "       [32.  , 18.8 , 13.9 ,  1.8 ,  4.3 ,  6.8 , 20.  , 30.  , 50.  ],\n",
       "       [36.  , 18.4 , 13.8 ,  1.8 ,  4.4 ,  6.9 , 20.  , 30.  , 50.  ],\n",
       "       [40.  , 18.  , 13.7 ,  1.9 ,  4.5 ,  7.3 , 20.  , 30.  , 50.  ]])"
      ]
     },
     "execution_count": 6,
     "metadata": {},
     "output_type": "execute_result"
    }
   ],
   "source": [
    "table3_ref = np.loadtxt(open(\"kosarim_table_3.csv\", \"rb\"), delimiter=\" \", skiprows=1)\n",
    "table3_ref"
   ]
  },
  {
   "cell_type": "code",
   "execution_count": 7,
   "metadata": {},
   "outputs": [
    {
     "data": {
      "text/plain": [
       "array([[ 0.  , 18.7 , 19.1 ,  0.13,  1.  ,  2.  , 20.  , 30.  , 50.  ],\n",
       "       [ 4.  , 18.5 , 18.8 ,  0.16,  1.1 ,  2.1 , 20.  , 30.  , 50.  ],\n",
       "       [ 8.  , 18.3 , 18.4 ,  0.2 ,  1.2 ,  2.2 , 20.  , 30.  , 50.  ],\n",
       "       [12.  , 18.1 , 17.9 ,  0.26,  1.3 ,  2.3 , 20.  , 30.  , 50.  ],\n",
       "       [16.  , 17.9 , 17.4 ,  0.32,  1.4 ,  2.5 , 20.  , 30.  , 50.  ],\n",
       "       [20.  , 17.7 , 16.9 ,  0.39,  1.5 ,  2.6 , 20.  , 30.  , 50.  ],\n",
       "       [24.  , 17.5 , 16.4 ,  0.47,  1.6 ,  2.8 , 20.  , 30.  , 50.  ],\n",
       "       [28.  , 17.1 , 15.9 ,  0.56,  1.7 ,  2.9 , 20.  , 30.  , 50.  ],\n",
       "       [32.  , 16.9 , 15.4 ,  0.65,  1.9 ,  3.1 , 20.  , 30.  , 50.  ],\n",
       "       [36.  , 16.7 , 15.  ,  0.75,  2.  ,  3.3 , 20.  , 30.  , 50.  ],\n",
       "       [40.  , 16.5 , 14.7 ,  0.83,  2.1 ,  3.4 , 20.  , 30.  , 50.  ]])"
      ]
     },
     "execution_count": 7,
     "metadata": {},
     "output_type": "execute_result"
    }
   ],
   "source": [
    "table4_ref = np.loadtxt(open(\"kosarim_table_4.csv\", \"rb\"), delimiter=\" \", skiprows=1)\n",
    "table4_ref"
   ]
  },
  {
   "cell_type": "code",
   "execution_count": 8,
   "metadata": {},
   "outputs": [],
   "source": [
    "\"Note this equation is not used here.\"\n",
    "def f_eqn6(x: float):\n",
    "    \"Equation 6 of Kosarim, et al., for s electrons.\"\n",
    "    return (10*(x-1))/(pi*x*(x+8))"
   ]
  },
  {
   "cell_type": "code",
   "execution_count": 9,
   "metadata": {},
   "outputs": [],
   "source": [
    "\"Note this equation is not used here.\"\n",
    "def f_eqn7(x: float):\n",
    "    \"Equation 7 of Kosarim, et al., for p electrons.\"\n",
    "    return (10*(x-1))/(pi*(x+10)*(x+2))"
   ]
  },
  {
   "cell_type": "code",
   "execution_count": 10,
   "metadata": {},
   "outputs": [],
   "source": [
    "def f_eqn15(x: float):\n",
    "    \"Equation 15 of Kosarim, et al., for all electrons.\"\n",
    "    return (6*(x-1))/(pi*(x+1.5)*(x+9))"
   ]
  },
  {
   "cell_type": "code",
   "execution_count": 11,
   "metadata": {},
   "outputs": [],
   "source": [
    "def sigma_ion(f, n: int, E: float, J_v_vp: float, J_v_vpp: float):\n",
    "    \"\"\"Compute cross-sections (10^-17 cm^2) of ionization transitions for Tables 2-4 of Kosarim, et al.\"\"\"\n",
    "    return (cm_per_m**2 * eV_per_J**2)/(1.0E-17)  * (1./(4.*pi*e0)**2) * \\\n",
    "        ((n*e**4)/2.) * ( f(E/J_v_vp)/(J_v_vp**2) + f(E/J_v_vpp)/(J_v_vpp**2) )"
   ]
  },
  {
   "cell_type": "code",
   "execution_count": 12,
   "metadata": {},
   "outputs": [],
   "source": [
    "def calculate_kosarim_table_sigmas_unscaled(table_ref, f_eqn, n):\n",
    "    sigmas = np.ones((len(table_ref),3))\n",
    "    \n",
    "    for i in range(len(table_ref)):\n",
    "        for j in range(3):\n",
    "            sigmas[i,j] = sigma_ion(f=f_eqn, n=n, E=table_ref[i,j+6], J_v_vp=table_ref[i,1], J_v_vpp=table_ref[i,2])\n",
    "                \n",
    "    return sigmas"
   ]
  },
  {
   "cell_type": "code",
   "execution_count": 13,
   "metadata": {},
   "outputs": [],
   "source": [
    "sigmas_X=calculate_kosarim_table_sigmas_unscaled(table2_ref, f_eqn15, 2)\n",
    "sigmas_A=calculate_kosarim_table_sigmas_unscaled(table3_ref, f_eqn15, 4)\n",
    "sigmas_B=calculate_kosarim_table_sigmas_unscaled(table4_ref, f_eqn15, 2)"
   ]
  },
  {
   "cell_type": "code",
   "execution_count": 14,
   "metadata": {},
   "outputs": [],
   "source": [
    "sigma_tot = np.array([1.74, 6.10, 10.90])"
   ]
  },
  {
   "cell_type": "code",
   "execution_count": 15,
   "metadata": {},
   "outputs": [],
   "source": [
    "N_20eV = 1.74/(sigmas_X[0,0]+sigmas_A[0,0]+sigmas_B[0,0])\n",
    "N_30eV = 6.10/(sigmas_X[0,1]+sigmas_A[0,1]+sigmas_B[0,1])\n",
    "N_50eV = 10.9/(sigmas_X[0,2]+sigmas_A[0,2]+sigmas_B[0,2])"
   ]
  },
  {
   "cell_type": "code",
   "execution_count": 16,
   "metadata": {},
   "outputs": [],
   "source": [
    "np.set_printoptions(precision=2)"
   ]
  },
  {
   "cell_type": "code",
   "execution_count": 17,
   "metadata": {},
   "outputs": [
    {
     "data": {
      "text/plain": [
       "array([[0.82, 2.11, 3.47],\n",
       "       [0.87, 2.18, 3.56],\n",
       "       [0.89, 2.21, 3.59],\n",
       "       [0.93, 2.27, 3.66],\n",
       "       [0.94, 2.27, 3.67],\n",
       "       [0.97, 2.31, 3.71],\n",
       "       [1.01, 2.37, 3.78],\n",
       "       [1.02, 2.38, 3.8 ],\n",
       "       [1.07, 2.45, 3.87],\n",
       "       [1.09, 2.48, 3.91],\n",
       "       [1.11, 2.5 , 3.93]])"
      ]
     },
     "execution_count": 17,
     "metadata": {},
     "output_type": "execute_result"
    }
   ],
   "source": [
    "sigmas_X_scaled = np.column_stack((N_20eV*sigmas_X[...,0], N_30eV*sigmas_X[...,1], N_50eV*sigmas_X[...,2]))\n",
    "sigmas_X_scaled"
   ]
  },
  {
   "cell_type": "code",
   "execution_count": 18,
   "metadata": {},
   "outputs": [
    {
     "data": {
      "text/plain": [
       "array([[0.79, 2.95, 5.33],\n",
       "       [0.9 , 3.08, 5.48],\n",
       "       [0.95, 3.12, 5.49],\n",
       "       [1.04, 3.22, 5.6 ],\n",
       "       [1.18, 3.42, 5.85],\n",
       "       [1.35, 3.68, 6.16],\n",
       "       [1.44, 3.81, 6.34],\n",
       "       [1.53, 3.96, 6.53],\n",
       "       [1.63, 4.11, 6.73],\n",
       "       [1.74, 4.28, 6.93],\n",
       "       [1.86, 4.45, 7.15]])"
      ]
     },
     "execution_count": 18,
     "metadata": {},
     "output_type": "execute_result"
    }
   ],
   "source": [
    "sigmas_A_scaled = np.column_stack((N_20eV*sigmas_A[...,0], N_30eV*sigmas_A[...,1], N_50eV*sigmas_A[...,2]))\n",
    "sigmas_A_scaled"
   ]
  },
  {
   "cell_type": "code",
   "execution_count": 19,
   "metadata": {},
   "outputs": [
    {
     "data": {
      "text/plain": [
       "array([[0.13, 1.04, 2.1 ],\n",
       "       [0.16, 1.1 , 2.17],\n",
       "       [0.21, 1.17, 2.27],\n",
       "       [0.26, 1.26, 2.39],\n",
       "       [0.32, 1.36, 2.52],\n",
       "       [0.39, 1.47, 2.66],\n",
       "       [0.47, 1.59, 2.82],\n",
       "       [0.58, 1.75, 3.02],\n",
       "       [0.68, 1.9 , 3.2 ],\n",
       "       [0.77, 2.03, 3.37],\n",
       "       [0.85, 2.15, 3.51]])"
      ]
     },
     "execution_count": 19,
     "metadata": {},
     "output_type": "execute_result"
    }
   ],
   "source": [
    "sigmas_B_scaled = np.column_stack((N_20eV*sigmas_B[...,0], N_30eV*sigmas_B[...,1], N_50eV*sigmas_B[...,2]))\n",
    "sigmas_B_scaled"
   ]
  },
  {
   "cell_type": "code",
   "execution_count": 20,
   "metadata": {},
   "outputs": [
    {
     "name": "stdout",
     "output_type": "stream",
     "text": [
      "sigmas_X_scaled RMSE: 0.0306\n"
     ]
    }
   ],
   "source": [
    "print('sigmas_X_scaled RMSE: {:3.4f}'.format(sqrt(mse(sigmas_X_scaled,table2_ref[...,3:6]))))"
   ]
  },
  {
   "cell_type": "code",
   "execution_count": 21,
   "metadata": {},
   "outputs": [
    {
     "name": "stdout",
     "output_type": "stream",
     "text": [
      "sigmas_A_scaled RMSE: 0.0881\n"
     ]
    }
   ],
   "source": [
    "print('sigmas_A_scaled RMSE: {:3.4f}'.format(sqrt(mse(sigmas_A_scaled,table3_ref[...,3:6]))))"
   ]
  },
  {
   "cell_type": "code",
   "execution_count": 22,
   "metadata": {},
   "outputs": [
    {
     "name": "stdout",
     "output_type": "stream",
     "text": [
      "sigmas_B_scaled RMSE: 0.0523\n"
     ]
    }
   ],
   "source": [
    "print('sigmas_B_scaled RMSE: {:3.4f}'.format(sqrt(mse(sigmas_B_scaled,table4_ref[...,3:6]))))"
   ]
  },
  {
   "cell_type": "code",
   "execution_count": 23,
   "metadata": {},
   "outputs": [
    {
     "data": {
      "text/plain": [
       "array([[ 0. ,  9.6, 11.6,  1.4,  3.1,  4.2, 15. , 25. , 40. ],\n",
       "       [ 4. ,  8.8, 12. ,  1.7,  3.5,  4.6, 15. , 25. , 40. ],\n",
       "       [ 8. ,  8.2, 12.4,  2.1,  4. ,  5.1, 15. , 25. , 40. ],\n",
       "       [12. ,  7.6, 12.8,  2.6,  4.5,  5.6, 15. , 25. , 40. ],\n",
       "       [16. ,  7.1, 13.2,  3. ,  5.1,  6.2, 15. , 25. , 40. ],\n",
       "       [20. ,  6.8, 13.6,  3.4,  5.5,  6.6, 15. , 25. , 40. ],\n",
       "       [24. ,  6.6, 14. ,  3.7,  5.8,  6.8, 15. , 25. , 40. ]])"
      ]
     },
     "execution_count": 23,
     "metadata": {},
     "output_type": "execute_result"
    }
   ],
   "source": [
    "table5_ref = np.loadtxt(open(\"kosarim_table_5.csv\", \"rb\"), delimiter=\" \", skiprows=1)\n",
    "table5_ref"
   ]
  },
  {
   "cell_type": "code",
   "execution_count": 24,
   "metadata": {},
   "outputs": [
    {
     "data": {
      "text/plain": [
       "array([[1.05, 2.28, 2.99],\n",
       "       [1.29, 2.58, 3.29],\n",
       "       [1.55, 2.88, 3.57],\n",
       "       [1.9 , 3.28, 3.95],\n",
       "       [2.29, 3.7 , 4.33],\n",
       "       [2.57, 3.99, 4.59],\n",
       "       [2.78, 4.2 , 4.77]])"
      ]
     },
     "execution_count": 24,
     "metadata": {},
     "output_type": "execute_result"
    }
   ],
   "source": [
    "sigmas_triplet=calculate_kosarim_table_sigmas_unscaled(table5_ref, f_eqn15, 2)\n",
    "sigmas_triplet"
   ]
  },
  {
   "cell_type": "code",
   "execution_count": 25,
   "metadata": {},
   "outputs": [],
   "source": [
    "\"\"\"\n",
    "Need to figure out how to scale the triplet sigmas. For now, use\n",
    "the same scaling factors as above even though we know that's wrong.\n",
    "\"\"\"\n",
    "N_15eV = 1.74/(sigmas_X[0,0]+sigmas_A[0,0]+sigmas_B[0,0])\n",
    "N_25eV = 6.10/(sigmas_X[0,1]+sigmas_A[0,1]+sigmas_B[0,1])\n",
    "N_40eV = 10.9/(sigmas_X[0,2]+sigmas_A[0,2]+sigmas_B[0,2])"
   ]
  },
  {
   "cell_type": "code",
   "execution_count": 26,
   "metadata": {},
   "outputs": [
    {
     "data": {
      "text/plain": [
       "array([[ 2.67,  5.98,  8.3 ],\n",
       "       [ 3.3 ,  6.76,  9.13],\n",
       "       [ 3.95,  7.54,  9.91],\n",
       "       [ 4.85,  8.58, 10.94],\n",
       "       [ 5.84,  9.69, 12.02],\n",
       "       [ 6.55, 10.45, 12.73],\n",
       "       [ 7.07, 10.99, 13.22]])"
      ]
     },
     "execution_count": 26,
     "metadata": {},
     "output_type": "execute_result"
    }
   ],
   "source": [
    "sigmas_triplet_scaled = \\\n",
    "    np.column_stack((N_15eV*sigmas_triplet[...,0], N_25eV*sigmas_triplet[...,1], N_40eV*sigmas_triplet[...,2]))\n",
    "sigmas_triplet_scaled"
   ]
  },
  {
   "cell_type": "code",
   "execution_count": 27,
   "metadata": {},
   "outputs": [
    {
     "name": "stdout",
     "output_type": "stream",
     "text": [
      "sigmas_triplet_scaled RMSE: 4.1651\n"
     ]
    }
   ],
   "source": [
    "print('sigmas_triplet_scaled RMSE: {:3.4f}'.format(sqrt(mse(sigmas_triplet_scaled,table5_ref[...,3:6]))))"
   ]
  },
  {
   "cell_type": "code",
   "execution_count": 28,
   "metadata": {},
   "outputs": [],
   "source": [
    "import cse"
   ]
  },
  {
   "cell_type": "code",
   "execution_count": 29,
   "metadata": {},
   "outputs": [],
   "source": [
    "from scipy.interpolate import splrep, splev\n",
    "import matplotlib.pyplot as plt\n",
    "import sys"
   ]
  },
  {
   "cell_type": "code",
   "execution_count": 37,
   "metadata": {},
   "outputs": [],
   "source": [
    "# Panda's csv reader is much better than numpy's\n",
    "df = pd.read_csv('kosarim_table_1.csv',sep=' ')\n",
    "table1_ref = np.array(df)\n",
    "table1_ref\n",
    "\n",
    "#N_2 (X^1Sigma^+_g)\n",
    "we = 2359\n",
    "wexe = 14.3\n",
    "Be = 1.998\n",
    "ae = 1.73E-2\n",
    "De = 79884\n",
    "# reduced mass - see Huber+Herzberg\n",
    "μ = 7.99745751"
   ]
  },
  {
   "cell_type": "code",
   "execution_count": 36,
   "metadata": {},
   "outputs": [
    {
     "data": {
      "text/plain": [
       "array([0, 2359, 14.3], dtype=object)"
      ]
     },
     "execution_count": 36,
     "metadata": {},
     "output_type": "execute_result"
    }
   ],
   "source": [
    "table1_ref[0,1:4]"
   ]
  },
  {
   "cell_type": "code",
   "execution_count": 35,
   "metadata": {},
   "outputs": [
    {
     "data": {
      "text/plain": [
       "array(['$N_2(X^1\\\\Sigma_g^+)$', 0, 2359, 14.3, 1.9980000000000002, 1.73,\n",
       "       79884], dtype=object)"
      ]
     },
     "execution_count": 35,
     "metadata": {},
     "output_type": "execute_result"
    }
   ],
   "source": [
    "Te,we,wexe,Be,ae,De = table1_ref[0,...]"
   ]
  },
  {
   "cell_type": "code",
   "execution_count": 33,
   "metadata": {},
   "outputs": [
    {
     "data": {
      "text/plain": [
       "array([['$N_2(X^1\\\\Sigma_g^+)$', 0, 2359, 14.3, 1.9980000000000002, 1.73,\n",
       "        79884],\n",
       "       ['$N_2^+(X^2\\\\Sigma_g^+)$', 0, 2207, 16.1, 1.932, 1.88, 71387],\n",
       "       ['$N_2^+(A^2\\\\Pi_u)$', 9167, 1904, 15.0, 1.744, 1.88, 62217],\n",
       "       ['$N_2^+(B^2\\\\Sigma_u^+)$', 25461, 2420, 23.2, 2.0709999999999997,\n",
       "        1.4, 45919]], dtype=object)"
      ]
     },
     "execution_count": 33,
     "metadata": {},
     "output_type": "execute_result"
    }
   ],
   "source": [
    "we, wexe, Be = table1_ref"
   ]
  },
  {
   "cell_type": "code",
   "execution_count": null,
   "metadata": {},
   "outputs": [],
   "source": [
    "v = np.concatenate(([-0.5], np.arange(11)), axis=None)"
   ]
  },
  {
   "cell_type": "code",
   "execution_count": null,
   "metadata": {},
   "outputs": [],
   "source": [
    "Gv = we*(v+1/2) - wexe*(v+1/2)**2"
   ]
  },
  {
   "cell_type": "code",
   "execution_count": null,
   "metadata": {},
   "outputs": [],
   "source": [
    "Gv"
   ]
  },
  {
   "cell_type": "code",
   "execution_count": null,
   "metadata": {},
   "outputs": [],
   "source": [
    "Bv = Be - ae*(v+1/2)"
   ]
  },
  {
   "cell_type": "code",
   "execution_count": null,
   "metadata": {},
   "outputs": [],
   "source": [
    "Bv"
   ]
  },
  {
   "cell_type": "code",
   "execution_count": null,
   "metadata": {},
   "outputs": [],
   "source": [
    "fn = 'data/n2.dat'\n",
    "np.savetxt(fn,np.column_stack((v, Gv, Bv)))"
   ]
  },
  {
   "cell_type": "code",
   "execution_count": null,
   "metadata": {},
   "outputs": [],
   "source": [
    "try:\n",
    "    vv, Gv, Bv = np.loadtxt(fn, unpack=True)\n",
    "except FileNotFoundError:\n",
    "    print(f\"RKR: file '{fn:s}' not found\")"
   ]
  },
  {
   "cell_type": "code",
   "execution_count": null,
   "metadata": {},
   "outputs": [],
   "source": [
    "# reduced mass - see Huber+Herzberg - default is O2\n",
    "#μ = input(\"RKR: Molecule reduced mass [7.99745751]: \")\n",
    "#μ = 7.99745751 if μ == '' else float(μ)\n",
    "μ = 14.007/2."
   ]
  },
  {
   "cell_type": "code",
   "execution_count": null,
   "metadata": {},
   "outputs": [],
   "source": [
    "# outer limb extension\n",
    "#limb = input(\"RKR: Outer-limb LeRoy(L) or Morse(M) [L]: \")\n",
    "#if limb == '':\n",
    "#    limb = 'L'\n",
    "limb = 'L'"
   ]
  },
  {
   "cell_type": "code",
   "execution_count": null,
   "metadata": {},
   "outputs": [],
   "source": [
    "R, PEC, RTP, PTP = cse.tools.RKR.rkr(μ, vv, Gv, Bv, De, limb, dv=0.1,\n",
    "                                     Rgrid=np.arange(0.005, 10.004, 0.005))"
   ]
  },
  {
   "cell_type": "code",
   "execution_count": 38,
   "metadata": {},
   "outputs": [
    {
     "ename": "NameError",
     "evalue": "name 'R' is not defined",
     "output_type": "error",
     "traceback": [
      "\u001b[0;31m---------------------------------------------------------------------------\u001b[0m",
      "\u001b[0;31mNameError\u001b[0m                                 Traceback (most recent call last)",
      "\u001b[0;32m<ipython-input-38-a3e2179d61dd>\u001b[0m in \u001b[0;36m<module>\u001b[0;34m()\u001b[0m\n\u001b[0;32m----> 1\u001b[0;31m \u001b[0mdata\u001b[0m \u001b[0;34m=\u001b[0m \u001b[0mnp\u001b[0m\u001b[0;34m.\u001b[0m\u001b[0mcolumn_stack\u001b[0m\u001b[0;34m(\u001b[0m\u001b[0;34m(\u001b[0m\u001b[0mR\u001b[0m\u001b[0;34m.\u001b[0m\u001b[0mT\u001b[0m\u001b[0;34m,\u001b[0m \u001b[0mPEC\u001b[0m\u001b[0;34m.\u001b[0m\u001b[0mT\u001b[0m\u001b[0;34m)\u001b[0m\u001b[0;34m)\u001b[0m\u001b[0;34m\u001b[0m\u001b[0m\n\u001b[0m\u001b[1;32m      2\u001b[0m \u001b[0mnp\u001b[0m\u001b[0;34m.\u001b[0m\u001b[0msavetxt\u001b[0m\u001b[0;34m(\u001b[0m\u001b[0;34m\"data/N2_RKR.dat\"\u001b[0m\u001b[0;34m,\u001b[0m \u001b[0mdata\u001b[0m\u001b[0;34m)\u001b[0m\u001b[0;34m\u001b[0m\u001b[0m\n\u001b[1;32m      3\u001b[0m \u001b[0mprint\u001b[0m\u001b[0;34m(\u001b[0m\u001b[0;34m\"RKR: potential curve written to 'data/N2_RKR.dat'\"\u001b[0m\u001b[0;34m)\u001b[0m\u001b[0;34m\u001b[0m\u001b[0m\n",
      "\u001b[0;31mNameError\u001b[0m: name 'R' is not defined"
     ]
    }
   ],
   "source": [
    "data = np.column_stack((R.T, PEC.T))\n",
    "np.savetxt(\"data/N2_RKR.dat\", data)\n",
    "print(\"RKR: potential curve written to 'data/N2_RKR.dat'\")"
   ]
  },
  {
   "cell_type": "code",
   "execution_count": null,
   "metadata": {},
   "outputs": [],
   "source": [
    "plt.plot(R, PEC, label='RKR potential curve')\n",
    "plt.plot(RTP[::10], PTP[::10], 'o', label='turning points')\n",
    "plt.legend()\n",
    "plt.axis(xmin=0.8, xmax=4, ymin=-0.1, ymax=12)\n",
    "plt.title(\"N2_RKR.py\")\n",
    "\n",
    "plt.xlabel(r\"R($\\AA$)\")\n",
    "plt.ylabel(\"E(eV)\")\n",
    "\n",
    "plt.savefig(\"output/N2_RKR.png\", dpi=75)\n",
    "plt.show()"
   ]
  },
  {
   "cell_type": "code",
   "execution_count": null,
   "metadata": {},
   "outputs": [],
   "source": [
    "RTP"
   ]
  },
  {
   "cell_type": "code",
   "execution_count": null,
   "metadata": {},
   "outputs": [],
   "source": []
  }
 ],
 "metadata": {
  "kernelspec": {
   "display_name": "Python 3",
   "language": "python",
   "name": "python3"
  },
  "language_info": {
   "codemirror_mode": {
    "name": "ipython",
    "version": 3
   },
   "file_extension": ".py",
   "mimetype": "text/x-python",
   "name": "python",
   "nbconvert_exporter": "python",
   "pygments_lexer": "ipython3",
   "version": "3.6.5"
  }
 },
 "nbformat": 4,
 "nbformat_minor": 2
}
