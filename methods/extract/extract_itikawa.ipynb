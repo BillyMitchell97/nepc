{
 "cells": [
  {
   "cell_type": "code",
   "execution_count": 1,
   "metadata": {},
   "outputs": [],
   "source": [
    "#FIXME: What species/states do we put on LHS and RHS for total cross sections? Ground states?"
   ]
  },
  {
   "cell_type": "code",
   "execution_count": 2,
   "metadata": {},
   "outputs": [],
   "source": [
    "import pdfplumber\n",
    "import scraper\n",
    "import numpy as np\n",
    "import config"
   ]
  },
  {
   "cell_type": "code",
   "execution_count": 3,
   "metadata": {},
   "outputs": [],
   "source": [
    "userHome = config.userHome()\n",
    "pdfHome = userHome + \"/projects/nepc/ref/angus/\"\n",
    "outdir = userHome + \"/projects/nepc/data/raw/ext/n2/itikawa/\""
   ]
  },
  {
   "cell_type": "code",
   "execution_count": 4,
   "metadata": {},
   "outputs": [],
   "source": [
    "pdfItikawa = scraper.getPDF(pdfHome + \"16_Itikawa_J_Phys_Chem_Ref_Data_35_31_2006.pdf\")\n",
    "pdfBuckman = scraper.getPDF(pdfHome + \"16_29_buckman_2003.pdf\")\n",
    "pdfKarwasz = scraper.getPDF(pdfHome + \"16_9_karwasz_2003.pdf\")\n",
    "pdfElford = scraper.getPDF(pdfHome + \"16_31_elford_2003.pdf\")\n",
    "pdfBrunger = scraper.getPDF(pdfHome + \"16_34_brunger_2003.pdf\")"
   ]
  },
  {
   "cell_type": "code",
   "execution_count": 5,
   "metadata": {},
   "outputs": [],
   "source": [
    "scraper.rmdir(outdir)\n",
    "scraper.mkdir(outdir)"
   ]
  },
  {
   "cell_type": "markdown",
   "metadata": {},
   "source": [
    "Itikawa, Table 2. Recommended total scattering cross sections for the electron collisions with N${}_2$. The resonance region is not included and is extracted from Karwasz below."
   ]
  },
  {
   "cell_type": "code",
   "execution_count": 6,
   "metadata": {},
   "outputs": [],
   "source": [
    "cropDim = [(300, 503, 390, 720),(400, 503, 470, 720),(480, 503, 560, 720)]"
   ]
  },
  {
   "cell_type": "code",
   "execution_count": 7,
   "metadata": {
    "scrolled": true
   },
   "outputs": [],
   "source": [
    "data = scraper.getTableData(pdf=pdfItikawa,pageNumber=3,cropDimArray=cropDim,locateTables=False,omitRegexp='[0-9]a')"
   ]
  },
  {
   "cell_type": "code",
   "execution_count": 8,
   "metadata": {},
   "outputs": [],
   "source": [
    "splitIndex = np.where(data[:,0]==5.0)[0][0]\n",
    "scraper.writeDataToFile(data[:splitIndex],outdir+\"total_itikawa2006_2a.dat\")\n",
    "scraper.writeMetaDataToFile(filename=outdir+\"total_itikawa2006_2a.met\",\n",
    "                   specie=\"N2\",\n",
    "                   process=\"total\",\n",
    "                   units_e=1.0,\n",
    "                   units_sigma=1.0E-20,\n",
    "                   ref=\"itikawa2006\",\n",
    "                   background='From itikawa2006, Table 2. Computed from weighted average of four sets of experimental data, primarily time of flight (TOF) experiments. Itikawa states that the data may have large uncertainty (up to +/- 20%)',\n",
    "                   lpu=0.2,\n",
    "                   upu=0.2)\n",
    "\n",
    "scraper.writeDataToFile(data[splitIndex:],outdir+\"total_itikawa2006_2b.dat\")\n",
    "scraper.writeMetaDataToFile(filename=outdir+\"total_itikawa2006_2b.met\",\n",
    "                   specie=\"N2\",\n",
    "                   process=\"total\",\n",
    "                   units_e=1.0,\n",
    "                   units_sigma=1.0E-20,\n",
    "                   ref=\"itikawa2006\",\n",
    "                   background='From itikawa2006, Table 2. Computed from weighted average of nine sets of experimental data, primarily time of flight (TOF) experiments; no estimate of the uncertainty'\n",
    "                   )"
   ]
  },
  {
   "cell_type": "markdown",
   "metadata": {},
   "source": [
    "Karwasz, Table 6.1.3a. Recommended total scattering cross sections for the resonance region of electron collisions with N${}_2$.  This structure is due to the presence of a N${}^-({}^2\\Pi_g)$ resonant state which manifests itself in total, elastic and\n",
    "vibrational excitation cross sections. Different TCS measurements agree\n",
    "on the position and height of the peaks. The resonant structure in N${}_2$ is the\n",
    "most frequently used standard for energy scale calibration in low-energy electron scattering experiments."
   ]
  },
  {
   "cell_type": "code",
   "execution_count": 9,
   "metadata": {},
   "outputs": [],
   "source": [
    "cropDim = [(60, 165, 180, 645),(180, 165, 290, 645),(290, 165, 400, 645),(400, 165, 510, 645)]"
   ]
  },
  {
   "cell_type": "code",
   "execution_count": 10,
   "metadata": {},
   "outputs": [],
   "source": [
    "data = scraper.getTableData(pdf=pdfKarwasz,pageNumber=14,cropDimArray=cropDim,locateTables=False)"
   ]
  },
  {
   "cell_type": "code",
   "execution_count": 11,
   "metadata": {},
   "outputs": [],
   "source": [
    "scraper.writeDataToFile(data,outdir+\"total_karwasz2003_6.1.3a.dat\")\n",
    "scraper.writeMetaDataToFile(filename=outdir+\"total_karwasz2003_6.1.3a.met\",\n",
    "                            specie=\"N2\",\n",
    "                            process=\"total\",\n",
    "                            units_e=1.0,\n",
    "                            units_sigma=1.0E-20,\n",
    "                            ref=\"karwasz2003\",\n",
    "                            background='From karwasz2003, Table 6.1.3a. This structure is due to the presence of the 2Pig resonant state which manifests itself in total, elastic and vibrational excitation cross sections; different TCS measurements agree on the position and height of the peaks; the resonant structure in N2 , in particular as measured in Kennerly, R.E.: Phys. Rev. A 21 (1980) 1876, is the most frequently used as standard in the energy scale calibration for low-energy electron scattering.'\n",
    "                           )"
   ]
  },
  {
   "cell_type": "markdown",
   "metadata": {},
   "source": [
    "From Buckman, Table 6.2.5.2, preferred values of the integral elastic cross section for electrons scattered from\n",
    "N${}_2$."
   ]
  },
  {
   "cell_type": "code",
   "execution_count": 12,
   "metadata": {},
   "outputs": [],
   "source": [
    "cropDim = [(70, 410, 220, 550),(220, 410, 370, 550),(370, 410, 500, 550)]"
   ]
  },
  {
   "cell_type": "code",
   "execution_count": 13,
   "metadata": {
    "scrolled": false
   },
   "outputs": [],
   "source": [
    "data = scraper.getTableData(pdf=pdfBuckman,pageNumber=5,cropDimArray=cropDim,locateTables=False)"
   ]
  },
  {
   "cell_type": "code",
   "execution_count": 14,
   "metadata": {},
   "outputs": [],
   "source": [
    "scraper.writeDataToFile(data,outdir+\"elastic_buckman2003_6.2.5.2.dat\")\n",
    "scraper.writeMetaDataToFile(filename=outdir+\"elastic_buckman2003_6.2.5.2.met\",\n",
    "                   specie=\"N2\",\n",
    "                   process=\"elastic\",\n",
    "                   units_e=1.0,\n",
    "                   units_sigma=1.0E-20,\n",
    "                   ref=\"buckman2003\",\n",
    "                   background='derived from differential scattering measurements; at low energies, in the region of the dominant N2-(2Pig) resonance, the level of detail in the DCS measurements does not permit the fine details of the resonance profile to be extracted, so a broad envelope of the resonance enhanced cross section is thus provided; there is good general agreement between the preferred cross section and theoretical calculations',\n",
    "                   lpu=0.2,\n",
    "                   upu=0.2)"
   ]
  },
  {
   "cell_type": "markdown",
   "metadata": {},
   "source": [
    "From Elford, Table 6.3.5.3, preferred values of the elastic momentum cross section for electrons scattered from\n",
    "N${}_2$."
   ]
  },
  {
   "cell_type": "code",
   "execution_count": 15,
   "metadata": {},
   "outputs": [],
   "source": [
    "cropDim = [(90,255,200,750),(200,255,360,750),(360,255,520,750)]"
   ]
  },
  {
   "cell_type": "code",
   "execution_count": 16,
   "metadata": {
    "scrolled": false
   },
   "outputs": [],
   "source": [
    "data = scraper.getTableData(pdf=pdfElford,pageNumber=6,cropDimArray=cropDim,locateTables=False)"
   ]
  },
  {
   "cell_type": "code",
   "execution_count": 17,
   "metadata": {},
   "outputs": [],
   "source": [
    "splitIndexA = np.where(data[:,0]==0.5)[0][0]\n",
    "splitIndexB = np.where(data[:,0]==1.9)[0][0]\n",
    "splitIndexC = np.where(data[:,0]==3.5)[0][0]\n",
    "scraper.writeDataToFile(data[:splitIndexA],outdir+\"momentum_elford2003_a.dat\")\n",
    "scraper.writeMetaDataToFile(filename=outdir+\"momentum_elford2003_a.met\",\n",
    "                            specie=\"N2\",\n",
    "                            process=\"momentum\",\n",
    "                            units_e=1.0,\n",
    "                            units_sigma=1.0E-20,\n",
    "                            ref=\"elford2003\",\n",
    "                            background='From elford2003, Table 6.3.5.3.',\n",
    "                            lpu=0.05,\n",
    "                            upu=0.05)\n",
    "\n",
    "scraper.writeDataToFile(data[splitIndexA:splitIndexB],outdir+\"momentum_elford2003_b.dat\")\n",
    "scraper.writeMetaDataToFile(filename=outdir+\"momentum_elford2003_b.met\",\n",
    "                            specie=\"N2\",\n",
    "                            process=\"momentum\",\n",
    "                            units_e=1.0,\n",
    "                            units_sigma=1.0E-20,\n",
    "                            ref=\"elford2003\",\n",
    "                            background='From elford2003, Table 6.3.5.3.',\n",
    "                            lpu=0.1,\n",
    "                            upu=0.1)\n",
    "\n",
    "scraper.writeDataToFile(data[splitIndexB:splitIndexC],outdir+\"momentum_elford2003_c.dat\")\n",
    "scraper.writeMetaDataToFile(filename=outdir+\"momentum_elford2003_c.met\",\n",
    "                            specie=\"N2\",\n",
    "                            process=\"momentum\",\n",
    "                            units_e=1.0,\n",
    "                            units_sigma=1.0E-20,\n",
    "                            ref=\"elford2003\",\n",
    "                            background='From elford2003, Table 6.3.5.3. From theoretical momentum  transfer  cross  sections for  vibrational transitions v=0->0; the table in the original reference (Robertson 1997) gives cross sections for v=0->1,2 transitions and total momentum transfer cross sections as the sum of the three components'\n",
    "                           )\n",
    "\n",
    "scraper.writeDataToFile(data[splitIndexC:],outdir+\"momentum_elford2003_d.dat\")\n",
    "scraper.writeMetaDataToFile(filename=outdir+\"momentum_elford2003_d.met\",\n",
    "                            specie=\"N2\",\n",
    "                            process=\"momentum\",\n",
    "                            units_e=1.0,\n",
    "                            units_sigma=1.0E-20,\n",
    "                            ref=\"elford2003\",\n",
    "                            background='From elford2003, Table 6.3.5.3.',\n",
    "                            lpu=0.2,\n",
    "                            upu=0.2)"
   ]
  },
  {
   "cell_type": "markdown",
   "metadata": {},
   "source": [
    "Itikawa, Table 5. Recommended cross section for the rotational transition $J=0\\rightarrow2$ for electron collisions with N${}_2$."
   ]
  },
  {
   "cell_type": "code",
   "execution_count": 18,
   "metadata": {},
   "outputs": [],
   "source": [
    "cropDim = [(50, 105, 170, 275),(180, 105, 300, 275)]"
   ]
  },
  {
   "cell_type": "code",
   "execution_count": 19,
   "metadata": {
    "scrolled": false
   },
   "outputs": [],
   "source": [
    "data = scraper.getTableData(pdf=pdfItikawa,pageNumber=6,cropDimArray=cropDim,locateTables=False)\n",
    "scraper.writeDataToFile(data,outdir+\"rotational_itikawa2006.dat\")\n",
    "scraper.writeMetaDataToFile(filename=outdir+\"rotational_itikawa2006.met\",\n",
    "                            specie=\"N2\",\n",
    "                            process=\"excitation_j\",\n",
    "                            units_e=1.0,\n",
    "                            units_sigma=1.0E-20,\n",
    "                            ref=\"itikawa2006\",\n",
    "                            lhsA='N2(X1Sigmag+)',\n",
    "                            rhsA='N2(X1Sigmag+)',\n",
    "                            lhs_j=0,\n",
    "                            rhs_j=2,\n",
    "                            background='From itikawa2006, Table 5. For J=0->2 transition; based on theoretical calculations of morrison1997.',\n",
    "                            lpu=0.1,\n",
    "                            upu=0.1)"
   ]
  },
  {
   "cell_type": "code",
   "execution_count": 20,
   "metadata": {
    "scrolled": false
   },
   "outputs": [],
   "source": [
    "#TODO: incorporate vibrational cross sections from Brunger and Itikawa"
   ]
  },
  {
   "cell_type": "markdown",
   "metadata": {},
   "source": [
    "Brunger, Table 6.4.9b. Preferred values of the integral $\\nu^\\prime = 0 \\rightarrow 1$ vibrational excitation cross section for\n",
    "electrons in N${}_2$."
   ]
  },
  {
   "cell_type": "code",
   "execution_count": 21,
   "metadata": {},
   "outputs": [],
   "source": [
    "cropDim = [(80, 640, 200, 750),(200, 640, 375, 750),(375, 640, 525, 750)]"
   ]
  },
  {
   "cell_type": "code",
   "execution_count": 22,
   "metadata": {},
   "outputs": [],
   "source": [
    "data = scraper.getTableData(pdf=pdfBrunger,pageNumber=12,cropDimArray=cropDim,locateTables=False)\n",
    "\n",
    "splitIndexA = np.where(data[:,0]>1.0)[0][0]\n",
    "splitIndexB = np.where(data[:,0]>5.0)[0][0]"
   ]
  },
  {
   "cell_type": "code",
   "execution_count": 23,
   "metadata": {},
   "outputs": [],
   "source": [
    "scraper.writeDataToFile(data[:splitIndexA],outdir+\"vibrational_0-1_brunger2003_a.dat\")\n",
    "scraper.writeMetaDataToFile(filename=outdir+\"vibrational_0-1_brunger2003_a.met\",\n",
    "                            specie=\"N2\",\n",
    "                            process=\"excitation_v\",\n",
    "                            units_e=1.0,\n",
    "                            units_sigma=1.0E-20,\n",
    "                            ref=\"brunger2003\",\n",
    "                            lhsA='N2(X1Sigmag+)',\n",
    "                            rhsA='N2(X1Sigmag+)',\n",
    "                            lhs_v=0,\n",
    "                            rhs_v=1,\n",
    "                            background='Brunger, Table 6.4.9b.',\n",
    "                            lpu='.3',\n",
    "                            upu='.3')\n",
    "scraper.writeDataToFile(data[splitIndexA:splitIndexB],outdir+\"vibrational_0-1_brunger2003_b.dat\")\n",
    "scraper.writeMetaDataToFile(filename=outdir+\"vibrational_0-1_brunger2003_b.met\",\n",
    "                            specie=\"N2\",\n",
    "                            process=\"excitation_v\",\n",
    "                            units_e=1.0,\n",
    "                            units_sigma=1.0E-20,\n",
    "                            ref=\"brunger2003\",\n",
    "                            lhsA='N2(X1Sigmag+)',\n",
    "                            rhsA='N2(X1Sigmag+)',\n",
    "                            lhs_v=0,\n",
    "                            rhs_v=1,\n",
    "                            background='Brunger, Table 6.4.9b.',\n",
    "                            lpu='.25',\n",
    "                            upu='.25')\n",
    "scraper.writeDataToFile(data[splitIndexB:],outdir+\"vibrational_0-1_brunger2003_c.dat\")\n",
    "scraper.writeMetaDataToFile(filename=outdir+\"vibrational_0-1_brunger2003_c.met\",\n",
    "                            specie=\"N2\",\n",
    "                            process=\"excitation_v\",\n",
    "                            units_e=1.0,\n",
    "                            units_sigma=1.0E-20,\n",
    "                            ref=\"brunger2003\",\n",
    "                            lhsA='N2(X1Sigmag+)',\n",
    "                            rhsA='N2(X1Sigmag+)',\n",
    "                            lhs_v=0,\n",
    "                            rhs_v=1,\n",
    "                            background='Brunger, Table 6.4.9b.',\n",
    "                            lpu='.26',\n",
    "                            upu='.26')"
   ]
  },
  {
   "cell_type": "markdown",
   "metadata": {},
   "source": [
    "Brunger, Table 6.4.10. Preferred values of the integral $\\nu^\\prime = 0 \\rightarrow 2$ vibrational excitation cross section for\n",
    "electrons in N${}_2$.  Data is limited to two data points near the ${}^2\\Pi_g$ resonance."
   ]
  },
  {
   "cell_type": "code",
   "execution_count": 24,
   "metadata": {},
   "outputs": [],
   "source": [
    "cropDim = [(80, 440, 180, 480)]"
   ]
  },
  {
   "cell_type": "code",
   "execution_count": 25,
   "metadata": {},
   "outputs": [],
   "source": [
    "data = scraper.getTableData(pdf=pdfBrunger,pageNumber=13,cropDimArray=cropDim,locateTables=False)"
   ]
  },
  {
   "cell_type": "code",
   "execution_count": 26,
   "metadata": {},
   "outputs": [],
   "source": [
    "scraper.writeDataToFile(data,outdir+\"vibrational_0-2_brunger2003.dat\")\n",
    "scraper.writeMetaDataToFile(filename=outdir+\"vibrational_0-2_brunger2003.met\",\n",
    "                            specie=\"N2\",\n",
    "                            process=\"excitation_v\",\n",
    "                            units_e=1.0,\n",
    "                            units_sigma=1.0E-20,\n",
    "                            ref=\"brunger2003\",\n",
    "                            lhsA='N2(X1Sigmag+)',\n",
    "                            rhsA='N2(X1Sigmag+)',\n",
    "                            lhs_v=0,\n",
    "                            rhs_v=2,\n",
    "                            background='Brunger, Table 6.4.10.',\n",
    "                            lpu='.26',\n",
    "                            upu='.26')"
   ]
  },
  {
   "cell_type": "markdown",
   "metadata": {},
   "source": [
    "Brunger, Table 6.4.11. Preferred values of the integral $\\nu^\\prime = 0 \\rightarrow 3$ vibrational excitation cross section for\n",
    "electrons in N${}_2$.  Data is limited to two data points near the ${}^2\\Pi_g$ resonance."
   ]
  },
  {
   "cell_type": "code",
   "execution_count": 27,
   "metadata": {},
   "outputs": [],
   "source": [
    "cropDim = [(80, 200, 180, 240)]"
   ]
  },
  {
   "cell_type": "code",
   "execution_count": 28,
   "metadata": {},
   "outputs": [],
   "source": [
    "data = scraper.getTableData(pdf=pdfBrunger,pageNumber=14,cropDimArray=cropDim,locateTables=False)"
   ]
  },
  {
   "cell_type": "code",
   "execution_count": 29,
   "metadata": {},
   "outputs": [],
   "source": [
    "scraper.writeDataToFile(data,outdir+\"vibrational_0-3_brunger2003.dat\")\n",
    "scraper.writeMetaDataToFile(filename=outdir+\"vibrational_0-3_brunger2003.met\",\n",
    "                            specie=\"N2\",\n",
    "                            process=\"excitation_v\",\n",
    "                            units_e=1.0,\n",
    "                            units_sigma=1.0E-20,\n",
    "                            ref=\"brunger2003\",\n",
    "                            lhsA='N2(X1Sigmag+)',\n",
    "                            rhsA='N2(X1Sigmag+)',\n",
    "                            lhs_v=0,\n",
    "                            rhs_v=3,\n",
    "                            background='Brunger, Table 6.4.11.',\n",
    "                            lpu='.27',\n",
    "                            upu='.27')"
   ]
  },
  {
   "cell_type": "markdown",
   "metadata": {},
   "source": [
    "Itikawa, Table 8. Recommended cross sections for the electron impact excitation from the ground state N${}_2 (X^1\\Sigma)$ (Part 1) Angus included all of these processes in his gas chemistry."
   ]
  },
  {
   "cell_type": "code",
   "execution_count": 30,
   "metadata": {},
   "outputs": [],
   "source": [
    "cropDim = [(120, 440, 200, 750),(210,440,290,750),(290,440,400,750),(400,440,500,750)]"
   ]
  },
  {
   "cell_type": "code",
   "execution_count": 31,
   "metadata": {
    "scrolled": false
   },
   "outputs": [],
   "source": [
    "data = []\n",
    "for i in range(len(cropDim)):\n",
    "    data.append(scraper.getTableData(pdf=pdfItikawa,pageNumber=9,cropDimArray=[cropDim[i]],locateTables=False))\n",
    "\n",
    "splitIndex = np.where(data[0][:,0]==15)[0][0]"
   ]
  },
  {
   "cell_type": "code",
   "execution_count": 32,
   "metadata": {},
   "outputs": [],
   "source": [
    "backgroundText = \"\"\"From itikawa2006, Table 8. R-matrix method theoretical cross sections have been referred to for the detailed\n",
    "structure near threshold; oherwise a weighted average of the experimental cross sections has been taken\n",
    "with a polynomial least square fit to the energy dependence of the individual set of the cross\n",
    "sections; thus the estimated uncertainty indicates the degree\n",
    "of the concurrence of the individual experimental results.\"\"\"\n",
    "\n",
    "dataArray=[data[0][:splitIndex],data[0][splitIndex:],data[1],data[2],data[3]]\n",
    "lpuArray=[.4,.35,.35,.35,.4]\n",
    "upuArray=lpuArray\n",
    "rhsArray=['N2(A3Sigmau+)','N2(A3Sigmau+)','N2(B3Pig)','N2(W3Deltau)','N2(Bp3Sigmau-)']\n",
    "\n",
    "for i in range(len(dataArray)):\n",
    "    scraper.writeCSToFile(filename=outdir+\"excitation_itikawa2006_a_\"+str(i),\n",
    "                      dataArray=dataArray[i],\n",
    "                      specie=\"N2\",\n",
    "                      process=\"excitation\",\n",
    "                      lhsA='N2(X1Sigmag+)',\n",
    "                      rhsA=rhsArray[i],\n",
    "                      units_e=1.0,\n",
    "                      units_sigma=1.0E-20,\n",
    "                      ref=\"itikawa2006\",\n",
    "                      background=config.removeCRs(backgroundText),\n",
    "                      lpu=lpuArray[i],\n",
    "                      upu=upuArray[i])\n",
    "    scraper.writeModelsToFile(filename=outdir+\"excitation_itikawa2006_a_\"+str(i)+\".mod\",\n",
    "                              modelsArray=[\"angus\"])"
   ]
  },
  {
   "cell_type": "code",
   "execution_count": 33,
   "metadata": {},
   "outputs": [],
   "source": [
    "#TODO: fix primes in LaTeX math"
   ]
  },
  {
   "cell_type": "markdown",
   "metadata": {},
   "source": [
    "Itikawa, Tables 9 and 10. Recommended cross sections for the electron impact excitation from the ground state N${}_2 (X^1\\Sigma)$ (Parts 2 and 3)  Angus only included excitations to the $\\text{a}^\\p\\;{}^1\\Sigma_u^-$, $\\text{a}\\;{}^1\\Pi_g$, w$\\;{}^1\\Delta_u$, and  C$\\;{}^3\\Pi_u$ states. (He did not include the E$\\;{}^3\\Sigma_g^+$ and $\\text{a}^{\\p\\p}\\;{}^1\\Sigma_g^+$ states."
   ]
  },
  {
   "cell_type": "code",
   "execution_count": 34,
   "metadata": {},
   "outputs": [],
   "source": [
    "cropDim = [(40, 120, 120, 450),(130,120,210,450),(210,120,290,450),\n",
    "           (310,120,400,450),(400,120,480,450),(480,120,560,450)]"
   ]
  },
  {
   "cell_type": "code",
   "execution_count": 35,
   "metadata": {
    "scrolled": false
   },
   "outputs": [],
   "source": [
    "data = []\n",
    "for i in range(len(cropDim)):\n",
    "    data.append(scraper.getTableData(pdf=pdfItikawa,pageNumber=10,cropDimArray=[cropDim[i]],locateTables=False))"
   ]
  },
  {
   "cell_type": "code",
   "execution_count": 36,
   "metadata": {},
   "outputs": [],
   "source": [
    "backgroundText = [\"\"\"From itikawa2006, Table 9. A weighted average of the experimental\n",
    "cross sections has been taken with a polynomial least square\n",
    "fit to the energy dependence of the individual set of the cross\n",
    "sections. Thus the estimated uncertainty indicates the degree\n",
    "of the concurrence of the individual experimental results\"\"\",\n",
    "\"\"\"From itikawa2006, Table 9. when compiling the data set, Brunger considered\n",
    "four sets of beam measurements, an electron energy loss measurement in which the data\n",
    "were normalized using an emission cross section of the\n",
    "Lyman–Birge–Hopfield (LBH) system, and Mason\n",
    "and Newell's direct detection of the excited molecule\"\"\",\n",
    "\"\"\"From itikawa2006, Table 9.a weighted average of the experimental\n",
    "cross sections has been taken with a polynomial least square\n",
    "fit to the energy dependence of the individual set of the cross\n",
    "sections. Thus the estimated uncertainty indicates the degree\n",
    "of the concurrence of the individual experimental results\"\"\",\n",
    "\"\"\"From itikawa2006, Table 10. a weighted average of the experimental\n",
    "cross sections has been taken with a polynomial least square\n",
    "fit to the energy dependence of the individual set of the cross\n",
    "sections. Thus the estimated uncertainty indicates the degree\n",
    "of the concurrence of the individual experimental results\"\"\",\n",
    "\"\"\"From itikawa2006, Table 10. Brunger determined their recommended\n",
    "values considering five sets of\n",
    "beam measurementsthe cross section; the data has\n",
    "a sharp peak in the vicinity of the threshold\n",
    "identified with a core-excited shape resonance; two groups\n",
    "have determined the resonant cross section with the use of\n",
    "direct detection of the molecule in the metastable E state; \n",
    "the magnitudes of the two sets of cross section differ significantly\n",
    "from one another; by using a trochoidal electron\n",
    "spectrometer, Poparich determined the absolute\n",
    "values of the cross section at 11.94 and 12.14 eV, and this measurement\n",
    "supported one set of the cross section against the\n",
    "other\"\"\",\n",
    "\"\"\"From itikawa2006, Table 10. a weighted average of the experimental\n",
    "cross sections has been taken with a polynomial least square\n",
    "fit to the energy dependence of the individual set of the cross\n",
    "sections. Thus the estimated uncertainty indicates the degree\n",
    "of the concurrence of the individual experimental results\"\"\"]\n",
    "                  \n",
    "lpuArray=[.3,.25,.3,.3,.4,.33]\n",
    "upuArray=lpuArray\n",
    "rhsArray=['N2(ap1Sigmau-)','N2(a1Pig)','N2(w1Deltau)','N2(C3Piu)','N2(E3Sigmag+)','N2(app1Sigmag+)']\n",
    "\n",
    "for i in range(len(data)):\n",
    "    scraper.writeCSToFile(filename=outdir+\"excitation_itikawa2006_b_\"+str(i),\n",
    "                      dataArray=data[i],\n",
    "                      specie=\"N2\",\n",
    "                      process=\"excitation\",\n",
    "                      lhsA='N2(X1Sigmag+)',\n",
    "                      rhsA=rhsArray[i],\n",
    "                      units_e=1.0,\n",
    "                      units_sigma=1.0E-20,\n",
    "                      ref=\"itikawa2006\",\n",
    "                      background=config.removeCRs(backgroundText[i]),\n",
    "                      lpu=lpuArray[i],\n",
    "                      upu=upuArray[i])\n",
    "    if i <= 3:\n",
    "        scraper.writeModelsToFile(filename=outdir+\"excitation_itikawa2006_b_\"+str(i)+\".mod\", \n",
    "                                  modelsArray=[\"angus\"])"
   ]
  },
  {
   "cell_type": "markdown",
   "metadata": {},
   "source": [
    "From itikawa2006, Table 11.  Cross sections for typical emissions from N$_2^*$. In the database, these are refered to as collisional deexcitations."
   ]
  },
  {
   "cell_type": "code",
   "execution_count": 37,
   "metadata": {},
   "outputs": [],
   "source": [
    "cropDim = [(300,490,390,780),(390,490,480,780),(480,490,560,780)]"
   ]
  },
  {
   "cell_type": "code",
   "execution_count": 38,
   "metadata": {
    "scrolled": false
   },
   "outputs": [],
   "source": [
    "data = []\n",
    "for i in range(len(cropDim)):\n",
    "    data.append(scraper.getTableData(pdf=pdfItikawa,pageNumber=12,cropDimArray=[cropDim[i]],locateTables=False))"
   ]
  },
  {
   "cell_type": "code",
   "execution_count": 39,
   "metadata": {},
   "outputs": [],
   "source": [
    "lpuArray=['\\\\N',.135,.22]\n",
    "upuArray=lpuArray\n",
    "lhsArray=['N2(a1Pig)','N2(C3Piu)','N2(c4p1Sigmau+)']\n",
    "rhsArray=['N2(X1Sigmag+)','N2(B3Pig)','N2(X1Sigmag+)']\n",
    "wavelengthArray=[135.4,337.1,95.8]\n",
    "lhs_vArray=[3,0,0]\n",
    "rhs_vArray=[0,0,0]\n",
    "\n",
    "for i in range(len(data)):\n",
    "    scraper.writeCSToFile(filename=outdir+\"c_deexcitation_v_itikawa2006_\"+str(i),\n",
    "                      dataArray=data[i],\n",
    "                      specie=\"N2\",\n",
    "                      process=\"c_deexcitation_v\",\n",
    "                      lhsA=lhsArray[i],\n",
    "                      rhsA=rhsArray[i],\n",
    "                      wavelength=wavelengthArray[i],\n",
    "                      lhs_v=lhs_vArray[i],\n",
    "                      rhs_v=rhs_vArray[i],\n",
    "                      units_e=1.0,\n",
    "                      units_sigma=1.0E-22,\n",
    "                      ref=\"itikawa2006\",\n",
    "                      background='',\n",
    "                      lpu=lpuArray[i],\n",
    "                      upu=upuArray[i])"
   ]
  },
  {
   "cell_type": "markdown",
   "metadata": {},
   "source": [
    "Itikawa, Table 14. Total dissociation cross section for electron collisions with $N_2$ recommended by Cosby."
   ]
  },
  {
   "cell_type": "code",
   "execution_count": 40,
   "metadata": {},
   "outputs": [],
   "source": [
    "cropDim = [(60, 560, 300, 750)]"
   ]
  },
  {
   "cell_type": "code",
   "execution_count": 41,
   "metadata": {
    "scrolled": true
   },
   "outputs": [],
   "source": [
    "data = scraper.getTableData(pdf=pdfItikawa,pageNumber=17,cropDimArray=cropDim,locateTables=False)"
   ]
  },
  {
   "cell_type": "code",
   "execution_count": 42,
   "metadata": {},
   "outputs": [],
   "source": [
    "#FIXME: what states do we use for total cross sections?\n",
    "scraper.writeDataToFile(data,outdir+\"total_dissociation_itikawa2006_14.dat\")\n",
    "scraper.writeMetaDataToFile(filename=outdir+\"total_dissociation_itikawa2006_14.met\",\n",
    "                   specie=\"N2\",\n",
    "                   process=\"dissociation_total\",\n",
    "                   units_e=1.0,\n",
    "                   units_sigma=1.0E-20,\n",
    "                   ref=\"itikawa2006\",\n",
    "                   background='From itikawa2006, Table 14. Weighted sum of Winters gas cell and Cosby fast $N_2$ beam data; for Cosby data, the correlated pair N + N was detected by a time and position sensitive detecter. Error for Cosby data was 20% and error for Winters data was 30%.',\n",
    "                   lpu=0.3,\n",
    "                   upu=0.3)"
   ]
  },
  {
   "cell_type": "markdown",
   "metadata": {},
   "source": [
    "Itikawa, Tables 15-17. Ionization cross sections (partial and total) for electron collisions with $N_2$."
   ]
  },
  {
   "cell_type": "markdown",
   "metadata": {},
   "source": [
    "Gather up the electron energies from the tables."
   ]
  },
  {
   "cell_type": "code",
   "execution_count": 43,
   "metadata": {},
   "outputs": [],
   "source": [
    "cropDim = [(310, 95, 350, 355)]"
   ]
  },
  {
   "cell_type": "code",
   "execution_count": 44,
   "metadata": {
    "scrolled": true
   },
   "outputs": [],
   "source": [
    "data_e = scraper.get_column_data(pdf=pdfItikawa,pageNumber=17,cropDimArray=cropDim,locateTables=False)"
   ]
  },
  {
   "cell_type": "code",
   "execution_count": 45,
   "metadata": {},
   "outputs": [],
   "source": [
    "cropDim = [(40, 95, 70, 340)]"
   ]
  },
  {
   "cell_type": "code",
   "execution_count": 46,
   "metadata": {},
   "outputs": [],
   "source": [
    "data_e = np.concatenate((data_e,scraper.get_column_data(pdf=pdfItikawa,pageNumber=18,cropDimArray=cropDim,locateTables=False)),axis=0)"
   ]
  },
  {
   "cell_type": "code",
   "execution_count": 47,
   "metadata": {},
   "outputs": [],
   "source": [
    "cropDim = [(40, 590, 70, 750)]"
   ]
  },
  {
   "cell_type": "code",
   "execution_count": 48,
   "metadata": {},
   "outputs": [],
   "source": [
    "data_e = np.concatenate((data_e,scraper.get_column_data(pdf=pdfItikawa,pageNumber=18,cropDimArray=cropDim,locateTables=False)),axis=0)"
   ]
  },
  {
   "cell_type": "markdown",
   "metadata": {},
   "source": [
    "Gather up the N$_2^+$ cross sections from the tables."
   ]
  },
  {
   "cell_type": "code",
   "execution_count": 49,
   "metadata": {},
   "outputs": [],
   "source": [
    "cropDim = [(350, 95, 400, 355)]"
   ]
  },
  {
   "cell_type": "code",
   "execution_count": 50,
   "metadata": {
    "scrolled": true
   },
   "outputs": [],
   "source": [
    "data_N2p = scraper.get_column_data(pdf=pdfItikawa,pageNumber=17,cropDimArray=cropDim,locateTables=False)"
   ]
  },
  {
   "cell_type": "code",
   "execution_count": 51,
   "metadata": {},
   "outputs": [],
   "source": [
    "cropDim = [(80, 95, 140, 340)]"
   ]
  },
  {
   "cell_type": "code",
   "execution_count": 52,
   "metadata": {},
   "outputs": [],
   "source": [
    "data_N2p = np.concatenate((data_N2p,scraper.get_column_data(pdf=pdfItikawa,pageNumber=18,cropDimArray=cropDim,locateTables=False)),axis=0)"
   ]
  },
  {
   "cell_type": "code",
   "execution_count": 53,
   "metadata": {},
   "outputs": [],
   "source": [
    "cropDim = [(80, 590, 140, 750)]"
   ]
  },
  {
   "cell_type": "code",
   "execution_count": 54,
   "metadata": {},
   "outputs": [],
   "source": [
    "data_N2p = np.concatenate((data_N2p,scraper.get_column_data(pdf=pdfItikawa,pageNumber=18,cropDimArray=cropDim,locateTables=False)),axis=0)"
   ]
  },
  {
   "cell_type": "markdown",
   "metadata": {},
   "source": [
    "Gather up the N$^+$ cross sections from the tables."
   ]
  },
  {
   "cell_type": "code",
   "execution_count": 55,
   "metadata": {},
   "outputs": [],
   "source": [
    "cropDim = [(400, 95, 450, 355)]"
   ]
  },
  {
   "cell_type": "code",
   "execution_count": 56,
   "metadata": {
    "scrolled": true
   },
   "outputs": [],
   "source": [
    "data_Np = scraper.get_column_data(pdf=pdfItikawa,pageNumber=17,cropDimArray=cropDim,locateTables=False)"
   ]
  },
  {
   "cell_type": "code",
   "execution_count": 57,
   "metadata": {},
   "outputs": [],
   "source": [
    "cropDim = [(140, 95, 200, 340)]"
   ]
  },
  {
   "cell_type": "code",
   "execution_count": 58,
   "metadata": {},
   "outputs": [],
   "source": [
    "data_Np = np.concatenate((data_Np,scraper.get_column_data(pdf=pdfItikawa,pageNumber=18,cropDimArray=cropDim,locateTables=False)),axis=0)"
   ]
  },
  {
   "cell_type": "code",
   "execution_count": 59,
   "metadata": {},
   "outputs": [],
   "source": [
    "cropDim = [(140, 590, 200, 750)]"
   ]
  },
  {
   "cell_type": "code",
   "execution_count": 60,
   "metadata": {},
   "outputs": [],
   "source": [
    "data_Np = np.concatenate((data_Np,scraper.get_column_data(pdf=pdfItikawa,pageNumber=18,cropDimArray=cropDim,locateTables=False)),axis=0)"
   ]
  },
  {
   "cell_type": "markdown",
   "metadata": {},
   "source": [
    "Gather up the N$^{++}$ cross sections from the tables."
   ]
  },
  {
   "cell_type": "code",
   "execution_count": 61,
   "metadata": {},
   "outputs": [],
   "source": [
    "cropDim = [(200, 95, 250, 340)]"
   ]
  },
  {
   "cell_type": "code",
   "execution_count": 62,
   "metadata": {},
   "outputs": [],
   "source": [
    "data_Npp = scraper.get_column_data(pdf=pdfItikawa,pageNumber=18,cropDimArray=cropDim,locateTables=False)"
   ]
  },
  {
   "cell_type": "code",
   "execution_count": 63,
   "metadata": {},
   "outputs": [],
   "source": [
    "cropDim = [(200, 590, 250, 750)]"
   ]
  },
  {
   "cell_type": "code",
   "execution_count": 64,
   "metadata": {},
   "outputs": [],
   "source": [
    "data_Npp = np.concatenate((data_Npp,scraper.get_column_data(pdf=pdfItikawa,pageNumber=18,cropDimArray=cropDim,locateTables=False)),axis=0)"
   ]
  },
  {
   "cell_type": "markdown",
   "metadata": {},
   "source": [
    "Gather up the total cross sections from the tables."
   ]
  },
  {
   "cell_type": "code",
   "execution_count": 65,
   "metadata": {},
   "outputs": [],
   "source": [
    "cropDim = [(500, 95, 550, 355)]"
   ]
  },
  {
   "cell_type": "code",
   "execution_count": 66,
   "metadata": {
    "scrolled": true
   },
   "outputs": [],
   "source": [
    "data_total = scraper.get_column_data(pdf=pdfItikawa, pageNumber=17,cropDimArray=cropDim,locateTables=False)"
   ]
  },
  {
   "cell_type": "code",
   "execution_count": 67,
   "metadata": {},
   "outputs": [],
   "source": [
    "cropDim = [(250, 95, 300, 340)]"
   ]
  },
  {
   "cell_type": "code",
   "execution_count": 68,
   "metadata": {},
   "outputs": [],
   "source": [
    "data_total = np.concatenate((data_total, scraper.get_column_data(pdf=pdfItikawa,pageNumber=18,cropDimArray=cropDim,locateTables=False)), axis=0)"
   ]
  },
  {
   "cell_type": "code",
   "execution_count": 69,
   "metadata": {},
   "outputs": [],
   "source": [
    "cropDim = [(250, 590, 300, 750)]"
   ]
  },
  {
   "cell_type": "code",
   "execution_count": 70,
   "metadata": {},
   "outputs": [],
   "source": [
    "data_total = np.concatenate((data_total, scraper.get_column_data(pdf=pdfItikawa,pageNumber=18,cropDimArray=cropDim,locateTables=False)),axis=0)"
   ]
  },
  {
   "cell_type": "code",
   "execution_count": 71,
   "metadata": {},
   "outputs": [],
   "source": [
    "filename=\"ionization_partial_N2+_itikawa2006\"\n",
    "scraper.writeDataToFile(np.column_stack((data_e,data_N2p)),outdir+filename+\".dat\")\n",
    "scraper.writeMetaDataToFile(filename=outdir+filename+\".met\",\n",
    "                            specie=\"N2\",\n",
    "                            process=\"ionization_partial\",\n",
    "                            lhsA=\"N2\",\n",
    "                            rhsA=\"N2+\",\n",
    "                            units_e=1.0,\n",
    "                            units_sigma=1.0E-20,\n",
    "                            ref=\"itikawa2006\",\n",
    "                            background='From itikawa2006, Table 15-17. Based on TOF mass spectrometer to detect product ions',\n",
    "                            lpu=0.05,\n",
    "                            upu=0.05)"
   ]
  },
  {
   "cell_type": "code",
   "execution_count": 72,
   "metadata": {},
   "outputs": [],
   "source": [
    "filename=\"ionization_partial_N+_itikawa2006\"\n",
    "scraper.writeDataToFile(np.column_stack((data_e[len(data_e)-len(data_Np):],data_Np)),outdir+filename+\".dat\")\n",
    "scraper.writeMetaDataToFile(filename=outdir+filename+\".met\",\n",
    "                            specie=\"N2\",\n",
    "                            process=\"ionization_partial\",\n",
    "                            lhsA=\"N2\",\n",
    "                            rhsA=\"N+\",\n",
    "                            units_e=1.0,\n",
    "                            units_sigma=1.0E-20,\n",
    "                            ref=\"itikawa2006\",\n",
    "                            background='From itikawa2006, Table 15-17. Based on TOF mass spectrometer to detect product ions',\n",
    "                            lpu=0.05,\n",
    "                            upu=0.05)"
   ]
  },
  {
   "cell_type": "code",
   "execution_count": 73,
   "metadata": {},
   "outputs": [],
   "source": [
    "filename=\"ionization_partial_N++_itikawa2006\"\n",
    "scraper.writeDataToFile(np.column_stack((data_e[len(data_e)-len(data_Npp):],data_Npp)),outdir+filename+\".dat\")\n",
    "scraper.writeMetaDataToFile(filename=outdir+filename+\".met\",\n",
    "                            specie=\"N2\",\n",
    "                            process=\"ionization_partial\",\n",
    "                            lhsA=\"N2\",\n",
    "                            rhsA=\"N++\",\n",
    "                            units_e=1.0,\n",
    "                            units_sigma=1.0E-20,\n",
    "                            ref=\"itikawa2006\",\n",
    "                            background='From itikawa2006, Table 15-17. Based on TOF mass spectrometer to detect product ions',\n",
    "                            lpu=0.05,\n",
    "                            upu=0.05)"
   ]
  },
  {
   "cell_type": "code",
   "execution_count": 74,
   "metadata": {},
   "outputs": [],
   "source": [
    "filename=\"ionization_total_itikawa2006\"\n",
    "scraper.writeDataToFile(np.column_stack((data_e,data_total)),outdir+filename+\".dat\")\n",
    "scraper.writeMetaDataToFile(filename=outdir+filename+\".met\",\n",
    "                            specie=\"N2\",\n",
    "                            process=\"ionization_total\",\n",
    "                            lhsA=\"N2\",\n",
    "                            units_e=1.0,\n",
    "                            units_sigma=1.0E-20,\n",
    "                            ref=\"itikawa2006\",\n",
    "                            background='From itikawa2006, Table 15-17. Based on TOF mass spectrometer to detect product ions',\n",
    "                            lpu=0.05,\n",
    "                            upu=0.05)"
   ]
  }
 ],
 "metadata": {
  "kernelspec": {
   "display_name": "Python 3",
   "language": "python",
   "name": "python3"
  },
  "language_info": {
   "codemirror_mode": {
    "name": "ipython",
    "version": 3
   },
   "file_extension": ".py",
   "mimetype": "text/x-python",
   "name": "python",
   "nbconvert_exporter": "python",
   "pygments_lexer": "ipython3",
   "version": "3.7.2"
  }
 },
 "nbformat": 4,
 "nbformat_minor": 2
}
