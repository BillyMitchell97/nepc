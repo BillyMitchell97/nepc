{
 "cells": [
  {
   "cell_type": "code",
   "execution_count": 6,
   "metadata": {},
   "outputs": [],
   "source": [
    "from scipy.special import assoc_laguerre, gamma, factorial\n",
    "from constants import *"
   ]
  },
  {
   "cell_type": "markdown",
   "metadata": {},
   "source": [
    "The Morse potential for a diatomic molecule is\n",
    "\n",
    "$V(r) = D\\lbrace 1-\\exp[-a(r-r_0)] \\rbrace ^2$\n",
    "\n",
    "where $D$ is the dissociation energy from the minimum in the potential well at $r_0$, $r$ is the internuclear distance, and $a$ is related to the force constant and the anharmonicity. The normalized wave functions are\n",
    "\n",
    "$\\Psi_v = N_v e^{-z/2} z^{b/2} L_v^b(z)$\n",
    "\n",
    "where\n",
    "\n",
    "$N_v = [abv!/\\Gamma(k-v)]^{1/2}$,\n",
    "\n",
    "$z = k \\exp[-a(r-r_0)]$,\n",
    "\n",
    "$b = k-2v-1$,\n",
    "\n",
    "$k = \\omega_e / \\omega_e x_e = 0.487118(\\mu D)^{1/2}/a$,\n",
    "\n",
    "$\\mu$ is the reduced mass of the molecule, and\n",
    "\n",
    "$L_v^b(z)$ is the associated Laguerre polynomial (available in Python as `scipy.special.assoc_laguerre(z, v, b=0.0)`)."
   ]
  },
  {
   "cell_type": "code",
   "execution_count": 13,
   "metadata": {},
   "outputs": [],
   "source": [
    "(T0, we, wexe, weye, weze, weae) = vibConstantsN2[0]\n",
    "k = we/wexe"
   ]
  },
  {
   "cell_type": "code",
   "execution_count": 9,
   "metadata": {},
   "outputs": [],
   "source": [
    "def Nv(a, b, v, k):\n",
    "    return(a*b*factorial(v)/gamma(k-v))"
   ]
  },
  {
   "cell_type": "code",
   "execution_count": 10,
   "metadata": {},
   "outputs": [],
   "source": [
    "def z(r, k, a, r0):\n",
    "    return(k*exp(-a *(r-r0)))"
   ]
  },
  {
   "cell_type": "code",
   "execution_count": 11,
   "metadata": {},
   "outputs": [],
   "source": [
    "def b(k, v):\n",
    "    return (k-2*v-1)"
   ]
  },
  {
   "cell_type": "code",
   "execution_count": null,
   "metadata": {},
   "outputs": [],
   "source": []
  },
  {
   "cell_type": "code",
   "execution_count": 5,
   "metadata": {},
   "outputs": [
    {
     "data": {
      "text/plain": [
       "7.00335"
      ]
     },
     "execution_count": 5,
     "metadata": {},
     "output_type": "execute_result"
    }
   ],
   "source": [
    "M_N2 = 14.0067\n",
    "mu = M_N2*M_N2/(M_N2+M_N2)\n",
    "mu"
   ]
  },
  {
   "cell_type": "code",
   "execution_count": null,
   "metadata": {},
   "outputs": [],
   "source": [
    "assoc_laguerre()"
   ]
  }
 ],
 "metadata": {
  "kernelspec": {
   "display_name": "Python 3",
   "language": "python",
   "name": "python3"
  },
  "language_info": {
   "codemirror_mode": {
    "name": "ipython",
    "version": 3
   },
   "file_extension": ".py",
   "mimetype": "text/x-python",
   "name": "python",
   "nbconvert_exporter": "python",
   "pygments_lexer": "ipython3",
   "version": "3.7.2"
  }
 },
 "nbformat": 4,
 "nbformat_minor": 2
}
