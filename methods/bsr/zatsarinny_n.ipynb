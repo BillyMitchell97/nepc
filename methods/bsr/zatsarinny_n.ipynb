{
 "cells": [
  {
   "cell_type": "code",
   "execution_count": 1,
   "metadata": {},
   "outputs": [],
   "source": [
    "import scraper\n",
    "import numpy as np\n",
    "import config\n",
    "import tarfile\n",
    "import matplotlib.pyplot as plt"
   ]
  },
  {
   "cell_type": "code",
   "execution_count": 2,
   "metadata": {},
   "outputs": [],
   "source": [
    "userHome = config.userHome()\n",
    "outdir = userHome + \"projects/nepc/data/formatted/n/zatsarinny/\"\n",
    "tmpdir = userHome + \"projects/nepc/tmp/\""
   ]
  },
  {
   "cell_type": "code",
   "execution_count": 3,
   "metadata": {},
   "outputs": [],
   "source": [
    "scraper.rmdir(outdir)\n",
    "scraper.mkdir(outdir)\n",
    "scraper.rmdir(tmpdir)\n",
    "scraper.mkdir(tmpdir)"
   ]
  },
  {
   "cell_type": "code",
   "execution_count": 4,
   "metadata": {},
   "outputs": [
    {
     "name": "stdout",
     "output_type": "stream",
     "text": [
      "/Users/adamson/projects/nepc/data/raw/bsr/N_2014_archive.tar.gz True\n"
     ]
    }
   ],
   "source": [
    "# specifying the tar file name \n",
    "bsr_tarfile = userHome + \"projects/nepc/data/raw/bsr/N_2014_archive.tar.gz\"\n",
    "  \n",
    "# check that it's a valid tar file\n",
    "for file_name in [ bsr_tarfile ]:\n",
    "    try:\n",
    "        print(file_name, tarfile.is_tarfile(file_name))\n",
    "    except (IOError, err):\n",
    "        print(file_name, err)"
   ]
  },
  {
   "cell_type": "code",
   "execution_count": 5,
   "metadata": {},
   "outputs": [
    {
     "name": "stdout",
     "output_type": "stream",
     "text": [
      "First 10 files in /Users/adamson/projects/nepc/data/raw/bsr/N_2014_archive.tar.gz: \n",
      "['N_2014_archive', 'N_2014_archive/2014_N.pdf', 'N_2014_archive/ion_001', 'N_2014_archive/ion_002', 'N_2014_archive/ion_003', 'N_2014_archive/mt_001', 'N_2014_archive/mt_002', 'N_2014_archive/mt_003', 'N_2014_archive/read_me', 'N_2014_archive/tr_001_001']\n"
     ]
    }
   ],
   "source": [
    "t = tarfile.open(bsr_tarfile, 'r')\n",
    "\n",
    "# peek inside\n",
    "print(\"First 10 files in \" + bsr_tarfile + \": \")\n",
    "print(t.getnames()[:10])"
   ]
  },
  {
   "cell_type": "code",
   "execution_count": 6,
   "metadata": {},
   "outputs": [],
   "source": [
    "t.extractall(path=tmpdir)"
   ]
  },
  {
   "cell_type": "markdown",
   "metadata": {},
   "source": [
    "Put all of the electronic states into a list. `n_states_list[0]` is a placeholder, so the indices correspond to the numbering of the states in wang2014. (The (2s$^2$2p$^3$) ${}^4S^o$ ground state is item 1 in the list.)"
   ]
  },
  {
   "cell_type": "code",
   "execution_count": 7,
   "metadata": {},
   "outputs": [],
   "source": [
    "with open(userHome + \"projects/nepc/src/mysql/n_states.tsv\") as f:\n",
    "    n_states_lines = f.readlines()[1:]\n",
    "\n",
    "n_states_list = []\n",
    "for line in n_states_lines:\n",
    "    n_states_list.append(line.split('\\t'))"
   ]
  },
  {
   "cell_type": "code",
   "execution_count": 8,
   "metadata": {},
   "outputs": [],
   "source": [
    "with open(userHome + \"projects/nepc/src/mysql/n+_states.tsv\") as f:\n",
    "    np_states_lines = f.readlines()[1:]\n",
    "\n",
    "np_states_list = []\n",
    "for line in np_states_lines:\n",
    "    np_states_list.append(line.split('\\t'))"
   ]
  },
  {
   "cell_type": "code",
   "execution_count": 9,
   "metadata": {},
   "outputs": [],
   "source": [
    "n_states=[n_states_list[i][9] for i in range(1,len(n_states_list))]\n",
    "np_states=[np_states_list[i][9] for i in range(1,len(np_states_list))]"
   ]
  },
  {
   "cell_type": "markdown",
   "metadata": {},
   "source": [
    "Electron-impact ionization\n",
    "-------------------------------"
   ]
  },
  {
   "cell_type": "markdown",
   "metadata": {},
   "source": [
    "Cross sections for electron-impact ionization of atomic nitrogen from the (2s$^2$2p$^3$) ${}^4S^o$ ground state, metastable (2s$^2$2p$^3$) ${}^2D^o$ state, and the metastable (2s$^2$2p$^3$) ${}^2P^o$ state."
   ]
  },
  {
   "cell_type": "code",
   "execution_count": 10,
   "metadata": {},
   "outputs": [],
   "source": [
    "#FIXME: need the Term Symbols for all of the N+ states"
   ]
  },
  {
   "cell_type": "code",
   "execution_count": 11,
   "metadata": {},
   "outputs": [
    {
     "data": {
      "text/plain": [
       "['N+(2s22p2_3P0)', 'N+(2s12p3)', 'N+(2s12p3)']"
      ]
     },
     "execution_count": 11,
     "metadata": {},
     "output_type": "execute_result"
    }
   ],
   "source": [
    "np_states"
   ]
  },
  {
   "cell_type": "code",
   "execution_count": 12,
   "metadata": {},
   "outputs": [],
   "source": [
    "for i in range(3):\n",
    "    data = np.loadtxt(tmpdir + \"/N_2014_archive/ion_00\" + str(i+1), skiprows=1, usecols=(0,1))\n",
    "    filename = outdir+\"ionization_\" + n_states[i]\n",
    "    scraper.writeDataToFile(data,filename + \".dat\")\n",
    "    scraper.writeMetaDataToFile(filename=filename + \".met\",\n",
    "                            specie=\"N\",\n",
    "                            process=\"total\",\n",
    "                            units_e=1.0,\n",
    "                            units_sigma=1.0E-20,\n",
    "                                lhsA=n_states[i],\n",
    "                                rhsA=np_states[i],\n",
    "                            ref=\"wang2014\",\n",
    "                            background='From BSR calculations. Raw data provided by Zatsarinny.  Used predominate electronic state for N+ on RHS.')"
   ]
  },
  {
   "cell_type": "markdown",
   "metadata": {},
   "source": [
    "Momentum transfer\n",
    "----------------------"
   ]
  },
  {
   "cell_type": "code",
   "execution_count": 13,
   "metadata": {},
   "outputs": [],
   "source": [
    "#FIXME"
   ]
  },
  {
   "cell_type": "markdown",
   "metadata": {},
   "source": [
    "Momentum transfer cross sections for electron impact with atomic nitrogen in the (2s$^2$2p$^3$) ${}^4S^o$ ground state, metastable (2s$^2$2p$^3$) ${}^2D^o$ state, and the metastable (2s$^2$2p$^3$) ${}^2P^o$ state."
   ]
  },
  {
   "cell_type": "code",
   "execution_count": null,
   "metadata": {},
   "outputs": [],
   "source": []
  },
  {
   "cell_type": "code",
   "execution_count": 14,
   "metadata": {},
   "outputs": [
    {
     "data": {
      "image/png": "[encoded data removed]",
      "text/plain": [
       "<Figure size 432x288 with 1 Axes>"
      ]
     },
     "metadata": {
      "needs_background": "light"
     },
     "output_type": "display_data"
    },
    {
     "data": {
      "image/png": "[encoded data removed]",
      "text/plain": [
       "<Figure size 432x288 with 1 Axes>"
      ]
     },
     "metadata": {
      "needs_background": "light"
     },
     "output_type": "display_data"
    },
    {
     "data": {
      "image/png": "[encoded data removed]",
      "text/plain": [
       "<Figure size 432x288 with 1 Axes>"
      ]
     },
     "metadata": {
      "needs_background": "light"
     },
     "output_type": "display_data"
    }
   ],
   "source": [
    "for i in range(3):\n",
    "    data = np.loadtxt(tmpdir + \"/N_2014_archive/mt_00\" + str(i+1), skiprows=1, usecols=(0,1))\n",
    "    filename = outdir+\"momentum_transfer_\" + n_states[i]\n",
    "    scraper.writeDataToFile(data,filename + \".dat\")\n",
    "    scraper.writeMetaDataToFile(filename=filename + \".met\",\n",
    "                            specie=\"N\",\n",
    "                            process=\"momentum\",\n",
    "                            units_e=1.0,\n",
    "                            units_sigma=1.0E-20,\n",
    "                                lhsA=n_states[i],\n",
    "                            ref=\"wang2014\",\n",
    "                            background='From BSR calculations. Raw data provided by Zatsarinny.')\n",
    "    x,y = data.T\n",
    "    if i == 0:\n",
    "        i_max = 120\n",
    "        x = x[:i_max]\n",
    "        y = y[:i_max]\n",
    "    fig = plt.figure()\n",
    "    ax1 = fig.add_subplot(111)\n",
    "    plot_symbols = [\"r-\", \"b-\", \"g-\"]\n",
    "    plt.plot(x, y, plot_symbols[i], label = n_states[i])\n",
    "    plt.legend(loc='upper right');\n",
    "    plt.show() "
   ]
  },
  {
   "cell_type": "code",
   "execution_count": null,
   "metadata": {},
   "outputs": [],
   "source": []
  }
 ],
 "metadata": {
  "kernelspec": {
   "display_name": "Python 3",
   "language": "python",
   "name": "python3"
  },
  "language_info": {
   "codemirror_mode": {
    "name": "ipython",
    "version": 3
   },
   "file_extension": ".py",
   "mimetype": "text/x-python",
   "name": "python",
   "nbconvert_exporter": "python",
   "pygments_lexer": "ipython3",
   "version": "3.7.2"
  }
 },
 "nbformat": 4,
 "nbformat_minor": 2
}
