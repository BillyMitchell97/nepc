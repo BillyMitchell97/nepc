{
 "cells": [
  {
   "cell_type": "code",
   "execution_count": 1,
   "metadata": {},
   "outputs": [],
   "source": [
    "import scraper\n",
    "import numpy as np\n",
    "import config\n",
    "import tarfile\n",
    "import matplotlib.pyplot as plt"
   ]
  },
  {
   "cell_type": "code",
   "execution_count": 2,
   "metadata": {},
   "outputs": [],
   "source": [
    "userHome = config.userHome()\n",
    "outdir = userHome + \"projects/nepc/data/formatted/n/zatsarinny/\"\n",
    "tmpdir = userHome + \"projects/nepc/tmp/\""
   ]
  },
  {
   "cell_type": "code",
   "execution_count": 3,
   "metadata": {},
   "outputs": [
    {
     "name": "stdout",
     "output_type": "stream",
     "text": [
      "Error: /home/adamson/projects/nepc/tmp/ - No such file or directory.\n"
     ]
    }
   ],
   "source": [
    "scraper.rmdir(outdir)\n",
    "scraper.mkdir(outdir)\n",
    "scraper.rmdir(tmpdir)\n",
    "scraper.mkdir(tmpdir)"
   ]
  },
  {
   "cell_type": "code",
   "execution_count": 4,
   "metadata": {},
   "outputs": [
    {
     "name": "stdout",
     "output_type": "stream",
     "text": [
      "/home/adamson/projects/nepc/data/raw/bsr/N_2014_archive.tar.gz True\n"
     ]
    }
   ],
   "source": [
    "# specifying the tar file name \n",
    "bsr_tarfile = userHome + \"projects/nepc/data/raw/bsr/N_2014_archive.tar.gz\"\n",
    "  \n",
    "# check that it's a valid tar file\n",
    "for file_name in [ bsr_tarfile ]:\n",
    "    try:\n",
    "        print(file_name, tarfile.is_tarfile(file_name))\n",
    "    except (IOError, err):\n",
    "        print(file_name, err)"
   ]
  },
  {
   "cell_type": "code",
   "execution_count": 5,
   "metadata": {},
   "outputs": [
    {
     "name": "stdout",
     "output_type": "stream",
     "text": [
      "First 10 files in /home/adamson/projects/nepc/data/raw/bsr/N_2014_archive.tar.gz: \n",
      "['N_2014_archive', 'N_2014_archive/2014_N.pdf', 'N_2014_archive/ion_001', 'N_2014_archive/ion_002', 'N_2014_archive/ion_003', 'N_2014_archive/mt_001', 'N_2014_archive/mt_002', 'N_2014_archive/mt_003', 'N_2014_archive/read_me', 'N_2014_archive/tr_001_001']\n"
     ]
    }
   ],
   "source": [
    "t = tarfile.open(bsr_tarfile, 'r')\n",
    "\n",
    "# peek inside\n",
    "print(\"First 10 files in \" + bsr_tarfile + \": \")\n",
    "print(t.getnames()[:10])"
   ]
  },
  {
   "cell_type": "code",
   "execution_count": 6,
   "metadata": {},
   "outputs": [],
   "source": [
    "t.extractall(path=tmpdir)"
   ]
  },
  {
   "cell_type": "markdown",
   "metadata": {},
   "source": [
    "Put all of the electronic states into a list. `n_states_list[0]` is a placeholder, so the indices correspond to the numbering of the states in wang2014. (The (2s$^2$2p$^3$) ${}^4S^o$ ground state is item 1 in the list.)"
   ]
  },
  {
   "cell_type": "code",
   "execution_count": 7,
   "metadata": {},
   "outputs": [],
   "source": [
    "with open(userHome + \"projects/nepc/src/mysql/n_states.tsv\") as f:\n",
    "    n_states_lines = f.readlines()[1:]\n",
    "\n",
    "n_states_list = []\n",
    "for line in n_states_lines:\n",
    "    n_states_list.append(line.split('\\t'))"
   ]
  },
  {
   "cell_type": "code",
   "execution_count": 8,
   "metadata": {},
   "outputs": [],
   "source": [
    "with open(userHome + \"projects/nepc/src/mysql/n+_states.tsv\") as f:\n",
    "    np_states_lines = f.readlines()[1:]\n",
    "\n",
    "np_states_list = []\n",
    "for line in np_states_lines:\n",
    "    np_states_list.append(line.split('\\t'))"
   ]
  },
  {
   "cell_type": "code",
   "execution_count": 9,
   "metadata": {},
   "outputs": [],
   "source": [
    "n_states=[n_states_list[i][9] for i in range(1,len(n_states_list))]\n",
    "np_states=[np_states_list[i][9] for i in range(1,len(np_states_list))]"
   ]
  },
  {
   "cell_type": "markdown",
   "metadata": {},
   "source": [
    "Electron-impact ionization\n",
    "-------------------------------"
   ]
  },
  {
   "cell_type": "markdown",
   "metadata": {},
   "source": [
    "Cross sections for electron-impact ionization of atomic nitrogen from the (2s$^2$2p$^3$) ${}^4S^o$ ground state, metastable (2s$^2$2p$^3$) ${}^2D^o$ state, and the metastable (2s$^2$2p$^3$) ${}^2P^o$ state."
   ]
  },
  {
   "cell_type": "code",
   "execution_count": 10,
   "metadata": {},
   "outputs": [],
   "source": [
    "#FIXME: need the Term Symbols for all of the N+ states"
   ]
  },
  {
   "cell_type": "code",
   "execution_count": 11,
   "metadata": {},
   "outputs": [
    {
     "data": {
      "text/plain": [
       "['N+(2s22p2_3P0)', 'N+(2s12p3)', 'N+(2s12p3)']"
      ]
     },
     "execution_count": 11,
     "metadata": {},
     "output_type": "execute_result"
    }
   ],
   "source": [
    "np_states"
   ]
  },
  {
   "cell_type": "code",
   "execution_count": 12,
   "metadata": {},
   "outputs": [],
   "source": [
    "for i in range(3):\n",
    "    data = np.loadtxt(tmpdir + \"/N_2014_archive/ion_00\" + str(i+1), skiprows=1, usecols=(0,1))\n",
    "    filename = outdir+\"ionization_\" + n_states[i]\n",
    "    scraper.writeDataToFile(data,filename + \".dat\")\n",
    "    scraper.writeMetaDataToFile(filename=filename + \".met\",\n",
    "                            specie=\"N\",\n",
    "                            process=\"total\",\n",
    "                            units_e=1.0,\n",
    "                            units_sigma=1.0E-20,\n",
    "                                lhsA=n_states[i],\n",
    "                                rhsA=np_states[i],\n",
    "                            ref=\"wang2014\",\n",
    "                            background='From BSR calculations. Raw data provided by Zatsarinny.  Used predominate electronic state for N+ on RHS.')"
   ]
  },
  {
   "cell_type": "markdown",
   "metadata": {},
   "source": [
    "Momentum transfer\n",
    "----------------------"
   ]
  },
  {
   "cell_type": "code",
   "execution_count": 13,
   "metadata": {},
   "outputs": [],
   "source": [
    "#FIXME"
   ]
  },
  {
   "cell_type": "markdown",
   "metadata": {},
   "source": [
    "Momentum transfer cross sections for electron impact with atomic nitrogen in the (2s$^2$2p$^3$) ${}^4S^o$ ground state, metastable (2s$^2$2p$^3$) ${}^2D^o$ state, and the metastable (2s$^2$2p$^3$) ${}^2P^o$ state."
   ]
  },
  {
   "cell_type": "code",
   "execution_count": null,
   "metadata": {},
   "outputs": [],
   "source": []
  },
  {
   "cell_type": "code",
   "execution_count": 26,
   "metadata": {},
   "outputs": [
    {
     "ename": "FileExistsError",
     "evalue": "[Errno 17] File exists: '/home/adamson/projects/nepc/data/formatted/n/zatsarinny/momentum_transfer_N(2s22p3_4So).dat'",
     "output_type": "error",
     "traceback": [
      "\u001b[0;31m---------------------------------------------------------------------------\u001b[0m",
      "\u001b[0;31mFileExistsError\u001b[0m                           Traceback (most recent call last)",
      "\u001b[0;32m<ipython-input-26-1c21bf7588f2>\u001b[0m in \u001b[0;36m<module>\u001b[0;34m\u001b[0m\n\u001b[1;32m      2\u001b[0m     \u001b[0mdata\u001b[0m \u001b[0;34m=\u001b[0m \u001b[0mnp\u001b[0m\u001b[0;34m.\u001b[0m\u001b[0mloadtxt\u001b[0m\u001b[0;34m(\u001b[0m\u001b[0mtmpdir\u001b[0m \u001b[0;34m+\u001b[0m \u001b[0;34m\"/N_2014_archive/mt_00\"\u001b[0m \u001b[0;34m+\u001b[0m \u001b[0mstr\u001b[0m\u001b[0;34m(\u001b[0m\u001b[0mi\u001b[0m\u001b[0;34m+\u001b[0m\u001b[0;36m1\u001b[0m\u001b[0;34m)\u001b[0m\u001b[0;34m,\u001b[0m \u001b[0mskiprows\u001b[0m\u001b[0;34m=\u001b[0m\u001b[0;36m1\u001b[0m\u001b[0;34m,\u001b[0m \u001b[0musecols\u001b[0m\u001b[0;34m=\u001b[0m\u001b[0;34m(\u001b[0m\u001b[0;36m0\u001b[0m\u001b[0;34m,\u001b[0m\u001b[0;36m1\u001b[0m\u001b[0;34m)\u001b[0m\u001b[0;34m)\u001b[0m\u001b[0;34m\u001b[0m\u001b[0;34m\u001b[0m\u001b[0m\n\u001b[1;32m      3\u001b[0m     \u001b[0mfilename\u001b[0m \u001b[0;34m=\u001b[0m \u001b[0moutdir\u001b[0m\u001b[0;34m+\u001b[0m\u001b[0;34m\"momentum_transfer_\"\u001b[0m \u001b[0;34m+\u001b[0m \u001b[0mn_states\u001b[0m\u001b[0;34m[\u001b[0m\u001b[0mi\u001b[0m\u001b[0;34m]\u001b[0m\u001b[0;34m\u001b[0m\u001b[0;34m\u001b[0m\u001b[0m\n\u001b[0;32m----> 4\u001b[0;31m     \u001b[0mscraper\u001b[0m\u001b[0;34m.\u001b[0m\u001b[0mwriteDataToFile\u001b[0m\u001b[0;34m(\u001b[0m\u001b[0mdata\u001b[0m\u001b[0;34m,\u001b[0m\u001b[0mfilename\u001b[0m \u001b[0;34m+\u001b[0m \u001b[0;34m\".dat\"\u001b[0m\u001b[0;34m)\u001b[0m\u001b[0;34m\u001b[0m\u001b[0;34m\u001b[0m\u001b[0m\n\u001b[0m\u001b[1;32m      5\u001b[0m     scraper.writeMetaDataToFile(filename=filename + \".met\",\n\u001b[1;32m      6\u001b[0m                             \u001b[0mspecie\u001b[0m\u001b[0;34m=\u001b[0m\u001b[0;34m\"N\"\u001b[0m\u001b[0;34m,\u001b[0m\u001b[0;34m\u001b[0m\u001b[0;34m\u001b[0m\u001b[0m\n",
      "\u001b[0;32m~/projects/nepc/methods/bsr/scraper.py\u001b[0m in \u001b[0;36mwriteDataToFile\u001b[0;34m(dataArray, filename)\u001b[0m\n\u001b[1;32m     84\u001b[0m \u001b[0;34m\u001b[0m\u001b[0m\n\u001b[1;32m     85\u001b[0m \u001b[0;32mdef\u001b[0m \u001b[0mwriteDataToFile\u001b[0m\u001b[0;34m(\u001b[0m\u001b[0mdataArray\u001b[0m\u001b[0;34m,\u001b[0m\u001b[0mfilename\u001b[0m\u001b[0;34m)\u001b[0m\u001b[0;34m:\u001b[0m\u001b[0;34m\u001b[0m\u001b[0;34m\u001b[0m\u001b[0m\n\u001b[0;32m---> 86\u001b[0;31m         \u001b[0mf\u001b[0m \u001b[0;34m=\u001b[0m \u001b[0mopen\u001b[0m\u001b[0;34m(\u001b[0m\u001b[0mfilename\u001b[0m\u001b[0;34m,\u001b[0m \u001b[0;34m\"x\"\u001b[0m\u001b[0;34m)\u001b[0m\u001b[0;34m\u001b[0m\u001b[0;34m\u001b[0m\u001b[0m\n\u001b[0m\u001b[1;32m     87\u001b[0m         \u001b[0;32mfor\u001b[0m \u001b[0mi\u001b[0m \u001b[0;32min\u001b[0m \u001b[0mrange\u001b[0m\u001b[0;34m(\u001b[0m\u001b[0mlen\u001b[0m\u001b[0;34m(\u001b[0m\u001b[0mdataArray\u001b[0m\u001b[0;34m)\u001b[0m\u001b[0;34m)\u001b[0m\u001b[0;34m:\u001b[0m\u001b[0;34m\u001b[0m\u001b[0;34m\u001b[0m\u001b[0m\n\u001b[1;32m     88\u001b[0m                 \u001b[0mf\u001b[0m\u001b[0;34m.\u001b[0m\u001b[0mwrite\u001b[0m\u001b[0;34m(\u001b[0m\u001b[0;34m\"\\t\"\u001b[0m\u001b[0;34m+\u001b[0m\u001b[0mstr\u001b[0m\u001b[0;34m(\u001b[0m\u001b[0mdataArray\u001b[0m\u001b[0;34m[\u001b[0m\u001b[0mi\u001b[0m\u001b[0;34m,\u001b[0m\u001b[0;36m0\u001b[0m\u001b[0;34m]\u001b[0m\u001b[0;34m)\u001b[0m\u001b[0;34m+\u001b[0m\u001b[0;34m\"\\t\"\u001b[0m\u001b[0;34m+\u001b[0m\u001b[0mstr\u001b[0m\u001b[0;34m(\u001b[0m\u001b[0mdataArray\u001b[0m\u001b[0;34m[\u001b[0m\u001b[0mi\u001b[0m\u001b[0;34m,\u001b[0m\u001b[0;36m1\u001b[0m\u001b[0;34m]\u001b[0m\u001b[0;34m)\u001b[0m\u001b[0;34m+\u001b[0m\u001b[0;34m\"\\n\"\u001b[0m\u001b[0;34m)\u001b[0m\u001b[0;34m\u001b[0m\u001b[0;34m\u001b[0m\u001b[0m\n",
      "\u001b[0;31mFileExistsError\u001b[0m: [Errno 17] File exists: '/home/adamson/projects/nepc/data/formatted/n/zatsarinny/momentum_transfer_N(2s22p3_4So).dat'"
     ]
    }
   ],
   "source": [
    "for i in range(3):\n",
    "    data = np.loadtxt(tmpdir + \"/N_2014_archive/mt_00\" + str(i+1), skiprows=1, usecols=(0,1))\n",
    "    filename = outdir+\"momentum_transfer_\" + n_states[i]\n",
    "    scraper.writeDataToFile(data,filename + \".dat\")\n",
    "    scraper.writeMetaDataToFile(filename=filename + \".met\",\n",
    "                            specie=\"N\",\n",
    "                            process=\"momentum\",\n",
    "                            units_e=1.0,\n",
    "                            units_sigma=1.0E-20,\n",
    "                                lhsA=n_states[i],\n",
    "                            ref=\"wang2014\",\n",
    "                            background='From BSR calculations. Raw data provided by Zatsarinny.')\n",
    "    x,y = data.T\n",
    "    if i == 0:\n",
    "        i_max = 120\n",
    "        x = x[:i_max]\n",
    "        y = y[:i_max]\n",
    "    fig = plt.figure()\n",
    "    ax1 = fig.add_subplot(111)\n",
    "    plot_symbols = [\"r-\", \"b-\", \"g-\"]\n",
    "    plt.plot(x, y, plot_symbols[i], label = n_states[i])\n",
    "    plt.legend(loc='upper right');\n",
    "    plt.show() "
   ]
  },
  {
   "cell_type": "code",
   "execution_count": null,
   "metadata": {},
   "outputs": [],
   "source": []
  }
 ],
 "metadata": {
  "kernelspec": {
   "display_name": "Python 3",
   "language": "python",
   "name": "python3"
  },
  "language_info": {
   "codemirror_mode": {
    "name": "ipython",
    "version": 3
   },
   "file_extension": ".py",
   "mimetype": "text/x-python",
   "name": "python",
   "nbconvert_exporter": "python",
   "pygments_lexer": "ipython3",
   "version": "3.7.2"
  }
 },
 "nbformat": 4,
 "nbformat_minor": 2
}
