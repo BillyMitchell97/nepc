{
 "cells": [
  {
   "cell_type": "code",
   "execution_count": 1,
   "metadata": {},
   "outputs": [],
   "source": [
    "import numpy as np\n",
    "import scipy.constants as const\n",
    "import matplotlib.pyplot as plt\n",
    "import math\n",
    "from scipy.integrate import quad\n",
    "from constants import *\n",
    "from scipy import optimize"
   ]
  },
  {
   "cell_type": "code",
   "execution_count": 2,
   "metadata": {},
   "outputs": [],
   "source": [
    "mu=1.16294E-26 # N2 reduced mass\n",
    "wavenumber_per_eV = 8065.6"
   ]
  },
  {
   "cell_type": "code",
   "execution_count": 3,
   "metadata": {},
   "outputs": [],
   "source": [
    "def Gv(v, we, wexe, weye, weze=0, weae=0):\n",
    "    \"Vibrational energy level\"\n",
    "    return we*(v+1/2) - wexe*(v+1/2)**2 + weye*(v+1/2)**3 + weze*(v+1/2)**4 + weae*(v+1/2)**5\n",
    "\n",
    "def Te(v, T0, we, wexe, weye, weze=0, weae=0):\n",
    "    \"Energy at minimum of well\"\n",
    "    return T0 - we/2 + wexe/4 - weye/8 - weze/16 - weae/32\n",
    "\n",
    "def Tv(v, T0, we, wexe, weye, weze=0, weae=0):\n",
    "    \"Energy difference from minimum to vibrational energy level\"\n",
    "    return Te(v, T0, we, wexe, weye, weze, weae) + Gv(v, we, wexe, weye, weze, weae)\n",
    "\n",
    "def Bv(v, Be, ae, ge=0, de=0, ee=0):\n",
    "    \"Rotational energy level\"\n",
    "    return Be - ae*(v+1/2) - ge*(v+1/2)**2 + de*(v+1/2)**3 + ee*(v+1/2)**4\n",
    "\n",
    "def fIntegrand(vp, v, vibConstants):\n",
    "    \"Integrand of Gilmore et al (1992) eqn 1\"\n",
    "    (T0, we, wexe, weye, weze, weae) = vibConstants\n",
    "    return 1/math.sqrt(Gv(v,we,wexe,weye,weze)-Gv(vp,we,wexe,weye,weze))\n",
    "\n",
    "def gIntegrand(vp, v, vibConstants, rotConstants):\n",
    "    \"Integrand of Gilmore et al (1992) eqn 2\"\n",
    "    (T0, we, wexe, weye, weze, weae) = vibConstants\n",
    "    (Be, ae, ge, de, ee) = rotConstants\n",
    "    return Bv(v,Be,ae,ge)/math.sqrt(Gv(v,we,wexe,weye,weze)-Gv(vp,we,wexe,weye,weze))"
   ]
  },
  {
   "cell_type": "code",
   "execution_count": 4,
   "metadata": {},
   "outputs": [],
   "source": [
    "def f(v, vibConstants):\n",
    "    \"Gilmore et al (1992) eqn 1\"\n",
    "    I = quad(fIntegrand,-1/2,v,args=(v, vibConstants), full_output=True, epsabs=1.0E-16, limit=24)\n",
    "    return 1/(2*const.pi*math.sqrt(2*mu*const.speed_of_light/const.Planck)) * I[0] * 1E8\n",
    "\n",
    "def g(v, vibConstants, rotConstants):\n",
    "    \"Gilmore et al (1992) eqn 2\"\n",
    "    I = quad(gIntegrand,-1/2,v,args=(v, vibConstants, rotConstants), epsabs=1.0E-16, limit=24)\n",
    "    return 2*const.pi*math.sqrt(2*mu*const.speed_of_light/const.Planck) * I[0] * 1E-8"
   ]
  },
  {
   "cell_type": "code",
   "execution_count": 5,
   "metadata": {},
   "outputs": [],
   "source": [
    "def r(v, vibConstants, rotConstants):\n",
    "    \"Compute r_inner and r_outer from Gilmore et al (1992) eqn 3\"\n",
    "    fv=f(v, vibConstants)\n",
    "    gv=g(v, vibConstants, rotConstants)\n",
    "    return [math.sqrt(fv**2 + fv/gv)-fv, math.sqrt(fv**2 + fv/gv)+fv]"
   ]
  },
  {
   "cell_type": "code",
   "execution_count": 6,
   "metadata": {},
   "outputs": [],
   "source": [
    "def compute_pes(state, vib_constants, rot_constants, vmax=3):\n",
    "    \"\"\"compute vmax*2 points on a potential energy surface defined by\n",
    "    vibrational constants (vib_constants) and rotational constants (rot_constants)\n",
    "    for state 'state'\n",
    "    \n",
    "    Arguments\n",
    "    ---------\n",
    "    state : int\n",
    "        the array index of the vib_contants and rot_contants arrays indicating\n",
    "        which state is to be computed\n",
    "        \n",
    "    vib_/rot_constants : list\n",
    "        list of vibrational and rotational constants from constants.py\n",
    "        \n",
    "    vmax : int\n",
    "        max vibrational mode of interest; vmax * 2 points will be calculated\n",
    "        (r_inner's and r_outer's)\n",
    "        \n",
    "    Returns\n",
    "    -------\n",
    "    pes : numpy.array\n",
    "        points on the PES (r, Tv)\n",
    "    \"\"\"\n",
    "    pes = []\n",
    "    \n",
    "    (T0, we, wexe, weye, weze, weae) = vib_constants[state]\n",
    "    \n",
    "    for vp in range(vmax+1):\n",
    "        rvp=r(vp, vib_constants[state], rot_constants[state])\n",
    "        Tvp=Tv(vp, T0, we, wexe, weye, weze, weae)/wavenumber_per_eV\n",
    "        pes.insert(0, [rvp[0], Tvp])\n",
    "        pes.append([rvp[1], Tvp])\n",
    "    \n",
    "    pes = np.asarray(pes)\n",
    "                \n",
    "    return pes"
   ]
  },
  {
   "cell_type": "code",
   "execution_count": 7,
   "metadata": {},
   "outputs": [],
   "source": [
    "X1Sigmagp_pes = compute_pes(0, vib_constants_N2, rot_constants_N2, vmax=9)\n",
    "A3Sigmaup_pes = compute_pes(1, vib_constants_N2, rot_constants_N2, vmax=9)"
   ]
  },
  {
   "cell_type": "code",
   "execution_count": 8,
   "metadata": {},
   "outputs": [],
   "source": [
    "# optimize has a hard time doing the fit with a square in the function. You have to decompose it. \n",
    "# Also, you have to give it a constant (p[2]) for the minimum energy when r=r_e.\n",
    "\n",
    "fitfunc = lambda p, x: p[0] * (1.0 - np.exp(-p[0] * (x - p[1]))) * (1.0 - np.exp(-p[0] * (x - p[1]))) + p[2] # Target function\n",
    "errfunc = lambda p, x, y: fitfunc(p, x) - y # Distance to the target function\n",
    "\n",
    "p0_0 = [10.0, 0.11, -1.0] # Initial guess for the parameters\n",
    "p0_1, success0 = optimize.leastsq(errfunc, p0_0[:], args=(X1Sigmagp_pes[:,0], X1Sigmagp_pes[:,1]))\n",
    "\n",
    "p1_0 = [10.0, 0.13, 6.0] # Initial guess for the parameters\n",
    "p1_1, success1 = optimize.leastsq(errfunc, p1_0[:], args=(A3Sigmaup_pes[:,0], A3Sigmaup_pes[:,1]))"
   ]
  },
  {
   "cell_type": "code",
   "execution_count": 9,
   "metadata": {},
   "outputs": [
    {
     "data": {
      "text/plain": [
       "(array([19.04589242,  0.11154182, -0.15912579]), 1)"
      ]
     },
     "execution_count": 9,
     "metadata": {},
     "output_type": "execute_result"
    }
   ],
   "source": [
    "p0_1, success0"
   ]
  },
  {
   "cell_type": "code",
   "execution_count": 10,
   "metadata": {},
   "outputs": [
    {
     "data": {
      "text/plain": [
       "(array([13.19758076,  0.13295514,  6.11609924]), 1)"
      ]
     },
     "execution_count": 10,
     "metadata": {},
     "output_type": "execute_result"
    }
   ],
   "source": [
    "p1_1, success1"
   ]
  },
  {
   "cell_type": "code",
   "execution_count": 11,
   "metadata": {},
   "outputs": [
    {
     "data": {
      "image/png": "[encoded data removed]",
      "text/plain": [
       "<Figure size 432x288 with 1 Axes>"
      ]
     },
     "metadata": {
      "needs_background": "light"
     },
     "output_type": "display_data"
    }
   ],
   "source": [
    "#TODO: compute the mean square error (MSQE)\n",
    "#TODO: add x=r_e, y=Morse(x=r_e) to the points to be plotted (the line plots below look worse than they are because the x=r_e values are missing)\n",
    "#TODO: find the number of points that can be used and still get a reasonable fit with the Morse potential (<10% MSQE)\n",
    "\n",
    "fig = plt.figure()\n",
    "ax1 = fig.add_subplot(111)\n",
    "\n",
    "x,y = X1Sigmagp_pes.T\n",
    "#ax1.scatter(x, y, s=10, c='b', marker=\"s\", label='X${}^1\\;\\Sigma_g^\\prime$')\n",
    "plt.plot(x, y, \"ro\", label = 'X${}^1\\;\\Sigma_g^\\prime$ PES')\n",
    "plt.plot(x, fitfunc(p0_1, x), \"r-\", label = 'X${}^1\\;\\Sigma_g^\\prime$ Morse') # Plot of the data and the fit\n",
    "\n",
    "x,y = A3Sigmaup_pes.T\n",
    "#ax1.scatter(x,y, s=10, c='r', marker=\"o\", label='A${}^3\\;\\Sigma_u^\\prime$')\n",
    "plt.plot(x, y, \"bo\", label = 'A${}^3\\;\\Sigma_u^\\prime$ PES')\n",
    "plt.plot(x, fitfunc(p1_1, x), \"b-\", label = 'A${}^3\\;\\Sigma_u^\\prime$ Morse') # Plot of the data and the fit\n",
    "plt.legend(loc='lower right');\n",
    "plt.show()"
   ]
  },
  {
   "cell_type": "code",
   "execution_count": null,
   "metadata": {},
   "outputs": [],
   "source": []
  },
  {
   "cell_type": "code",
   "execution_count": null,
   "metadata": {},
   "outputs": [],
   "source": []
  }
 ],
 "metadata": {
  "kernelspec": {
   "display_name": "Python 3",
   "language": "python",
   "name": "python3"
  },
  "language_info": {
   "codemirror_mode": {
    "name": "ipython",
    "version": 3
   },
   "file_extension": ".py",
   "mimetype": "text/x-python",
   "name": "python",
   "nbconvert_exporter": "python",
   "pygments_lexer": "ipython3",
   "version": "3.7.2"
  }
 },
 "nbformat": 4,
 "nbformat_minor": 2
}
