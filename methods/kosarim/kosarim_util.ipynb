{
 "cells": [
  {
   "cell_type": "code",
   "execution_count": 1,
   "metadata": {},
   "outputs": [],
   "source": [
    "import scipy.constants as const\n",
    "import csv\n",
    "import numpy as np\n",
    "import pandas as pd\n",
    "from sklearn.metrics import mean_squared_error as mse\n",
    "from math import sqrt\n",
    "import os\n",
    "import config"
   ]
  },
  {
   "cell_type": "code",
   "execution_count": 2,
   "metadata": {},
   "outputs": [],
   "source": [
    "userHome = config.userHome()\n",
    "os.chdir(userHome + '/projects/cs/methods/kosarim/')"
   ]
  },
  {
   "cell_type": "code",
   "execution_count": 3,
   "metadata": {},
   "outputs": [],
   "source": [
    "pi = const.pi\n",
    "e = const.e\n",
    "e0= const.epsilon_0"
   ]
  },
  {
   "cell_type": "code",
   "execution_count": 4,
   "metadata": {},
   "outputs": [],
   "source": [
    "eV_per_J = const.physical_constants[\"joule-electron volt relationship\"][0]\n",
    "cm_per_m = 100.0"
   ]
  },
  {
   "cell_type": "code",
   "execution_count": 8,
   "metadata": {},
   "outputs": [],
   "source": [
    "\"Note this equation is not used here.\"\n",
    "def f_eqn6(x: float):\n",
    "    \"Equation 6 of Kosarim, et al., for s electrons.\"\n",
    "    return (10*(x-1))/(pi*x*(x+8))"
   ]
  },
  {
   "cell_type": "code",
   "execution_count": 9,
   "metadata": {},
   "outputs": [],
   "source": [
    "\"Note this equation is not used here.\"\n",
    "def f_eqn7(x: float):\n",
    "    \"Equation 7 of Kosarim, et al., for p electrons.\"\n",
    "    return (10*(x-1))/(pi*(x+1.5)*(x+9))"
   ]
  },
  {
   "cell_type": "code",
   "execution_count": 10,
   "metadata": {},
   "outputs": [],
   "source": [
    "def f_eqn15(x: float):\n",
    "    \"Equation 15 of Kosarim, et al., for all electrons.\"\n",
    "    \"return (6*(x-1))/(pi*(x+1.5)*(x+9))\"\n",
    "    return (6*(x-1))/(pi*(x+10)*(x+2))"
   ]
  },
  {
   "cell_type": "code",
   "execution_count": 11,
   "metadata": {},
   "outputs": [],
   "source": [
    "def sigma_ion(f, n: int, E: float, J_v_vp: float, J_v_vpp: float):\n",
    "    \"\"\"Compute cross-sections (10^-17 cm^2) of ionization transitions for Tables 2-4 of Kosarim, et al.\"\"\"\n",
    "    return (cm_per_m**2 * eV_per_J**2)/(1.0E-17)  * (1./(4.*pi*e0)**2) * \\\n",
    "        ((n*e**4)/2.) * ( f(E/J_v_vp)/(J_v_vp**2) + f(E/J_v_vpp)/(J_v_vpp**2) )"
   ]
  },
  {
   "cell_type": "code",
   "execution_count": 12,
   "metadata": {},
   "outputs": [],
   "source": [
    "def calculate_kosarim_table_sigmas_unscaled(table_ref, f_eqn, n):\n",
    "    sigmas = np.ones((len(table_ref),3))\n",
    "    \n",
    "    for i in range(len(table_ref)):\n",
    "        for j in range(3):\n",
    "            sigmas[i,j] = sigma_ion(f=f_eqn, n=n, E=table_ref[i,j+6], J_v_vp=table_ref[i,1], J_v_vpp=table_ref[i,2])\n",
    "                \n",
    "    return sigmas"
   ]
  },
  {
   "cell_type": "code",
   "execution_count": 13,
   "metadata": {},
   "outputs": [],
   "source": [
    "sigmas_X=calculate_kosarim_table_sigmas_unscaled(table2_ref, f_eqn15, 2)\n",
    "sigmas_A=calculate_kosarim_table_sigmas_unscaled(table3_ref, f_eqn15, 4)\n",
    "sigmas_B=calculate_kosarim_table_sigmas_unscaled(table4_ref, f_eqn15, 2)"
   ]
  },
  {
   "cell_type": "code",
   "execution_count": 14,
   "metadata": {},
   "outputs": [],
   "source": [
    "sigma_tot = np.array([1.74, 6.10, 10.90])"
   ]
  },
  {
   "cell_type": "code",
   "execution_count": 15,
   "metadata": {},
   "outputs": [],
   "source": [
    "N_20eV = 1.74/(sigmas_X[0,0]+sigmas_A[0,0]+sigmas_B[0,0])\n",
    "N_30eV = 6.10/(sigmas_X[0,1]+sigmas_A[0,1]+sigmas_B[0,1])\n",
    "N_50eV = 10.9/(sigmas_X[0,2]+sigmas_A[0,2]+sigmas_B[0,2])"
   ]
  },
  {
   "cell_type": "code",
   "execution_count": 16,
   "metadata": {},
   "outputs": [],
   "source": [
    "np.set_printoptions(precision=2)"
   ]
  },
  {
   "cell_type": "code",
   "execution_count": 17,
   "metadata": {},
   "outputs": [
    {
     "data": {
      "text/plain": [
       "array([[0.82, 2.12, 3.49],\n",
       "       [0.88, 2.2 , 3.59],\n",
       "       [0.9 , 2.23, 3.63],\n",
       "       [0.94, 2.29, 3.69],\n",
       "       [0.94, 2.29, 3.7 ],\n",
       "       [0.97, 2.33, 3.75],\n",
       "       [1.02, 2.4 , 3.83],\n",
       "       [1.03, 2.41, 3.84],\n",
       "       [1.08, 2.48, 3.92],\n",
       "       [1.11, 2.51, 3.96],\n",
       "       [1.12, 2.53, 3.98]])"
      ]
     },
     "execution_count": 17,
     "metadata": {},
     "output_type": "execute_result"
    }
   ],
   "source": [
    "sigmas_X_scaled = np.column_stack((N_20eV*sigmas_X[...,0], N_30eV*sigmas_X[...,1], N_50eV*sigmas_X[...,2]))\n",
    "sigmas_X_scaled"
   ]
  },
  {
   "cell_type": "code",
   "execution_count": 18,
   "metadata": {},
   "outputs": [
    {
     "data": {
      "text/plain": [
       "array([[0.79, 2.94, 5.33],\n",
       "       [0.9 , 3.08, 5.48],\n",
       "       [0.96, 3.13, 5.5 ],\n",
       "       [1.05, 3.24, 5.62],\n",
       "       [1.19, 3.45, 5.88],\n",
       "       [1.37, 3.71, 6.2 ],\n",
       "       [1.46, 3.85, 6.39],\n",
       "       [1.55, 4.  , 6.58],\n",
       "       [1.65, 4.16, 6.79],\n",
       "       [1.76, 4.32, 7.  ],\n",
       "       [1.88, 4.5 , 7.23]])"
      ]
     },
     "execution_count": 18,
     "metadata": {},
     "output_type": "execute_result"
    }
   ],
   "source": [
    "sigmas_A_scaled = np.column_stack((N_20eV*sigmas_A[...,0], N_30eV*sigmas_A[...,1], N_50eV*sigmas_A[...,2]))\n",
    "sigmas_A_scaled"
   ]
  },
  {
   "cell_type": "code",
   "execution_count": 19,
   "metadata": {},
   "outputs": [
    {
     "data": {
      "text/plain": [
       "array([[0.13, 1.03, 2.08],\n",
       "       [0.16, 1.09, 2.16],\n",
       "       [0.2 , 1.17, 2.26],\n",
       "       [0.26, 1.26, 2.38],\n",
       "       [0.32, 1.36, 2.52],\n",
       "       [0.39, 1.47, 2.66],\n",
       "       [0.47, 1.59, 2.82],\n",
       "       [0.58, 1.76, 3.03],\n",
       "       [0.68, 1.91, 3.22],\n",
       "       [0.77, 2.04, 3.39],\n",
       "       [0.86, 2.16, 3.54]])"
      ]
     },
     "execution_count": 19,
     "metadata": {},
     "output_type": "execute_result"
    }
   ],
   "source": [
    "sigmas_B_scaled = np.column_stack((N_20eV*sigmas_B[...,0], N_30eV*sigmas_B[...,1], N_50eV*sigmas_B[...,2]))\n",
    "sigmas_B_scaled"
   ]
  },
  {
   "cell_type": "code",
   "execution_count": 20,
   "metadata": {},
   "outputs": [
    {
     "name": "stdout",
     "output_type": "stream",
     "text": [
      "sigmas_X_scaled RMSE: 0.0453\n"
     ]
    }
   ],
   "source": [
    "print('sigmas_X_scaled RMSE: {:3.4f}'.format(sqrt(mse(sigmas_X_scaled,table2_ref[...,3:6]))))"
   ]
  },
  {
   "cell_type": "code",
   "execution_count": 21,
   "metadata": {},
   "outputs": [
    {
     "name": "stdout",
     "output_type": "stream",
     "text": [
      "sigmas_A_scaled RMSE: 0.0758\n"
     ]
    }
   ],
   "source": [
    "print('sigmas_A_scaled RMSE: {:3.4f}'.format(sqrt(mse(sigmas_A_scaled,table3_ref[...,3:6]))))"
   ]
  },
  {
   "cell_type": "code",
   "execution_count": 22,
   "metadata": {},
   "outputs": [
    {
     "name": "stdout",
     "output_type": "stream",
     "text": [
      "sigmas_B_scaled RMSE: 0.0554\n"
     ]
    }
   ],
   "source": [
    "print('sigmas_B_scaled RMSE: {:3.4f}'.format(sqrt(mse(sigmas_B_scaled,table4_ref[...,3:6]))))"
   ]
  },
  {
   "cell_type": "code",
   "execution_count": 23,
   "metadata": {},
   "outputs": [
    {
     "data": {
      "text/plain": [
       "array([[ 0. ,  9.6, 11.6,  1.4,  3.1,  4.2, 15. , 25. , 40. ],\n",
       "       [ 4. ,  8.8, 12. ,  1.7,  3.5,  4.6, 15. , 25. , 40. ],\n",
       "       [ 8. ,  8.2, 12.4,  2.1,  4. ,  5.1, 15. , 25. , 40. ],\n",
       "       [12. ,  7.6, 12.8,  2.6,  4.5,  5.6, 15. , 25. , 40. ],\n",
       "       [16. ,  7.1, 13.2,  3. ,  5.1,  6.2, 15. , 25. , 40. ],\n",
       "       [20. ,  6.8, 13.6,  3.4,  5.5,  6.6, 15. , 25. , 40. ],\n",
       "       [24. ,  6.6, 14. ,  3.7,  5.8,  6.8, 15. , 25. , 40. ]])"
      ]
     },
     "execution_count": 23,
     "metadata": {},
     "output_type": "execute_result"
    }
   ],
   "source": [
    "table5_ref = np.loadtxt(open(\"kosarim_table_5.csv\", \"rb\"), delimiter=\" \", skiprows=1)\n",
    "table5_ref"
   ]
  },
  {
   "cell_type": "code",
   "execution_count": 24,
   "metadata": {},
   "outputs": [
    {
     "data": {
      "text/plain": [
       "array([[0.82, 1.86, 2.54],\n",
       "       [1.02, 2.12, 2.81],\n",
       "       [1.23, 2.37, 3.06],\n",
       "       [1.52, 2.72, 3.4 ],\n",
       "       [1.84, 3.09, 3.75],\n",
       "       [2.08, 3.35, 3.99],\n",
       "       [2.25, 3.53, 4.15]])"
      ]
     },
     "execution_count": 24,
     "metadata": {},
     "output_type": "execute_result"
    }
   ],
   "source": [
    "sigmas_triplet=calculate_kosarim_table_sigmas_unscaled(table5_ref, f_eqn15, 2)\n",
    "sigmas_triplet"
   ]
  },
  {
   "cell_type": "code",
   "execution_count": 25,
   "metadata": {},
   "outputs": [],
   "source": [
    "\"\"\"\n",
    "Need to figure out how to scale the triplet sigmas. For now, use\n",
    "the same scaling factors as above even though we know that's wrong.\n",
    "\"\"\"\n",
    "N_15eV = 1.74/(sigmas_X[0,0]+sigmas_A[0,0]+sigmas_B[0,0])\n",
    "N_25eV = 6.10/(sigmas_X[0,1]+sigmas_A[0,1]+sigmas_B[0,1])\n",
    "N_40eV = 10.9/(sigmas_X[0,2]+sigmas_A[0,2]+sigmas_B[0,2])"
   ]
  },
  {
   "cell_type": "code",
   "execution_count": 26,
   "metadata": {},
   "outputs": [
    {
     "data": {
      "text/plain": [
       "array([[ 2.71,  6.14,  8.5 ],\n",
       "       [ 3.37,  6.99,  9.39],\n",
       "       [ 4.07,  7.83, 10.24],\n",
       "       [ 5.03,  8.98, 11.37],\n",
       "       [ 6.1 , 10.2 , 12.56],\n",
       "       [ 6.87, 11.05, 13.34],\n",
       "       [ 7.45, 11.65, 13.89]])"
      ]
     },
     "execution_count": 26,
     "metadata": {},
     "output_type": "execute_result"
    }
   ],
   "source": [
    "sigmas_triplet_scaled = \\\n",
    "    np.column_stack((N_15eV*sigmas_triplet[...,0], N_25eV*sigmas_triplet[...,1], N_40eV*sigmas_triplet[...,2]))\n",
    "sigmas_triplet_scaled"
   ]
  },
  {
   "cell_type": "code",
   "execution_count": 27,
   "metadata": {},
   "outputs": [
    {
     "name": "stdout",
     "output_type": "stream",
     "text": [
      "sigmas_triplet_scaled RMSE: 4.5494\n"
     ]
    }
   ],
   "source": [
    "print('sigmas_triplet_scaled RMSE: {:3.4f}'.format(sqrt(mse(sigmas_triplet_scaled,table5_ref[...,3:6]))))"
   ]
  },
  {
   "cell_type": "code",
   "execution_count": null,
   "metadata": {},
   "outputs": [],
   "source": []
  }
 ],
 "metadata": {
  "kernelspec": {
   "display_name": "Python 3",
   "language": "python",
   "name": "python3"
  },
  "language_info": {
   "codemirror_mode": {
    "name": "ipython",
    "version": 3
   },
   "file_extension": ".py",
   "mimetype": "text/x-python",
   "name": "python",
   "nbconvert_exporter": "python",
   "pygments_lexer": "ipython3",
   "version": "3.7.2"
  }
 },
 "nbformat": 4,
 "nbformat_minor": 2
}
