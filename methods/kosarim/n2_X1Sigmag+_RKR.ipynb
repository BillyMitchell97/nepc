{
 "cells": [
  {
   "cell_type": "code",
   "execution_count": 1,
   "metadata": {},
   "outputs": [],
   "source": [
    "import numpy as np\n",
    "import scipy.constants as const\n",
    "import scipy.interpolate as interpolate\n",
    "import matplotlib.pyplot as plt\n",
    "import math\n",
    "from scipy.integrate import quad\n",
    "from scipy.integrate import quadrature\n",
    "import pandas as pd\n",
    "import config\n",
    "from scipy import optimize\n",
    "import pdfplumber\n",
    "import scraper\n",
    "from constants import *"
   ]
  },
  {
   "cell_type": "code",
   "execution_count": 2,
   "metadata": {},
   "outputs": [],
   "source": [
    "userHome = config.userHome()\n",
    "outdir = userHome + \"/projects/cs/data/raw/ext/n2/itikawa/\"\n",
    "pdfHome = userHome + \"/projects/cs/ref/angus/\""
   ]
  },
  {
   "cell_type": "code",
   "execution_count": 3,
   "metadata": {},
   "outputs": [],
   "source": [
    "pdfGilmore = scraper.getPDF(pdfHome + \"30_gilmore_j_phys_chem_ref_data_21_1005_1992.pdf\")"
   ]
  },
  {
   "cell_type": "code",
   "execution_count": 4,
   "metadata": {},
   "outputs": [],
   "source": [
    "pi = const.pi\n",
    "e = const.e\n",
    "e0= const.epsilon_0"
   ]
  },
  {
   "cell_type": "code",
   "execution_count": 5,
   "metadata": {},
   "outputs": [],
   "source": [
    "eV_per_J = const.physical_constants[\"joule-electron volt relationship\"][0]\n",
    "cm_per_m = 100.0"
   ]
  },
  {
   "cell_type": "code",
   "execution_count": 6,
   "metadata": {},
   "outputs": [],
   "source": [
    "def Gv(v, we, wexe, weye, weze=0, weae=0):\n",
    "    return we*(v+1/2) - wexe*(v+1/2)**2 + weye*(v+1/2)**3 + weze*(v+1/2)**4 + weae*(v+1/2)**5\n",
    "\n",
    "def Te(v, T0, we, wexe, weye, weze=0, weae=0):\n",
    "    return T0 - we/2 + wexe/4 - weye/8 - weze/16 - weae/32\n",
    "\n",
    "def Tv(v, T0, we, wexe, weye, weze=0, weae=0):\n",
    "    return Te(v, T0, we, wexe, weye, weze, weae) + Gv(v, we, wexe, weye, weze, weae)\n",
    "\n",
    "def Bv(v, Be, ae, ge=0, de=0, ee=0):\n",
    "    return Be - ae*(v+1/2) - ge*(v+1/2)**2 + de*(v+1/2)**3 + ee*(v+1/2)**4\n",
    "\n",
    "def fIntegrand(vp, v, vibConstants):\n",
    "    (T0, we, wexe, weye, weze, weae) = vibConstants\n",
    "    return 1/math.sqrt(Gv(v,we,wexe,weye,weze)-Gv(vp,we,wexe,weye,weze))\n",
    "\n",
    "def gIntegrand(vp, v, vibConstants, rotConstants):\n",
    "    (T0, we, wexe, weye, weze, weae) = vibConstants\n",
    "    (Be, ae, ge, de, ee) = rotConstants\n",
    "    return Bv(v,Be,ae,ge)/math.sqrt(Gv(v,we,wexe,weye,weze)-Gv(vp,we,wexe,weye,weze))"
   ]
  },
  {
   "cell_type": "code",
   "execution_count": 7,
   "metadata": {},
   "outputs": [
    {
     "data": {
      "text/plain": [
       "11"
      ]
     },
     "execution_count": 7,
     "metadata": {},
     "output_type": "execute_result"
    }
   ],
   "source": [
    "math.ceil(22/2)"
   ]
  },
  {
   "cell_type": "code",
   "execution_count": 8,
   "metadata": {},
   "outputs": [],
   "source": [
    "mu=1.16294E-26\n",
    "wavenumber_per_eV = 8065.6"
   ]
  },
  {
   "cell_type": "code",
   "execution_count": 9,
   "metadata": {},
   "outputs": [],
   "source": [
    "from scipy.integrate import romberg"
   ]
  },
  {
   "cell_type": "code",
   "execution_count": 10,
   "metadata": {},
   "outputs": [],
   "source": [
    "def f(v, vibConstants):\n",
    "    #I = quad(fIntegrand,-1/2,v,args=(v, vibConstants), full_output=True, epsabs=1.0E-16, limit=24)\n",
    "    I = quadrature(fIntegrand, -1/2, v, args=(v, vibConstants), vec_func=False, miniter=24, tol=1E-16)\n",
    "    #I = romberg(fIntegrand, -1/2, v, args=(v, vibConstants))\n",
    "    #if v == 10:\n",
    "        #print(\"Computing f for v==10\")\n",
    "        #print(\"=====================\")\n",
    "        #print(I)\n",
    "    return 1/(2*const.pi*math.sqrt(2*mu*const.speed_of_light/const.Planck)) * I[0] * 1E8\n",
    "\n",
    "def g(v, vibConstants, rotConstants):\n",
    "    #I = quad(gIntegrand,-1/2,v,args=(v, vibConstants, rotConstants), epsabs=1.0E-16, limit=24)\n",
    "    I = quadrature(gIntegrand,-1/2,v,args=(v, vibConstants, rotConstants), vec_func=False, miniter=24, tol=1E-16)\n",
    "    #I = romberg(gIntegrand, -1/2, v, args=(v, vibConstants, rotConstants))\n",
    "    return 2*const.pi*math.sqrt(2*mu*const.speed_of_light/const.Planck) * I[0] * 1E-8"
   ]
  },
  {
   "cell_type": "code",
   "execution_count": 11,
   "metadata": {},
   "outputs": [],
   "source": [
    "def r(v, vibConstants, rotConstants):\n",
    "    fv=f(v, vibConstants)\n",
    "    gv=g(v, vibConstants, rotConstants)\n",
    "    return [math.sqrt(fv**2 + fv/gv)-fv, math.sqrt(fv**2 + fv/gv)+fv]"
   ]
  },
  {
   "cell_type": "code",
   "execution_count": 12,
   "metadata": {},
   "outputs": [],
   "source": [
    "def Jv(vMaxN2, vMaxN2p, stateN2, stateN2p):\n",
    "\n",
    "    N2pPES = []\n",
    "    (T0, we, wexe, weye, weze, weae) = vibConstantsN2p[stateN2p]\n",
    "\n",
    "    for vp in range(vMaxN2p+1):\n",
    "        #print(vp)\n",
    "        rvp=r(vp, vibConstantsN2p[stateN2p], rotConstantsN2p[stateN2p])\n",
    "        #print(rvp)\n",
    "        Tvp=Tv(vp, T0, we, wexe, weye, weze, weae)/wavenumber_per_eV\n",
    "        #print(Tvp)\n",
    "        N2pPES.insert(0, [rvp[0], Tvp])\n",
    "        N2pPES.append([rvp[1], Tvp])\n",
    "        #print(N2pPES[0])\n",
    "    \n",
    "    N2pPES = np.asarray(N2pPES)\n",
    "    \n",
    "    #print(N2pPES[:,0])\n",
    "    #print(N2pPES[:,1])\n",
    "    \n",
    "    I_N2pPES = interpolate.interp1d(N2pPES[:,0], N2pPES[:,1], kind='quadratic')\n",
    "\n",
    "    N2PES = []\n",
    "    JvArray = np.empty([vMaxN2+1,2])\n",
    "        \n",
    "    (T0, we, wexe, weye, weze, weae) = vibConstantsN2[stateN2]\n",
    "    for v in range(len(JvArray)):\n",
    "        rv=r(v, vibConstantsN2[stateN2], rotConstantsN2[stateN2])\n",
    "        Tvv=Tv(v, T0, we, wexe, weye, weze, weae)/wavenumber_per_eV\n",
    "        N2PES.insert(0, [rv[0], Tvv])\n",
    "        N2PES.append([rv[1], Tvv])\n",
    "        JvArray[v] = I_N2pPES(rv)-Tvv\n",
    "\n",
    "    N2PES = np.asarray(N2PES)\n",
    "        \n",
    "    return (N2PES, N2pPES, JvArray)"
   ]
  },
  {
   "cell_type": "code",
   "execution_count": 13,
   "metadata": {},
   "outputs": [
    {
     "name": "stderr",
     "output_type": "stream",
     "text": [
      "/home/adamson/anaconda3/envs/nepc/lib/python3.7/site-packages/scipy/integrate/quadrature.py:233: AccuracyWarning: maxiter (50) exceeded. Latest difference = 5.261792e-06\n",
      "  AccuracyWarning)\n",
      "/home/adamson/anaconda3/envs/nepc/lib/python3.7/site-packages/scipy/integrate/quadrature.py:233: AccuracyWarning: maxiter (50) exceeded. Latest difference = 1.011461e-05\n",
      "  AccuracyWarning)\n",
      "/home/adamson/anaconda3/envs/nepc/lib/python3.7/site-packages/scipy/integrate/quadrature.py:233: AccuracyWarning: maxiter (50) exceeded. Latest difference = 9.182376e-06\n",
      "  AccuracyWarning)\n",
      "/home/adamson/anaconda3/envs/nepc/lib/python3.7/site-packages/scipy/integrate/quadrature.py:233: AccuracyWarning: maxiter (50) exceeded. Latest difference = 1.747694e-05\n",
      "  AccuracyWarning)\n",
      "/home/adamson/anaconda3/envs/nepc/lib/python3.7/site-packages/scipy/integrate/quadrature.py:233: AccuracyWarning: maxiter (50) exceeded. Latest difference = 1.194541e-05\n",
      "  AccuracyWarning)\n",
      "/home/adamson/anaconda3/envs/nepc/lib/python3.7/site-packages/scipy/integrate/quadrature.py:233: AccuracyWarning: maxiter (50) exceeded. Latest difference = 2.250981e-05\n",
      "  AccuracyWarning)\n",
      "/home/adamson/anaconda3/envs/nepc/lib/python3.7/site-packages/scipy/integrate/quadrature.py:233: AccuracyWarning: maxiter (50) exceeded. Latest difference = 1.424480e-05\n",
      "  AccuracyWarning)\n",
      "/home/adamson/anaconda3/envs/nepc/lib/python3.7/site-packages/scipy/integrate/quadrature.py:233: AccuracyWarning: maxiter (50) exceeded. Latest difference = 2.657374e-05\n",
      "  AccuracyWarning)\n",
      "/home/adamson/anaconda3/envs/nepc/lib/python3.7/site-packages/scipy/integrate/quadrature.py:233: AccuracyWarning: maxiter (50) exceeded. Latest difference = 1.628166e-05\n",
      "  AccuracyWarning)\n",
      "/home/adamson/anaconda3/envs/nepc/lib/python3.7/site-packages/scipy/integrate/quadrature.py:233: AccuracyWarning: maxiter (50) exceeded. Latest difference = 3.006663e-05\n",
      "  AccuracyWarning)\n",
      "/home/adamson/anaconda3/envs/nepc/lib/python3.7/site-packages/scipy/integrate/quadrature.py:233: AccuracyWarning: maxiter (50) exceeded. Latest difference = 1.814813e-05\n",
      "  AccuracyWarning)\n",
      "/home/adamson/anaconda3/envs/nepc/lib/python3.7/site-packages/scipy/integrate/quadrature.py:233: AccuracyWarning: maxiter (50) exceeded. Latest difference = 3.317201e-05\n",
      "  AccuracyWarning)\n",
      "/home/adamson/anaconda3/envs/nepc/lib/python3.7/site-packages/scipy/integrate/quadrature.py:233: AccuracyWarning: maxiter (50) exceeded. Latest difference = 1.989591e-05\n",
      "  AccuracyWarning)\n",
      "/home/adamson/anaconda3/envs/nepc/lib/python3.7/site-packages/scipy/integrate/quadrature.py:233: AccuracyWarning: maxiter (50) exceeded. Latest difference = 3.599324e-05\n",
      "  AccuracyWarning)\n",
      "/home/adamson/anaconda3/envs/nepc/lib/python3.7/site-packages/scipy/integrate/quadrature.py:233: AccuracyWarning: maxiter (50) exceeded. Latest difference = 2.155778e-05\n",
      "  AccuracyWarning)\n",
      "/home/adamson/anaconda3/envs/nepc/lib/python3.7/site-packages/scipy/integrate/quadrature.py:233: AccuracyWarning: maxiter (50) exceeded. Latest difference = 3.859586e-05\n",
      "  AccuracyWarning)\n",
      "/home/adamson/anaconda3/envs/nepc/lib/python3.7/site-packages/scipy/integrate/quadrature.py:233: AccuracyWarning: maxiter (50) exceeded. Latest difference = 2.315638e-05\n",
      "  AccuracyWarning)\n",
      "/home/adamson/anaconda3/envs/nepc/lib/python3.7/site-packages/scipy/integrate/quadrature.py:233: AccuracyWarning: maxiter (50) exceeded. Latest difference = 4.102499e-05\n",
      "  AccuracyWarning)\n",
      "/home/adamson/anaconda3/envs/nepc/lib/python3.7/site-packages/scipy/integrate/quadrature.py:233: AccuracyWarning: maxiter (50) exceeded. Latest difference = 2.470839e-05\n",
      "  AccuracyWarning)\n",
      "/home/adamson/anaconda3/envs/nepc/lib/python3.7/site-packages/scipy/integrate/quadrature.py:233: AccuracyWarning: maxiter (50) exceeded. Latest difference = 4.331366e-05\n",
      "  AccuracyWarning)\n",
      "/home/adamson/anaconda3/envs/nepc/lib/python3.7/site-packages/scipy/integrate/quadrature.py:233: AccuracyWarning: maxiter (50) exceeded. Latest difference = 2.622687e-05\n",
      "  AccuracyWarning)\n",
      "/home/adamson/anaconda3/envs/nepc/lib/python3.7/site-packages/scipy/integrate/quadrature.py:233: AccuracyWarning: maxiter (50) exceeded. Latest difference = 4.548725e-05\n",
      "  AccuracyWarning)\n",
      "/home/adamson/anaconda3/envs/nepc/lib/python3.7/site-packages/scipy/integrate/quadrature.py:233: AccuracyWarning: maxiter (50) exceeded. Latest difference = 2.772248e-05\n",
      "  AccuracyWarning)\n",
      "/home/adamson/anaconda3/envs/nepc/lib/python3.7/site-packages/scipy/integrate/quadrature.py:233: AccuracyWarning: maxiter (50) exceeded. Latest difference = 4.756613e-05\n",
      "  AccuracyWarning)\n",
      "/home/adamson/anaconda3/envs/nepc/lib/python3.7/site-packages/scipy/integrate/quadrature.py:233: AccuracyWarning: maxiter (50) exceeded. Latest difference = 2.920436e-05\n",
      "  AccuracyWarning)\n",
      "/home/adamson/anaconda3/envs/nepc/lib/python3.7/site-packages/scipy/integrate/quadrature.py:233: AccuracyWarning: maxiter (50) exceeded. Latest difference = 4.956722e-05\n",
      "  AccuracyWarning)\n",
      "/home/adamson/anaconda3/envs/nepc/lib/python3.7/site-packages/scipy/integrate/quadrature.py:233: AccuracyWarning: maxiter (50) exceeded. Latest difference = 3.068063e-05\n",
      "  AccuracyWarning)\n",
      "/home/adamson/anaconda3/envs/nepc/lib/python3.7/site-packages/scipy/integrate/quadrature.py:233: AccuracyWarning: maxiter (50) exceeded. Latest difference = 5.150514e-05\n",
      "  AccuracyWarning)\n",
      "/home/adamson/anaconda3/envs/nepc/lib/python3.7/site-packages/scipy/integrate/quadrature.py:233: AccuracyWarning: maxiter (50) exceeded. Latest difference = 3.215884e-05\n",
      "  AccuracyWarning)\n",
      "/home/adamson/anaconda3/envs/nepc/lib/python3.7/site-packages/scipy/integrate/quadrature.py:233: AccuracyWarning: maxiter (50) exceeded. Latest difference = 5.339286e-05\n",
      "  AccuracyWarning)\n",
      "/home/adamson/anaconda3/envs/nepc/lib/python3.7/site-packages/scipy/integrate/quadrature.py:233: AccuracyWarning: maxiter (50) exceeded. Latest difference = 3.364620e-05\n",
      "  AccuracyWarning)\n",
      "/home/adamson/anaconda3/envs/nepc/lib/python3.7/site-packages/scipy/integrate/quadrature.py:233: AccuracyWarning: maxiter (50) exceeded. Latest difference = 5.524231e-05\n",
      "  AccuracyWarning)\n",
      "/home/adamson/anaconda3/envs/nepc/lib/python3.7/site-packages/scipy/integrate/quadrature.py:233: AccuracyWarning: maxiter (50) exceeded. Latest difference = 3.514985e-05\n",
      "  AccuracyWarning)\n",
      "/home/adamson/anaconda3/envs/nepc/lib/python3.7/site-packages/scipy/integrate/quadrature.py:233: AccuracyWarning: maxiter (50) exceeded. Latest difference = 5.706473e-05\n",
      "  AccuracyWarning)\n",
      "/home/adamson/anaconda3/envs/nepc/lib/python3.7/site-packages/scipy/integrate/quadrature.py:233: AccuracyWarning: maxiter (50) exceeded. Latest difference = 3.667707e-05\n",
      "  AccuracyWarning)\n",
      "/home/adamson/anaconda3/envs/nepc/lib/python3.7/site-packages/scipy/integrate/quadrature.py:233: AccuracyWarning: maxiter (50) exceeded. Latest difference = 5.887107e-05\n",
      "  AccuracyWarning)\n",
      "/home/adamson/anaconda3/envs/nepc/lib/python3.7/site-packages/scipy/integrate/quadrature.py:233: AccuracyWarning: maxiter (50) exceeded. Latest difference = 3.823544e-05\n",
      "  AccuracyWarning)\n",
      "/home/adamson/anaconda3/envs/nepc/lib/python3.7/site-packages/scipy/integrate/quadrature.py:233: AccuracyWarning: maxiter (50) exceeded. Latest difference = 6.067226e-05\n",
      "  AccuracyWarning)\n",
      "/home/adamson/anaconda3/envs/nepc/lib/python3.7/site-packages/scipy/integrate/quadrature.py:233: AccuracyWarning: maxiter (50) exceeded. Latest difference = 3.983309e-05\n",
      "  AccuracyWarning)\n",
      "/home/adamson/anaconda3/envs/nepc/lib/python3.7/site-packages/scipy/integrate/quadrature.py:233: AccuracyWarning: maxiter (50) exceeded. Latest difference = 6.247951e-05\n",
      "  AccuracyWarning)\n",
      "/home/adamson/anaconda3/envs/nepc/lib/python3.7/site-packages/scipy/integrate/quadrature.py:233: AccuracyWarning: maxiter (50) exceeded. Latest difference = 4.147889e-05\n",
      "  AccuracyWarning)\n",
      "/home/adamson/anaconda3/envs/nepc/lib/python3.7/site-packages/scipy/integrate/quadrature.py:233: AccuracyWarning: maxiter (50) exceeded. Latest difference = 6.430458e-05\n",
      "  AccuracyWarning)\n",
      "/home/adamson/anaconda3/envs/nepc/lib/python3.7/site-packages/scipy/integrate/quadrature.py:233: AccuracyWarning: maxiter (50) exceeded. Latest difference = 4.318266e-05\n",
      "  AccuracyWarning)\n",
      "/home/adamson/anaconda3/envs/nepc/lib/python3.7/site-packages/scipy/integrate/quadrature.py:233: AccuracyWarning: maxiter (50) exceeded. Latest difference = 6.616012e-05\n",
      "  AccuracyWarning)\n",
      "/home/adamson/anaconda3/envs/nepc/lib/python3.7/site-packages/scipy/integrate/quadrature.py:233: AccuracyWarning: maxiter (50) exceeded. Latest difference = 4.495555e-05\n",
      "  AccuracyWarning)\n",
      "/home/adamson/anaconda3/envs/nepc/lib/python3.7/site-packages/scipy/integrate/quadrature.py:233: AccuracyWarning: maxiter (50) exceeded. Latest difference = 6.805998e-05\n",
      "  AccuracyWarning)\n",
      "/home/adamson/anaconda3/envs/nepc/lib/python3.7/site-packages/scipy/integrate/quadrature.py:233: AccuracyWarning: maxiter (50) exceeded. Latest difference = 4.681030e-05\n",
      "  AccuracyWarning)\n",
      "/home/adamson/anaconda3/envs/nepc/lib/python3.7/site-packages/scipy/integrate/quadrature.py:233: AccuracyWarning: maxiter (50) exceeded. Latest difference = 7.001969e-05\n",
      "  AccuracyWarning)\n",
      "/home/adamson/anaconda3/envs/nepc/lib/python3.7/site-packages/scipy/integrate/quadrature.py:233: AccuracyWarning: maxiter (50) exceeded. Latest difference = 4.876178e-05\n",
      "  AccuracyWarning)\n",
      "/home/adamson/anaconda3/envs/nepc/lib/python3.7/site-packages/scipy/integrate/quadrature.py:233: AccuracyWarning: maxiter (50) exceeded. Latest difference = 7.205697e-05\n",
      "  AccuracyWarning)\n",
      "/home/adamson/anaconda3/envs/nepc/lib/python3.7/site-packages/scipy/integrate/quadrature.py:233: AccuracyWarning: maxiter (50) exceeded. Latest difference = 5.082751e-05\n",
      "  AccuracyWarning)\n",
      "/home/adamson/anaconda3/envs/nepc/lib/python3.7/site-packages/scipy/integrate/quadrature.py:233: AccuracyWarning: maxiter (50) exceeded. Latest difference = 7.419239e-05\n",
      "  AccuracyWarning)\n",
      "/home/adamson/anaconda3/envs/nepc/lib/python3.7/site-packages/scipy/integrate/quadrature.py:233: AccuracyWarning: maxiter (50) exceeded. Latest difference = 5.302850e-05\n",
      "  AccuracyWarning)\n",
      "/home/adamson/anaconda3/envs/nepc/lib/python3.7/site-packages/scipy/integrate/quadrature.py:233: AccuracyWarning: maxiter (50) exceeded. Latest difference = 7.645028e-05\n",
      "  AccuracyWarning)\n",
      "/home/adamson/anaconda3/envs/nepc/lib/python3.7/site-packages/scipy/integrate/quadrature.py:233: AccuracyWarning: maxiter (50) exceeded. Latest difference = 5.539026e-05\n",
      "  AccuracyWarning)\n",
      "/home/adamson/anaconda3/envs/nepc/lib/python3.7/site-packages/scipy/integrate/quadrature.py:233: AccuracyWarning: maxiter (50) exceeded. Latest difference = 7.885991e-05\n",
      "  AccuracyWarning)\n",
      "/home/adamson/anaconda3/envs/nepc/lib/python3.7/site-packages/scipy/integrate/quadrature.py:233: AccuracyWarning: maxiter (50) exceeded. Latest difference = 5.794429e-05\n",
      "  AccuracyWarning)\n",
      "/home/adamson/anaconda3/envs/nepc/lib/python3.7/site-packages/scipy/integrate/quadrature.py:233: AccuracyWarning: maxiter (50) exceeded. Latest difference = 8.145715e-05\n",
      "  AccuracyWarning)\n",
      "/home/adamson/anaconda3/envs/nepc/lib/python3.7/site-packages/scipy/integrate/quadrature.py:233: AccuracyWarning: maxiter (50) exceeded. Latest difference = 6.073008e-05\n",
      "  AccuracyWarning)\n",
      "/home/adamson/anaconda3/envs/nepc/lib/python3.7/site-packages/scipy/integrate/quadrature.py:233: AccuracyWarning: maxiter (50) exceeded. Latest difference = 8.428678e-05\n",
      "  AccuracyWarning)\n",
      "/home/adamson/anaconda3/envs/nepc/lib/python3.7/site-packages/scipy/integrate/quadrature.py:233: AccuracyWarning: maxiter (50) exceeded. Latest difference = 6.379812e-05\n",
      "  AccuracyWarning)\n",
      "/home/adamson/anaconda3/envs/nepc/lib/python3.7/site-packages/scipy/integrate/quadrature.py:233: AccuracyWarning: maxiter (50) exceeded. Latest difference = 8.740584e-05\n",
      "  AccuracyWarning)\n",
      "/home/adamson/anaconda3/envs/nepc/lib/python3.7/site-packages/scipy/integrate/quadrature.py:233: AccuracyWarning: maxiter (50) exceeded. Latest difference = 5.086978e-06\n",
      "  AccuracyWarning)\n",
      "/home/adamson/anaconda3/envs/nepc/lib/python3.7/site-packages/scipy/integrate/quadrature.py:233: AccuracyWarning: maxiter (50) exceeded. Latest difference = 1.012100e-05\n",
      "  AccuracyWarning)\n",
      "/home/adamson/anaconda3/envs/nepc/lib/python3.7/site-packages/scipy/integrate/quadrature.py:233: AccuracyWarning: maxiter (50) exceeded. Latest difference = 8.865275e-06\n",
      "  AccuracyWarning)\n",
      "/home/adamson/anaconda3/envs/nepc/lib/python3.7/site-packages/scipy/integrate/quadrature.py:233: AccuracyWarning: maxiter (50) exceeded. Latest difference = 1.748531e-05\n",
      "  AccuracyWarning)\n",
      "/home/adamson/anaconda3/envs/nepc/lib/python3.7/site-packages/scipy/integrate/quadrature.py:233: AccuracyWarning: maxiter (50) exceeded. Latest difference = 1.151659e-05\n",
      "  AccuracyWarning)\n",
      "/home/adamson/anaconda3/envs/nepc/lib/python3.7/site-packages/scipy/integrate/quadrature.py:233: AccuracyWarning: maxiter (50) exceeded. Latest difference = 2.251667e-05\n",
      "  AccuracyWarning)\n",
      "/home/adamson/anaconda3/envs/nepc/lib/python3.7/site-packages/scipy/integrate/quadrature.py:233: AccuracyWarning: maxiter (50) exceeded. Latest difference = 1.371298e-05\n",
      "  AccuracyWarning)\n",
      "/home/adamson/anaconda3/envs/nepc/lib/python3.7/site-packages/scipy/integrate/quadrature.py:233: AccuracyWarning: maxiter (50) exceeded. Latest difference = 2.657618e-05\n",
      "  AccuracyWarning)\n",
      "/home/adamson/anaconda3/envs/nepc/lib/python3.7/site-packages/scipy/integrate/quadrature.py:233: AccuracyWarning: maxiter (50) exceeded. Latest difference = 1.564900e-05\n",
      "  AccuracyWarning)\n",
      "/home/adamson/anaconda3/envs/nepc/lib/python3.7/site-packages/scipy/integrate/quadrature.py:233: AccuracyWarning: maxiter (50) exceeded. Latest difference = 3.006136e-05\n",
      "  AccuracyWarning)\n",
      "/home/adamson/anaconda3/envs/nepc/lib/python3.7/site-packages/scipy/integrate/quadrature.py:233: AccuracyWarning: maxiter (50) exceeded. Latest difference = 1.741342e-05\n",
      "  AccuracyWarning)\n",
      "/home/adamson/anaconda3/envs/nepc/lib/python3.7/site-packages/scipy/integrate/quadrature.py:233: AccuracyWarning: maxiter (50) exceeded. Latest difference = 3.315496e-05\n",
      "  AccuracyWarning)\n",
      "/home/adamson/anaconda3/envs/nepc/lib/python3.7/site-packages/scipy/integrate/quadrature.py:233: AccuracyWarning: maxiter (50) exceeded. Latest difference = 1.905564e-05\n",
      "  AccuracyWarning)\n",
      "/home/adamson/anaconda3/envs/nepc/lib/python3.7/site-packages/scipy/integrate/quadrature.py:233: AccuracyWarning: maxiter (50) exceeded. Latest difference = 3.595927e-05\n",
      "  AccuracyWarning)\n",
      "/home/adamson/anaconda3/envs/nepc/lib/python3.7/site-packages/scipy/integrate/quadrature.py:233: AccuracyWarning: maxiter (50) exceeded. Latest difference = 2.060654e-05\n",
      "  AccuracyWarning)\n",
      "/home/adamson/anaconda3/envs/nepc/lib/python3.7/site-packages/scipy/integrate/quadrature.py:233: AccuracyWarning: maxiter (50) exceeded. Latest difference = 3.853858e-05\n",
      "  AccuracyWarning)\n",
      "/home/adamson/anaconda3/envs/nepc/lib/python3.7/site-packages/scipy/integrate/quadrature.py:233: AccuracyWarning: maxiter (50) exceeded. Latest difference = 2.208700e-05\n",
      "  AccuracyWarning)\n",
      "/home/adamson/anaconda3/envs/nepc/lib/python3.7/site-packages/scipy/integrate/quadrature.py:233: AccuracyWarning: maxiter (50) exceeded. Latest difference = 4.093651e-05\n",
      "  AccuracyWarning)\n",
      "/home/adamson/anaconda3/envs/nepc/lib/python3.7/site-packages/scipy/integrate/quadrature.py:233: AccuracyWarning: maxiter (50) exceeded. Latest difference = 2.351198e-05\n",
      "  AccuracyWarning)\n",
      "/home/adamson/anaconda3/envs/nepc/lib/python3.7/site-packages/scipy/integrate/quadrature.py:233: AccuracyWarning: maxiter (50) exceeded. Latest difference = 4.318438e-05\n",
      "  AccuracyWarning)\n",
      "/home/adamson/anaconda3/envs/nepc/lib/python3.7/site-packages/scipy/integrate/quadrature.py:233: AccuracyWarning: maxiter (50) exceeded. Latest difference = 2.489266e-05\n",
      "  AccuracyWarning)\n",
      "/home/adamson/anaconda3/envs/nepc/lib/python3.7/site-packages/scipy/integrate/quadrature.py:233: AccuracyWarning: maxiter (50) exceeded. Latest difference = 4.530562e-05\n",
      "  AccuracyWarning)\n",
      "/home/adamson/anaconda3/envs/nepc/lib/python3.7/site-packages/scipy/integrate/quadrature.py:233: AccuracyWarning: maxiter (50) exceeded. Latest difference = 2.623773e-05\n",
      "  AccuracyWarning)\n",
      "/home/adamson/anaconda3/envs/nepc/lib/python3.7/site-packages/scipy/integrate/quadrature.py:233: AccuracyWarning: maxiter (50) exceeded. Latest difference = 4.731837e-05\n",
      "  AccuracyWarning)\n",
      "/home/adamson/anaconda3/envs/nepc/lib/python3.7/site-packages/scipy/integrate/quadrature.py:233: AccuracyWarning: maxiter (50) exceeded. Latest difference = 2.755413e-05\n",
      "  AccuracyWarning)\n",
      "/home/adamson/anaconda3/envs/nepc/lib/python3.7/site-packages/scipy/integrate/quadrature.py:233: AccuracyWarning: maxiter (50) exceeded. Latest difference = 4.923706e-05\n",
      "  AccuracyWarning)\n",
      "/home/adamson/anaconda3/envs/nepc/lib/python3.7/site-packages/scipy/integrate/quadrature.py:233: AccuracyWarning: maxiter (50) exceeded. Latest difference = 2.884754e-05\n",
      "  AccuracyWarning)\n",
      "/home/adamson/anaconda3/envs/nepc/lib/python3.7/site-packages/scipy/integrate/quadrature.py:233: AccuracyWarning: maxiter (50) exceeded. Latest difference = 5.107346e-05\n",
      "  AccuracyWarning)\n",
      "/home/adamson/anaconda3/envs/nepc/lib/python3.7/site-packages/scipy/integrate/quadrature.py:233: AccuracyWarning: maxiter (50) exceeded. Latest difference = 3.012275e-05\n",
      "  AccuracyWarning)\n",
      "/home/adamson/anaconda3/envs/nepc/lib/python3.7/site-packages/scipy/integrate/quadrature.py:233: AccuracyWarning: maxiter (50) exceeded. Latest difference = 5.283733e-05\n",
      "  AccuracyWarning)\n",
      "/home/adamson/anaconda3/envs/nepc/lib/python3.7/site-packages/scipy/integrate/quadrature.py:233: AccuracyWarning: maxiter (50) exceeded. Latest difference = 3.138384e-05\n",
      "  AccuracyWarning)\n",
      "/home/adamson/anaconda3/envs/nepc/lib/python3.7/site-packages/scipy/integrate/quadrature.py:233: AccuracyWarning: maxiter (50) exceeded. Latest difference = 5.453693e-05\n",
      "  AccuracyWarning)\n"
     ]
    }
   ],
   "source": [
    "(N2PES, N2pPES, Jvv) = Jv(15,30,0,0)"
   ]
  },
  {
   "cell_type": "code",
   "execution_count": 14,
   "metadata": {},
   "outputs": [
    {
     "data": {
      "image/png": "[encoded data removed]",
      "text/plain": [
       "<Figure size 432x288 with 1 Axes>"
      ]
     },
     "metadata": {
      "needs_background": "light"
     },
     "output_type": "display_data"
    }
   ],
   "source": [
    "fig = plt.figure()\n",
    "ax1 = fig.add_subplot(111)\n",
    "\n",
    "x = list(range(len(Jvv)))\n",
    "y = Jvv[:,0]\n",
    "ax1.scatter(x, y, s=10, c='b', marker=\"s\", label='Jvv[:,0]')\n",
    "y = Jvv[:,1]\n",
    "ax1.scatter(x,y, s=10, c='r', marker=\"o\", label='Jvv[:,1]')\n",
    "plt.legend(loc='center right');\n",
    "plt.show()"
   ]
  },
  {
   "cell_type": "code",
   "execution_count": 15,
   "metadata": {},
   "outputs": [
    {
     "data": {
      "image/png": "[encoded data removed]",
      "text/plain": [
       "<Figure size 432x288 with 1 Axes>"
      ]
     },
     "metadata": {
      "needs_background": "light"
     },
     "output_type": "display_data"
    }
   ],
   "source": [
    "fig = plt.figure()\n",
    "ax1 = fig.add_subplot(111)\n",
    "\n",
    "x,y = N2pPES.T\n",
    "ax1.scatter(x, y, s=10, c='b', marker=\"s\", label='N2pPES')\n",
    "x,y = N2PES.T\n",
    "ax1.scatter(x,y, s=10, c='r', marker=\"o\", label='N2PES')\n",
    "plt.legend(loc='lower right');\n",
    "plt.show()"
   ]
  },
  {
   "cell_type": "code",
   "execution_count": 16,
   "metadata": {},
   "outputs": [],
   "source": [
    "def f_eqn15(x: float):\n",
    "    \"Equation 15 of Kosarim, et al., for all electrons.\"\n",
    "    \"return (6*(x-1))/(pi*(x+1.5)*(x+9))\"\n",
    "    return (6*(x-1))/(pi*(x+10)*(x+2))"
   ]
  },
  {
   "cell_type": "code",
   "execution_count": 17,
   "metadata": {},
   "outputs": [],
   "source": [
    "def sigma_ion(f, n: int, E: float, J_v_vp: float, J_v_vpp: float):\n",
    "    \"\"\"Compute cross-sections (10^-17 cm^2) of ionization transitions for \n",
    "    Tables 2-4 of Kosarim, et al.\"\"\"\n",
    "    return (cm_per_m**2 * eV_per_J**2)/(1.0E-17)  * (1./(4.*pi*e0)**2) * \\\n",
    "        ((n*e**4)/2.) * ( f(E/J_v_vp)/(J_v_vp**2) + f(E/J_v_vpp)/(J_v_vpp**2) )"
   ]
  },
  {
   "cell_type": "code",
   "execution_count": 18,
   "metadata": {},
   "outputs": [],
   "source": [
    "datafiles = [outdir+\"ionization_N2+_itikawa2006_15\",\n",
    "             outdir+\"ionization_N2+_itikawa2006_16\",\n",
    "             outdir+\"ionization_N2+_itikawa2006_17\"]\n",
    "sigma_total=[]\n",
    "\n",
    "for datafile in datafiles:\n",
    "    df = pd.read_csv(datafile, sep=\"\\t\")   # read .tsv file into memory\n",
    "    sigma_total.append(df.values[:,[1,2]])  # access the numpy array containing values\n",
    "\n",
    "sigma_total=np.concatenate((sigma_total[0],\n",
    "                            sigma_total[1],\n",
    "                            sigma_total[2]), axis=0)"
   ]
  },
  {
   "cell_type": "code",
   "execution_count": 19,
   "metadata": {},
   "outputs": [],
   "source": [
    "N2_ionization = 15.581 # best value of the ionization energy of N2"
   ]
  },
  {
   "cell_type": "code",
   "execution_count": 20,
   "metadata": {},
   "outputs": [],
   "source": [
    "sigma_total_reduced = np.column_stack((sigma_total[:,0]/N2_ionization, \n",
    "                                       (N2_ionization**2)/( (cm_per_m**2 * eV_per_J**2)/(1.0E-17)  * (1./(4.*pi*e0)**2) * ((2*e**4)) ) * sigma_total[:,1]))"
   ]
  },
  {
   "cell_type": "code",
   "execution_count": 21,
   "metadata": {},
   "outputs": [
    {
     "data": {
      "text/plain": [
       "array([[1.05898209e+00, 2.72799132e-03],\n",
       "       [1.09107246e+00, 4.17394380e-03],\n",
       "       [1.12316283e+00, 5.76624775e-03],\n",
       "       [1.15525319e+00, 7.55173563e-03],\n",
       "       [1.18734356e+00, 9.60065615e-03],\n",
       "       [1.21943393e+00, 1.16495767e-02],\n",
       "       [1.25152429e+00, 1.34643348e-02],\n",
       "       [1.28361466e+00, 1.58059583e-02],\n",
       "       [1.31570503e+00, 1.80305006e-02],\n",
       "       [1.34779539e+00, 2.01379617e-02],\n",
       "       [1.37988576e+00, 2.22454228e-02],\n",
       "       [1.41197612e+00, 2.44699651e-02],\n",
       "       [1.44406649e+00, 2.66359668e-02],\n",
       "       [1.47615686e+00, 2.88019684e-02],\n",
       "       [1.50824722e+00, 3.09094295e-02],\n",
       "       [1.54033759e+00, 3.30754312e-02],\n",
       "       [1.57242796e+00, 3.52999735e-02],\n",
       "       [1.60451832e+00, 3.74659752e-02],\n",
       "       [1.92542199e+00, 5.43842046e-02],\n",
       "       [2.24632565e+00, 6.79070801e-02],\n",
       "       [2.56722932e+00, 8.02006032e-02],\n",
       "       [3.20903665e+00, 9.36649380e-02],\n",
       "       [3.52994031e+00, 9.71773732e-02],\n",
       "       [3.85084398e+00, 1.00689808e-01],\n",
       "       [4.17174764e+00, 1.01860620e-01],\n",
       "       [4.49265131e+00, 1.04202244e-01],\n",
       "       [4.81355497e+00, 1.05373055e-01],\n",
       "       [5.13445864e+00, 1.05958461e-01],\n",
       "       [5.45536230e+00, 1.06543867e-01],\n",
       "       [5.77626596e+00, 1.07129273e-01],\n",
       "       [6.09716963e+00, 1.08300085e-01],\n",
       "       [6.41807329e+00, 1.08300085e-01],\n",
       "       [7.05988062e+00, 1.07129273e-01],\n",
       "       [7.70168795e+00, 1.05958461e-01],\n",
       "       [8.98530261e+00, 1.04202244e-01],\n",
       "       [1.02689173e+01, 1.00689808e-01],\n",
       "       [1.15525319e+01, 9.77627791e-02],\n",
       "       [1.28361466e+01, 9.42503439e-02],\n",
       "       [1.44406649e+01, 9.07379087e-02],\n",
       "       [1.60451832e+01, 8.66400677e-02],\n",
       "       [1.76497016e+01, 8.25422266e-02],\n",
       "       [1.92542199e+01, 8.02006032e-02],\n",
       "       [2.56722932e+01, 7.02487035e-02],\n",
       "       [2.88813298e+01, 6.49800508e-02],\n",
       "       [3.20903665e+01, 6.14676156e-02],\n",
       "       [3.52994031e+01, 5.84235051e-02],\n",
       "       [3.85084398e+01, 5.52037728e-02],\n",
       "       [4.17174764e+01, 5.15157159e-02],\n",
       "       [4.49265131e+01, 4.94082548e-02],\n",
       "       [4.81355497e+01, 4.65983067e-02],\n",
       "       [5.13445864e+01, 4.47835485e-02],\n",
       "       [5.45536230e+01, 4.32029527e-02],\n",
       "       [5.77626596e+01, 4.20906815e-02],\n",
       "       [6.09716963e+01, 4.08613292e-02],\n",
       "       [6.41807329e+01, 3.95734363e-02]])"
      ]
     },
     "execution_count": 21,
     "metadata": {},
     "output_type": "execute_result"
    }
   ],
   "source": [
    "sigma_total_reduced"
   ]
  },
  {
   "cell_type": "code",
   "execution_count": 22,
   "metadata": {},
   "outputs": [],
   "source": [
    "# Fit the first set\n",
    "fitfunc = lambda p, x: p[0]*(x-p[1])/(pi*(x+p[2])*(x+p[3])) # Target function\n",
    "errfunc = lambda p, x, y: fitfunc(p, x) - y # Distance to the target function\n",
    "p0 = [6.0, 1.0, 10.0, 2.0] # Initial guess for the parameters\n",
    "p1, success = optimize.leastsq(errfunc, p0[:], args=(sigma_total_reduced[:,0], sigma_total_reduced[:,1]))"
   ]
  },
  {
   "cell_type": "code",
   "execution_count": 23,
   "metadata": {},
   "outputs": [
    {
     "data": {
      "text/plain": [
       "array([ 9.20561178,  1.08494814, 12.72550793,  1.13973716])"
      ]
     },
     "execution_count": 23,
     "metadata": {},
     "output_type": "execute_result"
    }
   ],
   "source": [
    "p1"
   ]
  },
  {
   "cell_type": "code",
   "execution_count": 24,
   "metadata": {},
   "outputs": [
    {
     "data": {
      "text/plain": [
       "1"
      ]
     },
     "execution_count": 24,
     "metadata": {},
     "output_type": "execute_result"
    }
   ],
   "source": [
    "success"
   ]
  },
  {
   "cell_type": "code",
   "execution_count": 25,
   "metadata": {},
   "outputs": [],
   "source": [
    "def f_eqn_fit(x: float):\n",
    "    \"Fit total ionization data\"\n",
    "    return (p1[0]*(x-p1[1]))/(pi*(x+p1[2])*(x+p1[3]))"
   ]
  },
  {
   "cell_type": "code",
   "execution_count": 26,
   "metadata": {},
   "outputs": [
    {
     "name": "stderr",
     "output_type": "stream",
     "text": [
      "/home/adamson/anaconda3/envs/nepc/lib/python3.7/site-packages/matplotlib/figure.py:98: MatplotlibDeprecationWarning: \n",
      "Adding an axes using the same arguments as a previous axes currently reuses the earlier instance.  In a future version, a new instance will always be created and returned.  Meanwhile, this warning can be suppressed, and the future behavior ensured, by passing a unique label to each axes instance.\n",
      "  \"Adding an axes using the same arguments as a previous axes \"\n"
     ]
    },
    {
     "data": {
      "image/png": "[encoded data removed]",
      "text/plain": [
       "<Figure size 700x420 with 1 Axes>"
      ]
     },
     "metadata": {
      "needs_background": "light"
     },
     "output_type": "display_data"
    }
   ],
   "source": [
    "w = 10\n",
    "h = 6\n",
    "d = 70\n",
    "plt.figure(figsize=(w, h), dpi=d)\n",
    "\n",
    "x=sigma_total_reduced[:,0]\n",
    "y=sigma_total_reduced[:,1]\n",
    "\n",
    "x = np.linspace(min(sigma_total_reduced[:,0]), max(sigma_total_reduced[:,0]), 100)\n",
    "plt.plot(sigma_total_reduced[:,0], sigma_total_reduced[:,1], \"ro\", x, fitfunc(p1, x), \"r-\") # Plot of the data and the fit\n",
    "\n",
    "# Legend the plot\n",
    "plt.title(\"Ionization reduced cross-section for N$_2$\")\n",
    "plt.xlabel(\"E/J\")\n",
    "plt.ylabel(\"f(E/J)\")\n",
    "plt.legend(('$\\sigma$', 'f(E/J)'))\n",
    "\n",
    "ax = plt.axes()\n",
    "\n",
    "plt.show()"
   ]
  },
  {
   "cell_type": "code",
   "execution_count": 27,
   "metadata": {},
   "outputs": [],
   "source": [
    "vMat=np.repeat(np.array([np.arange(len(Jvv))]),len(Jvv),axis=0).T\n",
    "EMat=np.repeat(np.array([np.logspace(1.3, 2.3, num=len(Jvv))]),len(Jvv),axis=0)\n",
    "sigma = np.empty([len(Jvv), len(EMat[0])])\n",
    "for v in vMat[:,0]:\n",
    "    sigma[v] = sigma_ion(f_eqn_fit, 2, EMat[0], Jvv[v,0], Jvv[v,1])\n"
   ]
  },
  {
   "cell_type": "code",
   "execution_count": 28,
   "metadata": {},
   "outputs": [
    {
     "data": {
      "text/plain": [
       "array([ 0,  1,  2,  3,  4,  5,  6,  7,  8,  9, 10, 11, 12, 13, 14, 15])"
      ]
     },
     "execution_count": 28,
     "metadata": {},
     "output_type": "execute_result"
    }
   ],
   "source": [
    "vMat[:,0]"
   ]
  },
  {
   "cell_type": "code",
   "execution_count": 29,
   "metadata": {},
   "outputs": [
    {
     "data": {
      "text/plain": [
       "array([ 19.95262315,  23.26305067,  27.12272579,  31.6227766 ,\n",
       "        36.86945065,  42.98662347,  50.11872336,  58.43414134,\n",
       "        68.12920691,  79.43282347,  92.61187281, 107.97751623,\n",
       "       125.89254118, 146.77992676, 171.13283042, 199.5262315 ])"
      ]
     },
     "execution_count": 29,
     "metadata": {},
     "output_type": "execute_result"
    }
   ],
   "source": [
    "EMat[0]"
   ]
  },
  {
   "cell_type": "code",
   "execution_count": 30,
   "metadata": {
    "scrolled": true
   },
   "outputs": [
    {
     "data": {
      "text/plain": [
       "array([0.28395483, 0.53981862, 0.78108312, 1.00372899, 1.20422041,\n",
       "       1.37963946, 1.52778276, 1.647219  , 1.73730953, 1.79819628,\n",
       "       1.83076155, 1.83656364, 1.81775161, 1.77696169, 1.71719843,\n",
       "       1.6417048 ])"
      ]
     },
     "execution_count": 30,
     "metadata": {},
     "output_type": "execute_result"
    }
   ],
   "source": [
    "sigma[0]"
   ]
  },
  {
   "cell_type": "code",
   "execution_count": 31,
   "metadata": {
    "scrolled": true
   },
   "outputs": [
    {
     "data": {
      "text/plain": [
       "array([0.27245131, 0.52476444, 0.76281385, 0.98263677, 1.18074114,\n",
       "       1.35423869, 1.50094114, 1.61941801, 1.70901818, 1.76985904,\n",
       "       1.80278779, 1.80931876, 1.79155005, 1.75206202, 1.69380074,\n",
       "       1.61995049])"
      ]
     },
     "execution_count": 31,
     "metadata": {},
     "output_type": "execute_result"
    }
   ],
   "source": [
    "sigma[10]"
   ]
  },
  {
   "cell_type": "code",
   "execution_count": 32,
   "metadata": {},
   "outputs": [
    {
     "data": {
      "image/png": "[encoded data removed]",
      "text/plain": [
       "<Figure size 432x288 with 1 Axes>"
      ]
     },
     "metadata": {
      "needs_background": "light"
     },
     "output_type": "display_data"
    }
   ],
   "source": [
    "from mpl_toolkits.mplot3d import axes3d\n",
    "from matplotlib import cm\n",
    "\n",
    "fig = plt.figure()\n",
    "ax = fig.gca(projection='3d')\n",
    "X=EMat\n",
    "Y=vMat\n",
    "Z=sigma\n",
    "\n",
    "# Plot the 3D surface\n",
    "ax.plot_surface(X, Y, Z, rstride=8, cstride=8, alpha=0.3)\n",
    "\n",
    "# Plot projections of the contours for each dimension.  By choosing offsets\n",
    "# that match the appropriate axes limits, the projected contours will sit on\n",
    "# the 'walls' of the graph\n",
    "cset = ax.contour(X, Y, Z, zdir='z', offset=0.2, cmap=cm.coolwarm)\n",
    "cset = ax.contour(X, Y, Z, zdir='x', offset=min(X[0]), cmap=cm.coolwarm)\n",
    "cset = ax.contour(X, Y, Z, zdir='y', offset=max(Y[:,0]), cmap=cm.coolwarm)\n",
    "\n",
    "ax.set_xlim(min(X[0]),max(X[0]))\n",
    "ax.set_ylim(min(Y[:,0]),max(Y[:,0]))\n",
    "ax.set_zlim(0.2,2.5)\n",
    "\n",
    "ax.set_xlabel('E')\n",
    "ax.set_ylabel('v')\n",
    "ax.set_zlabel('sigma')\n",
    "\n",
    "plt.show()"
   ]
  },
  {
   "cell_type": "code",
   "execution_count": 33,
   "metadata": {},
   "outputs": [
    {
     "data": {
      "image/png": "[encoded data removed]",
      "text/plain": [
       "<Figure size 432x288 with 1 Axes>"
      ]
     },
     "metadata": {
      "needs_background": "light"
     },
     "output_type": "display_data"
    }
   ],
   "source": [
    "fig = plt.figure()\n",
    "ax1 = fig.add_subplot(111)\n",
    "\n",
    "x=EMat[0]\n",
    "y=sigma[0]\n",
    "ax1.scatter(x, y, s=10, c='b', marker=\"s\", label='v=0')\n",
    "y=sigma[5]\n",
    "ax1.scatter(x,y, s=10, c='r', marker=\"o\", label='v=20')\n",
    "y=sigma[10]\n",
    "ax1.scatter(x,y, s=10, c='g', marker=\"d\", label='v=40')\n",
    "plt.legend(loc='lower right');\n",
    "plt.show()"
   ]
  },
  {
   "cell_type": "code",
   "execution_count": 34,
   "metadata": {
    "scrolled": true
   },
   "outputs": [
    {
     "data": {
      "image/png": "[encoded data removed]",
      "text/plain": [
       "<Figure size 432x288 with 1 Axes>"
      ]
     },
     "metadata": {
      "needs_background": "light"
     },
     "output_type": "display_data"
    }
   ],
   "source": [
    "fig = plt.figure()\n",
    "ax1 = fig.add_subplot(111)\n",
    "\n",
    "x=vMat[:,0]\n",
    "y=sigma[:,0]\n",
    "ax1.scatter(x, y, s=10, c='b', marker=\"s\", label='E='+str(round(EMat[0,0])))\n",
    "y=sigma[:,5]\n",
    "ax1.scatter(x,y, s=10, c='r', marker=\"o\", label='E='+str(round(EMat[0,5])))\n",
    "y=sigma[:,8]\n",
    "ax1.scatter(x,y, s=10, c='g', marker=\"d\", label='E='+str(round(EMat[0,8])))\n",
    "y=sigma[:,10]\n",
    "ax1.scatter(x,y, s=10, c='black', marker=\"+\", label='E='+str(round(EMat[0,10])))\n",
    "plt.legend(loc='upper left');\n",
    "plt.show()"
   ]
  },
  {
   "cell_type": "code",
   "execution_count": 35,
   "metadata": {},
   "outputs": [],
   "source": [
    "cropDim = [(150, 180, 700, 490)]"
   ]
  },
  {
   "cell_type": "code",
   "execution_count": 36,
   "metadata": {},
   "outputs": [
    {
     "data": {
      "image/png": "[encoded data removed]",
      "text/plain": [
       "<pdfplumber.display.PageImage at 0x7fdb5e640710>"
      ]
     },
     "metadata": {},
     "output_type": "display_data"
    }
   ],
   "source": [
    "data = scraper.getTableData(pdf=pdfGilmore,pageNumber=92,cropDimArray=cropDim,locateTables=True)"
   ]
  },
  {
   "cell_type": "code",
   "execution_count": null,
   "metadata": {},
   "outputs": [],
   "source": []
  }
 ],
 "metadata": {
  "kernelspec": {
   "display_name": "Python 3",
   "language": "python",
   "name": "python3"
  },
  "language_info": {
   "codemirror_mode": {
    "name": "ipython",
    "version": 3
   },
   "file_extension": ".py",
   "mimetype": "text/x-python",
   "name": "python",
   "nbconvert_exporter": "python",
   "pygments_lexer": "ipython3",
   "version": "3.7.2"
  }
 },
 "nbformat": 4,
 "nbformat_minor": 2
}
