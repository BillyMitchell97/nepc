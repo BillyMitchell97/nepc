{
 "cells": [
  {
   "cell_type": "code",
   "execution_count": 51,
   "metadata": {},
   "outputs": [],
   "source": [
    "import numpy as np\n",
    "import scipy.constants as const\n",
    "import scipy.interpolate as interpolate\n",
    "import matplotlib.pyplot as plt\n",
    "import math\n",
    "from scipy.integrate import quad"
   ]
  },
  {
   "cell_type": "code",
   "execution_count": 12,
   "metadata": {},
   "outputs": [],
   "source": [
    "def Gv(v, we, wexe, weye, weze=0, weae=0):\n",
    "    return we*(v+1/2) - wexe*(v+1/2)**2 + weye*(v+1/2)**3 + weze*(v+1/2)**4 + weae*(v+1/2)**5\n",
    "\n",
    "def Te(v, T0, we, wexe, weye, weze=0, weae=0):\n",
    "    return T0 - we/2 + wexe/4 - weye/8 - weze/16 - weae/32\n",
    "\n",
    "def Tv(v, T0, we, wexe, weye, weze=0, weae=0):\n",
    "    return Te(v, T0, we, wexe, weye, weze, weae) + Gv(v, we, wexe, weye, weze, weae)\n",
    "\n",
    "def Bv(v, Be, ae, ge=0, de=0, ee=0):\n",
    "    return Be - ae*(v+1/2) - ge*(v+1/2)**2 + de*(v+1/2)**3 + ee*(v+1/2)**4\n",
    "\n",
    "def fIntegrand(vp, v, vibConstants):\n",
    "    (T0, we, wexe, weye, weze, weae) = vibConstants\n",
    "    return 1/math.sqrt(Gv(v,we,wexe,weye,weze)-Gv(vp,we,wexe,weye,weze))\n",
    "\n",
    "def gIntegrand(vp, v, vibConstants, rotConstants):\n",
    "    (T0, we, wexe, weye, weze, weae) = vibConstants\n",
    "    (Be, ae, ge, de, ee) = rotConstants\n",
    "    return Bv(v,Be,ae,ge)/math.sqrt(Gv(v,we,wexe,weye,weze)-Gv(vp,we,wexe,weye,weze))"
   ]
  },
  {
   "cell_type": "code",
   "execution_count": 3,
   "metadata": {},
   "outputs": [],
   "source": [
    "statesN2 = [\"N2(X1Sigmag+)\",\"N2(A3Sigmau+)\",\"N2(B3Pig)\",\"N2(W3Deltau)\",\"N2(Bp3Sigmau-)\",\n",
    "            \"N2(ap1Sigmau-)\",\"N2(a1Pig)\",\"N2(w1Deltau)\",\"N2(C3Piu)\",\"N2(E3Sigmag+)\",\"N2(D3Sigmau+)\"]\n",
    "statesN2p = [\"N2+(X2Sigmag+)\",\"N2+(A2Piu)\",\"N2+(B2Sigmau+)\",\"N2+(C2Sigmau+)\"]\n",
    "\n",
    "vibConstantsN2 = [[0.0, 2358.57, 14.324, -2.26E-3, -2.4E-4, 0],\n",
    "                 [49754.8, 1460.48, 13.775, -1.175E-2, 1.41E-4, -7.29E-5],\n",
    "                 [59306.8, 1734.38, 14.558, 1.40E-2, -1.13E-3, 0],\n",
    "                 [59380.2, 1506.53, 12.575, 3.09E-2, -7.1E-4, 0],\n",
    "                 [65851.3, 1516.88, 12.181, 4.19E-2, -7.3E-4, 0],\n",
    "                 [67739.3, 1530.25, 12.075, 4.13E-2, -2.9E-4, 0],\n",
    "                 [68951.2, 1694.21, 13.949, 7.94E-3, 2.9E-4, 0],\n",
    "                 [71698.4, 1559.50, 12.008, 4.54E-2, 0, 0],\n",
    "                 [88977.9, 2047.18, 28.445, 2.0883, -5.350E-1, 0],\n",
    "                 [95774.5, 2218, 16.3, -2.7E-2, -2.6E-3, 0],\n",
    "                 [103570.9, 2207, 16.3, -2.7E-2, -2.6E-3, 0]]\n",
    "\n",
    "vibConstantsN2p = [[125667.5, 2207.37, 16.302, -2.67E-3, -2.61E-3, 3.7E-5],\n",
    "                  [134683.1, 1903.51, 15.029, 2.03E-3, 0, 0],\n",
    "                  [151233.5, 2420.83, 23.851, -0.3587, -6.192E-2, 0],\n",
    "                  [190209.5, 2071.5, 9.29, -0.43, 0, 0]]\n",
    "\n",
    "rotConstantsN2 = [[1.99824, 1.7318E-2, -3.3E-5, 0, 0],\n",
    "                 [1.45499, 1.8385E-2, 1.24E-5, -6.7E-6, 0],\n",
    "                 [1.63802, 1.8302E-2, -8.4E-6, -3.4E-6, 0],\n",
    "                 [1.47021, 1.6997E-2, -1.01E-5, 3.3E-7, 0],\n",
    "                 [1.4731, 1.668E-2, 1.84E-5, -4.5E-7, 0],\n",
    "                 [1.4799, 1.657E-2, 2.41E-5, 0, 0],\n",
    "                 [1.6169, 1.793E-2, -2.93E-5, 0, 0],\n",
    "                 [1.4963, 1.63E-2, 0, 0, 0],\n",
    "                 [1.8247, 1.868E-2, -2.28E-3, 7.33E-4, -1.5E-4],\n",
    "                 [1.9368, 1.90E-2, -1.9E-4, 0, 0],\n",
    "                 [1.9705, 1.90E-2, -1.9E-4, 0, 0]]\n",
    "\n",
    "rotConstantsN2p = [[1.93177, 1.900E-2, -1.91E-5, -5.00E-6, 4.6E-8],\n",
    "                  [1.7442, 1.838E-2, -1.76E-4, 4.4E-6, 0],\n",
    "                  [2.0845, 2.132E-2, -8.5E-4, 0, 0],\n",
    "                  [1.5114, 1.10E-3, -8.2E-4, 0, 0]]"
   ]
  },
  {
   "cell_type": "code",
   "execution_count": 4,
   "metadata": {},
   "outputs": [],
   "source": [
    "mu=1.16294E-26\n",
    "wavenumber_per_eV = 8065.6"
   ]
  },
  {
   "cell_type": "code",
   "execution_count": 5,
   "metadata": {},
   "outputs": [],
   "source": [
    "def f(v, vibConstants):\n",
    "    I = quad(fIntegrand,-1/2,v,args=(v, vibConstants))\n",
    "    return 1/(2*const.pi*math.sqrt(2*mu*const.speed_of_light/const.Planck)) * I[0] * 1E8\n",
    "\n",
    "def g(v, vibConstants, rotConstants):\n",
    "    I = quad(gIntegrand,-1/2,v,args=(v, vibConstants, rotConstants))\n",
    "    return 2*const.pi*math.sqrt(2*mu*const.speed_of_light/const.Planck) * I[0] * 1E-8"
   ]
  },
  {
   "cell_type": "code",
   "execution_count": 6,
   "metadata": {},
   "outputs": [],
   "source": [
    "def r(v, vibConstants, rotConstants):\n",
    "    fv=f(v, vibConstants)\n",
    "    gv=g(v, vibConstants, rotConstants)\n",
    "    return [math.sqrt(fv**2 + fv/gv)-fv, math.sqrt(fv**2 + fv/gv)+fv]"
   ]
  },
  {
   "cell_type": "code",
   "execution_count": 7,
   "metadata": {},
   "outputs": [
    {
     "data": {
      "text/plain": [
       "[0.1055561942715914, 0.11461491293899788]"
      ]
     },
     "execution_count": 7,
     "metadata": {},
     "output_type": "execute_result"
    }
   ],
   "source": [
    "r(0, vibConstantsN2[0], rotConstantsN2[0])"
   ]
  },
  {
   "cell_type": "code",
   "execution_count": 65,
   "metadata": {},
   "outputs": [],
   "source": [
    "PES = []\n",
    "for v in range(41):\n",
    "    rv=r(v, vibConstantsN2[0], rotConstantsN2[0])\n",
    "    (T0, we, wexe, weye, weze, weae) = vibConstantsN2[0]\n",
    "    Gvv=Gv(v,we,wexe,weye,weze)/wavenumber_per_eV\n",
    "    PES.append([rv[0],Gvv])\n",
    "    PES.append([rv[1],Gvv])\n",
    "    \n",
    "PES = np.asarray(PES)"
   ]
  },
  {
   "cell_type": "code",
   "execution_count": 66,
   "metadata": {},
   "outputs": [
    {
     "data": {
      "text/plain": [
       "<matplotlib.collections.PathCollection at 0x7f25dcaf7f60>"
      ]
     },
     "execution_count": 66,
     "metadata": {},
     "output_type": "execute_result"
    },
    {
     "data": {
      "image/png": "[encoded data removed]",
      "text/plain": [
       "<Figure size 432x288 with 1 Axes>"
      ]
     },
     "metadata": {
      "needs_background": "light"
     },
     "output_type": "display_data"
    }
   ],
   "source": [
    "x, y = PES.T\n",
    "plt.scatter(x,y)"
   ]
  },
  {
   "cell_type": "code",
   "execution_count": 106,
   "metadata": {},
   "outputs": [],
   "source": [
    "def Jv(vArray, stateN2, stateN2p):\n",
    "\n",
    "    N2pPES = []\n",
    "    (T0, we, wexe, weye, weze, weae) = vibConstantsN2p[stateN2p]\n",
    "\n",
    "    for vp in range(41):\n",
    "        rvp=r(vp, vibConstantsN2p[stateN2p], rotConstantsN2p[stateN2p])\n",
    "        Tvp=Tv(vp, T0, we, wexe, weye, weze, weae)/wavenumber_per_eV\n",
    "        N2pPES.insert(0, [rvp[0], Tvp])\n",
    "        N2pPES.append([rvp[1], Tvp])\n",
    "    \n",
    "    N2pPES = np.asarray(N2pPES)\n",
    "    \n",
    "    I_N2pPES = interpolate.interp1d(N2pPES[:,0], N2pPES[:,1], kind='quadratic')\n",
    "\n",
    "    JvArray = []\n",
    "    (T0, we, wexe, weye, weze, weae) = vibConstantsN2[stateN2]\n",
    "    for v in vArray:\n",
    "        rv=r(v, vibConstantsN2[stateN2], rotConstantsN2[stateN2])\n",
    "        Tvv=Tv(v, T0, we, wexe, weye, weze, weae)/wavenumber_per_eV\n",
    "        JvArray.append(I_N2pPES(rv)-Tvv)\n",
    "    \n",
    "    return JvArray"
   ]
  },
  {
   "cell_type": "code",
   "execution_count": 107,
   "metadata": {},
   "outputs": [],
   "source": [
    "Jvv=Jv(list(range(41)),0,0)"
   ]
  },
  {
   "cell_type": "code",
   "execution_count": 108,
   "metadata": {},
   "outputs": [
    {
     "data": {
      "text/plain": [
       "[array([15.73434575, 15.49721392]),\n",
       " array([15.83486329, 15.40179933]),\n",
       " array([15.9168477 , 15.33355724]),\n",
       " array([15.99561892, 15.27372377]),\n",
       " array([16.07605179, 15.21864264]),\n",
       " array([16.16015941, 15.16647876]),\n",
       " array([16.24925375, 15.11623718]),\n",
       " array([16.34330029, 15.06729698]),\n",
       " array([16.44130574, 15.01924649]),\n",
       " array([16.54040642, 14.97178153]),\n",
       " array([16.63554763, 14.92465024]),\n",
       " array([16.71922562, 14.87765352]),\n",
       " array([16.78257142, 14.83062731]),\n",
       " array([16.81787585, 14.78343233]),\n",
       " array([16.82063794, 14.7359479 ]),\n",
       " array([16.79090464, 14.68806858]),\n",
       " array([16.7318458 , 14.63970874]),\n",
       " array([16.64814551, 14.59078613]),\n",
       " array([16.5446597 , 14.54122522]),\n",
       " array([16.42571015, 14.490961  ]),\n",
       " array([16.295016  , 14.43993872]),\n",
       " array([16.15543268, 14.38811394]),\n",
       " array([16.00936169, 14.33545407]),\n",
       " array([15.85859118, 14.28193698]),\n",
       " array([15.7047626, 14.2275451]),\n",
       " array([15.54885411, 14.17227191]),\n",
       " array([15.3920325 , 14.11612292]),\n",
       " array([15.23510308, 14.05911601]),\n",
       " array([15.07862085, 14.00127389]),\n",
       " array([14.92313129, 13.94262957]),\n",
       " array([14.76928928, 13.8832306 ]),\n",
       " array([14.61747277, 13.82314022]),\n",
       " array([14.46799818, 13.76241544]),\n",
       " array([14.32115198, 13.70112374]),\n",
       " array([14.17723818, 13.63935936]),\n",
       " array([14.03664667, 13.57722755]),\n",
       " array([13.89960578, 13.5147964 ]),\n",
       " array([13.76631461, 13.45218728]),\n",
       " array([13.63695634, 13.38954666]),\n",
       " array([13.51169698, 13.32694132]),\n",
       " array([13.39074783, 13.26452697])]"
      ]
     },
     "execution_count": 108,
     "metadata": {},
     "output_type": "execute_result"
    }
   ],
   "source": [
    "Jvv"
   ]
  },
  {
   "cell_type": "code",
   "execution_count": 47,
   "metadata": {},
   "outputs": [
    {
     "data": {
      "text/plain": [
       "<matplotlib.collections.PathCollection at 0x7f25dde635f8>"
      ]
     },
     "execution_count": 47,
     "metadata": {},
     "output_type": "execute_result"
    },
    {
     "data": {
      "image/png": "[encoded data removed]",
      "text/plain": [
       "<Figure size 432x288 with 1 Axes>"
      ]
     },
     "metadata": {
      "needs_background": "light"
     },
     "output_type": "display_data"
    }
   ],
   "source": [
    "x,y = N2pPES.T\n",
    "plt.scatter(x,y)"
   ]
  },
  {
   "cell_type": "code",
   "execution_count": null,
   "metadata": {},
   "outputs": [],
   "source": []
  }
 ],
 "metadata": {
  "kernelspec": {
   "display_name": "Python 3",
   "language": "python",
   "name": "python3"
  },
  "language_info": {
   "codemirror_mode": {
    "name": "ipython",
    "version": 3
   },
   "file_extension": ".py",
   "mimetype": "text/x-python",
   "name": "python",
   "nbconvert_exporter": "python",
   "pygments_lexer": "ipython3",
   "version": "3.7.2"
  }
 },
 "nbformat": 4,
 "nbformat_minor": 2
}
