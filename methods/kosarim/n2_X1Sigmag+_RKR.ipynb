{
 "cells": [
  {
   "cell_type": "code",
   "execution_count": 1,
   "metadata": {},
   "outputs": [],
   "source": [
    "import numpy as np\n",
    "import scipy.constants as const\n",
    "import scipy.interpolate as interpolate\n",
    "import matplotlib.pyplot as plt\n",
    "import math\n",
    "from scipy.integrate import quad\n",
    "import pandas as pd\n",
    "import config\n",
    "from scipy import optimize"
   ]
  },
  {
   "cell_type": "code",
   "execution_count": 2,
   "metadata": {},
   "outputs": [],
   "source": [
    "userHome = config.userHome()\n",
    "outdir = userHome + \"/projects/cs/data/raw/ext/n2/itikawa/\""
   ]
  },
  {
   "cell_type": "code",
   "execution_count": 3,
   "metadata": {},
   "outputs": [],
   "source": [
    "pi = const.pi\n",
    "e = const.e\n",
    "e0= const.epsilon_0"
   ]
  },
  {
   "cell_type": "code",
   "execution_count": 4,
   "metadata": {},
   "outputs": [],
   "source": [
    "eV_per_J = const.physical_constants[\"joule-electron volt relationship\"][0]\n",
    "cm_per_m = 100.0"
   ]
  },
  {
   "cell_type": "code",
   "execution_count": 5,
   "metadata": {},
   "outputs": [],
   "source": [
    "def Gv(v, we, wexe, weye, weze=0, weae=0):\n",
    "    return we*(v+1/2) - wexe*(v+1/2)**2 + weye*(v+1/2)**3 + weze*(v+1/2)**4 + weae*(v+1/2)**5\n",
    "\n",
    "def Te(v, T0, we, wexe, weye, weze=0, weae=0):\n",
    "    return T0 - we/2 + wexe/4 - weye/8 - weze/16 - weae/32\n",
    "\n",
    "def Tv(v, T0, we, wexe, weye, weze=0, weae=0):\n",
    "    return Te(v, T0, we, wexe, weye, weze, weae) + Gv(v, we, wexe, weye, weze, weae)\n",
    "\n",
    "def Bv(v, Be, ae, ge=0, de=0, ee=0):\n",
    "    return Be - ae*(v+1/2) - ge*(v+1/2)**2 + de*(v+1/2)**3 + ee*(v+1/2)**4\n",
    "\n",
    "def fIntegrand(vp, v, vibConstants):\n",
    "    (T0, we, wexe, weye, weze, weae) = vibConstants\n",
    "    return 1/math.sqrt(Gv(v,we,wexe,weye,weze)-Gv(vp,we,wexe,weye,weze))\n",
    "\n",
    "def gIntegrand(vp, v, vibConstants, rotConstants):\n",
    "    (T0, we, wexe, weye, weze, weae) = vibConstants\n",
    "    (Be, ae, ge, de, ee) = rotConstants\n",
    "    return Bv(v,Be,ae,ge)/math.sqrt(Gv(v,we,wexe,weye,weze)-Gv(vp,we,wexe,weye,weze))"
   ]
  },
  {
   "cell_type": "code",
   "execution_count": 6,
   "metadata": {},
   "outputs": [],
   "source": [
    "statesN2 = [\"N2(X1Sigmag+)\",\"N2(A3Sigmau+)\",\"N2(B3Pig)\",\"N2(W3Deltau)\",\"N2(Bp3Sigmau-)\",\n",
    "            \"N2(ap1Sigmau-)\",\"N2(a1Pig)\",\"N2(w1Deltau)\",\"N2(C3Piu)\",\"N2(E3Sigmag+)\",\"N2(D3Sigmau+)\"]\n",
    "statesN2p = [\"N2+(X2Sigmag+)\",\"N2+(A2Piu)\",\"N2+(B2Sigmau+)\",\"N2+(C2Sigmau+)\"]\n",
    "\n",
    "vibConstantsN2 = [[0.0, 2358.57, 14.324, -2.26E-3, -2.4E-4, 0],\n",
    "                 [49754.8, 1460.48, 13.775, -1.175E-2, 1.41E-4, -7.29E-5],\n",
    "                 [59306.8, 1734.38, 14.558, 1.40E-2, -1.13E-3, 0],\n",
    "                 [59380.2, 1506.53, 12.575, 3.09E-2, -7.1E-4, 0],\n",
    "                 [65851.3, 1516.88, 12.181, 4.19E-2, -7.3E-4, 0],\n",
    "                 [67739.3, 1530.25, 12.075, 4.13E-2, -2.9E-4, 0],\n",
    "                 [68951.2, 1694.21, 13.949, 7.94E-3, 2.9E-4, 0],\n",
    "                 [71698.4, 1559.50, 12.008, 4.54E-2, 0, 0],\n",
    "                 [88977.9, 2047.18, 28.445, 2.0883, -5.350E-1, 0],\n",
    "                 [95774.5, 2218, 16.3, -2.7E-2, -2.6E-3, 0],\n",
    "                 [103570.9, 2207, 16.3, -2.7E-2, -2.6E-3, 0]]\n",
    "\n",
    "vibConstantsN2p = [[125667.5, 2207.37, 16.302, -2.67E-3, -2.61E-3, 3.7E-5],\n",
    "                  [134683.1, 1903.51, 15.029, 2.03E-3, 0, 0],\n",
    "                  [151233.5, 2420.83, 23.851, -0.3587, -6.192E-2, 0],\n",
    "                  [190209.5, 2071.5, 9.29, -0.43, 0, 0]]\n",
    "\n",
    "rotConstantsN2 = [[1.99824, 1.7318E-2, -3.3E-5, 0, 0],\n",
    "                 [1.45499, 1.8385E-2, 1.24E-5, -6.7E-6, 0],\n",
    "                 [1.63802, 1.8302E-2, -8.4E-6, -3.4E-6, 0],\n",
    "                 [1.47021, 1.6997E-2, -1.01E-5, 3.3E-7, 0],\n",
    "                 [1.4731, 1.668E-2, 1.84E-5, -4.5E-7, 0],\n",
    "                 [1.4799, 1.657E-2, 2.41E-5, 0, 0],\n",
    "                 [1.6169, 1.793E-2, -2.93E-5, 0, 0],\n",
    "                 [1.4963, 1.63E-2, 0, 0, 0],\n",
    "                 [1.8247, 1.868E-2, -2.28E-3, 7.33E-4, -1.5E-4],\n",
    "                 [1.9368, 1.90E-2, -1.9E-4, 0, 0],\n",
    "                 [1.9705, 1.90E-2, -1.9E-4, 0, 0]]\n",
    "\n",
    "rotConstantsN2p = [[1.93177, 1.900E-2, -1.91E-5, -5.00E-6, 4.6E-8],\n",
    "                  [1.7442, 1.838E-2, -1.76E-4, 4.4E-6, 0],\n",
    "                  [2.0845, 2.132E-2, -8.5E-4, 0, 0],\n",
    "                  [1.5114, 1.10E-3, -8.2E-4, 0, 0]]"
   ]
  },
  {
   "cell_type": "code",
   "execution_count": 38,
   "metadata": {},
   "outputs": [
    {
     "data": {
      "text/plain": [
       "11"
      ]
     },
     "execution_count": 38,
     "metadata": {},
     "output_type": "execute_result"
    }
   ],
   "source": [
    "math.ceil(22/2)"
   ]
  },
  {
   "cell_type": "code",
   "execution_count": 7,
   "metadata": {},
   "outputs": [],
   "source": [
    "mu=1.16294E-26\n",
    "wavenumber_per_eV = 8065.6"
   ]
  },
  {
   "cell_type": "code",
   "execution_count": 47,
   "metadata": {},
   "outputs": [],
   "source": [
    "def f(v, vibConstants):\n",
    "    if v > 10:\n",
    "        v_split=math.ceil(v/2)\n",
    "        I_lower = quad(fIntegrand,-1/2,v_split,args=(v_split, vibConstants))\n",
    "        I_upper = quad(fIntegrand,v_split,v,args=(v, vibConstants))\n",
    "        I = I_lower + I_upper\n",
    "    else:\n",
    "        I = quad(fIntegrand,-1/2,v,args=(v, vibConstants))\n",
    "    return 1/(2*const.pi*math.sqrt(2*mu*const.speed_of_light/const.Planck)) * I[0] * 1E8\n",
    "\n",
    "def g(v, vibConstants, rotConstants):\n",
    "    if v > 10:\n",
    "        v_split=math.ceil(v/2)\n",
    "        I_lower = quad(gIntegrand,-1/2,v_split,args=(v_split, vibConstants, rotConstants))\n",
    "        I_upper = quad(gIntegrand,v_split,v,args=(v, vibConstants, rotConstants))\n",
    "        I = I_lower + I_upper\n",
    "    else:\n",
    "        I = quad(gIntegrand,-1/2,v,args=(v, vibConstants, rotConstants))\n",
    "    return 2*const.pi*math.sqrt(2*mu*const.speed_of_light/const.Planck) * I[0] * 1E-8"
   ]
  },
  {
   "cell_type": "code",
   "execution_count": 48,
   "metadata": {},
   "outputs": [],
   "source": [
    "def r(v, vibConstants, rotConstants):\n",
    "    fv=f(v, vibConstants)\n",
    "    gv=g(v, vibConstants, rotConstants)\n",
    "    return [math.sqrt(fv**2 + fv/gv)-fv, math.sqrt(fv**2 + fv/gv)+fv]"
   ]
  },
  {
   "cell_type": "code",
   "execution_count": 49,
   "metadata": {},
   "outputs": [],
   "source": [
    "def Jv(vMaxN2, vMaxN2p, stateN2, stateN2p):\n",
    "\n",
    "    N2pPES = []\n",
    "    (T0, we, wexe, weye, weze, weae) = vibConstantsN2p[stateN2p]\n",
    "\n",
    "    for vp in range(vMaxN2p+1):\n",
    "        #print(vp)\n",
    "        rvp=r(vp, vibConstantsN2p[stateN2p], rotConstantsN2p[stateN2p])\n",
    "        #print(rvp)\n",
    "        Tvp=Tv(vp, T0, we, wexe, weye, weze, weae)/wavenumber_per_eV\n",
    "        #print(Tvp)\n",
    "        N2pPES.insert(0, [rvp[0], Tvp])\n",
    "        N2pPES.append([rvp[1], Tvp])\n",
    "        #print(N2pPES[0])\n",
    "    \n",
    "    N2pPES = np.asarray(N2pPES)\n",
    "    \n",
    "    print(N2pPES[:,0])\n",
    "    print(N2pPES[:,1])\n",
    "    \n",
    "    I_N2pPES = interpolate.interp1d(N2pPES[:,0], N2pPES[:,1], kind='quadratic')\n",
    "\n",
    "    N2PES = []\n",
    "    JvArray = np.empty([vMaxN2+1,2])\n",
    "        \n",
    "    (T0, we, wexe, weye, weze, weae) = vibConstantsN2[stateN2]\n",
    "    for v in range(len(JvArray)):\n",
    "        rv=r(v, vibConstantsN2[stateN2], rotConstantsN2[stateN2])\n",
    "        Tvv=Tv(v, T0, we, wexe, weye, weze, weae)/wavenumber_per_eV\n",
    "        N2PES.insert(0, [rv[0], Tvv])\n",
    "        N2PES.append([rv[1], Tvv])\n",
    "        JvArray[v] = I_N2pPES(rv)-Tvv\n",
    "\n",
    "    N2PES = np.asarray(N2PES)\n",
    "        \n",
    "    return (N2PES, N2pPES, JvArray)"
   ]
  },
  {
   "cell_type": "code",
   "execution_count": 50,
   "metadata": {},
   "outputs": [
    {
     "name": "stdout",
     "output_type": "stream",
     "text": [
      "[0.09464242 0.0948794  0.0948794  0.09512692 0.09512692 0.09538829\n",
      " 0.09538829 0.09566701 0.09566701 0.09596683 0.09596683 0.09629188\n",
      " 0.09629188 0.09664689 0.09664689 0.09703733 0.09703733 0.09746979\n",
      " 0.09746979 0.09795243 0.09795243 0.09849567 0.09849567 0.09911334\n",
      " 0.09911334 0.09703733 0.09746979 0.09795243 0.09849567 0.09911334\n",
      " 0.09982474 0.10065831 0.10165953 0.10291009 0.10458906 0.10731515\n",
      " 0.11668413 0.12091824 0.12412512 0.12692408 0.12949484 0.13191982\n",
      " 0.13424531 0.13650061 0.13870596 0.14087628 0.14302312 0.13424531\n",
      " 0.13424531 0.13650061 0.13650061 0.13870596 0.13870596 0.14087628\n",
      " 0.14087628 0.14302312 0.14302312 0.14515593 0.14515593 0.14728267\n",
      " 0.14728267 0.14941041 0.14941041 0.15154556 0.15154556 0.15369417\n",
      " 0.15369417 0.15586213 0.15586213 0.15805529 0.15805529 0.16027963]\n",
      "[22.342583   22.23267925 22.11781112 21.99792641 21.87298357 21.74295121\n",
      " 21.60780747 21.46753956 21.32214314 21.17162178 21.01598644 20.85525491\n",
      " 20.68945122 20.51860515 20.34275164 20.16193024 19.97618459 19.78556183\n",
      " 19.59011207 19.38988785 19.18494357 18.97533494 18.76111844 18.54235078\n",
      " 18.31908832 18.09138653 17.85929945 17.62287916 17.38217515 17.13723387\n",
      " 16.88809812 16.63480649 16.37739285 16.11588579 15.85030804 15.58067596\n",
      " 15.58067596 15.85030804 16.11588579 16.37739285 16.63480649 16.88809812\n",
      " 17.13723387 17.38217515 17.62287916 17.85929945 18.09138653 18.31908832\n",
      " 18.54235078 18.76111844 18.97533494 19.18494357 19.38988785 19.59011207\n",
      " 19.78556183 19.97618459 20.16193024 20.34275164 20.51860515 20.68945122\n",
      " 20.85525491 21.01598644 21.17162178 21.32214314 21.46753956 21.60780747\n",
      " 21.74295121 21.87298357 21.99792641 22.11781112 22.23267925 22.342583  ]\n"
     ]
    },
    {
     "ename": "ValueError",
     "evalue": "Expect x to be a 1-D sorted array_like.",
     "output_type": "error",
     "traceback": [
      "\u001b[0;31m---------------------------------------------------------------------------\u001b[0m",
      "\u001b[0;31mValueError\u001b[0m                                Traceback (most recent call last)",
      "\u001b[0;32m<ipython-input-50-c7fa092c4d97>\u001b[0m in \u001b[0;36m<module>\u001b[0;34m\u001b[0m\n\u001b[0;32m----> 1\u001b[0;31m \u001b[0;34m(\u001b[0m\u001b[0mN2PES\u001b[0m\u001b[0;34m,\u001b[0m \u001b[0mN2pPES\u001b[0m\u001b[0;34m,\u001b[0m \u001b[0mJvv\u001b[0m\u001b[0;34m)\u001b[0m \u001b[0;34m=\u001b[0m \u001b[0mJv\u001b[0m\u001b[0;34m(\u001b[0m\u001b[0;36m40\u001b[0m\u001b[0;34m,\u001b[0m\u001b[0;36m35\u001b[0m\u001b[0;34m,\u001b[0m\u001b[0;36m0\u001b[0m\u001b[0;34m,\u001b[0m\u001b[0;36m0\u001b[0m\u001b[0;34m)\u001b[0m\u001b[0;34m\u001b[0m\u001b[0;34m\u001b[0m\u001b[0m\n\u001b[0m",
      "\u001b[0;32m<ipython-input-49-64f4ba29d430>\u001b[0m in \u001b[0;36mJv\u001b[0;34m(vMaxN2, vMaxN2p, stateN2, stateN2p)\u001b[0m\n\u001b[1;32m     19\u001b[0m     \u001b[0mprint\u001b[0m\u001b[0;34m(\u001b[0m\u001b[0mN2pPES\u001b[0m\u001b[0;34m[\u001b[0m\u001b[0;34m:\u001b[0m\u001b[0;34m,\u001b[0m\u001b[0;36m1\u001b[0m\u001b[0;34m]\u001b[0m\u001b[0;34m)\u001b[0m\u001b[0;34m\u001b[0m\u001b[0;34m\u001b[0m\u001b[0m\n\u001b[1;32m     20\u001b[0m \u001b[0;34m\u001b[0m\u001b[0m\n\u001b[0;32m---> 21\u001b[0;31m     \u001b[0mI_N2pPES\u001b[0m \u001b[0;34m=\u001b[0m \u001b[0minterpolate\u001b[0m\u001b[0;34m.\u001b[0m\u001b[0minterp1d\u001b[0m\u001b[0;34m(\u001b[0m\u001b[0mN2pPES\u001b[0m\u001b[0;34m[\u001b[0m\u001b[0;34m:\u001b[0m\u001b[0;34m,\u001b[0m\u001b[0;36m0\u001b[0m\u001b[0;34m]\u001b[0m\u001b[0;34m,\u001b[0m \u001b[0mN2pPES\u001b[0m\u001b[0;34m[\u001b[0m\u001b[0;34m:\u001b[0m\u001b[0;34m,\u001b[0m\u001b[0;36m1\u001b[0m\u001b[0;34m]\u001b[0m\u001b[0;34m,\u001b[0m \u001b[0mkind\u001b[0m\u001b[0;34m=\u001b[0m\u001b[0;34m'quadratic'\u001b[0m\u001b[0;34m)\u001b[0m\u001b[0;34m\u001b[0m\u001b[0;34m\u001b[0m\u001b[0m\n\u001b[0m\u001b[1;32m     22\u001b[0m \u001b[0;34m\u001b[0m\u001b[0m\n\u001b[1;32m     23\u001b[0m     \u001b[0mN2PES\u001b[0m \u001b[0;34m=\u001b[0m \u001b[0;34m[\u001b[0m\u001b[0;34m]\u001b[0m\u001b[0;34m\u001b[0m\u001b[0;34m\u001b[0m\u001b[0m\n",
      "\u001b[0;32m~/anaconda3/envs/nepc/lib/python3.7/site-packages/scipy/interpolate/interpolate.py\u001b[0m in \u001b[0;36m__init__\u001b[0;34m(***failed resolving arguments***)\u001b[0m\n\u001b[1;32m    533\u001b[0m \u001b[0;34m\u001b[0m\u001b[0m\n\u001b[1;32m    534\u001b[0m             self._spline = make_interp_spline(xx, yy, k=order,\n\u001b[0;32m--> 535\u001b[0;31m                                               check_finite=False)\n\u001b[0m\u001b[1;32m    536\u001b[0m             \u001b[0;32mif\u001b[0m \u001b[0mrewrite_nan\u001b[0m\u001b[0;34m:\u001b[0m\u001b[0;34m\u001b[0m\u001b[0;34m\u001b[0m\u001b[0m\n\u001b[1;32m    537\u001b[0m                 \u001b[0mself\u001b[0m\u001b[0;34m.\u001b[0m\u001b[0m_call\u001b[0m \u001b[0;34m=\u001b[0m \u001b[0mself\u001b[0m\u001b[0;34m.\u001b[0m\u001b[0m__class__\u001b[0m\u001b[0;34m.\u001b[0m\u001b[0m_call_nan_spline\u001b[0m\u001b[0;34m\u001b[0m\u001b[0;34m\u001b[0m\u001b[0m\n",
      "\u001b[0;32m~/anaconda3/envs/nepc/lib/python3.7/site-packages/scipy/interpolate/_bsplines.py\u001b[0m in \u001b[0;36mmake_interp_spline\u001b[0;34m(x, y, k, t, bc_type, axis, check_finite)\u001b[0m\n\u001b[1;32m    797\u001b[0m \u001b[0;34m\u001b[0m\u001b[0m\n\u001b[1;32m    798\u001b[0m     \u001b[0;32mif\u001b[0m \u001b[0mx\u001b[0m\u001b[0;34m.\u001b[0m\u001b[0mndim\u001b[0m \u001b[0;34m!=\u001b[0m \u001b[0;36m1\u001b[0m \u001b[0;32mor\u001b[0m \u001b[0mnp\u001b[0m\u001b[0;34m.\u001b[0m\u001b[0many\u001b[0m\u001b[0;34m(\u001b[0m\u001b[0mx\u001b[0m\u001b[0;34m[\u001b[0m\u001b[0;36m1\u001b[0m\u001b[0;34m:\u001b[0m\u001b[0;34m]\u001b[0m \u001b[0;34m<=\u001b[0m \u001b[0mx\u001b[0m\u001b[0;34m[\u001b[0m\u001b[0;34m:\u001b[0m\u001b[0;34m-\u001b[0m\u001b[0;36m1\u001b[0m\u001b[0;34m]\u001b[0m\u001b[0;34m)\u001b[0m\u001b[0;34m:\u001b[0m\u001b[0;34m\u001b[0m\u001b[0;34m\u001b[0m\u001b[0m\n\u001b[0;32m--> 799\u001b[0;31m         \u001b[0;32mraise\u001b[0m \u001b[0mValueError\u001b[0m\u001b[0;34m(\u001b[0m\u001b[0;34m\"Expect x to be a 1-D sorted array_like.\"\u001b[0m\u001b[0;34m)\u001b[0m\u001b[0;34m\u001b[0m\u001b[0;34m\u001b[0m\u001b[0m\n\u001b[0m\u001b[1;32m    800\u001b[0m     \u001b[0;32mif\u001b[0m \u001b[0mk\u001b[0m \u001b[0;34m<\u001b[0m \u001b[0;36m0\u001b[0m\u001b[0;34m:\u001b[0m\u001b[0;34m\u001b[0m\u001b[0;34m\u001b[0m\u001b[0m\n\u001b[1;32m    801\u001b[0m         \u001b[0;32mraise\u001b[0m \u001b[0mValueError\u001b[0m\u001b[0;34m(\u001b[0m\u001b[0;34m\"Expect non-negative k.\"\u001b[0m\u001b[0;34m)\u001b[0m\u001b[0;34m\u001b[0m\u001b[0;34m\u001b[0m\u001b[0m\n",
      "\u001b[0;31mValueError\u001b[0m: Expect x to be a 1-D sorted array_like."
     ]
    }
   ],
   "source": [
    "(N2PES, N2pPES, Jvv) = Jv(40,35,0,0)"
   ]
  },
  {
   "cell_type": "code",
   "execution_count": null,
   "metadata": {},
   "outputs": [],
   "source": [
    "fig = plt.figure()\n",
    "ax1 = fig.add_subplot(111)\n",
    "\n",
    "x = list(range(len(Jvv)))\n",
    "y = Jvv[:,0]\n",
    "ax1.scatter(x, y, s=10, c='b', marker=\"s\", label='Jvv[:,0]')\n",
    "y = Jvv[:,1]\n",
    "ax1.scatter(x,y, s=10, c='r', marker=\"o\", label='Jvv[:,1]')\n",
    "plt.legend(loc='upper right');\n",
    "plt.show()"
   ]
  },
  {
   "cell_type": "code",
   "execution_count": null,
   "metadata": {},
   "outputs": [],
   "source": [
    "fig = plt.figure()\n",
    "ax1 = fig.add_subplot(111)\n",
    "\n",
    "x,y = N2pPES.T\n",
    "ax1.scatter(x, y, s=10, c='b', marker=\"s\", label='N2pPES')\n",
    "x,y = N2PES.T\n",
    "ax1.scatter(x,y, s=10, c='r', marker=\"o\", label='N2PES')\n",
    "plt.legend(loc='lower right');\n",
    "plt.show()"
   ]
  },
  {
   "cell_type": "code",
   "execution_count": null,
   "metadata": {},
   "outputs": [],
   "source": [
    "def f_eqn15(x: float):\n",
    "    \"Equation 15 of Kosarim, et al., for all electrons.\"\n",
    "    \"return (6*(x-1))/(pi*(x+1.5)*(x+9))\"\n",
    "    return (6*(x-1))/(pi*(x+10)*(x+2))"
   ]
  },
  {
   "cell_type": "code",
   "execution_count": null,
   "metadata": {},
   "outputs": [],
   "source": [
    "def sigma_ion(f, n: int, E: float, J_v_vp: float, J_v_vpp: float):\n",
    "    \"\"\"Compute cross-sections (10^-17 cm^2) of ionization transitions for \n",
    "    Tables 2-4 of Kosarim, et al.\"\"\"\n",
    "    return (cm_per_m**2 * eV_per_J**2)/(1.0E-17)  * (1./(4.*pi*e0)**2) * \\\n",
    "        ((n*e**4)/2.) * ( f(E/J_v_vp)/(J_v_vp**2) + f(E/J_v_vpp)/(J_v_vpp**2) )"
   ]
  },
  {
   "cell_type": "code",
   "execution_count": null,
   "metadata": {},
   "outputs": [],
   "source": [
    "datafiles = [outdir+\"ionization_N2+_itikawa2006_15\",\n",
    "             outdir+\"ionization_N2+_itikawa2006_16\",\n",
    "             outdir+\"ionization_N2+_itikawa2006_17\"]\n",
    "sigma_total=[]\n",
    "\n",
    "for datafile in datafiles:\n",
    "    df = pd.read_csv(datafile, sep=\"\\t\")   # read .tsv file into memory\n",
    "    sigma_total.append(df.values[:,[1,2]])  # access the numpy array containing values\n",
    "\n",
    "sigma_total=np.concatenate((sigma_total[0],\n",
    "                            sigma_total[1],\n",
    "                            sigma_total[2]), axis=0)"
   ]
  },
  {
   "cell_type": "code",
   "execution_count": null,
   "metadata": {},
   "outputs": [],
   "source": [
    "N2_ionization = 15.581 # best value of the ionization energy of N2"
   ]
  },
  {
   "cell_type": "code",
   "execution_count": null,
   "metadata": {},
   "outputs": [],
   "source": [
    "sigma_total_reduced = np.column_stack((sigma_total[:,0]/N2_ionization, \n",
    "                                       (N2_ionization**2)/( (cm_per_m**2 * eV_per_J**2)/(1.0E-17)  * (1./(4.*pi*e0)**2) * ((2*e**4)) ) * sigma_total[:,1]))"
   ]
  },
  {
   "cell_type": "code",
   "execution_count": null,
   "metadata": {},
   "outputs": [],
   "source": [
    "sigma_total_reduced"
   ]
  },
  {
   "cell_type": "code",
   "execution_count": null,
   "metadata": {},
   "outputs": [],
   "source": [
    "# Fit the first set\n",
    "fitfunc = lambda p, x: p[0]*(x-p[1])/(pi*(x+p[2])*(x+p[3])) # Target function\n",
    "errfunc = lambda p, x, y: fitfunc(p, x) - y # Distance to the target function\n",
    "p0 = [6.0, 1.0, 10.0, 2.0] # Initial guess for the parameters\n",
    "p1, success = optimize.leastsq(errfunc, p0[:], args=(sigma_total_reduced[:,0], sigma_total_reduced[:,1]))"
   ]
  },
  {
   "cell_type": "code",
   "execution_count": null,
   "metadata": {},
   "outputs": [],
   "source": [
    "p1"
   ]
  },
  {
   "cell_type": "code",
   "execution_count": null,
   "metadata": {},
   "outputs": [],
   "source": [
    "success"
   ]
  },
  {
   "cell_type": "code",
   "execution_count": null,
   "metadata": {},
   "outputs": [],
   "source": [
    "def f_eqn_fit(x: float):\n",
    "    \"Fit total ionization data\"\n",
    "    return (p1[0]*(x-p1[1]))/(pi*(x+p1[2])*(x+p1[3]))"
   ]
  },
  {
   "cell_type": "code",
   "execution_count": null,
   "metadata": {},
   "outputs": [],
   "source": [
    "w = 10\n",
    "h = 6\n",
    "d = 70\n",
    "plt.figure(figsize=(w, h), dpi=d)\n",
    "\n",
    "x=sigma_total_reduced[:,0]\n",
    "y=sigma_total_reduced[:,1]\n",
    "\n",
    "x = np.linspace(min(sigma_total_reduced[:,0]), max(sigma_total_reduced[:,0]), 100)\n",
    "plt.plot(sigma_total_reduced[:,0], sigma_total_reduced[:,1], \"ro\", x, fitfunc(p1, x), \"r-\") # Plot of the data and the fit\n",
    "\n",
    "# Legend the plot\n",
    "plt.title(\"Ionization reduced cross-section for N$_2$\")\n",
    "plt.xlabel(\"E/J\")\n",
    "plt.ylabel(\"f(E/J)\")\n",
    "plt.legend(('$\\sigma$', 'f(E/J)'))\n",
    "\n",
    "ax = plt.axes()\n",
    "\n",
    "plt.show()"
   ]
  },
  {
   "cell_type": "code",
   "execution_count": null,
   "metadata": {},
   "outputs": [],
   "source": [
    "vMat=np.repeat(np.array([np.arange(len(Jvv))]),len(Jvv),axis=0).T\n",
    "EMat=np.repeat(np.array([np.logspace(1.3, 2.3, num=len(Jvv))]),len(Jvv),axis=0)\n",
    "sigma = np.empty([len(Jvv), len(EMat[0])])\n",
    "for v in vMat[:,0]:\n",
    "    sigma[v] = sigma_ion(f_eqn_fit, 2, EMat[0], Jvv[v,0], Jvv[v,1])\n"
   ]
  },
  {
   "cell_type": "code",
   "execution_count": null,
   "metadata": {},
   "outputs": [],
   "source": [
    "vMat[:,0]"
   ]
  },
  {
   "cell_type": "code",
   "execution_count": null,
   "metadata": {},
   "outputs": [],
   "source": [
    "EMat[0]"
   ]
  },
  {
   "cell_type": "code",
   "execution_count": null,
   "metadata": {
    "scrolled": true
   },
   "outputs": [],
   "source": [
    "sigma[0]"
   ]
  },
  {
   "cell_type": "code",
   "execution_count": null,
   "metadata": {
    "scrolled": true
   },
   "outputs": [],
   "source": [
    "sigma[40]"
   ]
  },
  {
   "cell_type": "code",
   "execution_count": null,
   "metadata": {},
   "outputs": [],
   "source": [
    "from mpl_toolkits.mplot3d import axes3d\n",
    "from matplotlib import cm\n",
    "\n",
    "fig = plt.figure()\n",
    "ax = fig.gca(projection='3d')\n",
    "X=EMat\n",
    "Y=vMat\n",
    "Z=sigma\n",
    "\n",
    "# Plot the 3D surface\n",
    "ax.plot_surface(X, Y, Z, rstride=8, cstride=8, alpha=0.3)\n",
    "\n",
    "# Plot projections of the contours for each dimension.  By choosing offsets\n",
    "# that match the appropriate axes limits, the projected contours will sit on\n",
    "# the 'walls' of the graph\n",
    "cset = ax.contour(X, Y, Z, zdir='z', offset=0.2, cmap=cm.coolwarm)\n",
    "cset = ax.contour(X, Y, Z, zdir='x', offset=min(X[0]), cmap=cm.coolwarm)\n",
    "cset = ax.contour(X, Y, Z, zdir='y', offset=max(Y[:,0]), cmap=cm.coolwarm)\n",
    "\n",
    "ax.set_xlim(min(X[0]),max(X[0]))\n",
    "ax.set_ylim(min(Y[:,0]),max(Y[:,0]))\n",
    "ax.set_zlim(0.2,3.0)\n",
    "\n",
    "ax.set_xlabel('E')\n",
    "ax.set_ylabel('v')\n",
    "ax.set_zlabel('sigma')\n",
    "\n",
    "plt.show()"
   ]
  },
  {
   "cell_type": "code",
   "execution_count": null,
   "metadata": {},
   "outputs": [],
   "source": [
    "fig = plt.figure()\n",
    "ax1 = fig.add_subplot(111)\n",
    "\n",
    "x=EMat[0]\n",
    "y=sigma[0]\n",
    "ax1.scatter(x, y, s=10, c='b', marker=\"s\", label='v=0')\n",
    "y=sigma[20]\n",
    "ax1.scatter(x,y, s=10, c='r', marker=\"o\", label='v=20')\n",
    "y=sigma[40]\n",
    "ax1.scatter(x,y, s=10, c='g', marker=\"d\", label='v=40')\n",
    "plt.legend(loc='lower right');\n",
    "plt.show()"
   ]
  },
  {
   "cell_type": "code",
   "execution_count": null,
   "metadata": {},
   "outputs": [],
   "source": [
    "fig = plt.figure()\n",
    "ax1 = fig.add_subplot(111)\n",
    "\n",
    "x=vMat[:,0]\n",
    "y=sigma[:,0]\n",
    "ax1.scatter(x, y, s=10, c='b', marker=\"s\", label='E='+str(round(EMat[0,0])))\n",
    "y=sigma[:,10]\n",
    "ax1.scatter(x,y, s=10, c='r', marker=\"o\", label='E='+str(round(EMat[0,10])))\n",
    "y=sigma[:,20]\n",
    "ax1.scatter(x,y, s=10, c='g', marker=\"d\", label='E='+str(round(EMat[0,20])))\n",
    "y=sigma[:,40]\n",
    "ax1.scatter(x,y, s=10, c='black', marker=\"+\", label='E='+str(round(EMat[0,40])))\n",
    "plt.legend(loc='upper left');\n",
    "plt.show()"
   ]
  },
  {
   "cell_type": "code",
   "execution_count": null,
   "metadata": {},
   "outputs": [],
   "source": []
  }
 ],
 "metadata": {
  "kernelspec": {
   "display_name": "Python 3",
   "language": "python",
   "name": "python3"
  },
  "language_info": {
   "codemirror_mode": {
    "name": "ipython",
    "version": 3
   },
   "file_extension": ".py",
   "mimetype": "text/x-python",
   "name": "python",
   "nbconvert_exporter": "python",
   "pygments_lexer": "ipython3",
   "version": "3.7.2"
  }
 },
 "nbformat": 4,
 "nbformat_minor": 2
}
