{
 "cells": [
  {
   "cell_type": "code",
   "execution_count": 4,
   "metadata": {},
   "outputs": [],
   "source": [
    "import scipy.constants as const\n",
    "import csv\n",
    "import numpy as np\n",
    "import pandas as pd\n",
    "from sklearn.metrics import mean_squared_error as mse\n",
    "from math import sqrt\n",
    "import os\n",
    "import config"
   ]
  },
  {
   "cell_type": "code",
   "execution_count": 5,
   "metadata": {},
   "outputs": [],
   "source": [
    "userHome = config.userHome()\n",
    "os.chdir(userHome + '/projects/cs/methods/kosarim/')"
   ]
  },
  {
   "cell_type": "code",
   "execution_count": 6,
   "metadata": {},
   "outputs": [],
   "source": [
    "pi = const.pi\n",
    "e = const.e\n",
    "e0= const.epsilon_0"
   ]
  },
  {
   "cell_type": "code",
   "execution_count": 7,
   "metadata": {},
   "outputs": [],
   "source": [
    "eV_per_J = const.physical_constants[\"joule-electron volt relationship\"][0]\n",
    "cm_per_m = 100.0"
   ]
  },
  {
   "cell_type": "code",
   "execution_count": 8,
   "metadata": {},
   "outputs": [
    {
     "data": {
      "text/plain": [
       "array([[ 0.  , 15.8 , 15.4 ,  0.82,  2.1 ,  3.4 , 20.  , 30.  , 50.  ],\n",
       "       [ 4.  , 15.8 , 15.1 ,  0.87,  2.2 ,  3.5 , 20.  , 30.  , 50.  ],\n",
       "       [ 8.  , 15.9 , 14.9 ,  0.92,  2.2 ,  3.6 , 20.  , 30.  , 50.  ],\n",
       "       [12.  , 15.9 , 14.7 ,  0.92,  2.2 ,  3.6 , 20.  , 30.  , 50.  ],\n",
       "       [16.  , 16.  , 14.6 ,  0.92,  2.3 ,  3.6 , 20.  , 30.  , 50.  ],\n",
       "       [20.  , 16.1 , 14.4 ,  0.97,  2.3 ,  3.7 , 20.  , 30.  , 50.  ],\n",
       "       [24.  , 16.1 , 14.2 ,  1.  ,  2.4 ,  3.8 , 20.  , 30.  , 50.  ],\n",
       "       [28.  , 16.2 , 14.1 ,  1.  ,  2.4 ,  3.8 , 20.  , 30.  , 50.  ],\n",
       "       [32.  , 16.2 , 13.9 ,  1.1 ,  2.5 ,  3.9 , 20.  , 30.  , 50.  ],\n",
       "       [36.  , 16.2 , 13.8 ,  1.1 ,  2.5 ,  3.9 , 20.  , 30.  , 50.  ],\n",
       "       [40.  , 16.3 , 13.7 ,  1.1 ,  2.5 ,  3.9 , 20.  , 30.  , 50.  ]])"
      ]
     },
     "execution_count": 8,
     "metadata": {},
     "output_type": "execute_result"
    }
   ],
   "source": [
    "table2_ref = np.loadtxt(open(\"kosarim_table_2.csv\", \"rb\"), delimiter=\" \", skiprows=1)\n",
    "table2_ref"
   ]
  },
  {
   "cell_type": "code",
   "execution_count": 9,
   "metadata": {},
   "outputs": [
    {
     "data": {
      "text/plain": [
       "array([[ 0.  , 17.8 , 16.8 ,  0.79,  2.9 ,  5.2 , 20.  , 30.  , 50.  ],\n",
       "       [ 4.  , 19.  , 15.7 ,  0.9 ,  3.1 ,  5.3 , 20.  , 30.  , 50.  ],\n",
       "       [ 8.  , 20.  , 15.2 ,  0.95,  3.2 ,  5.4 , 20.  , 30.  , 50.  ],\n",
       "       [12.  , 20.6 , 14.8 ,  1.  ,  3.3 ,  5.5 , 20.  , 30.  , 50.  ],\n",
       "       [16.  , 20.4 , 14.5 ,  1.2 ,  3.5 ,  5.8 , 20.  , 30.  , 50.  ],\n",
       "       [20.  , 20.  , 14.2 ,  1.4 ,  3.7 ,  6.1 , 20.  , 30.  , 50.  ],\n",
       "       [24.  , 19.6 , 14.1 ,  1.5 ,  3.9 ,  6.4 , 20.  , 30.  , 50.  ],\n",
       "       [28.  , 19.2 , 14.  ,  1.6 ,  4.1 ,  6.6 , 20.  , 30.  , 50.  ],\n",
       "       [32.  , 18.8 , 13.9 ,  1.8 ,  4.3 ,  6.8 , 20.  , 30.  , 50.  ],\n",
       "       [36.  , 18.4 , 13.8 ,  1.8 ,  4.4 ,  6.9 , 20.  , 30.  , 50.  ],\n",
       "       [40.  , 18.  , 13.7 ,  1.9 ,  4.5 ,  7.3 , 20.  , 30.  , 50.  ]])"
      ]
     },
     "execution_count": 9,
     "metadata": {},
     "output_type": "execute_result"
    }
   ],
   "source": [
    "table3_ref = np.loadtxt(open(\"kosarim_table_3.csv\", \"rb\"), delimiter=\" \", skiprows=1)\n",
    "table3_ref"
   ]
  },
  {
   "cell_type": "code",
   "execution_count": 10,
   "metadata": {},
   "outputs": [
    {
     "data": {
      "text/plain": [
       "array([[ 0.  , 18.7 , 19.1 ,  0.13,  1.  ,  2.  , 20.  , 30.  , 50.  ],\n",
       "       [ 4.  , 18.5 , 18.8 ,  0.16,  1.1 ,  2.1 , 20.  , 30.  , 50.  ],\n",
       "       [ 8.  , 18.3 , 18.4 ,  0.2 ,  1.2 ,  2.2 , 20.  , 30.  , 50.  ],\n",
       "       [12.  , 18.1 , 17.9 ,  0.26,  1.3 ,  2.3 , 20.  , 30.  , 50.  ],\n",
       "       [16.  , 17.9 , 17.4 ,  0.32,  1.4 ,  2.5 , 20.  , 30.  , 50.  ],\n",
       "       [20.  , 17.7 , 16.9 ,  0.39,  1.5 ,  2.6 , 20.  , 30.  , 50.  ],\n",
       "       [24.  , 17.5 , 16.4 ,  0.47,  1.6 ,  2.8 , 20.  , 30.  , 50.  ],\n",
       "       [28.  , 17.1 , 15.9 ,  0.56,  1.7 ,  2.9 , 20.  , 30.  , 50.  ],\n",
       "       [32.  , 16.9 , 15.4 ,  0.65,  1.9 ,  3.1 , 20.  , 30.  , 50.  ],\n",
       "       [36.  , 16.7 , 15.  ,  0.75,  2.  ,  3.3 , 20.  , 30.  , 50.  ],\n",
       "       [40.  , 16.5 , 14.7 ,  0.83,  2.1 ,  3.4 , 20.  , 30.  , 50.  ]])"
      ]
     },
     "execution_count": 10,
     "metadata": {},
     "output_type": "execute_result"
    }
   ],
   "source": [
    "table4_ref = np.loadtxt(open(\"kosarim_table_4.csv\", \"rb\"), delimiter=\" \", skiprows=1)\n",
    "table4_ref"
   ]
  },
  {
   "cell_type": "code",
   "execution_count": 11,
   "metadata": {},
   "outputs": [],
   "source": [
    "\"Note this equation is not used here.\"\n",
    "def f_eqn6(x: float):\n",
    "    \"Equation 6 of Kosarim, et al., for s electrons.\"\n",
    "    return (10*(x-1))/(pi*x*(x+8))"
   ]
  },
  {
   "cell_type": "code",
   "execution_count": 32,
   "metadata": {},
   "outputs": [],
   "source": [
    "\"Note this equation is not used here.\"\n",
    "def f_eqn7(x: float):\n",
    "    \"Equation 7 of Kosarim, et al., for p electrons.\"\n",
    "    return (10*(x-1))/(pi*(x+1.5)*(x+9))"
   ]
  },
  {
   "cell_type": "code",
   "execution_count": 33,
   "metadata": {},
   "outputs": [],
   "source": [
    "def f_eqn15(x: float):\n",
    "    \"Equation 15 of Kosarim, et al., for all electrons.\"\n",
    "    \"return (6*(x-1))/(pi*(x+1.5)*(x+9))\"\n",
    "    return (6*(x-1))/(pi*(x+10)*(x+2))"
   ]
  },
  {
   "cell_type": "code",
   "execution_count": 34,
   "metadata": {},
   "outputs": [],
   "source": [
    "def sigma_ion(f, n: int, E: float, J_v_vp: float, J_v_vpp: float):\n",
    "    \"\"\"Compute cross-sections (10^-17 cm^2) of ionization transitions for Tables 2-4 of Kosarim, et al.\"\"\"\n",
    "    return (cm_per_m**2 * eV_per_J**2)/(1.0E-17)  * (1./(4.*pi*e0)**2) * \\\n",
    "        ((n*e**4)/2.) * ( f(E/J_v_vp)/(J_v_vp**2) + f(E/J_v_vpp)/(J_v_vpp**2) )"
   ]
  },
  {
   "cell_type": "code",
   "execution_count": 35,
   "metadata": {},
   "outputs": [],
   "source": [
    "def calculate_kosarim_table_sigmas_unscaled(table_ref, f_eqn, n):\n",
    "    sigmas = np.ones((len(table_ref),3))\n",
    "    \n",
    "    for i in range(len(table_ref)):\n",
    "        for j in range(3):\n",
    "            sigmas[i,j] = sigma_ion(f=f_eqn, n=n, E=table_ref[i,j+6], J_v_vp=table_ref[i,1], J_v_vpp=table_ref[i,2])\n",
    "                \n",
    "    return sigmas"
   ]
  },
  {
   "cell_type": "code",
   "execution_count": 36,
   "metadata": {},
   "outputs": [],
   "source": [
    "sigmas_X=calculate_kosarim_table_sigmas_unscaled(table2_ref, f_eqn15, 2)\n",
    "sigmas_A=calculate_kosarim_table_sigmas_unscaled(table3_ref, f_eqn15, 4)\n",
    "sigmas_B=calculate_kosarim_table_sigmas_unscaled(table4_ref, f_eqn15, 2)"
   ]
  },
  {
   "cell_type": "code",
   "execution_count": 37,
   "metadata": {},
   "outputs": [],
   "source": [
    "sigma_tot = np.array([1.74, 6.10, 10.90])"
   ]
  },
  {
   "cell_type": "code",
   "execution_count": 38,
   "metadata": {},
   "outputs": [],
   "source": [
    "N_20eV = 1.74/(sigmas_X[0,0]+sigmas_A[0,0]+sigmas_B[0,0])\n",
    "N_30eV = 6.10/(sigmas_X[0,1]+sigmas_A[0,1]+sigmas_B[0,1])\n",
    "N_50eV = 10.9/(sigmas_X[0,2]+sigmas_A[0,2]+sigmas_B[0,2])"
   ]
  },
  {
   "cell_type": "code",
   "execution_count": 55,
   "metadata": {},
   "outputs": [],
   "source": [
    "np.set_printoptions(precision=2)"
   ]
  },
  {
   "cell_type": "code",
   "execution_count": 56,
   "metadata": {},
   "outputs": [
    {
     "data": {
      "text/plain": [
       "array([[0.82, 2.12, 3.49],\n",
       "       [0.88, 2.2 , 3.59],\n",
       "       [0.9 , 2.23, 3.63],\n",
       "       [0.94, 2.29, 3.69],\n",
       "       [0.94, 2.29, 3.7 ],\n",
       "       [0.97, 2.33, 3.75],\n",
       "       [1.02, 2.4 , 3.83],\n",
       "       [1.03, 2.41, 3.84],\n",
       "       [1.08, 2.48, 3.92],\n",
       "       [1.11, 2.51, 3.96],\n",
       "       [1.12, 2.53, 3.98]])"
      ]
     },
     "execution_count": 56,
     "metadata": {},
     "output_type": "execute_result"
    }
   ],
   "source": [
    "sigmas_X_scaled = np.column_stack((N_20eV*sigmas_X[...,0], N_30eV*sigmas_X[...,1], N_50eV*sigmas_X[...,2]))\n",
    "sigmas_X_scaled"
   ]
  },
  {
   "cell_type": "code",
   "execution_count": 57,
   "metadata": {},
   "outputs": [
    {
     "data": {
      "text/plain": [
       "array([[0.79, 2.94, 5.33],\n",
       "       [0.9 , 3.08, 5.48],\n",
       "       [0.96, 3.13, 5.5 ],\n",
       "       [1.05, 3.24, 5.62],\n",
       "       [1.19, 3.45, 5.88],\n",
       "       [1.37, 3.71, 6.2 ],\n",
       "       [1.46, 3.85, 6.39],\n",
       "       [1.55, 4.  , 6.58],\n",
       "       [1.65, 4.16, 6.79],\n",
       "       [1.76, 4.32, 7.  ],\n",
       "       [1.88, 4.5 , 7.23]])"
      ]
     },
     "execution_count": 57,
     "metadata": {},
     "output_type": "execute_result"
    }
   ],
   "source": [
    "sigmas_A_scaled = np.column_stack((N_20eV*sigmas_A[...,0], N_30eV*sigmas_A[...,1], N_50eV*sigmas_A[...,2]))\n",
    "sigmas_A_scaled"
   ]
  },
  {
   "cell_type": "code",
   "execution_count": 58,
   "metadata": {},
   "outputs": [
    {
     "data": {
      "text/plain": [
       "array([[0.13, 1.03, 2.08],\n",
       "       [0.16, 1.09, 2.16],\n",
       "       [0.2 , 1.17, 2.26],\n",
       "       [0.26, 1.26, 2.38],\n",
       "       [0.32, 1.36, 2.52],\n",
       "       [0.39, 1.47, 2.66],\n",
       "       [0.47, 1.59, 2.82],\n",
       "       [0.58, 1.76, 3.03],\n",
       "       [0.68, 1.91, 3.22],\n",
       "       [0.77, 2.04, 3.39],\n",
       "       [0.86, 2.16, 3.54]])"
      ]
     },
     "execution_count": 58,
     "metadata": {},
     "output_type": "execute_result"
    }
   ],
   "source": [
    "sigmas_B_scaled = np.column_stack((N_20eV*sigmas_B[...,0], N_30eV*sigmas_B[...,1], N_50eV*sigmas_B[...,2]))\n",
    "sigmas_B_scaled"
   ]
  },
  {
   "cell_type": "code",
   "execution_count": 43,
   "metadata": {},
   "outputs": [
    {
     "name": "stdout",
     "output_type": "stream",
     "text": [
      "sigmas_X_scaled RMSE: 0.0453\n"
     ]
    }
   ],
   "source": [
    "print('sigmas_X_scaled RMSE: {:3.4f}'.format(sqrt(mse(sigmas_X_scaled,table2_ref[...,3:6]))))"
   ]
  },
  {
   "cell_type": "code",
   "execution_count": 44,
   "metadata": {},
   "outputs": [
    {
     "name": "stdout",
     "output_type": "stream",
     "text": [
      "sigmas_A_scaled RMSE: 0.0758\n"
     ]
    }
   ],
   "source": [
    "print('sigmas_A_scaled RMSE: {:3.4f}'.format(sqrt(mse(sigmas_A_scaled,table3_ref[...,3:6]))))"
   ]
  },
  {
   "cell_type": "code",
   "execution_count": 45,
   "metadata": {},
   "outputs": [
    {
     "name": "stdout",
     "output_type": "stream",
     "text": [
      "sigmas_B_scaled RMSE: 0.0554\n"
     ]
    }
   ],
   "source": [
    "print('sigmas_B_scaled RMSE: {:3.4f}'.format(sqrt(mse(sigmas_B_scaled,table4_ref[...,3:6]))))"
   ]
  },
  {
   "cell_type": "code",
   "execution_count": 46,
   "metadata": {},
   "outputs": [
    {
     "data": {
      "text/plain": [
       "array([[ 0. ,  9.6, 11.6,  1.4,  3.1,  4.2, 15. , 25. , 40. ],\n",
       "       [ 4. ,  8.8, 12. ,  1.7,  3.5,  4.6, 15. , 25. , 40. ],\n",
       "       [ 8. ,  8.2, 12.4,  2.1,  4. ,  5.1, 15. , 25. , 40. ],\n",
       "       [12. ,  7.6, 12.8,  2.6,  4.5,  5.6, 15. , 25. , 40. ],\n",
       "       [16. ,  7.1, 13.2,  3. ,  5.1,  6.2, 15. , 25. , 40. ],\n",
       "       [20. ,  6.8, 13.6,  3.4,  5.5,  6.6, 15. , 25. , 40. ],\n",
       "       [24. ,  6.6, 14. ,  3.7,  5.8,  6.8, 15. , 25. , 40. ]])"
      ]
     },
     "execution_count": 46,
     "metadata": {},
     "output_type": "execute_result"
    }
   ],
   "source": [
    "table5_ref = np.loadtxt(open(\"kosarim_table_5.csv\", \"rb\"), delimiter=\" \", skiprows=1)\n",
    "table5_ref"
   ]
  },
  {
   "cell_type": "code",
   "execution_count": 59,
   "metadata": {},
   "outputs": [
    {
     "data": {
      "text/plain": [
       "array([[0.82, 1.86, 2.54],\n",
       "       [1.02, 2.12, 2.81],\n",
       "       [1.23, 2.37, 3.06],\n",
       "       [1.52, 2.72, 3.4 ],\n",
       "       [1.84, 3.09, 3.75],\n",
       "       [2.08, 3.35, 3.99],\n",
       "       [2.25, 3.53, 4.15]])"
      ]
     },
     "execution_count": 59,
     "metadata": {},
     "output_type": "execute_result"
    }
   ],
   "source": [
    "sigmas_triplet=calculate_kosarim_table_sigmas_unscaled(table5_ref, f_eqn15, 2)\n",
    "sigmas_triplet"
   ]
  },
  {
   "cell_type": "code",
   "execution_count": 48,
   "metadata": {},
   "outputs": [],
   "source": [
    "\"\"\"\n",
    "Need to figure out how to scale the triplet sigmas. For now, use\n",
    "the same scaling factors as above even though we know that's wrong.\n",
    "\"\"\"\n",
    "N_15eV = 1.74/(sigmas_X[0,0]+sigmas_A[0,0]+sigmas_B[0,0])\n",
    "N_25eV = 6.10/(sigmas_X[0,1]+sigmas_A[0,1]+sigmas_B[0,1])\n",
    "N_40eV = 10.9/(sigmas_X[0,2]+sigmas_A[0,2]+sigmas_B[0,2])"
   ]
  },
  {
   "cell_type": "code",
   "execution_count": 49,
   "metadata": {},
   "outputs": [
    {
     "data": {
      "text/plain": [
       "array([[ 2.71,  6.14,  8.5 ],\n",
       "       [ 3.37,  6.99,  9.39],\n",
       "       [ 4.07,  7.83, 10.24],\n",
       "       [ 5.03,  8.98, 11.37],\n",
       "       [ 6.1 , 10.2 , 12.56],\n",
       "       [ 6.87, 11.05, 13.34],\n",
       "       [ 7.45, 11.65, 13.89]])"
      ]
     },
     "execution_count": 49,
     "metadata": {},
     "output_type": "execute_result"
    }
   ],
   "source": [
    "sigmas_triplet_scaled = \\\n",
    "    np.column_stack((N_15eV*sigmas_triplet[...,0], N_25eV*sigmas_triplet[...,1], N_40eV*sigmas_triplet[...,2]))\n",
    "sigmas_triplet_scaled"
   ]
  },
  {
   "cell_type": "code",
   "execution_count": 50,
   "metadata": {},
   "outputs": [
    {
     "name": "stdout",
     "output_type": "stream",
     "text": [
      "sigmas_triplet_scaled RMSE: 4.5494\n"
     ]
    }
   ],
   "source": [
    "print('sigmas_triplet_scaled RMSE: {:3.4f}'.format(sqrt(mse(sigmas_triplet_scaled,table5_ref[...,3:6]))))"
   ]
  },
  {
   "cell_type": "code",
   "execution_count": 31,
   "metadata": {},
   "outputs": [
    {
     "ename": "ModuleNotFoundError",
     "evalue": "No module named 'cse'",
     "output_type": "error",
     "traceback": [
      "\u001b[0;31m---------------------------------------------------------------------------\u001b[0m",
      "\u001b[0;31mModuleNotFoundError\u001b[0m                       Traceback (most recent call last)",
      "\u001b[0;32m<ipython-input-31-7d490407bd64>\u001b[0m in \u001b[0;36m<module>\u001b[0;34m\u001b[0m\n\u001b[0;32m----> 1\u001b[0;31m \u001b[0;32mimport\u001b[0m \u001b[0mcse\u001b[0m\u001b[0;34m\u001b[0m\u001b[0;34m\u001b[0m\u001b[0m\n\u001b[0m",
      "\u001b[0;31mModuleNotFoundError\u001b[0m: No module named 'cse'"
     ]
    }
   ],
   "source": [
    "import cse"
   ]
  },
  {
   "cell_type": "code",
   "execution_count": 29,
   "metadata": {},
   "outputs": [],
   "source": [
    "from scipy.interpolate import splrep, splev\n",
    "import matplotlib.pyplot as plt\n",
    "import sys"
   ]
  },
  {
   "cell_type": "code",
   "execution_count": 37,
   "metadata": {},
   "outputs": [],
   "source": [
    "# Panda's csv reader is much better than numpy's\n",
    "df = pd.read_csv('kosarim_table_1.csv',sep=' ')\n",
    "table1_ref = np.array(df)\n",
    "table1_ref\n",
    "\n",
    "#N_2 (X^1Sigma^+_g)\n",
    "we = 2359\n",
    "wexe = 14.3\n",
    "Be = 1.998\n",
    "ae = 1.73E-2\n",
    "De = 79884\n",
    "# reduced mass - see Huber+Herzberg\n",
    "μ = 7.99745751"
   ]
  },
  {
   "cell_type": "code",
   "execution_count": 36,
   "metadata": {},
   "outputs": [
    {
     "data": {
      "text/plain": [
       "array([0, 2359, 14.3], dtype=object)"
      ]
     },
     "execution_count": 36,
     "metadata": {},
     "output_type": "execute_result"
    }
   ],
   "source": [
    "table1_ref[0,1:4]"
   ]
  },
  {
   "cell_type": "code",
   "execution_count": 35,
   "metadata": {},
   "outputs": [
    {
     "data": {
      "text/plain": [
       "array(['$N_2(X^1\\\\Sigma_g^+)$', 0, 2359, 14.3, 1.9980000000000002, 1.73,\n",
       "       79884], dtype=object)"
      ]
     },
     "execution_count": 35,
     "metadata": {},
     "output_type": "execute_result"
    }
   ],
   "source": [
    "Te,we,wexe,Be,ae,De = table1_ref[0,...]"
   ]
  },
  {
   "cell_type": "code",
   "execution_count": 33,
   "metadata": {},
   "outputs": [
    {
     "data": {
      "text/plain": [
       "array([['$N_2(X^1\\\\Sigma_g^+)$', 0, 2359, 14.3, 1.9980000000000002, 1.73,\n",
       "        79884],\n",
       "       ['$N_2^+(X^2\\\\Sigma_g^+)$', 0, 2207, 16.1, 1.932, 1.88, 71387],\n",
       "       ['$N_2^+(A^2\\\\Pi_u)$', 9167, 1904, 15.0, 1.744, 1.88, 62217],\n",
       "       ['$N_2^+(B^2\\\\Sigma_u^+)$', 25461, 2420, 23.2, 2.0709999999999997,\n",
       "        1.4, 45919]], dtype=object)"
      ]
     },
     "execution_count": 33,
     "metadata": {},
     "output_type": "execute_result"
    }
   ],
   "source": [
    "we, wexe, Be = table1_ref"
   ]
  },
  {
   "cell_type": "code",
   "execution_count": null,
   "metadata": {},
   "outputs": [],
   "source": [
    "v = np.concatenate(([-0.5], np.arange(11)), axis=None)"
   ]
  },
  {
   "cell_type": "code",
   "execution_count": null,
   "metadata": {},
   "outputs": [],
   "source": [
    "Gv = we*(v+1/2) - wexe*(v+1/2)**2"
   ]
  },
  {
   "cell_type": "code",
   "execution_count": null,
   "metadata": {},
   "outputs": [],
   "source": [
    "Gv"
   ]
  },
  {
   "cell_type": "code",
   "execution_count": null,
   "metadata": {},
   "outputs": [],
   "source": [
    "Bv = Be - ae*(v+1/2)"
   ]
  },
  {
   "cell_type": "code",
   "execution_count": null,
   "metadata": {},
   "outputs": [],
   "source": [
    "Bv"
   ]
  },
  {
   "cell_type": "code",
   "execution_count": null,
   "metadata": {},
   "outputs": [],
   "source": [
    "fn = 'data/n2.dat'\n",
    "np.savetxt(fn,np.column_stack((v, Gv, Bv)))"
   ]
  },
  {
   "cell_type": "code",
   "execution_count": null,
   "metadata": {},
   "outputs": [],
   "source": [
    "try:\n",
    "    vv, Gv, Bv = np.loadtxt(fn, unpack=True)\n",
    "except FileNotFoundError:\n",
    "    print(f\"RKR: file '{fn:s}' not found\")"
   ]
  },
  {
   "cell_type": "code",
   "execution_count": null,
   "metadata": {},
   "outputs": [],
   "source": [
    "# reduced mass - see Huber+Herzberg - default is O2\n",
    "#μ = input(\"RKR: Molecule reduced mass [7.99745751]: \")\n",
    "#μ = 7.99745751 if μ == '' else float(μ)\n",
    "μ = 14.007/2."
   ]
  },
  {
   "cell_type": "code",
   "execution_count": null,
   "metadata": {},
   "outputs": [],
   "source": [
    "# outer limb extension\n",
    "#limb = input(\"RKR: Outer-limb LeRoy(L) or Morse(M) [L]: \")\n",
    "#if limb == '':\n",
    "#    limb = 'L'\n",
    "limb = 'L'"
   ]
  },
  {
   "cell_type": "code",
   "execution_count": null,
   "metadata": {},
   "outputs": [],
   "source": [
    "R, PEC, RTP, PTP = cse.tools.RKR.rkr(μ, vv, Gv, Bv, De, limb, dv=0.1,\n",
    "                                     Rgrid=np.arange(0.005, 10.004, 0.005))"
   ]
  },
  {
   "cell_type": "code",
   "execution_count": 38,
   "metadata": {},
   "outputs": [
    {
     "ename": "NameError",
     "evalue": "name 'R' is not defined",
     "output_type": "error",
     "traceback": [
      "\u001b[0;31m---------------------------------------------------------------------------\u001b[0m",
      "\u001b[0;31mNameError\u001b[0m                                 Traceback (most recent call last)",
      "\u001b[0;32m<ipython-input-38-a3e2179d61dd>\u001b[0m in \u001b[0;36m<module>\u001b[0;34m()\u001b[0m\n\u001b[0;32m----> 1\u001b[0;31m \u001b[0mdata\u001b[0m \u001b[0;34m=\u001b[0m \u001b[0mnp\u001b[0m\u001b[0;34m.\u001b[0m\u001b[0mcolumn_stack\u001b[0m\u001b[0;34m(\u001b[0m\u001b[0;34m(\u001b[0m\u001b[0mR\u001b[0m\u001b[0;34m.\u001b[0m\u001b[0mT\u001b[0m\u001b[0;34m,\u001b[0m \u001b[0mPEC\u001b[0m\u001b[0;34m.\u001b[0m\u001b[0mT\u001b[0m\u001b[0;34m)\u001b[0m\u001b[0;34m)\u001b[0m\u001b[0;34m\u001b[0m\u001b[0m\n\u001b[0m\u001b[1;32m      2\u001b[0m \u001b[0mnp\u001b[0m\u001b[0;34m.\u001b[0m\u001b[0msavetxt\u001b[0m\u001b[0;34m(\u001b[0m\u001b[0;34m\"data/N2_RKR.dat\"\u001b[0m\u001b[0;34m,\u001b[0m \u001b[0mdata\u001b[0m\u001b[0;34m)\u001b[0m\u001b[0;34m\u001b[0m\u001b[0m\n\u001b[1;32m      3\u001b[0m \u001b[0mprint\u001b[0m\u001b[0;34m(\u001b[0m\u001b[0;34m\"RKR: potential curve written to 'data/N2_RKR.dat'\"\u001b[0m\u001b[0;34m)\u001b[0m\u001b[0;34m\u001b[0m\u001b[0m\n",
      "\u001b[0;31mNameError\u001b[0m: name 'R' is not defined"
     ]
    }
   ],
   "source": [
    "data = np.column_stack((R.T, PEC.T))\n",
    "np.savetxt(\"data/N2_RKR.dat\", data)\n",
    "print(\"RKR: potential curve written to 'data/N2_RKR.dat'\")"
   ]
  },
  {
   "cell_type": "code",
   "execution_count": null,
   "metadata": {},
   "outputs": [],
   "source": [
    "plt.plot(R, PEC, label='RKR potential curve')\n",
    "plt.plot(RTP[::10], PTP[::10], 'o', label='turning points')\n",
    "plt.legend()\n",
    "plt.axis(xmin=0.8, xmax=4, ymin=-0.1, ymax=12)\n",
    "plt.title(\"N2_RKR.py\")\n",
    "\n",
    "plt.xlabel(r\"R($\\AA$)\")\n",
    "plt.ylabel(\"E(eV)\")\n",
    "\n",
    "plt.savefig(\"output/N2_RKR.png\", dpi=75)\n",
    "plt.show()"
   ]
  },
  {
   "cell_type": "code",
   "execution_count": null,
   "metadata": {},
   "outputs": [],
   "source": [
    "RTP"
   ]
  },
  {
   "cell_type": "code",
   "execution_count": null,
   "metadata": {},
   "outputs": [],
   "source": []
  }
 ],
 "metadata": {
  "kernelspec": {
   "display_name": "Python 3",
   "language": "python",
   "name": "python3"
  },
  "language_info": {
   "codemirror_mode": {
    "name": "ipython",
    "version": 3
   },
   "file_extension": ".py",
   "mimetype": "text/x-python",
   "name": "python",
   "nbconvert_exporter": "python",
   "pygments_lexer": "ipython3",
   "version": "3.7.2"
  }
 },
 "nbformat": 4,
 "nbformat_minor": 2
}
