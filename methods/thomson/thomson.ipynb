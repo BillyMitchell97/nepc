{
 "cells": [
  {
   "cell_type": "code",
   "execution_count": 1,
   "metadata": {},
   "outputs": [],
   "source": [
    "\"\"\"This Jupyter notebook is made for calculating and saving the partial\n",
    "   ionization cross sections of N2 to N2+ states using the Thomson module.\n",
    "\"\"\"\n",
    "import numpy as np\n",
    "import matplotlib.pyplot as plt\n",
    "import math\n",
    "import scipy.integrate as integrate\n",
    "import warnings\n",
    "from scipy.optimize import curve_fit\n",
    "from scipy.constants import elementary_charge as elementary_charge\n",
    "from scipy.constants import Planck as Planck\n",
    "from scipy.constants import speed_of_light as speed_of_light\n",
    "from scipy.integrate import quadrature\n",
    "from scipy import optimize\n",
    "\n",
    "\"\"\"Importing the constants\"\"\"\n",
    "from nepc import nepc\n",
    "from nepc.util import constants\n",
    "from nepc.util import itikawa_data\n",
    "from nepc.methods import thomson\n",
    "from nepc.util import scraper"
   ]
  },
  {
   "cell_type": "code",
   "execution_count": 2,
   "metadata": {},
   "outputs": [],
   "source": [
    "ion_energy_itikawa = thomson.list_splitter(itikawa_data.ion_cross_N2p, 0)\n",
    "cross_section_itikawa = thomson.list_splitter(itikawa_data.ion_cross_N2p, 1)\n",
    "domain_temp = np.linspace(0.0, 4.0, 1000)"
   ]
  },
  {
   "cell_type": "code",
   "execution_count": 5,
   "metadata": {},
   "outputs": [
    {
     "name": "stdout",
     "output_type": "stream",
     "text": [
      "Done: N2_9\n",
      "Done: N2_9\n",
      "Done: N2_9\n",
      "Done: N2_9\n",
      "Done: N2_9\n",
      "Done: N2_9\n",
      "Done: N2_9\n",
      "Done: N2_9\n",
      "Done: N2_9\n",
      "Done: N2_9\n",
      "Done: N2_9\n"
     ]
    }
   ],
   "source": [
    "for n2_state in range(0, 11):\n",
    "    \"\"\"looping the N2 states\"\"\"\n",
    "    for n2p_state in range(0, 3):\n",
    "        \"\"\"Looping the N2+\"\"\"\n",
    "        for v in range(0, 10):\n",
    "            \"\"\"looping the vibrational mode for N2\"\"\"\n",
    "            for v_prime in range(0, 10):\n",
    "                \"\"\"Looping the vibrational mode for N2+\"\"\"\n",
    "                sigma = np.asarray(thomson.partial_cross_section(constants.states_N2[n2_state], \n",
    "                                                      constants.vib_constants_N2_dict, \n",
    "                                                      constants.rot_constants_N2_dict, \n",
    "                                                      v, 15, constants.states_N2p[n2p_state], \n",
    "                                                      constants.vib_constants_N2p_dict, \n",
    "                                                      constants.rot_constants_N2p_dict, \n",
    "                                                      v_prime, 10, ion_energy_itikawa, \n",
    "                                                      cross_section_itikawa, \n",
    "                                                      thomson.func_guess, domain_temp))\n",
    "                new_file_dat = 'part_cs_n2_%d_n2p_%d_v%d_vp%d.dat' % (n2_state, n2p_state, v, v_prime)\n",
    "                #print(new_file_dat)\n",
    "                scraper.writeDataToFile(sigma, new_file_dat)\n",
    "                \n",
    "                v_str = str(v)\n",
    "                v_prime_str = str(v_prime)\n",
    "                new_file_met = 'part_cs_n2_%d_n2p_%d_v%d_vp%d.met' % (n2_state, n2p_state, v, v_prime)\n",
    "                scraper.writeMetaDataToFile(new_file_met, 'N2', 'ionization_excitation_v', \n",
    "                                            '1', 'm', 'thomson', constants.states_N2[n2_state],\n",
    "                                            '\\\\N', constants.states_N2p[n2p_state], '\\\\N',\n",
    "                                            v_str, v_prime_str)\n",
    "                #print(new_file_met)\n",
    "    print('Done: N2_%d' % v)"
   ]
  },
  {
   "cell_type": "code",
   "execution_count": 6,
   "metadata": {},
   "outputs": [
    {
     "data": {
      "text/plain": [
       "'Takes 23 minutes to calculate every state'"
      ]
     },
     "execution_count": 6,
     "metadata": {},
     "output_type": "execute_result"
    }
   ],
   "source": [
    "\"\"\"Takes 23 minutes to calculate every state\"\"\""
   ]
  },
  {
   "cell_type": "code",
   "execution_count": null,
   "metadata": {},
   "outputs": [],
   "source": []
  }
 ],
 "metadata": {
  "kernelspec": {
   "display_name": "Python 3",
   "language": "python",
   "name": "python3"
  },
  "language_info": {
   "codemirror_mode": {
    "name": "ipython",
    "version": 3
   },
   "file_extension": ".py",
   "mimetype": "text/x-python",
   "name": "python",
   "nbconvert_exporter": "python",
   "pygments_lexer": "ipython3",
   "version": "3.7.2"
  }
 },
 "nbformat": 4,
 "nbformat_minor": 2
}
