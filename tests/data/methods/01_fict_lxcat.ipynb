{
 "cells": [
  {
   "cell_type": "code",
   "execution_count": 1,
   "metadata": {},
   "outputs": [],
   "source": [
    "from nepc.util import config\n",
    "from nepc.util import util\n",
    "from nepc.util import parser\n",
    "import nepc\n",
    "import numpy as np\n",
    "import re"
   ]
  },
  {
   "cell_type": "code",
   "execution_count": 2,
   "metadata": {},
   "outputs": [],
   "source": [
    "NEPC_HOME = config.nepc_home()\n",
    "FictHome = NEPC_HOME + \"/tests/data/raw/lxcat\"\n",
    "outdir = NEPC_HOME + \"/tests/data/cs/n2/fict\""
   ]
  },
  {
   "cell_type": "code",
   "execution_count": 3,
   "metadata": {},
   "outputs": [],
   "source": [
    "util.rmdir(outdir)\n",
    "util.mkdir(outdir)"
   ]
  },
  {
   "cell_type": "code",
   "execution_count": 4,
   "metadata": {},
   "outputs": [],
   "source": [
    "FictFile = FictHome + '/Fict.txt'"
   ]
  },
  {
   "cell_type": "code",
   "execution_count": 5,
   "metadata": {},
   "outputs": [],
   "source": [
    "next_cs_id = 1"
   ]
  },
  {
   "cell_type": "code",
   "execution_count": 6,
   "metadata": {},
   "outputs": [],
   "source": [
    "next_csdata_id = 1"
   ]
  },
  {
   "cell_type": "code",
   "execution_count": 7,
   "metadata": {},
   "outputs": [],
   "source": [
    "csdata = parser.parse(FictFile, debug=False)"
   ]
  },
  {
   "cell_type": "code",
   "execution_count": 8,
   "metadata": {},
   "outputs": [
    {
     "data": {
      "text/plain": [
       "27"
      ]
     },
     "execution_count": 8,
     "metadata": {},
     "output_type": "execute_result"
    }
   ],
   "source": [
    "len(csdata)"
   ]
  },
  {
   "cell_type": "code",
   "execution_count": 9,
   "metadata": {},
   "outputs": [],
   "source": [
    "def value(csdata_i, key):\n",
    "    float_keys = ['threshold']\n",
    "    int_keys = ['lhs_v', 'rhs_v']\n",
    "        \n",
    "    if key in csdata_i.keys():\n",
    "        if csdata_i[key] == '':\n",
    "            if key in float_keys or key in int_keys:\n",
    "                return '-1'\n",
    "            else:\n",
    "                return '\\\\N'\n",
    "        else: \n",
    "            return str(csdata_i[key])\n",
    "    else:\n",
    "        if key in float_keys or key in int_keys:\n",
    "            return '-1'\n",
    "        else:\n",
    "            return '\\\\N'"
   ]
  },
  {
   "cell_type": "code",
   "execution_count": 10,
   "metadata": {},
   "outputs": [],
   "source": [
    "def print_csdata_table(keys, csdata):\n",
    "    print('\\t'.join(keys)) \n",
    "    for cs, i in zip(csdata, range(len(csdata))):\n",
    "        print('\\t'.join([value(cs, key) for key in keys]))"
   ]
  },
  {
   "cell_type": "code",
   "execution_count": 11,
   "metadata": {},
   "outputs": [
    {
     "data": {
      "text/plain": [
       "{'target': 'N2',\n",
       " 'product': 'N2(rot)',\n",
       " 'data': [[0.8, 0.0],\n",
       "  [1.2, 6e-22],\n",
       "  [1.6, 1.8e-21],\n",
       "  [1.7, 2.3e-21],\n",
       "  [1.8, 4e-21],\n",
       "  [1.9, 1.41e-20],\n",
       "  [2.0, 5.13e-20],\n",
       "  [2.1, 5.42e-20],\n",
       "  [2.2, 5.14e-20],\n",
       "  [2.3, 6.9e-20],\n",
       "  [2.4, 6.04e-20],\n",
       "  [2.5, 6.45e-20],\n",
       "  [2.6, 5.1e-20],\n",
       "  [2.7, 4.24e-20],\n",
       "  [2.8, 3.75e-20],\n",
       "  [2.9, 2.11e-20],\n",
       "  [3.0, 2.32e-20],\n",
       "  [3.1, 1.94e-20],\n",
       "  [3.2, 1.4e-20],\n",
       "  [3.3, 9.4e-21],\n",
       "  [3.6, 3.8e-21],\n",
       "  [5.0, 0.0]],\n",
       " 'threshold': 0.02,\n",
       " 'kind': 'EXCITATION',\n",
       " 'filename': '/Users/adamson/projects/chem/nepc/tests/data/raw/lxcat/Fict.txt',\n",
       " 'comment': 'This contribution to rotational excitation (resonance - USING SUM OF SCHULZ VIBRATION IN A SINGLE-LEVEL APPROXIMATION) is not part of the complete set.  Use of this cross section in addition to the CAR approximation could be used in place of the single level approximation for rotation which is presently part of the complete set.',\n",
       " 'species': 'e / N2',\n",
       " 'process': 'E + N2 -> E + N2(rot), Excitation',\n",
       " 'param': 'E = 0.02 eV',\n",
       " 'updated': '2012-10-14 23:39:48',\n",
       " 'columns': 'Energy (eV) | Cross section (m2)'}"
      ]
     },
     "execution_count": 11,
     "metadata": {},
     "output_type": "execute_result"
    }
   ],
   "source": [
    "csdata[0]"
   ]
  },
  {
   "cell_type": "code",
   "execution_count": 12,
   "metadata": {},
   "outputs": [],
   "source": [
    "def remove_zeros_at_end(csdata):\n",
    "    for cs in csdata:\n",
    "        i = len(cs['data']) - 1\n",
    "        while cs['data'][i][1] == 0.0:\n",
    "            print('removing {} from csdata[{}][\\'data\\']'.format(cs['data'].pop(i), i))\n",
    "            i -= 1"
   ]
  },
  {
   "cell_type": "code",
   "execution_count": 13,
   "metadata": {},
   "outputs": [],
   "source": [
    "def remove_zeros_at_beginning(csdata):\n",
    "    for cs in csdata:\n",
    "        while cs['data'][0][1] == 0.0 and cs['data'][1][1] == 0.0:\n",
    "            print('removing {} from csdata[{}][\\'data\\']'.format(cs['data'].pop(0), 0))"
   ]
  },
  {
   "cell_type": "code",
   "execution_count": 14,
   "metadata": {},
   "outputs": [
    {
     "name": "stdout",
     "output_type": "stream",
     "text": [
      "removing [0.0, 0.0] from csdata[0]['data']\n",
      "removing [0.291, 0.0] from csdata[0]['data']\n",
      "removing [0.0, 0.0] from csdata[0]['data']\n",
      "removing [0.59, 0.0] from csdata[0]['data']\n",
      "removing [0.0, 0.0] from csdata[0]['data']\n",
      "removing [0.88, 0.0] from csdata[0]['data']\n",
      "removing [0.0, 0.0] from csdata[0]['data']\n",
      "removing [1.17, 0.0] from csdata[0]['data']\n",
      "removing [0.0, 0.0] from csdata[0]['data']\n",
      "removing [1.47, 0.0] from csdata[0]['data']\n",
      "removing [0.0, 0.0] from csdata[0]['data']\n",
      "removing [1.76, 0.0] from csdata[0]['data']\n",
      "removing [0.0, 0.0] from csdata[0]['data']\n",
      "removing [2.06, 0.0] from csdata[0]['data']\n",
      "removing [0.0, 0.0] from csdata[0]['data']\n",
      "removing [2.35, 0.0] from csdata[0]['data']\n",
      "removing [0.0, 0.0] from csdata[0]['data']\n",
      "removing [0.0, 0.0] from csdata[0]['data']\n",
      "removing [0.0, 0.0] from csdata[0]['data']\n",
      "removing [0.0, 0.0] from csdata[0]['data']\n",
      "removing [0.0, 0.0] from csdata[0]['data']\n",
      "removing [0.0, 0.0] from csdata[0]['data']\n",
      "removing [0.0, 0.0] from csdata[0]['data']\n"
     ]
    }
   ],
   "source": [
    "remove_zeros_at_beginning(csdata)"
   ]
  },
  {
   "cell_type": "code",
   "execution_count": 15,
   "metadata": {},
   "outputs": [
    {
     "name": "stdout",
     "output_type": "stream",
     "text": [
      "removing [5.0, 0.0] from csdata[21]['data']\n",
      "removing [5.0, 0.0] from csdata[24]['data']\n",
      "removing [80.0, 0.0] from csdata[27]['data']\n",
      "removing [1000.0, 0.0] from csdata[25]['data']\n",
      "removing [100.0, 0.0] from csdata[24]['data']\n",
      "removing [4.0, 0.0] from csdata[23]['data']\n",
      "removing [1000.0, 0.0] from csdata[21]['data']\n",
      "removing [3.6, 0.0] from csdata[20]['data']\n",
      "removing [1000.0, 0.0] from csdata[17]['data']\n",
      "removing [3.4, 0.0] from csdata[16]['data']\n",
      "removing [1000.0, 0.0] from csdata[15]['data']\n",
      "removing [3.3, 0.0] from csdata[14]['data']\n",
      "removing [1000.0, 0.0] from csdata[15]['data']\n",
      "removing [3.4, 0.0] from csdata[14]['data']\n",
      "removing [1000.0, 0.0] from csdata[13]['data']\n",
      "removing [100.0, 0.0] from csdata[12]['data']\n",
      "removing [3.2, 0.0] from csdata[11]['data']\n",
      "removing [1000.0, 0.0] from csdata[15]['data']\n",
      "removing [100.0, 0.0] from csdata[14]['data']\n",
      "removing [3.5, 0.0] from csdata[13]['data']\n",
      "removing [1000.0, 0.0] from csdata[13]['data']\n",
      "removing [100.0, 0.0] from csdata[12]['data']\n",
      "removing [3.5, 0.0] from csdata[11]['data']\n",
      "removing [150.0, 0.0] from csdata[22]['data']\n",
      "removing [150.0, 0.0] from csdata[22]['data']\n",
      "removing [1000.0, 0.0] from csdata[22]['data']\n",
      "removing [500.0, 0.0] from csdata[21]['data']\n",
      "removing [150.0, 0.0] from csdata[20]['data']\n",
      "removing [1000.0, 0.0] from csdata[24]['data']\n",
      "removing [500.0, 0.0] from csdata[23]['data']\n",
      "removing [150.0, 0.0] from csdata[22]['data']\n",
      "removing [150.0, 0.0] from csdata[22]['data']\n",
      "removing [1000.0, 0.0] from csdata[22]['data']\n",
      "removing [500.0, 0.0] from csdata[21]['data']\n",
      "removing [150.0, 0.0] from csdata[20]['data']\n",
      "removing [1000.0, 0.0] from csdata[18]['data']\n",
      "removing [500.0, 0.0] from csdata[17]['data']\n",
      "removing [1000.0, 0.0] from csdata[18]['data']\n",
      "removing [500.0, 0.0] from csdata[17]['data']\n",
      "removing [150.0, 0.0] from csdata[16]['data']\n",
      "removing [150.0, 0.0] from csdata[26]['data']\n",
      "removing [1000.0, 0.0] from csdata[16]['data']\n",
      "removing [500.0, 0.0] from csdata[15]['data']\n",
      "removing [150.0, 0.0] from csdata[14]['data']\n"
     ]
    }
   ],
   "source": [
    "remove_zeros_at_end(csdata)"
   ]
  },
  {
   "cell_type": "code",
   "execution_count": 16,
   "metadata": {},
   "outputs": [],
   "source": [
    "keys = ['specie',\n",
    "     'process',\n",
    "     'units_e',\n",
    "     'units_sigma',\n",
    "     'lhs_a',\n",
    "     'rhs_a',\n",
    "     'lhs_v',\n",
    "     'rhs_v',\n",
    "        'threshold',\n",
    "     'nepc_filename']"
   ]
  },
  {
   "cell_type": "code",
   "execution_count": 17,
   "metadata": {},
   "outputs": [
    {
     "name": "stdout",
     "output_type": "stream",
     "text": [
      "kind\ttarget\tproduct\tthreshold\n",
      "EXCITATION\tN2\tN2(rot)\t0.02\n",
      "EFFECTIVE\tN2\t\\N\t-1\n",
      "EXCITATION\tN2\tN2(rot)\t0.02\n",
      "EXCITATION\tN2\tN2(v1)\t0.29\n",
      "EXCITATION\tN2\tN2(v1res)\t0.291\n",
      "EXCITATION\tN2\tN2(v2)\t0.59\n",
      "EXCITATION\tN2\tN2(v3)\t0.88\n",
      "EXCITATION\tN2\tN2(v4)\t1.17\n",
      "EXCITATION\tN2\tN2(v5)\t1.47\n",
      "EXCITATION\tN2\tN2(v6)\t1.76\n",
      "EXCITATION\tN2\tN2(v7)\t2.06\n",
      "EXCITATION\tN2\tN2(v8)\t2.35\n",
      "EXCITATION\tN2\tN2(A3,v0-4)\t6.17\n",
      "EXCITATION\tN2\tN2(A3,v5-9)\t7.0\n",
      "EXCITATION\tN2\tN2(B3)\t7.35\n",
      "EXCITATION\tN2\tN2(W3)\t7.36\n",
      "EXCITATION\tN2\tN2(A3,v10-)\t7.8\n",
      "EXCITATION\tN2\tN2(B'3)\t8.16\n",
      "EXCITATION\tN2\tN2(a'1)\t8.4\n",
      "EXCITATION\tN2\tN2(a1)\t8.55\n",
      "EXCITATION\tN2\tN2(w1)\t8.89\n",
      "EXCITATION\tN2\tN2(C3)\t11.03\n",
      "EXCITATION\tN2\tN2(E3)\t11.87\n",
      "EXCITATION\tN2\tN2(a''1)\t12.25\n",
      "EXCITATION\tN2\tN2(SUM)\t13.0\n",
      "IONIZATION\tN2\tN2^+\t15.6\n",
      "IONIZATION\tN2\tN2^+(B2SIGMA)\t18.8\n"
     ]
    }
   ],
   "source": [
    "print_csdata_table(['kind', 'target', 'product', 'threshold'], csdata)"
   ]
  },
  {
   "cell_type": "code",
   "execution_count": 18,
   "metadata": {},
   "outputs": [],
   "source": [
    "states = {\n",
    "    'N2(X1)': 'N2(X1Sigmag+)',\n",
    "    'N2(B3)': 'N2(B3Pig)',\n",
    "    'N2(W3)': 'N2(W3Deltau)',\n",
    "    'N2(B\\'3)': 'N2(Bp3Sigmau-)',\n",
    "    'N2(a\\'1)': 'N2(ap1Sigmau-)',\n",
    "    'N2(a1)': 'N2(a1Pig)',\n",
    "    'N2(w1)': 'N2(w1Deltau)',\n",
    "    'N2(C3)': 'N2(C3Piu)',\n",
    "    'N2(E3)': 'N2(E3Sigmag+)',\n",
    "    'N2(a\\'\\'1)': 'N2(ap1Sigmag+)',\n",
    "    'N2+(B2)': 'N2+(B2Sigmau+)',\n",
    "    'N2(A3,v0-4)': 'N2(A3Sigmau+)_v0-4',\n",
    "    'N2(A3,v5-9)': 'N2(A3Sigmau+)_v5-9',\n",
    "    'N2(A3,v10-)': 'N2(A3Sigmau+)_v10-',\n",
    "    'N2(SUM)': 'N2(1SUM)_Z-M'\n",
    "}"
   ]
  },
  {
   "cell_type": "code",
   "execution_count": 19,
   "metadata": {},
   "outputs": [],
   "source": [
    "for cs, i in zip(csdata, range(len(csdata))):\n",
    "    cs['specie'] = value(cs, 'target')\n",
    "    cs['units_e'] = '1.0'\n",
    "    cs['units_sigma'] = '1.0'\n",
    "    cs['background'] = value(cs, 'comment')\n",
    "    cs['nepc_filename'] = outdir + '/fict_' + str(i)\n",
    "    cs['data'] = np.asarray(cs['data'])\n",
    "    cs['ref'] = value(cs, 'ref')\n",
    "    cs['threshold'] = value(cs, 'threshold')\n",
    "    cs['lhs_v'] = value(cs, 'lhs_v')\n",
    "    cs['rhs_v'] = value(cs, 'rhs_v')\n",
    "    \n",
    "    if (cs['kind'] == 'IONIZATION' and cs['product'] == 'N2^+'):\n",
    "        cs['process'] = 'ionization_total'\n",
    "        cs['lhs_a'] = states['N2(X1)']\n",
    "        cs['rhs_a'] = 'N2+'\n",
    "        cs['models'] = ['fict', 'fict_min', 'fict_min2']\n",
    "    elif (cs['kind'] == 'IONIZATION' and cs['product'] == 'N2^+(B2SIGMA)'):\n",
    "        cs['process'] = 'ionization'\n",
    "        cs['lhs_a'] = states['N2(X1)']\n",
    "        cs['rhs_a'] = states['N2+(B2)']\n",
    "        cs['models'] = ['fict']\n",
    "    elif (cs['kind'] == 'EXCITATION' and\n",
    "          cs['product'] == 'N2(rot)' and\n",
    "          'SLAR' in cs['background']):\n",
    "        cs['process'] = 'excitation'\n",
    "        cs['lhs_a'] = states['N2(X1)']\n",
    "        cs['rhs_a'] = 'N2(X1Sigmag+)_jSLAR'\n",
    "        cs['models'] = ['fict', 'fict_min2']\n",
    "    elif (cs['kind'] == 'EXCITATION' and\n",
    "          cs['product'] == 'N2(rot)' and\n",
    "          'SCHULZ' in cs['background']):\n",
    "        cs['process'] = 'excitation'\n",
    "        cs['lhs_a'] = states['N2(X1)']\n",
    "        cs['rhs_a'] = 'N2(X1Sigmag+)_jSCHULZ'\n",
    "        cs['models'] = ['fict']\n",
    "    elif (cs['kind'] == 'EFFECTIVE'):\n",
    "        cs['process'] = 'total'\n",
    "        cs['lhs_a'] = 'N2'\n",
    "        cs['rhs_a'] = 'N2'\n",
    "        cs['models'] = ['fict', 'fict_min', 'fict_min2']\n",
    "    elif (cs['kind'] == 'EXCITATION' and\n",
    "          ('v0-4' in cs['product'] or 'v5-9' in cs['product'] or 'v10-' in cs['product'])):\n",
    "        cs['process'] = 'excitation'\n",
    "        cs['lhs_a'] = states['N2(X1)']\n",
    "        cs['rhs_a'] = states[cs['product']]\n",
    "        cs['models'] = ['fict']\n",
    "    elif (cs['kind'] == 'EXCITATION' and\n",
    "          re.search('v[0-9]', cs['product']) is not None):\n",
    "        cs['process'] = 'excitation_v'\n",
    "        cs['lhs_a'] = states['N2(X1)']\n",
    "        cs['rhs_a'] = states['N2(X1)']\n",
    "        cs['lhs_v'] = '0'\n",
    "        cs['rhs_v'] = cs['product'][4]\n",
    "        cs['models'] = ['fict']\n",
    "    elif (cs['kind'] == 'EXCITATION'):\n",
    "        cs['process'] = 'excitation'\n",
    "        cs['lhs_a'] = states['N2(X1)']\n",
    "        cs['rhs_a'] = states[cs['product']]\n",
    "        cs['models'] = ['fict']"
   ]
  },
  {
   "cell_type": "code",
   "execution_count": 20,
   "metadata": {},
   "outputs": [
    {
     "name": "stdout",
     "output_type": "stream",
     "text": [
      "specie\tprocess\tunits_e\tunits_sigma\tlhs_a\trhs_a\tlhs_v\trhs_v\tthreshold\tnepc_filename\n",
      "N2\texcitation\t1.0\t1.0\tN2(X1Sigmag+)\tN2(X1Sigmag+)_jSCHULZ\t-1\t-1\t0.02\t/Users/adamson/projects/chem/nepc/tests/data/cs/n2/fict/fict_0\n",
      "N2\ttotal\t1.0\t1.0\tN2\tN2\t-1\t-1\t-1\t/Users/adamson/projects/chem/nepc/tests/data/cs/n2/fict/fict_1\n",
      "N2\texcitation\t1.0\t1.0\tN2(X1Sigmag+)\tN2(X1Sigmag+)_jSLAR\t-1\t-1\t0.02\t/Users/adamson/projects/chem/nepc/tests/data/cs/n2/fict/fict_2\n",
      "N2\texcitation_v\t1.0\t1.0\tN2(X1Sigmag+)\tN2(X1Sigmag+)\t0\t1\t0.29\t/Users/adamson/projects/chem/nepc/tests/data/cs/n2/fict/fict_3\n",
      "N2\texcitation_v\t1.0\t1.0\tN2(X1Sigmag+)\tN2(X1Sigmag+)\t0\t1\t0.291\t/Users/adamson/projects/chem/nepc/tests/data/cs/n2/fict/fict_4\n",
      "N2\texcitation_v\t1.0\t1.0\tN2(X1Sigmag+)\tN2(X1Sigmag+)\t0\t2\t0.59\t/Users/adamson/projects/chem/nepc/tests/data/cs/n2/fict/fict_5\n",
      "N2\texcitation_v\t1.0\t1.0\tN2(X1Sigmag+)\tN2(X1Sigmag+)\t0\t3\t0.88\t/Users/adamson/projects/chem/nepc/tests/data/cs/n2/fict/fict_6\n",
      "N2\texcitation_v\t1.0\t1.0\tN2(X1Sigmag+)\tN2(X1Sigmag+)\t0\t4\t1.17\t/Users/adamson/projects/chem/nepc/tests/data/cs/n2/fict/fict_7\n",
      "N2\texcitation_v\t1.0\t1.0\tN2(X1Sigmag+)\tN2(X1Sigmag+)\t0\t5\t1.47\t/Users/adamson/projects/chem/nepc/tests/data/cs/n2/fict/fict_8\n",
      "N2\texcitation_v\t1.0\t1.0\tN2(X1Sigmag+)\tN2(X1Sigmag+)\t0\t6\t1.76\t/Users/adamson/projects/chem/nepc/tests/data/cs/n2/fict/fict_9\n",
      "N2\texcitation_v\t1.0\t1.0\tN2(X1Sigmag+)\tN2(X1Sigmag+)\t0\t7\t2.06\t/Users/adamson/projects/chem/nepc/tests/data/cs/n2/fict/fict_10\n",
      "N2\texcitation_v\t1.0\t1.0\tN2(X1Sigmag+)\tN2(X1Sigmag+)\t0\t8\t2.35\t/Users/adamson/projects/chem/nepc/tests/data/cs/n2/fict/fict_11\n",
      "N2\texcitation\t1.0\t1.0\tN2(X1Sigmag+)\tN2(A3Sigmau+)_v0-4\t-1\t-1\t6.17\t/Users/adamson/projects/chem/nepc/tests/data/cs/n2/fict/fict_12\n",
      "N2\texcitation\t1.0\t1.0\tN2(X1Sigmag+)\tN2(A3Sigmau+)_v5-9\t-1\t-1\t7.0\t/Users/adamson/projects/chem/nepc/tests/data/cs/n2/fict/fict_13\n",
      "N2\texcitation\t1.0\t1.0\tN2(X1Sigmag+)\tN2(B3Pig)\t-1\t-1\t7.35\t/Users/adamson/projects/chem/nepc/tests/data/cs/n2/fict/fict_14\n",
      "N2\texcitation\t1.0\t1.0\tN2(X1Sigmag+)\tN2(W3Deltau)\t-1\t-1\t7.36\t/Users/adamson/projects/chem/nepc/tests/data/cs/n2/fict/fict_15\n",
      "N2\texcitation\t1.0\t1.0\tN2(X1Sigmag+)\tN2(A3Sigmau+)_v10-\t-1\t-1\t7.8\t/Users/adamson/projects/chem/nepc/tests/data/cs/n2/fict/fict_16\n",
      "N2\texcitation\t1.0\t1.0\tN2(X1Sigmag+)\tN2(Bp3Sigmau-)\t-1\t-1\t8.16\t/Users/adamson/projects/chem/nepc/tests/data/cs/n2/fict/fict_17\n",
      "N2\texcitation\t1.0\t1.0\tN2(X1Sigmag+)\tN2(ap1Sigmau-)\t-1\t-1\t8.4\t/Users/adamson/projects/chem/nepc/tests/data/cs/n2/fict/fict_18\n",
      "N2\texcitation\t1.0\t1.0\tN2(X1Sigmag+)\tN2(a1Pig)\t-1\t-1\t8.55\t/Users/adamson/projects/chem/nepc/tests/data/cs/n2/fict/fict_19\n",
      "N2\texcitation\t1.0\t1.0\tN2(X1Sigmag+)\tN2(w1Deltau)\t-1\t-1\t8.89\t/Users/adamson/projects/chem/nepc/tests/data/cs/n2/fict/fict_20\n",
      "N2\texcitation\t1.0\t1.0\tN2(X1Sigmag+)\tN2(C3Piu)\t-1\t-1\t11.03\t/Users/adamson/projects/chem/nepc/tests/data/cs/n2/fict/fict_21\n",
      "N2\texcitation\t1.0\t1.0\tN2(X1Sigmag+)\tN2(E3Sigmag+)\t-1\t-1\t11.87\t/Users/adamson/projects/chem/nepc/tests/data/cs/n2/fict/fict_22\n",
      "N2\texcitation\t1.0\t1.0\tN2(X1Sigmag+)\tN2(ap1Sigmag+)\t-1\t-1\t12.25\t/Users/adamson/projects/chem/nepc/tests/data/cs/n2/fict/fict_23\n",
      "N2\texcitation\t1.0\t1.0\tN2(X1Sigmag+)\tN2(1SUM)_Z-M\t-1\t-1\t13.0\t/Users/adamson/projects/chem/nepc/tests/data/cs/n2/fict/fict_24\n",
      "N2\tionization_total\t1.0\t1.0\tN2(X1Sigmag+)\tN2+\t-1\t-1\t15.6\t/Users/adamson/projects/chem/nepc/tests/data/cs/n2/fict/fict_25\n",
      "N2\tionization\t1.0\t1.0\tN2(X1Sigmag+)\tN2+(B2Sigmau+)\t-1\t-1\t18.8\t/Users/adamson/projects/chem/nepc/tests/data/cs/n2/fict/fict_26\n"
     ]
    }
   ],
   "source": [
    "print_csdata_table(keys, csdata)"
   ]
  },
  {
   "cell_type": "code",
   "execution_count": 21,
   "metadata": {},
   "outputs": [
    {
     "name": "stdout",
     "output_type": "stream",
     "text": [
      "background\n",
      "This contribution to rotational excitation (resonance - USING SUM OF SCHULZ VIBRATION IN A SINGLE-LEVEL APPROXIMATION) is not part of the complete set.  Use of this cross section in addition to the CAR approximation could be used in place of the single level approximation for rotation which is presently part of the complete set.\n",
      "\\N\n",
      "Single level approximation to rotation (SLAR).  See Hake and Phelps, Phys. Rev. 158, 60 (1967).\n",
      "N2 VIBRATIONAL (V=1), ENGELHARDT, PHELPS, amp RISK BELOW 1.6 PLUS 2.3 EV RES  MODIFED FEB 82.\n",
      "N2 VIBRATIONAL (V=1),SCHULZ 64 input as two separate tables.\n",
      "N2 VIBRATIONAL (V=2) SCHULZ 64.\n",
      "N2 VIBRATIONAL (V=3) SCHULZ 64.\n",
      "N2 VIBRATIONAL (V=4) SCHULZ 64.\n",
      "N2 VIBRATIONAL (V=5) SCHULZ 64.\n",
      "N2 VIBRATIONAL (V=6) SCHULZ 64.\n",
      "N2 VIBRATIONAL (V=7) SCHULZ 64.\n",
      "N2 VIBRATIONAL (V=8) SCHULZ 64.\n",
      "N2 A3SIGMA-CARTWRIGHT 1977  V=0-4.\n",
      "N2 A3SIGMA-CARTWRIGHT 1977  V=5-9.\n",
      "N2 B3PI-CARTWRIGHT 1977.\n",
      "N2 W3DELTA-CARTWRIGHT 1977.\n",
      "N2 A3SIGMA-CARTWRIGHT 1977  V=10-.\n",
      "N2 ELECTRONIC (B'3) N2 BPRI3SIGMA-CARTWRIGHT 1977.\n",
      "N2 ELECTRONIC (a'1).\n",
      "N2 ELECTRONIC (a1).\n",
      "N2 ELECTRONIC (w1DELTA-CARTWRIGHT 1977).\n",
      "N2 ELECTRONIC (C3PI-CARTWRIGHT 1977 -FINN-KISKER THRESHOLD SCALED BY PHELPS).\n",
      "N2 ELECTRONIC (E3SIGMA-CARTWRIGHT 1977).\n",
      "N2 ELECTRONIC (aquot1).\n",
      "N2 SUM OF SINGLET STATES -ZIPF-MCLAUGHLIN 1978.\n",
      "Ionization RAPP,ENGLANDER-GOLDEN,1965.\n",
      "N2 B2SIGMA Excitation - BORST   ZIPF.\n"
     ]
    }
   ],
   "source": [
    "print_csdata_table(['background'], csdata)"
   ]
  },
  {
   "cell_type": "code",
   "execution_count": 22,
   "metadata": {},
   "outputs": [],
   "source": [
    "for cs in csdata:   \n",
    "    next_csdata_id = parser.write_data_to_file(data_array=cs['data'],\n",
    "                                                filename=cs['nepc_filename']+'.dat',\n",
    "                                                start_csdata_id=next_csdata_id)\n",
    "    next_cs_id = parser.write_metadata_to_file(filename=cs['nepc_filename']+'.met',\n",
    "                                                cs_id=next_cs_id,\n",
    "                                                specie=cs['specie'],\n",
    "                                                process=cs['process'],\n",
    "                                                lhs_a=cs['lhs_a'],\n",
    "                                                rhs_a=cs['rhs_a'],\n",
    "                                                lhs_v=cs['lhs_v'],\n",
    "                                                rhs_v=cs['rhs_v'],\n",
    "                                                units_e=cs['units_e'],\n",
    "                                                units_sigma=cs['units_sigma'],\n",
    "                                                threshold=cs['threshold'],\n",
    "                                                ref=cs['ref'],\n",
    "                                                background=cs['background'])\n",
    "    parser.write_models_to_file(filename=cs['nepc_filename']+'.mod',\n",
    "                                 models_array=cs['models'])"
   ]
  },
  {
   "cell_type": "code",
   "execution_count": 23,
   "metadata": {},
   "outputs": [],
   "source": [
    "parser.write_next_id_to_file(next_cs_id, next_csdata_id, test=True)"
   ]
  },
  {
   "cell_type": "code",
   "execution_count": 24,
   "metadata": {},
   "outputs": [
    {
     "data": {
      "text/plain": [
       "(28, 579)"
      ]
     },
     "execution_count": 24,
     "metadata": {},
     "output_type": "execute_result"
    }
   ],
   "source": [
    "next_cs_id, next_csdata_id"
   ]
  },
  {
   "cell_type": "code",
   "execution_count": null,
   "metadata": {},
   "outputs": [],
   "source": []
  }
 ],
 "metadata": {
  "kernelspec": {
   "display_name": "Python 3",
   "language": "python",
   "name": "python3"
  },
  "language_info": {
   "codemirror_mode": {
    "name": "ipython",
    "version": 3
   },
   "file_extension": ".py",
   "mimetype": "text/x-python",
   "name": "python",
   "nbconvert_exporter": "python",
   "pygments_lexer": "ipython3",
   "version": "3.7.2"
  }
 },
 "nbformat": 4,
 "nbformat_minor": 2
}
