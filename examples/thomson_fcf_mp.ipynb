{
 "cells": [
  {
   "cell_type": "markdown",
   "metadata": {},
   "source": [
    "The purpose of this notebook is to demonstrate the methods in `methods/mp` and `methods/thomson` for computing nuclear wavefunctions and Franck-Condon factors for diatomic molecules."
   ]
  },
  {
   "cell_type": "code",
   "execution_count": 1,
   "metadata": {},
   "outputs": [],
   "source": [
    "import nepc.methods.mp as mp\n",
    "import nepc.methods.thomson as thomson\n",
    "from nepc.util.util import get_size\n",
    "from nepc.util.constants import N2_DIATOMIC_CONSTANTS\n",
    "from nepc.util.constants import MU_NITROGEN_KG\n",
    "from nepc.util import scraper\n",
    "from nepc.util import config\n",
    "import pdfplumber\n",
    "import numpy as np\n",
    "import matplotlib.pyplot as plt\n",
    "from nepc.util import latexify\n",
    "from numpy import exp"
   ]
  },
  {
   "cell_type": "markdown",
   "metadata": {},
   "source": [
    "## Reference Franck-Condon Factors\n",
    "\n",
    "As validation of our computational method, we will compare with available Franck-Condon factors from the literature."
   ]
  },
  {
   "cell_type": "code",
   "execution_count": 2,
   "metadata": {},
   "outputs": [],
   "source": [
    "nepcHome = config.nepc_home()\n",
    "pdfHome = nepcHome + \"/ref/angus/\"\n",
    "tmpdir = nepcHome + \"/tmp/\""
   ]
  },
  {
   "cell_type": "code",
   "execution_count": 3,
   "metadata": {},
   "outputs": [],
   "source": [
    "pdfGilmore = scraper.get_pdf(pdfHome + \"30_gilmore_j_phys_chem_ref_data_21_1005_1992.pdf\")"
   ]
  },
  {
   "cell_type": "code",
   "execution_count": 4,
   "metadata": {},
   "outputs": [],
   "source": [
    "scraper.rmdir(tmpdir)\n",
    "scraper.mkdir(tmpdir)"
   ]
  },
  {
   "cell_type": "code",
   "execution_count": 5,
   "metadata": {},
   "outputs": [],
   "source": [
    "flatten = lambda l: [item for sublist in l for item in sublist]"
   ]
  },
  {
   "cell_type": "code",
   "execution_count": 6,
   "metadata": {},
   "outputs": [],
   "source": [
    "def fcf_extracted_gilmore(pdf, page_number, x_0, column_width, y_0, y_1, vpp_max, locate_tables, debug):\n",
    "    crop_dim = []\n",
    "    for i in range(vpp_max + 1):\n",
    "        crop_dim.append([x_0+i*column_width, y_0, x_0+(i+1)*column_width, y_1])\n",
    "    fcf_data = []\n",
    "    for i in range(len(crop_dim)):\n",
    "        if debug is True: \n",
    "            print(\"vpp: \", str(i))\n",
    "        dataY = scraper.get_column_strings(pdf=pdfGilmore,\n",
    "                                           page_number=page_number,\n",
    "                                           crop_dim_array=crop_dim[i],\n",
    "                                           locate_tables=locate_tables)\n",
    "        if locate_tables is False:\n",
    "            dataY=[s.replace('(', 'E') for s in dataY]\n",
    "            dataY=[s.replace(')', '') for s in dataY]\n",
    "            dataY=[s.replace('{', 'E') for s in dataY]\n",
    "            dataY=[s.replace('}', '') for s in dataY]\n",
    "            dataY=[s.replace('t', '') for s in dataY]\n",
    "            dataY=[s.replace(',', '.') for s in dataY]\n",
    "            dataY=[s.replace(\"'\", '') for s in dataY]\n",
    "            dataY=[s.replace(' ', '') for s in dataY]\n",
    "            dataY=[s.replace('*', '') for s in dataY]\n",
    "            dataY=[s.replace(':', '.') for s in dataY]\n",
    "            dataY=[s.replace('~', '4') for s in dataY]\n",
    "            dataY=[s.replace('E-4.', 'E-4') for s in dataY]\n",
    "            dataY=[s.replace('.5.50E-2', '5.50E-2') for s in dataY]\n",
    "            dataY=[s.replace('<1E', '4E') for s in dataY]\n",
    "            dataY=[s.replace('<lE', '4E') for s in dataY]\n",
    "            dataY=[s.replace('!E', '7E') for s in dataY]\n",
    "            dataY=[s.replace('E1E', '0E') for s in dataY]\n",
    "            dataY=[s.replace('8EE', '85E') for s in dataY]\n",
    "            dataY=[s.replace('OE-I', '0E-1') for s in dataY]\n",
    "            dataY=[s.replace('SE', '8E') for s in dataY]\n",
    "            dataY=[s.replace(']E', '1E') for s in dataY]\n",
    "            dataY=[s.replace('].42E-2', '1.42E-2') for s in dataY]\n",
    "            dataY=[s.replace('UJ3E-I', '1.03E-1') for s in dataY]            \n",
    "            dataY=scraper.text_array_to_float_array(dataY)\n",
    "            fcf_data.append(flatten(dataY))\n",
    "    if locate_tables is False:\n",
    "        return fcf_data\n"
   ]
  },
  {
   "cell_type": "code",
   "execution_count": 7,
   "metadata": {},
   "outputs": [],
   "source": [
    "\"\"\"data_fcf_n2_table_XX stores the FCF's from Gilmore, Table XX\"\"\"\n",
    "data_fcf_n2_table_20 = fcf_extracted_gilmore(pdf=pdfGilmore,\n",
    "                                                  page_number=86,\n",
    "                                                  x_0=163,\n",
    "                                                  column_width=47,\n",
    "                                                  y_0=170,\n",
    "                                                  y_1=490,\n",
    "                                                  vpp_max=10,\n",
    "                                                  locate_tables=False,\n",
    "                                                  debug=False)"
   ]
  },
  {
   "cell_type": "code",
   "execution_count": 8,
   "metadata": {},
   "outputs": [],
   "source": [
    "#TODO: scrape remaining Franck-Condon factors for N2 and O2 for comparison"
   ]
  },
  {
   "cell_type": "code",
   "execution_count": 9,
   "metadata": {},
   "outputs": [],
   "source": [
    "\"\"\"data_fcf_n2_table_XX stores the FCF's from Gilmore, Table XX\"\"\"\n",
    "data_fcf_n2_table_28 = fcf_extracted_gilmore(pdf=pdfGilmore,\n",
    "                                                  page_number=92,\n",
    "                                                  x_0=163,\n",
    "                                                  column_width=47,\n",
    "                                                  y_0=170,\n",
    "                                                  y_1=490,\n",
    "                                                  vpp_max=10,\n",
    "                                                  locate_tables=False,\n",
    "                                                  debug=False)"
   ]
  },
  {
   "cell_type": "code",
   "execution_count": 10,
   "metadata": {},
   "outputs": [],
   "source": [
    "data_fcf_n2_table_29 = fcf_extracted_gilmore(pdf=pdfGilmore,\n",
    "                                                 page_number=93,\n",
    "                                                 x_0=170,\n",
    "                                                 column_width=47,\n",
    "                                                  y_0=140,\n",
    "                                                  y_1=450,\n",
    "                                                 vpp_max=10,\n",
    "                                                 locate_tables=False,\n",
    "                                                 debug=False)"
   ]
  },
  {
   "cell_type": "code",
   "execution_count": 11,
   "metadata": {},
   "outputs": [],
   "source": [
    "data_fcf_n2_table_30 = fcf_extracted_gilmore(pdf=pdfGilmore,\n",
    "                                                 page_number=94,\n",
    "                                                 x_0=175,\n",
    "                                                 column_width=47,\n",
    "                                                  y_0=170,\n",
    "                                                  y_1=350,\n",
    "                                                 vpp_max=10,\n",
    "                                                 locate_tables=False,\n",
    "                                                 debug=False)"
   ]
  },
  {
   "cell_type": "code",
   "execution_count": 12,
   "metadata": {},
   "outputs": [],
   "source": [
    "data_fcf_n2_table_31 = fcf_extracted_gilmore(pdf=pdfGilmore,\n",
    "                                                 page_number=95,\n",
    "                                                 x_0=177,\n",
    "                                                 column_width=47,\n",
    "                                                  y_0=160,\n",
    "                                                  y_1=330,\n",
    "                                                 vpp_max=10,\n",
    "                                                 locate_tables=False,\n",
    "                                                 debug=False)"
   ]
  },
  {
   "cell_type": "markdown",
   "metadata": {},
   "source": [
    "## Compute Overlap Integrals\n",
    "\n",
    "As a validation, we can use the FCF code to compute overlap integrals for each state and check to make sure the diagonal elements are one and off-diagonal elements are zero."
   ]
  },
  {
   "cell_type": "code",
   "execution_count": 13,
   "metadata": {},
   "outputs": [
    {
     "data": {
      "text/plain": [
       "dict_keys(['N2(X1Sigmag+)', 'N2(A3Sigmau+)', 'N2(B3Pig)', 'N2+(X2Sigmag+)'])"
      ]
     },
     "execution_count": 13,
     "metadata": {},
     "output_type": "execute_result"
    }
   ],
   "source": [
    "#TODO: add remaining constants from NIST website to `nepc/util/constants.py`\n",
    "#TODO: compute overlap integrals for all states and perform numerical checks below\n",
    "N2_DIATOMIC_CONSTANTS.keys()"
   ]
  },
  {
   "cell_type": "code",
   "execution_count": 14,
   "metadata": {},
   "outputs": [],
   "source": [
    "p_list=['N2(X1Sigmag+)']\n",
    "pp_list=['N2(X1Sigmag+)']\n",
    "vp_list = np.arange(11)\n",
    "vpp_list = np.arange(11)\n",
    "jp_list = np.arange(1)\n",
    "jpp_list = np.arange(1)\n",
    "psi_p_keep = [p_list,[0,5,10],[0]]\n",
    "psi_pp_keep = [pp_list,[0,5,10],[0]]\n",
    "dbug = False"
   ]
  },
  {
   "cell_type": "code",
   "execution_count": 15,
   "metadata": {},
   "outputs": [],
   "source": [
    "Vr_p, Vr_pp, psi_p, psi_pp, fcf = thomson.fcf(p_list, pp_list,\n",
    "                                             vp_list, vpp_list,\n",
    "                                             jp_list, jpp_list,\n",
    "                                             diatomic_constants=N2_DIATOMIC_CONSTANTS,\n",
    "                                             reduced_mass=MU_NITROGEN_KG,\n",
    "                                             k=17,\n",
    "                                             delta_r=.5,\n",
    "                                             psi_p_keep=psi_p_keep,\n",
    "                                             psi_pp_keep=psi_pp_keep,\n",
    "                                             dbug=False)"
   ]
  },
  {
   "cell_type": "code",
   "execution_count": 16,
   "metadata": {},
   "outputs": [
    {
     "data": {
      "text/plain": [
       "6560"
      ]
     },
     "execution_count": 16,
     "metadata": {},
     "output_type": "execute_result"
    }
   ],
   "source": [
    "get_size(fcf)"
   ]
  },
  {
   "cell_type": "code",
   "execution_count": 17,
   "metadata": {},
   "outputs": [
    {
     "data": {
      "text/plain": [
       "4196070"
      ]
     },
     "execution_count": 17,
     "metadata": {},
     "output_type": "execute_result"
    }
   ],
   "source": [
    "get_size(psi_p)"
   ]
  },
  {
   "cell_type": "code",
   "execution_count": 18,
   "metadata": {},
   "outputs": [
    {
     "data": {
      "text/plain": [
       "4196070"
      ]
     },
     "execution_count": 18,
     "metadata": {},
     "output_type": "execute_result"
    }
   ],
   "source": [
    "get_size(psi_pp)"
   ]
  },
  {
   "cell_type": "code",
   "execution_count": 19,
   "metadata": {},
   "outputs": [
    {
     "data": {
      "text/plain": [
       "[{'state': 'N2(X1Sigmag+)',\n",
       "  'v': 0,\n",
       "  'j': 0,\n",
       "  'r_array': array([0.597688  , 0.59769802, 0.59770804, ..., 1.59766796, 1.59767798,\n",
       "         1.597688  ]),\n",
       "  'psi_r': array([7.42665204e-49, 7.46925834e-49, 7.51210701e-49, ...,\n",
       "         1.65855649e-19, 1.65611356e-19, 1.65367418e-19])},\n",
       " {'state': 'N2(X1Sigmag+)',\n",
       "  'v': 5,\n",
       "  'j': 0,\n",
       "  'r_array': array([0.597688  , 0.59769802, 0.59770804, ..., 1.59766796, 1.59767798,\n",
       "         1.597688  ]),\n",
       "  'psi_r': array([-3.99022991e-45, -4.01293903e-45, -4.03577628e-45, ...,\n",
       "          4.59658249e-13,  4.59067380e-13,  4.58477256e-13])},\n",
       " {'state': 'N2(X1Sigmag+)',\n",
       "  'v': 10,\n",
       "  'j': 0,\n",
       "  'r_array': array([0.597688  , 0.59769802, 0.59770804, ..., 1.59766796, 1.59767798,\n",
       "         1.597688  ]),\n",
       "  'psi_r': array([1.36169216e-42, 1.36938338e-42, 1.37711766e-42, ...,\n",
       "         2.99332482e-08, 2.99008392e-08, 2.98684643e-08])}]"
      ]
     },
     "execution_count": 19,
     "metadata": {},
     "output_type": "execute_result"
    }
   ],
   "source": [
    "psi_p"
   ]
  },
  {
   "cell_type": "code",
   "execution_count": 20,
   "metadata": {},
   "outputs": [
    {
     "data": {
      "text/plain": [
       "[{'state': 'N2(X1Sigmag+)',\n",
       "  'v': 0,\n",
       "  'j': 0,\n",
       "  'r_array': array([0.597688  , 0.59769802, 0.59770804, ..., 1.59766796, 1.59767798,\n",
       "         1.597688  ]),\n",
       "  'psi_r': array([7.42665204e-49, 7.46925834e-49, 7.51210701e-49, ...,\n",
       "         1.65855649e-19, 1.65611356e-19, 1.65367418e-19])},\n",
       " {'state': 'N2(X1Sigmag+)',\n",
       "  'v': 5,\n",
       "  'j': 0,\n",
       "  'r_array': array([0.597688  , 0.59769802, 0.59770804, ..., 1.59766796, 1.59767798,\n",
       "         1.597688  ]),\n",
       "  'psi_r': array([-3.99022991e-45, -4.01293903e-45, -4.03577628e-45, ...,\n",
       "          4.59658249e-13,  4.59067380e-13,  4.58477256e-13])},\n",
       " {'state': 'N2(X1Sigmag+)',\n",
       "  'v': 10,\n",
       "  'j': 0,\n",
       "  'r_array': array([0.597688  , 0.59769802, 0.59770804, ..., 1.59766796, 1.59767798,\n",
       "         1.597688  ]),\n",
       "  'psi_r': array([1.36169216e-42, 1.36938338e-42, 1.37711766e-42, ...,\n",
       "         2.99332482e-08, 2.99008392e-08, 2.98684643e-08])}]"
      ]
     },
     "execution_count": 20,
     "metadata": {},
     "output_type": "execute_result"
    }
   ],
   "source": [
    "psi_pp"
   ]
  },
  {
   "cell_type": "code",
   "execution_count": 21,
   "metadata": {},
   "outputs": [
    {
     "name": "stdout",
     "output_type": "stream",
     "text": [
      "[1.         1.         1.         1.         1.         1.\n",
      " 1.         0.99999999 1.00000012 0.99999937 0.99999889]\n"
     ]
    }
   ],
   "source": [
    "print(np.diagonal(fcf[0][0][0][0]))"
   ]
  },
  {
   "cell_type": "code",
   "execution_count": 22,
   "metadata": {},
   "outputs": [
    {
     "data": {
      "text/plain": [
       "array([2.07603568e-25, 1.24570232e-23, 4.84150440e-26, 3.45324419e-21,\n",
       "       1.31947181e-22, 8.18378947e-25, 1.67442274e-19, 6.65386853e-23,\n",
       "       1.24410396e-22, 8.91741651e-24, 5.40230011e-17, 4.92831003e-18,\n",
       "       8.81605111e-20, 7.90565020e-22, 5.39096031e-22, 5.73745591e-15,\n",
       "       1.93058267e-16, 6.24318520e-19, 2.15065460e-19, 4.85790980e-20,\n",
       "       7.92114174e-20, 2.03102493e-14, 6.38749787e-17, 5.13153030e-18,\n",
       "       2.18187211e-17, 7.46272198e-19, 2.22344527e-17, 1.35334736e-17,\n",
       "       1.21228068e-12, 3.36367022e-13, 2.92127976e-14, 3.63474982e-18,\n",
       "       3.76759576e-16, 4.57474002e-16, 1.13556407e-15, 8.06266378e-17,\n",
       "       3.41789882e-10, 6.40793342e-11, 4.00889941e-12, 6.72421199e-14,\n",
       "       4.23992872e-14, 1.22057452e-14, 3.92439542e-14, 6.61840999e-16,\n",
       "       2.47850574e-14, 4.43500209e-08, 1.05886892e-08, 1.00311597e-09,\n",
       "       4.23275366e-11, 3.87465974e-12, 3.42326178e-13, 1.06886814e-12,\n",
       "       4.74678828e-14, 9.06822887e-13, 9.21341265e-13, 2.07603568e-25,\n",
       "       1.24570232e-23, 3.45324419e-21, 1.67442274e-19, 5.40230011e-17,\n",
       "       5.73745591e-15, 2.03102493e-14, 1.21228068e-12, 3.41789882e-10,\n",
       "       4.43500209e-08, 4.84150440e-26, 1.31947181e-22, 6.65386853e-23,\n",
       "       4.92831003e-18, 1.93058267e-16, 6.38749787e-17, 3.36367022e-13,\n",
       "       6.40793342e-11, 1.05886892e-08, 8.18378947e-25, 1.24410396e-22,\n",
       "       8.81605111e-20, 6.24318520e-19, 5.13153030e-18, 2.92127976e-14,\n",
       "       4.00889941e-12, 1.00311597e-09, 8.91741651e-24, 7.90565020e-22,\n",
       "       2.15065460e-19, 2.18187211e-17, 3.63474982e-18, 6.72421199e-14,\n",
       "       4.23275366e-11, 5.39096031e-22, 4.85790980e-20, 7.46272198e-19,\n",
       "       3.76759576e-16, 4.23992872e-14, 3.87465974e-12, 7.92114174e-20,\n",
       "       2.22344527e-17, 4.57474002e-16, 1.22057452e-14, 3.42326178e-13,\n",
       "       1.35334736e-17, 1.13556407e-15, 3.92439542e-14, 1.06886814e-12,\n",
       "       8.06266378e-17, 6.61840999e-16, 4.74678828e-14, 2.47850574e-14,\n",
       "       9.06822887e-13, 9.21341265e-13])"
      ]
     },
     "execution_count": 22,
     "metadata": {},
     "output_type": "execute_result"
    }
   ],
   "source": [
    "thomson.off_diagonal_elements(np.array(fcf[0][0][0][0]))"
   ]
  },
  {
   "cell_type": "code",
   "execution_count": 23,
   "metadata": {},
   "outputs": [
    {
     "data": {
      "text/plain": [
       "6.149905670515166e-09"
      ]
     },
     "execution_count": 23,
     "metadata": {},
     "output_type": "execute_result"
    }
   ],
   "source": [
    "thomson.rmse_off_diagonal_elements(np.array(fcf[0][0][0][0]))"
   ]
  },
  {
   "cell_type": "markdown",
   "metadata": {},
   "source": [
    "### Incremental RMSE\n",
    "\n",
    "We can compute the RMSE as a function of v' to see how the cumulative error grows as we increase the number of vibrational levels."
   ]
  },
  {
   "cell_type": "code",
   "execution_count": 24,
   "metadata": {},
   "outputs": [
    {
     "name": "stdout",
     "output_type": "stream",
     "text": [
      "i: 2; rmse: 2.0760356823816384e-25\n",
      "i: 3; rmse: 7.193118734674784e-24\n",
      "i: 4; rmse: 1.4108189948268802e-21\n",
      "i: 5; rmse: 5.296119106032183e-20\n",
      "i: 6; rmse: 1.4006685817342757e-17\n",
      "i: 7; rmse: 1.2527800518910035e-15\n",
      "i: 8; rmse: 3.988689825011654e-15\n",
      "i: 9; rmse: 2.0976625459968608e-13\n",
      "i: 10; rmse: 5.18425283158353e-11\n",
      "i: 11; rmse: 6.149905670515166e-09\n"
     ]
    }
   ],
   "source": [
    "thomson.incremental_rmse_off_diagonal_elements(np.array(fcf[0][0][0][0]))"
   ]
  },
  {
   "cell_type": "code",
   "execution_count": 25,
   "metadata": {},
   "outputs": [
    {
     "name": "stdout",
     "output_type": "stream",
     "text": [
      "i: 1; rmse: 1.2878587085651816e-14\n",
      "i: 2; rmse: 5.849263503687179e-14\n",
      "i: 3; rmse: 8.686684631602317e-14\n",
      "i: 4; rmse: 2.04829378278883e-13\n",
      "i: 5; rmse: 8.531160311515375e-12\n",
      "i: 6; rmse: 2.1598630779227068e-11\n",
      "i: 7; rmse: 7.047727789621915e-10\n",
      "i: 8; rmse: 2.5768960439446153e-09\n",
      "i: 9; rmse: 3.9921286262981266e-08\n",
      "i: 10; rmse: 2.040927898088337e-07\n",
      "i: 11; rmse: 3.880010835321035e-07\n"
     ]
    }
   ],
   "source": [
    "thomson.incremental_rmse_diagonal_elements(np.array(fcf[0][0][0][0]))"
   ]
  },
  {
   "cell_type": "code",
   "execution_count": 26,
   "metadata": {},
   "outputs": [
    {
     "data": {
      "text/plain": [
       "array([-1.28785871e-14,  8.17124146e-14, -1.25677246e-13, -3.81028542e-13,\n",
       "       -1.90718552e-11,  4.93467489e-11, -1.86390281e-09, -7.04600689e-09,\n",
       "        1.19541870e-07, -6.34188684e-07, -1.11330795e-06])"
      ]
     },
     "execution_count": 26,
     "metadata": {},
     "output_type": "execute_result"
    }
   ],
   "source": [
    "np.diagonal(np.array(fcf[0][0][0][0]))-1"
   ]
  },
  {
   "cell_type": "code",
   "execution_count": 27,
   "metadata": {},
   "outputs": [
    {
     "data": {
      "image/png": "[encoded data removed]",
      "text/plain": [
       "<Figure size 432x288 with 1 Axes>"
      ]
     },
     "metadata": {
      "needs_background": "light"
     },
     "output_type": "display_data"
    }
   ],
   "source": [
    "fcf_diagonal_error = np.sqrt((np.diagonal(np.array(fcf[0][0][0][0]))-1)**2)\n",
    "# histogram on linear scale\n",
    "#plt.subplot(311)\n",
    "hist, bins, _ = plt.hist(fcf_diagonal_error, bins=6)"
   ]
  },
  {
   "cell_type": "code",
   "execution_count": 28,
   "metadata": {},
   "outputs": [
    {
     "data": {
      "image/png": "[encoded data removed]",
      "text/plain": [
       "<Figure size 432x288 with 1 Axes>"
      ]
     },
     "metadata": {
      "needs_background": "light"
     },
     "output_type": "display_data"
    }
   ],
   "source": [
    "# histogram on log scale. \n",
    "# Use non-equal bin sizes, such that they look equal on log scale.\n",
    "bin_first = round(np.log10(bins[0]))\n",
    "bin_last = round(np.log10(bins[-1])+1)\n",
    "logbins = np.logspace(bin_first, bin_last, abs(bin_first) - abs(bin_last)+1)\n",
    "#plt.subplot(312)\n",
    "plt.hist(fcf_diagonal_error, bins=logbins)\n",
    "plt.xscale('log')\n",
    "plt.show()"
   ]
  },
  {
   "cell_type": "markdown",
   "metadata": {},
   "source": [
    "### Check of delta_r\n",
    "\n",
    "We can visually inspect plots of psi_p, psi_pp, and psi_p x psi_pp for the highest vibrational modes to ensure that we have captured the entire wavefunction (but haven't made the integration limits too large)."
   ]
  },
  {
   "cell_type": "code",
   "execution_count": 29,
   "metadata": {},
   "outputs": [],
   "source": [
    "psi_0 = psi_p[1]['psi_r']\n",
    "r_array_0 = psi_p[1]['r_array']\n",
    "psi_1 = psi_p[2]['psi_r']\n",
    "r_array_1 = psi_p[2]['r_array']\n",
    "psi_0_1 = psi_0 * psi_1"
   ]
  },
  {
   "cell_type": "code",
   "execution_count": 30,
   "metadata": {},
   "outputs": [
    {
     "data": {
      "image/png": "[encoded data removed]",
      "text/plain": [
       "<Figure size 432x288 with 1 Axes>"
      ]
     },
     "metadata": {
      "needs_background": "light"
     },
     "output_type": "display_data"
    }
   ],
   "source": [
    "plt.plot(r_array_0,psi_0, 'r')\n",
    "plt.axis([min(r_array_0), max(r_array_0), min(psi_0), max(psi_0)])\n",
    "plt.show()"
   ]
  },
  {
   "cell_type": "code",
   "execution_count": 31,
   "metadata": {},
   "outputs": [
    {
     "data": {
      "image/png": "[encoded data removed]",
      "text/plain": [
       "<Figure size 432x288 with 1 Axes>"
      ]
     },
     "metadata": {
      "needs_background": "light"
     },
     "output_type": "display_data"
    }
   ],
   "source": [
    "plt.plot(r_array_1, psi_1, 'r')\n",
    "plt.axis([min(r_array_1), max(r_array_1), min(psi_1), max(psi_1)])\n",
    "plt.show()"
   ]
  },
  {
   "cell_type": "code",
   "execution_count": 32,
   "metadata": {
    "scrolled": true
   },
   "outputs": [
    {
     "data": {
      "image/png": "[encoded data removed]",
      "text/plain": [
       "<Figure size 432x288 with 1 Axes>"
      ]
     },
     "metadata": {
      "needs_background": "light"
     },
     "output_type": "display_data"
    }
   ],
   "source": [
    "plt.plot(r_array_0, psi_0_1, 'r')\n",
    "plt.axis([min(r_array_0), max(r_array_0), min(psi_0_1), max(psi_0_1)])\n",
    "plt.show()"
   ]
  },
  {
   "cell_type": "code",
   "execution_count": null,
   "metadata": {},
   "outputs": [],
   "source": []
  },
  {
   "cell_type": "markdown",
   "metadata": {},
   "source": [
    "## FCFs\n",
    "\n",
    "Now, we compute FCFs for the case where p' and p'' differ, compare with Gilmore's results, and also look at closure relationships."
   ]
  },
  {
   "cell_type": "code",
   "execution_count": 33,
   "metadata": {},
   "outputs": [
    {
     "data": {
      "text/plain": [
       "dict_keys(['N2(X1Sigmag+)', 'N2(A3Sigmau+)', 'N2(B3Pig)', 'N2+(X2Sigmag+)'])"
      ]
     },
     "execution_count": 33,
     "metadata": {},
     "output_type": "execute_result"
    }
   ],
   "source": [
    "N2_DIATOMIC_CONSTANTS.keys()"
   ]
  },
  {
   "cell_type": "code",
   "execution_count": 34,
   "metadata": {},
   "outputs": [],
   "source": [
    "p_list=['N2(X1Sigmag+)']\n",
    "pp_list=['N2(B3Pig)']\n",
    "vp_list = np.arange(11)\n",
    "vpp_list = np.arange(11)\n",
    "jp_list = np.arange(1)\n",
    "jpp_list = np.arange(1)\n",
    "psi_p_keep = [p_list,[0,5,10],[0]]\n",
    "psi_pp_keep = [pp_list,[0,5,10],[0]]\n",
    "dbug = False"
   ]
  },
  {
   "cell_type": "code",
   "execution_count": 35,
   "metadata": {},
   "outputs": [],
   "source": [
    "Vr_p, Vr_pp, psi_p, psi_pp, fcf = thomson.fcf(p_list, pp_list,\n",
    "                                 vp_list, vpp_list,\n",
    "                                 jp_list, jpp_list,\n",
    "                                 diatomic_constants=N2_DIATOMIC_CONSTANTS,\n",
    "                                 reduced_mass=MU_NITROGEN_KG,\n",
    "                                 k=17,\n",
    "                                 delta_r=.5,\n",
    "                                 psi_p_keep=psi_p_keep,\n",
    "                                 psi_pp_keep=psi_pp_keep,\n",
    "                                 dbug=False)"
   ]
  },
  {
   "cell_type": "code",
   "execution_count": 36,
   "metadata": {
    "scrolled": true
   },
   "outputs": [
    {
     "name": "stdout",
     "output_type": "stream",
     "text": [
      "\n",
      "v'/v'': 0\n",
      "0\t6.11E-02\t4.21E-02\n",
      "1\t1.47E-01\t1.08E-01\n",
      "2\t1.95E-01\t1.56E-01\n",
      "3\t1.90E-01\t1.68E-01\n",
      "4\t1.51E-01\t1.51E-01\n",
      "5\t1.05E-01\t1.20E-01\n",
      "6\t6.65E-02\t8.81E-02\n",
      "7\t3.90E-02\t6.06E-02\n",
      "8\t2.16E-02\t3.99E-02\n",
      "9\t1.15E-02\t2.54E-02\n",
      "10\t5.92E-03\t1.58E-02\n",
      "\n",
      "v'/v'': 1\n",
      "0\t1.91E-01\t1.58E-01\n",
      "1\t1.93E-01\t1.93E-01\n",
      "2\t6.54E-02\t1.00E-01\n",
      "3\t7.17E-04\t1.79E-02\n",
      "4\t2.58E-02\t1.51E-03\n",
      "5\t7.60E-02\t2.81E-02\n",
      "6\t1.04E-01\t6.07E-02\n",
      "7\t1.03E-01\t7.95E-02\n",
      "8\t8.39E-02\t8.18E-02\n",
      "9\t6.04E-02\t7.29E-02\n",
      "10\t3.98E-02\t5.92E-02\n",
      "\n",
      "v'/v'': 2\n",
      "0\t2.74E-01\t2.64E-01\n",
      "1\t4.50E-02\t7.74E-02\n",
      "2\t2.39E-02\t3.03E-03\n",
      "3\t1.05E-01\t6.86E-02\n",
      "4\t8.38E-02\t9.33E-02\n",
      "5\t2.07E-02\t5.52E-02\n",
      "6\t5.33E-04\t1.29E-02\n",
      "7\t2.49E-02\t1.16E-04\n",
      "8\t5.85E-02\t1.27E-02\n",
      "9\t7.72E-02\t3.36E-02\n",
      "10\t7.73E-02\t4.99E-02\n",
      "\n",
      "v'/v'': 3\n",
      "0\t2.41E-01\t2.60E-01\n",
      "1\t1.59E-02\t2.52E-03\n",
      "2\t1.30E-01\t1.13E-01\n",
      "3\t3.60E-02\t6.92E-02\n",
      "4\t7.32E-03\t1.52E-03\n",
      "5\t6.56E-02\t2.44E-02\n",
      "6\t7.50E-02\t6.24E-02\n",
      "7\t3.34E-02\t6.01E-02\n",
      "8\t2.39E-03\t3.13E-02\n",
      "9\t6.14E-03\t6.72E-03\n",
      "10\t3.00E-02\t1.62E-04\n",
      "\n",
      "v'/v'': 4\n",
      "0\t1.44E-01\t1.68E-01\n",
      "1\t1.42E-01\t1.16E-01\n",
      "2\t4.81E-02\t7.81E-02\n",
      "3\t3.09E-02\t6.28E-03\n",
      "4\t9.25E-02\t7.77E-02\n",
      "5\t2.61E-02\t5.86E-02\n",
      "6\t3.74E-03\t6.32E-03\n",
      "7\t4.62E-02\t7.80E-03\n",
      "8\t6.37E-02\t3.81E-02\n",
      "9\t3.82E-02\t5.14E-02\n",
      "10\t8.13E-03\t3.94E-02\n",
      "\n",
      "v'/v'': 5\n",
      "0\t6.24E-02\t7.56E-02\n",
      "1\t2.05E-01\t2.13E-01\n",
      "2\t9.67E-03\t7.35E-04\n",
      "3\t1.11E-01\t1.07E-01\n",
      "4\t6.91E-03\t3.17E-02\n",
      "5\t4.12E-02\t9.17E-03\n",
      "6\t7.11E-02\t6.00E-02\n",
      "7\t1.87E-02\t5.03E-02\n",
      "8\t2.54E-03\t1.03E-02\n",
      "9\t3.48E-02\t1.58E-03\n",
      "10\t5.38E-02\t2.14E-02\n",
      "\n",
      "v'/v'': 6\n",
      "0\t2.03E-02\t2.44E-02\n",
      "1\t1.51E-01\t1.73E-01\n",
      "2\t1.24E-01\t1.06E-01\n",
      "3\t2.50E-02\t4.95E-02\n",
      "4\t5.99E-02\t2.98E-02\n",
      "5\t6.26E-02\t7.94E-02\n",
      "6\t4.31E-05\t1.33E-02\n",
      "7\t4.58E-02\t1.05E-02\n",
      "8\t5.61E-02\t4.84E-02\n",
      "9\t1.36E-02\t4.41E-02\n",
      "10\t1.89E-03\t1.36E-02\n",
      "\n",
      "v'/v'': 7\n",
      "0\t5.02E-03\t5.73E-03\n",
      "1\t7.14E-02\t8.38E-02\n",
      "2\t1.86E-01\t1.98E-01\n",
      "3\t2.43E-02\t1.02E-02\n",
      "4\t8.84E-02\t1.03E-01\n",
      "5\t3.07E-03\t1.87E-03\n",
      "6\t7.35E-02\t4.91E-02\n",
      "7\t2.77E-02\t5.57E-02\n",
      "8\t4.27E-03\t5.73E-03\n",
      "9\t4.60E-02\t1.04E-02\n",
      "10\t4.50E-02\t3.97E-02\n",
      "\n",
      "v'/v'': 8\n",
      "0\t9.65E-04\t9.90E-04\n",
      "1\t2.37E-02\t2.69E-02\n",
      "2\t1.34E-01\t1.53E-01\n",
      "3\t1.41E-01\t1.35E-01\n",
      "4\t3.07E-03\t1.37E-02\n",
      "5\t8.95E-02\t7.26E-02\n",
      "6\t1.72E-02\t4.38E-02\n",
      "7\t2.91E-02\t4.16E-03\n",
      "8\t6.02E-02\t5.24E-02\n",
      "9\t9.13E-03\t3.89E-02\n",
      "10\t1.03E-02\t2.71E-03\n",
      "\n",
      "v'/v'': 9\n",
      "0\t1.44E-04\t1.26E-04\n",
      "1\t5.76E-03\t5.95E-03\n",
      "2\t6.02E-02\t6.79E-02\n",
      "3\t1.72E-01\t1.90E-01\n",
      "4\t5.97E-02\t4.63E-02\n",
      "5\t4.75E-02\t6.97E-02\n",
      "6\t3.77E-02\t1.51E-02\n",
      "7\t5.98E-02\t7.23E-02\n",
      "8\t1.75E-04\t1.05E-02\n",
      "9\t4.67E-02\t1.48E-02\n",
      "10\t4.06E-02\t4.80E-02\n",
      "\n",
      "v'/v'': 10\n",
      "0\t1.68E-05\t1.24E-05\n",
      "1\t1.05E-03\t9.26E-04\n",
      "2\t1.86E-02\t1.94E-02\n",
      "3\t1.08E-01\t1.21E-01\n",
      "4\t1.62E-01\t1.72E-01\n",
      "5\t5.91E-03\t1.10E-03\n",
      "6\t8.79E-02\t9.65E-02\n",
      "7\t1.36E-03\t2.47E-03\n",
      "8\t6.72E-02\t4.85E-02\n",
      "9\t1.79E-02\t4.51E-02\n",
      "10\t1.15E-02\t6.32E-04\n"
     ]
    }
   ],
   "source": [
    "for i in range(len(fcf[0][0][0][0])):\n",
    "    print('\\nv\\'/v\\'\\': {}'.format(i))\n",
    "    for j in range(len(fcf[0][0][0][0][0])):\n",
    "        print('{}\\t{:.2E}\\t{:.2E}'.format(j, data_fcf_n2_table_20[i][j], fcf[0][0][0][0][i][j]))\n"
   ]
  },
  {
   "cell_type": "markdown",
   "metadata": {},
   "source": [
    "These calculated FCF's appear to be fairly close to Gilmore's results, especially for v', v'' < 5."
   ]
  },
  {
   "cell_type": "code",
   "execution_count": 37,
   "metadata": {},
   "outputs": [
    {
     "data": {
      "text/plain": [
       "0.02205500772357083"
      ]
     },
     "execution_count": 37,
     "metadata": {},
     "output_type": "execute_result"
    }
   ],
   "source": [
    "thomson.rmse_calc_ref(np.array(fcf[0][0][0][0]), data_fcf_n2_table_20)"
   ]
  },
  {
   "cell_type": "code",
   "execution_count": 38,
   "metadata": {},
   "outputs": [],
   "source": [
    "p_list=['N2(X1Sigmag+)']\n",
    "pp_list=['N2+(X2Sigmag+)']\n",
    "vp_list = np.arange(11)\n",
    "vpp_list = np.arange(11)\n",
    "jp_list = np.arange(1)\n",
    "jpp_list = np.arange(1)\n",
    "psi_p_keep = [p_list,[0,5,10],[0]]\n",
    "psi_pp_keep = [pp_list,[0,5,10],[0]]\n",
    "dbug = False"
   ]
  },
  {
   "cell_type": "code",
   "execution_count": 39,
   "metadata": {},
   "outputs": [],
   "source": [
    "Vr_p, Vr_pp, psi_p, psi_pp, fcf = thomson.fcf(p_list, pp_list,\n",
    "                                 vp_list, vpp_list,\n",
    "                                 jp_list, jpp_list,\n",
    "                                 diatomic_constants=N2_DIATOMIC_CONSTANTS,\n",
    "                                 reduced_mass=MU_NITROGEN_KG,\n",
    "                                 k=17,\n",
    "                                 delta_r=.5,\n",
    "                                 psi_p_keep=psi_p_keep,\n",
    "                                 psi_pp_keep=psi_pp_keep,\n",
    "                                 dbug=False)"
   ]
  },
  {
   "cell_type": "code",
   "execution_count": 40,
   "metadata": {},
   "outputs": [
    {
     "data": {
      "text/plain": [
       "{'state': 'N2(X1Sigmag+)',\n",
       " 'v': 0,\n",
       " 'j': 0,\n",
       " 'r_array': array([0.6070505 , 0.60706052, 0.60707054, ..., 1.60703046, 1.60704048,\n",
       "        1.6070505 ]),\n",
       " 'psi_r': array([1.42448247e-46, 1.43237972e-46, 1.44032037e-46, ...,\n",
       "        4.15697365e-20, 4.15079662e-20, 4.14462864e-20])}"
      ]
     },
     "execution_count": 40,
     "metadata": {},
     "output_type": "execute_result"
    }
   ],
   "source": [
    "psi_p[0]"
   ]
  },
  {
   "cell_type": "code",
   "execution_count": 41,
   "metadata": {},
   "outputs": [
    {
     "data": {
      "text/plain": [
       "{'state': 'N2+(X2Sigmag+)',\n",
       " 'v': 0,\n",
       " 'j': 0,\n",
       " 'r_array': array([0.6070505 , 0.60706052, 0.60707054, ..., 1.60703046, 1.60704048,\n",
       "        1.6070505 ]),\n",
       " 'psi_r': array([1.42570893e-44, 1.43304035e-44, 1.44040912e-44, ...,\n",
       "        1.38192146e-16, 1.38015175e-16, 1.37838428e-16])}"
      ]
     },
     "execution_count": 41,
     "metadata": {},
     "output_type": "execute_result"
    }
   ],
   "source": [
    "psi_pp[0]"
   ]
  },
  {
   "cell_type": "code",
   "execution_count": 42,
   "metadata": {},
   "outputs": [
    {
     "name": "stdout",
     "output_type": "stream",
     "text": [
      "\n",
      "v'/v'': 0\n",
      "0\t9.17E-01\t9.11E-01\n",
      "1\t7.79E-02\t8.58E-02\n",
      "2\t4.65E-03\t3.09E-03\n",
      "3\t2.68E-04\t1.22E-05\n",
      "4\t1.76E-05\t6.41E-06\n",
      "5\t1.55E-06\t2.16E-06\n",
      "6\t2.13E-07\t2.58E-07\n",
      "7\t4.74E-08\t1.57E-08\n",
      "8\t1.47E-08\t3.23E-10\n",
      "9\t5.49E-09\t1.97E-10\n",
      "10\t2.24E-09\t2.83E-11\n",
      "\n",
      "v'/v'': 1\n",
      "0\t8.02E-02\t8.31E-02\n",
      "1\t7.60E-01\t7.42E-01\n",
      "2\t1.45E-01\t1.64E-01\n",
      "3\t1.38E-02\t1.03E-02\n",
      "4\t1.12E-03\t1.06E-04\n",
      "5\t9.62E-05\t2.11E-05\n",
      "6\t1.06E-05\t1.16E-05\n",
      "7\t1.71E-06\t1.87E-06\n",
      "8\t4.21E-07\t1.54E-07\n",
      "9\t1.42E-07\t5.55E-09\n",
      "10\t5.67E-08\t6.61E-11\n",
      "\n",
      "v'/v'': 2\n",
      "0\t2.53E-03\t5.60E-03\n",
      "1\t1.54E-01\t1.55E-01\n",
      "2\t6.12E-01\t5.85E-01\n",
      "3\t2.01E-01\t2.32E-01\n",
      "4\t2.72E-02\t2.24E-02\n",
      "5\t2.89E-03\t4.55E-04\n",
      "6\t3.14E-04\t3.59E-05\n",
      "7\t4.18E-05\t3.52E-05\n",
      "8\t7.79E-06\t7.52E-06\n",
      "9\t2.11E-06\t8.15E-07\n",
      "10\t7.58E-07\t3.89E-08\n",
      "\n",
      "v'/v'': 3\n",
      "0\t4.47E-05\t1.81E-04\n",
      "1\t7.91E-03\t1.67E-02\n",
      "2\t2.21E-01\t2.13E-01\n",
      "3\t4.75E-01\t4.42E-01\n",
      "4\t2.44E-01\t2.87E-01\n",
      "5\t4.45E-02\t3.98E-02\n",
      "6\t6.00E-03\t1.37E-03\n",
      "7\t7.97E-04\t3.66E-05\n",
      "8\t1.25E-04\t7.83E-05\n",
      "9\t2.65E-05\t2.21E-05\n",
      "10\t7.79E-06\t3.11E-06\n",
      "\n",
      "v'/v'': 4\n",
      "0\t4.17E-07\t5.01E-06\n",
      "1\t2.04E-04\t7.57E-04\n",
      "2\t1.65E-02\t3.29E-02\n",
      "3\t2.80E-01\t2.57E-01\n",
      "4\t3.51E-01\t3.17E-01\n",
      "5\t2.74E-01\t3.26E-01\n",
      "6\t6.50E-02\t6.22E-02\n",
      "7\t1.08E-02\t3.31E-03\n",
      "8\t1.72E-03\t1.64E-05\n",
      "9\t3.16E-04\t1.40E-04\n",
      "10\t7.48E-05\t5.26E-05\n",
      "\n",
      "v'/v'': 5\n",
      "0\t1.26E-08\t4.26E-08\n",
      "1\t2.57E-06\t2.67E-05\n",
      "2\t5.84E-04\t1.97E-03\n",
      "3\t2.86E-02\t5.38E-02\n",
      "4\t3.29E-01\t2.87E-01\n",
      "5\t2.42E-13\t2.13E-01\n",
      "6\t2.90E-01\t3.48E-01\n",
      "7\t8.78E-02\t8.90E-02\n",
      "8\t1.78E-02\t6.84E-03\n",
      "9\t3.34E-03\t4.62E-07\n",
      "10\t7.01E-04\t2.08E-04\n",
      "\n",
      "v'/v'': 6\n",
      "0\t2.10E-10\t1.29E-09\n",
      "1\t9.23E-08\t2.95E-07\n",
      "2\t9.55E-06\t8.55E-05\n",
      "3\t1.34E-03\t4.09E-03\n",
      "4\t4.46E-02\t7.86E-02\n",
      "5\t3.67E-01\t3.02E-01\n",
      "6\t1.50E-01\t1.30E-01\n",
      "7\t2.91E-01\t3.54E-01\n",
      "8\t1.11E-01\t1.19E-01\n",
      "9\t2.71E-02\t1.26E-02\n",
      "10\t5.94E-03\t7.63E-05\n",
      "\n",
      "v'/v'': 7\n",
      "0\t1.01E-10\t1.03E-11\n",
      "1\t1.28E-09\t9.32E-09\n",
      "2\t3.96E-07\t1.18E-06\n",
      "3\t2.78E-05\t2.12E-04\n",
      "4\t2.68E-03\t7.38E-03\n",
      "5\t6.46E-02\t1.06E-01\n",
      "6\t3.91E-01\t3.02E-01\n",
      "7\t7.83E-02\t6.85E-02\n",
      "8\t2.76E-01\t3.43E-01\n",
      "9\t1.34E-01\t1.50E-01\n",
      "10\t3.89E-02\t2.12E-02\n",
      "\n",
      "v'/v'': 8\n",
      "0\t2.09E-11\t9.22E-12\n",
      "1\t8.14E-10\t6.59E-11\n",
      "2\t4.23E-09\t3.89E-08\n",
      "3\t1.31E-06\t3.60E-06\n",
      "4\t6.99E-05\t4.50E-04\n",
      "5\t4.91E-03\t1.21E-02\n",
      "6\t8.87E-02\t1.36E-01\n",
      "7\t4.01E-01\t2.90E-01\n",
      "8\t2.90E-02\t2.77E-02\n",
      "9\t2.47E-01\t3.18E-01\n",
      "10\t1.54E-01\t1.80E-01\n",
      "\n",
      "v'/v'': 9\n",
      "0\t5.10E-12\t3.78E-10\n",
      "1\t1.83E-10\t5.48E-11\n",
      "2\t3.74E-09\t2.52E-10\n",
      "3\t9.68E-09\t1.23E-07\n",
      "4\t3.66E-06\t9.19E-06\n",
      "5\t1.59E-04\t8.57E-04\n",
      "6\t8.42E-03\t1.86E-02\n",
      "7\t1.17E-01\t1.66E-01\n",
      "8\t3.94E-01\t2.68E-01\n",
      "9\t3.68E-03\t5.76E-03\n",
      "10\t2.05E-01\t2.82E-01\n",
      "\n",
      "v'/v'': 10\n",
      "0\t1.35E-12\t5.44E-08\n",
      "1\t5.16E-11\t1.52E-09\n",
      "2\t9.13E-10\t6.87E-11\n",
      "3\t1.28E-08\t6.49E-10\n",
      "4\t1.63E-08\t3.25E-07\n",
      "5\t9.21E-06\t2.07E-05\n",
      "6\t3.34E-04\t1.51E-03\n",
      "7\t1.37E-02\t2.69E-02\n",
      "8\t1.48E-01\t1.95E-01\n",
      "9\t3.70E-01\t2.36E-01\n",
      "10\t2.24E-03\t6.93E-05\n"
     ]
    }
   ],
   "source": [
    "thomson.print_fcf_calc_ref(fcf[0][0][0][0], data_fcf_n2_table_28)"
   ]
  },
  {
   "cell_type": "code",
   "execution_count": 43,
   "metadata": {},
   "outputs": [
    {
     "data": {
      "text/plain": [
       "0.03537179410494537"
      ]
     },
     "execution_count": 43,
     "metadata": {},
     "output_type": "execute_result"
    }
   ],
   "source": [
    "thomson.rmse_calc_ref(np.array(fcf[0][0][0][0]), data_fcf_n2_table_28)"
   ]
  },
  {
   "cell_type": "markdown",
   "metadata": {},
   "source": [
    "A check of the closure relationship.\n",
    "\n",
    "#TODO: explain this; what does it mean exactly?"
   ]
  },
  {
   "cell_type": "code",
   "execution_count": 44,
   "metadata": {},
   "outputs": [
    {
     "name": "stdout",
     "output_type": "stream",
     "text": [
      "v'\tclosure_vp\n",
      "0\t1.0000000001767329\n",
      "1\t0.9999999998728245\n",
      "2\t0.9999999954554233\n",
      "3\t0.9999997879563965\n",
      "4\t0.9999896993081375\n",
      "5\t0.9998664036251703\n",
      "6\t0.9994862758363499\n",
      "7\t0.9988741824596544\n",
      "8\t0.9646437257821843\n",
      "9\t0.740027458942998\n",
      "10\t0.45917206327568294\n",
      "\n",
      "v''\tclosure_vpp\n",
      "0\t1.0000000547447505\n",
      "1\t1.0000000015314268\n",
      "2\t0.999999999905775\n",
      "3\t0.9999999995889112\n",
      "4\t1.0000000015433683\n",
      "5\t0.9999992408724231\n",
      "6\t0.9999555975988051\n",
      "7\t0.9974206960639337\n",
      "8\t0.9585597073313424\n",
      "9\t0.7226200622109555\n",
      "10\t0.48350423129986314\n"
     ]
    }
   ],
   "source": [
    "thomson.fcf_closure(fcf[0][0][0][0])"
   ]
  },
  {
   "cell_type": "code",
   "execution_count": 45,
   "metadata": {},
   "outputs": [],
   "source": [
    "psi_0 = psi_p[2]['psi_r']\n",
    "r_array_0 = psi_p[2]['r_array']\n",
    "psi_1 = psi_pp[2]['psi_r']\n",
    "r_array_1 = psi_pp[2]['r_array']\n",
    "psi_0_1 = psi_0 * psi_1"
   ]
  },
  {
   "cell_type": "code",
   "execution_count": 46,
   "metadata": {},
   "outputs": [
    {
     "data": {
      "image/png": "[encoded data removed]",
      "text/plain": [
       "<Figure size 432x288 with 1 Axes>"
      ]
     },
     "metadata": {
      "needs_background": "light"
     },
     "output_type": "display_data"
    }
   ],
   "source": [
    "plt.plot(r_array_0,psi_0, 'r')\n",
    "plt.axis([min(r_array_0), max(r_array_0), min(psi_0), max(psi_0)])\n",
    "plt.show()"
   ]
  },
  {
   "cell_type": "code",
   "execution_count": 47,
   "metadata": {},
   "outputs": [
    {
     "data": {
      "image/png": "[encoded data removed]",
      "text/plain": [
       "<Figure size 432x288 with 1 Axes>"
      ]
     },
     "metadata": {
      "needs_background": "light"
     },
     "output_type": "display_data"
    }
   ],
   "source": [
    "plt.plot(r_array_1, psi_1, 'r')\n",
    "plt.axis([min(r_array_1), max(r_array_1), min(psi_1), max(psi_1)])\n",
    "plt.show()"
   ]
  },
  {
   "cell_type": "code",
   "execution_count": 48,
   "metadata": {
    "scrolled": true
   },
   "outputs": [
    {
     "data": {
      "image/png": "[encoded data removed]",
      "text/plain": [
       "<Figure size 432x288 with 1 Axes>"
      ]
     },
     "metadata": {
      "needs_background": "light"
     },
     "output_type": "display_data"
    }
   ],
   "source": [
    "plt.plot(r_array_0, psi_0_1, 'r')\n",
    "plt.axis([min(r_array_0), max(r_array_0), min(psi_0_1), max(psi_0_1)])\n",
    "plt.show()"
   ]
  },
  {
   "cell_type": "code",
   "execution_count": 49,
   "metadata": {},
   "outputs": [
    {
     "name": "stdout",
     "output_type": "stream",
     "text": [
      "v'\tclosure_vp\n",
      "0\t1.0000000001767329\n",
      "1\t0.9999999998728245\n",
      "2\t0.9999999954554233\n",
      "3\t0.9999997879563965\n",
      "4\t0.9999896993081375\n",
      "5\t0.9998664036251703\n",
      "6\t0.9994862758363499\n",
      "7\t0.9988741824596544\n",
      "8\t0.9646437257821843\n",
      "9\t0.740027458942998\n",
      "10\t0.45917206327568294\n",
      "\n",
      "v''\tclosure_vpp\n",
      "0\t1.0000000547447505\n",
      "1\t1.0000000015314268\n",
      "2\t0.999999999905775\n",
      "3\t0.9999999995889112\n",
      "4\t1.0000000015433683\n",
      "5\t0.9999992408724231\n",
      "6\t0.9999555975988051\n",
      "7\t0.9974206960639337\n",
      "8\t0.9585597073313424\n",
      "9\t0.7226200622109555\n",
      "10\t0.48350423129986314\n"
     ]
    }
   ],
   "source": [
    "thomson.fcf_closure(fcf[0][0][0][0])"
   ]
  },
  {
   "cell_type": "code",
   "execution_count": 50,
   "metadata": {},
   "outputs": [
    {
     "data": {
      "text/plain": [
       "{'state': 'N2(X1Sigmag+)',\n",
       " 'v': 10,\n",
       " 'j': 0,\n",
       " 'r_array': array([0.6070505 , 0.60706052, 0.60707054, ..., 1.60703046, 1.60704048,\n",
       "        1.6070505 ]),\n",
       " 'psi_r': array([2.40178593e-40, 2.41488089e-40, 2.42804660e-40, ...,\n",
       "        1.07861473e-08, 1.07742798e-08, 1.07624251e-08])}"
      ]
     },
     "execution_count": 50,
     "metadata": {},
     "output_type": "execute_result"
    }
   ],
   "source": [
    "psi_p[2]"
   ]
  },
  {
   "cell_type": "code",
   "execution_count": 51,
   "metadata": {},
   "outputs": [
    {
     "data": {
      "text/plain": [
       "[{'To': 0.0,\n",
       "  'we': 2358.57,\n",
       "  'wexe': 14.324,\n",
       "  're': 1.097688,\n",
       "  'a': 2.6892329559209247,\n",
       "  'De': 79890.0},\n",
       " {'To': 0.0,\n",
       "  'we': 2358.57,\n",
       "  'wexe': 14.324,\n",
       "  're': 1.097688,\n",
       "  'a': 2.6892329559209247,\n",
       "  'De': 79890.0},\n",
       " {'To': 0.0,\n",
       "  'we': 2358.57,\n",
       "  'wexe': 14.324,\n",
       "  're': 1.097688,\n",
       "  'a': 2.6892329559209247,\n",
       "  'De': 79890.0}]"
      ]
     },
     "execution_count": 51,
     "metadata": {},
     "output_type": "execute_result"
    }
   ],
   "source": [
    "Vr_p"
   ]
  },
  {
   "cell_type": "code",
   "execution_count": 52,
   "metadata": {},
   "outputs": [],
   "source": [
    "def Te(Vr_p):\n",
    "    return (Vr_p['To'] - Vr_p['we']/2 + Vr_p['wexe']/4)/8065.6"
   ]
  },
  {
   "cell_type": "code",
   "execution_count": 53,
   "metadata": {},
   "outputs": [],
   "source": [
    "def Tv(Vr_p, v):\n",
    "    return Te(Vr_p) + (Vr_p['we']*(v+1/2) - Vr_p['wexe']*(v+1/2)**2)/8065.6"
   ]
  },
  {
   "cell_type": "code",
   "execution_count": 54,
   "metadata": {},
   "outputs": [],
   "source": [
    "def Vr_array(Vr_p, r_array):\n",
    "    return Te(Vr_p) + (Vr_p['De']*(1.0 - exp(-Vr_p['a']*(r_array - Vr_p['re'])))**2 )/8065.6"
   ]
  },
  {
   "cell_type": "code",
   "execution_count": 55,
   "metadata": {},
   "outputs": [
    {
     "data": {
      "text/plain": [
       "array([ True,  True,  True, ...,  True,  True,  True])"
      ]
     },
     "execution_count": 55,
     "metadata": {},
     "output_type": "execute_result"
    }
   ],
   "source": [
    "r_array_0 == r_array_1"
   ]
  },
  {
   "cell_type": "code",
   "execution_count": 108,
   "metadata": {
    "scrolled": true
   },
   "outputs": [
    {
     "data": {
      "image/png": "[encoded data removed]",
      "text/plain": [
       "<Figure size 244.08x488.16 with 1 Axes>"
      ]
     },
     "metadata": {
      "needs_background": "light"
     },
     "output_type": "display_data"
    }
   ],
   "source": [
    "latexify.latexify(fig_height=3.39*2)\n",
    "\n",
    "r_array = (.8 + np.arange(45)*.05)\n",
    "\n",
    "ip=0\n",
    "ipp=2\n",
    "\n",
    "Vr_p_array = Vr_array(Vr_p[ip], r_array)\n",
    "Vr_pp_array = Vr_array(Vr_pp[ipp], r_array)\n",
    "\n",
    "Tv_0 = Tv(Vr_p[ip], psi_p[ip]['v'])\n",
    "Tv_1 = Tv(Vr_pp[ipp], psi_pp[ipp]['v'])\n",
    "\n",
    "psi_0 = Tv_0 + psi_p[ip]['psi_r']\n",
    "r_array_0 = psi_p[ip]['r_array']\n",
    "psi_1 = Tv_1 + psi_pp[ipp]['psi_r']\n",
    "r_array_1 = psi_pp[ipp]['r_array']\n",
    "\n",
    "#psi_0_1 = 25 + psi_p[ip]['psi_r'] * psi_pp[ipp]['psi_r']\n",
    "\n",
    "\n",
    "fig,  ax1 = plt.subplots(1)\n",
    "\n",
    "#ax1.set_xscale(\"log\")\n",
    "#ax1.set_yscale(\"log\")\n",
    "#ax1.set_adjustable(\"datalim\")\n",
    "ax1.plot(r_array, Vr_p_array, 'r',\n",
    "         r_array, Vr_pp_array, 'b', \n",
    "         r_array_0, psi_0, 'g',\n",
    "         r_array_1, psi_1, 'g', markersize=1, linewidth=1)\n",
    "#ax1.set_xlim(.8, 1.6)\n",
    "ax1.set_ylim(-0.5, 30)\n",
    "ax1.set_ylabel('$E$ (eV)')\n",
    "ax1.set_xlabel('$r$ (\\AA)')\n",
    "ax1.arrow(max(r_array_0)-0.05, Tv_0, 0, Tv_0+Tv_1, color='r', lw=.3, ls='--', \n",
    "          head_length=.3, head_width=.1, length_includes_head=True,\n",
    "          overhang=.3)\n",
    "x_offset = 0.05\n",
    "y_offset = -.3\n",
    "ax1.text(max(r_array_0) + x_offset, Tv_0 + (Tv_1-Tv_0)*(2/3), r\"$J_{v',v''}^{p',p''}$\")\n",
    "ax1.text(max(r_array_0) + x_offset, Tv_0 + y_offset, r\"$\\psi_{v'}^{p'}(r)$\")\n",
    "ax1.text(max(r_array_0) + x_offset, Tv_1 + y_offset, r\"$\\psi_{v''}^{p''}(r)$\")\n",
    "\n",
    "r_index = int(len(r_array)*(2/3))\n",
    "ax1.text(r_array[r_index], Vr_p_array[r_index], r\"N$_2$(X${}^1\\Sigma_g^+$)\",\n",
    "         bbox={'facecolor': 'white', 'alpha': 1, 'pad': 2, 'lw': .5})\n",
    "#ax1.set_aspect(.5)\n",
    "#ax1.set_title(\"N$_2$ ionization reduced cross section\")\n",
    "\n",
    "plt.draw()\n",
    "\n",
    "# save to file\n",
    "#plt.savefig('fig/n2ion_universal.pdf')\n",
    "#plt.savefig('fig/n2ion_universal.eps')\n",
    "\n",
    "plt.show()"
   ]
  },
  {
   "cell_type": "code",
   "execution_count": null,
   "metadata": {},
   "outputs": [],
   "source": []
  },
  {
   "cell_type": "code",
   "execution_count": null,
   "metadata": {},
   "outputs": [],
   "source": []
  }
 ],
 "metadata": {
  "kernelspec": {
   "display_name": "Python 3",
   "language": "python",
   "name": "python3"
  },
  "language_info": {
   "codemirror_mode": {
    "name": "ipython",
    "version": 3
   },
   "file_extension": ".py",
   "mimetype": "text/x-python",
   "name": "python",
   "nbconvert_exporter": "python",
   "pygments_lexer": "ipython3",
   "version": "3.7.2"
  }
 },
 "nbformat": 4,
 "nbformat_minor": 2
}
