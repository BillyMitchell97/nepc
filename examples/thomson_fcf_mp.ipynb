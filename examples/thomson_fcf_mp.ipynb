{
 "cells": [
  {
   "cell_type": "markdown",
   "metadata": {},
   "source": [
    "The purpose of this notebook is to demonstrate the methods in `methods/mp` and `methods/thomson` for computing nuclear wavefunctions and Franck-Condon factors for diatomic molecules."
   ]
  },
  {
   "cell_type": "code",
   "execution_count": 1,
   "metadata": {},
   "outputs": [],
   "source": [
    "import nepc.methods.mp as mp\n",
    "import nepc.methods.thomson as thomson\n",
    "from nepc.util.util import get_size\n",
    "from nepc.util.constants import N2_DIATOMIC_CONSTANTS\n",
    "from nepc.util.constants import MU_NITROGEN_KG\n",
    "from nepc.util import scraper\n",
    "from nepc.util import config\n",
    "import pdfplumber\n",
    "import numpy as np\n",
    "import matplotlib.pyplot as plt"
   ]
  },
  {
   "cell_type": "markdown",
   "metadata": {},
   "source": [
    "## Reference Franck-Condon Factors\n",
    "\n",
    "As validation of our computational method, we will compare with available Franck-Condon factors from the literature."
   ]
  },
  {
   "cell_type": "code",
   "execution_count": 2,
   "metadata": {},
   "outputs": [],
   "source": [
    "nepcHome = config.nepc_home()\n",
    "pdfHome = nepcHome + \"/ref/angus/\"\n",
    "tmpdir = nepcHome + \"/tmp/\""
   ]
  },
  {
   "cell_type": "code",
   "execution_count": 3,
   "metadata": {},
   "outputs": [],
   "source": [
    "pdfGilmore = scraper.get_pdf(pdfHome + \"30_gilmore_j_phys_chem_ref_data_21_1005_1992.pdf\")"
   ]
  },
  {
   "cell_type": "code",
   "execution_count": 4,
   "metadata": {},
   "outputs": [],
   "source": [
    "scraper.rmdir(tmpdir)\n",
    "scraper.mkdir(tmpdir)"
   ]
  },
  {
   "cell_type": "code",
   "execution_count": 5,
   "metadata": {},
   "outputs": [],
   "source": [
    "flatten = lambda l: [item for sublist in l for item in sublist]"
   ]
  },
  {
   "cell_type": "code",
   "execution_count": 6,
   "metadata": {},
   "outputs": [],
   "source": [
    "def fcf_extracted_gilmore(pdf, page_number, x_0, column_width, y_0, y_1, vpp_max, locate_tables, debug):\n",
    "    crop_dim = []\n",
    "    for i in range(vpp_max + 1):\n",
    "        crop_dim.append([x_0+i*column_width, y_0, x_0+(i+1)*column_width, y_1])\n",
    "    fcf_data = []\n",
    "    for i in range(len(crop_dim)):\n",
    "        if debug is True: \n",
    "            print(\"vpp: \", str(i))\n",
    "        dataY = scraper.get_column_strings(pdf=pdfGilmore,\n",
    "                                           page_number=page_number,\n",
    "                                           crop_dim_array=crop_dim[i],\n",
    "                                           locate_tables=locate_tables)\n",
    "        if locate_tables is False:\n",
    "            dataY=[s.replace('(', 'E') for s in dataY]\n",
    "            dataY=[s.replace(')', '') for s in dataY]\n",
    "            dataY=[s.replace('{', 'E') for s in dataY]\n",
    "            dataY=[s.replace('}', '') for s in dataY]\n",
    "            dataY=[s.replace('t', '') for s in dataY]\n",
    "            dataY=[s.replace(',', '.') for s in dataY]\n",
    "            dataY=[s.replace(\"'\", '') for s in dataY]\n",
    "            dataY=[s.replace(' ', '') for s in dataY]\n",
    "            dataY=[s.replace('*', '') for s in dataY]\n",
    "            dataY=[s.replace(':', '.') for s in dataY]\n",
    "            dataY=[s.replace('~', '4') for s in dataY]\n",
    "            dataY=[s.replace('E-4.', 'E-4') for s in dataY]\n",
    "            dataY=[s.replace('.5.50E-2', '5.50E-2') for s in dataY]\n",
    "            dataY=[s.replace('<1E', '4E') for s in dataY]\n",
    "            dataY=[s.replace('<lE', '4E') for s in dataY]\n",
    "            dataY=[s.replace('!E', '7E') for s in dataY]\n",
    "            dataY=[s.replace('E1E', '0E') for s in dataY]\n",
    "            dataY=[s.replace('8EE', '85E') for s in dataY]\n",
    "            dataY=[s.replace('OE-I', '0E-1') for s in dataY]\n",
    "            dataY=[s.replace('SE', '8E') for s in dataY]\n",
    "            dataY=[s.replace(']E', '1E') for s in dataY]\n",
    "            dataY=[s.replace('].42E-2', '1.42E-2') for s in dataY]\n",
    "            dataY=[s.replace('UJ3E-I', '1.03E-1') for s in dataY]            \n",
    "            dataY=scraper.text_array_to_float_array(dataY)\n",
    "            fcf_data.append(flatten(dataY))\n",
    "    if locate_tables is False:\n",
    "        return fcf_data\n"
   ]
  },
  {
   "cell_type": "code",
   "execution_count": 7,
   "metadata": {},
   "outputs": [],
   "source": [
    "\"\"\"data_fcf_n2_table_XX stores the FCF's from Gilmore, Table XX\"\"\"\n",
    "data_fcf_n2_table_20 = fcf_extracted_gilmore(pdf=pdfGilmore,\n",
    "                                                  page_number=86,\n",
    "                                                  x_0=163,\n",
    "                                                  column_width=47,\n",
    "                                                  y_0=170,\n",
    "                                                  y_1=490,\n",
    "                                                  vpp_max=10,\n",
    "                                                  locate_tables=False,\n",
    "                                                  debug=False)"
   ]
  },
  {
   "cell_type": "code",
   "execution_count": null,
   "metadata": {},
   "outputs": [],
   "source": [
    "#TODO: scrape remaining Franck-Condon factors for N2 and O2 for comparison"
   ]
  },
  {
   "cell_type": "code",
   "execution_count": 8,
   "metadata": {},
   "outputs": [],
   "source": [
    "\"\"\"data_fcf_n2_table_XX stores the FCF's from Gilmore, Table XX\"\"\"\n",
    "data_fcf_n2_table_28 = fcf_extracted_gilmore(pdf=pdfGilmore,\n",
    "                                                  page_number=92,\n",
    "                                                  x_0=163,\n",
    "                                                  column_width=47,\n",
    "                                                  y_0=170,\n",
    "                                                  y_1=490,\n",
    "                                                  vpp_max=10,\n",
    "                                                  locate_tables=False,\n",
    "                                                  debug=False)"
   ]
  },
  {
   "cell_type": "code",
   "execution_count": 9,
   "metadata": {},
   "outputs": [],
   "source": [
    "data_fcf_n2_table_29 = fcf_extracted_gilmore(pdf=pdfGilmore,\n",
    "                                                 page_number=93,\n",
    "                                                 x_0=170,\n",
    "                                                 column_width=47,\n",
    "                                                  y_0=140,\n",
    "                                                  y_1=450,\n",
    "                                                 vpp_max=10,\n",
    "                                                 locate_tables=False,\n",
    "                                                 debug=False)"
   ]
  },
  {
   "cell_type": "code",
   "execution_count": 10,
   "metadata": {},
   "outputs": [],
   "source": [
    "data_fcf_n2_table_30 = fcf_extracted_gilmore(pdf=pdfGilmore,\n",
    "                                                 page_number=94,\n",
    "                                                 x_0=175,\n",
    "                                                 column_width=47,\n",
    "                                                  y_0=170,\n",
    "                                                  y_1=350,\n",
    "                                                 vpp_max=10,\n",
    "                                                 locate_tables=False,\n",
    "                                                 debug=False)"
   ]
  },
  {
   "cell_type": "code",
   "execution_count": 11,
   "metadata": {},
   "outputs": [],
   "source": [
    "data_fcf_n2_table_31 = fcf_extracted_gilmore(pdf=pdfGilmore,\n",
    "                                                 page_number=95,\n",
    "                                                 x_0=177,\n",
    "                                                 column_width=47,\n",
    "                                                  y_0=160,\n",
    "                                                  y_1=330,\n",
    "                                                 vpp_max=10,\n",
    "                                                 locate_tables=False,\n",
    "                                                 debug=False)"
   ]
  },
  {
   "cell_type": "markdown",
   "metadata": {},
   "source": [
    "## Compute Overlap Integrals\n",
    "\n",
    "As a validation, we can use the FCF code to compute overlap integrals for each state and check to make sure the diagonal elements are one and off-diagonal elements are zero."
   ]
  },
  {
   "cell_type": "code",
   "execution_count": 12,
   "metadata": {},
   "outputs": [
    {
     "data": {
      "text/plain": [
       "dict_keys(['N2(X1Sigmag+)', 'N2(A3Sigmau+)', 'N2(B3Pig)', 'N2+(X2Sigmag+)'])"
      ]
     },
     "execution_count": 12,
     "metadata": {},
     "output_type": "execute_result"
    }
   ],
   "source": [
    "#TODO: add remaining constants from NIST website to `nepc/util/constants.py`\n",
    "#TODO: compute overlap integrals for all states and perform numerical checks below\n",
    "N2_DIATOMIC_CONSTANTS.keys()"
   ]
  },
  {
   "cell_type": "code",
   "execution_count": 13,
   "metadata": {},
   "outputs": [],
   "source": [
    "p_list=['N2(X1Sigmag+)']\n",
    "pp_list=['N2(X1Sigmag+)']\n",
    "vp_list = np.arange(11)\n",
    "vpp_list = np.arange(11)\n",
    "jp_list = np.arange(1)\n",
    "jpp_list = np.arange(1)\n",
    "psi_p_keep = [p_list,[0,5,10],[0]]\n",
    "psi_pp_keep = [pp_list,[0,5,10],[0]]\n",
    "dbug = False"
   ]
  },
  {
   "cell_type": "code",
   "execution_count": 14,
   "metadata": {},
   "outputs": [],
   "source": [
    "psi_p, psi_pp, fcf = thomson.fcf(p_list, pp_list,\n",
    "                                 vp_list, vpp_list,\n",
    "                                 jp_list, jpp_list,\n",
    "                                 diatomic_constants=N2_DIATOMIC_CONSTANTS,\n",
    "                                 reduced_mass=MU_NITROGEN_KG,\n",
    "                                 k=17,\n",
    "                                 delta_r=.5,\n",
    "                                 psi_p_keep=psi_p_keep,\n",
    "                                 psi_pp_keep=psi_pp_keep,\n",
    "                                 dbug=False)"
   ]
  },
  {
   "cell_type": "code",
   "execution_count": 15,
   "metadata": {},
   "outputs": [
    {
     "data": {
      "text/plain": [
       "6560"
      ]
     },
     "execution_count": 15,
     "metadata": {},
     "output_type": "execute_result"
    }
   ],
   "source": [
    "get_size(fcf)"
   ]
  },
  {
   "cell_type": "code",
   "execution_count": 16,
   "metadata": {},
   "outputs": [
    {
     "data": {
      "text/plain": [
       "4196070"
      ]
     },
     "execution_count": 16,
     "metadata": {},
     "output_type": "execute_result"
    }
   ],
   "source": [
    "get_size(psi_p)"
   ]
  },
  {
   "cell_type": "code",
   "execution_count": 17,
   "metadata": {},
   "outputs": [
    {
     "data": {
      "text/plain": [
       "4196070"
      ]
     },
     "execution_count": 17,
     "metadata": {},
     "output_type": "execute_result"
    }
   ],
   "source": [
    "get_size(psi_pp)"
   ]
  },
  {
   "cell_type": "code",
   "execution_count": 18,
   "metadata": {},
   "outputs": [
    {
     "data": {
      "text/plain": [
       "[{'state': 'N2(X1Sigmag+)',\n",
       "  'v': 0,\n",
       "  'j': 0,\n",
       "  'r_array': array([0.59768   , 0.59769002, 0.59770004, ..., 1.59765996, 1.59766998,\n",
       "         1.59768   ]),\n",
       "  'psi_r': array([3.74429043e-42, 3.76235503e-42, 3.78050593e-42, ...,\n",
       "         2.50009997e-18, 2.49658854e-18, 2.49308198e-18])},\n",
       " {'state': 'N2(X1Sigmag+)',\n",
       "  'v': 5,\n",
       "  'j': 0,\n",
       "  'r_array': array([0.59768   , 0.59769002, 0.59770004, ..., 1.59765996, 1.59766998,\n",
       "         1.59768   ]),\n",
       "  'psi_r': array([-2.04202802e-38, -2.05177879e-38, -2.06157567e-38, ...,\n",
       "          3.80776857e-12,  3.80310201e-12,  3.79844105e-12])},\n",
       " {'state': 'N2(X1Sigmag+)',\n",
       "  'v': 10,\n",
       "  'j': 0,\n",
       "  'r_array': array([0.59768   , 0.59769002, 0.59770004, ..., 1.59765996, 1.59766998,\n",
       "         1.59768   ]),\n",
       "  'psi_r': array([7.16210588e-36, 7.19596960e-36, 7.22999182e-36, ...,\n",
       "         1.41141041e-07, 1.40995599e-07, 1.40850303e-07])}]"
      ]
     },
     "execution_count": 18,
     "metadata": {},
     "output_type": "execute_result"
    }
   ],
   "source": [
    "psi_p"
   ]
  },
  {
   "cell_type": "code",
   "execution_count": 19,
   "metadata": {},
   "outputs": [
    {
     "data": {
      "text/plain": [
       "[{'state': 'N2(X1Sigmag+)',\n",
       "  'v': 0,\n",
       "  'j': 0,\n",
       "  'r_array': array([0.59768   , 0.59769002, 0.59770004, ..., 1.59765996, 1.59766998,\n",
       "         1.59768   ]),\n",
       "  'psi_r': array([3.74429043e-42, 3.76235503e-42, 3.78050593e-42, ...,\n",
       "         2.50009997e-18, 2.49658854e-18, 2.49308198e-18])},\n",
       " {'state': 'N2(X1Sigmag+)',\n",
       "  'v': 5,\n",
       "  'j': 0,\n",
       "  'r_array': array([0.59768   , 0.59769002, 0.59770004, ..., 1.59765996, 1.59766998,\n",
       "         1.59768   ]),\n",
       "  'psi_r': array([-2.04202802e-38, -2.05177879e-38, -2.06157567e-38, ...,\n",
       "          3.80776857e-12,  3.80310201e-12,  3.79844105e-12])},\n",
       " {'state': 'N2(X1Sigmag+)',\n",
       "  'v': 10,\n",
       "  'j': 0,\n",
       "  'r_array': array([0.59768   , 0.59769002, 0.59770004, ..., 1.59765996, 1.59766998,\n",
       "         1.59768   ]),\n",
       "  'psi_r': array([7.16210588e-36, 7.19596960e-36, 7.22999182e-36, ...,\n",
       "         1.41141041e-07, 1.40995599e-07, 1.40850303e-07])}]"
      ]
     },
     "execution_count": 19,
     "metadata": {},
     "output_type": "execute_result"
    }
   ],
   "source": [
    "psi_pp"
   ]
  },
  {
   "cell_type": "code",
   "execution_count": 20,
   "metadata": {},
   "outputs": [
    {
     "name": "stdout",
     "output_type": "stream",
     "text": [
      "[1.         1.         1.         1.         1.         1.\n",
      " 1.         0.99999997 0.99999995 1.00000015 0.99999843]\n"
     ]
    }
   ],
   "source": [
    "print(np.diagonal(fcf[0][0][0][0]))"
   ]
  },
  {
   "cell_type": "code",
   "execution_count": 21,
   "metadata": {},
   "outputs": [
    {
     "data": {
      "text/plain": [
       "array([1.31257872e-26, 1.71856378e-22, 5.23673618e-25, 6.44645746e-21,\n",
       "       8.52580014e-23, 1.45670903e-24, 7.75789831e-19, 3.63224219e-20,\n",
       "       1.04587287e-21, 2.01426635e-24, 8.49225381e-16, 5.26122213e-17,\n",
       "       8.40829245e-19, 1.10477945e-21, 2.37189649e-21, 6.72660658e-14,\n",
       "       2.35102250e-15, 2.19533141e-17, 1.20616341e-21, 5.22408723e-19,\n",
       "       6.76974818e-20, 1.20648491e-12, 4.93696319e-14, 8.68281564e-16,\n",
       "       3.53154596e-19, 2.88462540e-17, 6.94231148e-18, 3.72497924e-17,\n",
       "       2.87529545e-12, 3.78260651e-12, 5.00920388e-13, 2.16826445e-14,\n",
       "       4.03705118e-16, 7.76541857e-16, 1.92083959e-15, 3.13698609e-15,\n",
       "       9.91139245e-09, 1.73782709e-09, 9.73295821e-11, 2.62703217e-12,\n",
       "       1.77709420e-14, 1.30815746e-16, 8.41527178e-14, 6.30593594e-16,\n",
       "       1.37024866e-14, 7.14674469e-07, 9.88227994e-08, 5.15955257e-09,\n",
       "       1.20599937e-10, 2.13685885e-13, 2.31423367e-12, 1.12199117e-12,\n",
       "       2.90774408e-12, 6.52264810e-16, 2.45393176e-12, 1.31257872e-26,\n",
       "       1.71856378e-22, 6.44645746e-21, 7.75789831e-19, 8.49225381e-16,\n",
       "       6.72660658e-14, 1.20648491e-12, 2.87529545e-12, 9.91139245e-09,\n",
       "       7.14674469e-07, 5.23673618e-25, 8.52580014e-23, 3.63224219e-20,\n",
       "       5.26122213e-17, 2.35102250e-15, 4.93696319e-14, 3.78260651e-12,\n",
       "       1.73782709e-09, 9.88227994e-08, 1.45670903e-24, 1.04587287e-21,\n",
       "       8.40829245e-19, 2.19533141e-17, 8.68281564e-16, 5.00920388e-13,\n",
       "       9.73295821e-11, 5.15955257e-09, 2.01426635e-24, 1.10477945e-21,\n",
       "       1.20616341e-21, 3.53154596e-19, 2.16826445e-14, 2.62703217e-12,\n",
       "       1.20599937e-10, 2.37189649e-21, 5.22408723e-19, 2.88462540e-17,\n",
       "       4.03705118e-16, 1.77709420e-14, 2.13685885e-13, 6.76974818e-20,\n",
       "       6.94231148e-18, 7.76541857e-16, 1.30815746e-16, 2.31423367e-12,\n",
       "       3.72497924e-17, 1.92083959e-15, 8.41527178e-14, 1.12199117e-12,\n",
       "       3.13698609e-15, 6.30593594e-16, 2.90774408e-12, 1.37024866e-14,\n",
       "       6.52264810e-16, 2.45393176e-12])"
      ]
     },
     "execution_count": 21,
     "metadata": {},
     "output_type": "execute_result"
    }
   ],
   "source": [
    "thomson.off_diagonal_elements(np.array(fcf[0][0][0][0]))"
   ]
  },
  {
   "cell_type": "code",
   "execution_count": 22,
   "metadata": {},
   "outputs": [
    {
     "data": {
      "text/plain": [
       "9.729556119587217e-08"
      ]
     },
     "execution_count": 22,
     "metadata": {},
     "output_type": "execute_result"
    }
   ],
   "source": [
    "thomson.rmse_off_diagonal_elements(np.array(fcf[0][0][0][0]))"
   ]
  },
  {
   "cell_type": "markdown",
   "metadata": {},
   "source": [
    "### Incremental RMSE\n",
    "\n",
    "We can compute the RMSE as a function of v' to see how the cumulative error grows as we increase the number of vibrational levels."
   ]
  },
  {
   "cell_type": "code",
   "execution_count": 23,
   "metadata": {},
   "outputs": [
    {
     "name": "stdout",
     "output_type": "stream",
     "text": [
      "i: 2; rmse: 1.3125787211329585e-26\n",
      "i: 3; rmse: 9.922178722957653e-23\n",
      "i: 4; rmse: 2.632920424154992e-21\n",
      "i: 5; rmse: 2.456037188161354e-19\n",
      "i: 6; rmse: 2.1968964528320254e-16\n",
      "i: 7; rmse: 1.4688796109559054e-14\n",
      "i: 8; rmse: 2.2854937959278986e-13\n",
      "i: 9; rmse: 8.214049031734554e-13\n",
      "i: 10; rmse: 1.5001129409962704e-09\n",
      "i: 11; rmse: 9.729556119587217e-08\n"
     ]
    }
   ],
   "source": [
    "thomson.incremental_rmse_off_diagonal_elements(np.array(fcf[0][0][0][0]))"
   ]
  },
  {
   "cell_type": "code",
   "execution_count": 24,
   "metadata": {},
   "outputs": [
    {
     "name": "stdout",
     "output_type": "stream",
     "text": [
      "i: 1; rmse: 4.938272013532696e-13\n",
      "i: 2; rmse: 3.7066953457539996e-13\n",
      "i: 3; rmse: 3.2528688365428066e-13\n",
      "i: 4; rmse: 7.275485889631496e-13\n",
      "i: 5; rmse: 5.251117677675936e-12\n",
      "i: 6; rmse: 5.7800421734480834e-11\n",
      "i: 7; rmse: 1.2400695278075107e-09\n",
      "i: 8; rmse: 1.0145905172926967e-08\n",
      "i: 9; rmse: 1.86931074197029e-08\n",
      "i: 10; rmse: 5.0416387723099454e-08\n",
      "i: 11; rmse: 4.7506020534286805e-07\n"
     ]
    }
   ],
   "source": [
    "thomson.incremental_rmse_diagonal_elements(np.array(fcf[0][0][0][0]))"
   ]
  },
  {
   "cell_type": "code",
   "execution_count": 25,
   "metadata": {},
   "outputs": [
    {
     "data": {
      "text/plain": [
       "array([ 4.93827201e-13, -1.75859327e-13, -2.06501483e-13,  1.34159350e-12,\n",
       "       -1.16513466e-11,  1.41093803e-10,  3.27785932e-09, -2.85087833e-08,\n",
       "       -4.81806522e-08,  1.49242189e-07, -1.56750951e-06])"
      ]
     },
     "execution_count": 25,
     "metadata": {},
     "output_type": "execute_result"
    }
   ],
   "source": [
    "np.diagonal(np.array(fcf[0][0][0][0]))-1"
   ]
  },
  {
   "cell_type": "code",
   "execution_count": 26,
   "metadata": {},
   "outputs": [
    {
     "data": {
      "image/png": "[encoded data removed]",
      "text/plain": [
       "<Figure size 432x288 with 1 Axes>"
      ]
     },
     "metadata": {
      "needs_background": "light"
     },
     "output_type": "display_data"
    }
   ],
   "source": [
    "fcf_diagonal_error = np.sqrt((np.diagonal(np.array(fcf[0][0][0][0]))-1)**2)\n",
    "# histogram on linear scale\n",
    "#plt.subplot(311)\n",
    "hist, bins, _ = plt.hist(fcf_diagonal_error, bins=6)"
   ]
  },
  {
   "cell_type": "code",
   "execution_count": 27,
   "metadata": {},
   "outputs": [
    {
     "data": {
      "image/png": "[encoded data removed]",
      "text/plain": [
       "<Figure size 432x288 with 1 Axes>"
      ]
     },
     "metadata": {
      "needs_background": "light"
     },
     "output_type": "display_data"
    }
   ],
   "source": [
    "# histogram on log scale. \n",
    "# Use non-equal bin sizes, such that they look equal on log scale.\n",
    "bin_first = round(np.log10(bins[0]))\n",
    "bin_last = round(np.log10(bins[-1])+1)\n",
    "logbins = np.logspace(bin_first, bin_last, abs(bin_first) - abs(bin_last)+1)\n",
    "#plt.subplot(312)\n",
    "plt.hist(fcf_diagonal_error, bins=logbins)\n",
    "plt.xscale('log')\n",
    "plt.show()"
   ]
  },
  {
   "cell_type": "markdown",
   "metadata": {},
   "source": [
    "### Check of delta_r\n",
    "\n",
    "We can visually inspect plots of psi_p, psi_pp, and psi_p x psi_pp for the highest vibrational modes to ensure that we have captured the entire wavefunction (but haven't made the integration limits too large)."
   ]
  },
  {
   "cell_type": "code",
   "execution_count": 28,
   "metadata": {},
   "outputs": [],
   "source": [
    "psi_0 = psi_p[1]['psi_r']\n",
    "r_array_0 = psi_p[1]['r_array']\n",
    "psi_1 = psi_p[2]['psi_r']\n",
    "r_array_1 = psi_p[2]['r_array']\n",
    "psi_0_1 = psi_0 * psi_1"
   ]
  },
  {
   "cell_type": "code",
   "execution_count": 29,
   "metadata": {},
   "outputs": [
    {
     "data": {
      "image/png": "[encoded data removed]",
      "text/plain": [
       "<Figure size 432x288 with 1 Axes>"
      ]
     },
     "metadata": {
      "needs_background": "light"
     },
     "output_type": "display_data"
    }
   ],
   "source": [
    "plt.plot(r_array_0,psi_0, 'r')\n",
    "plt.axis([min(r_array_0), max(r_array_0), min(psi_0), max(psi_0)])\n",
    "plt.show()"
   ]
  },
  {
   "cell_type": "code",
   "execution_count": 30,
   "metadata": {},
   "outputs": [
    {
     "data": {
      "image/png": "[encoded data removed]",
      "text/plain": [
       "<Figure size 432x288 with 1 Axes>"
      ]
     },
     "metadata": {
      "needs_background": "light"
     },
     "output_type": "display_data"
    }
   ],
   "source": [
    "plt.plot(r_array_1, psi_1, 'r')\n",
    "plt.axis([min(r_array_1), max(r_array_1), min(psi_1), max(psi_1)])\n",
    "plt.show()"
   ]
  },
  {
   "cell_type": "code",
   "execution_count": 31,
   "metadata": {
    "scrolled": true
   },
   "outputs": [
    {
     "data": {
      "image/png": "[encoded data removed]",
      "text/plain": [
       "<Figure size 432x288 with 1 Axes>"
      ]
     },
     "metadata": {
      "needs_background": "light"
     },
     "output_type": "display_data"
    }
   ],
   "source": [
    "plt.plot(r_array_0, psi_0_1, 'r')\n",
    "plt.axis([min(r_array_0), max(r_array_0), min(psi_0_1), max(psi_0_1)])\n",
    "plt.show()"
   ]
  },
  {
   "cell_type": "markdown",
   "metadata": {},
   "source": [
    "## FCFs\n",
    "\n",
    "Now, we compute FCFs for the case where p' and p'' differ, compare with Gilmore's results, and also look at closure relationships."
   ]
  },
  {
   "cell_type": "code",
   "execution_count": 32,
   "metadata": {},
   "outputs": [
    {
     "data": {
      "text/plain": [
       "dict_keys(['N2(X1Sigmag+)', 'N2(A3Sigmau+)', 'N2(B3Pig)', 'N2+(X2Sigmag+)'])"
      ]
     },
     "execution_count": 32,
     "metadata": {},
     "output_type": "execute_result"
    }
   ],
   "source": [
    "N2_DIATOMIC_CONSTANTS.keys()"
   ]
  },
  {
   "cell_type": "code",
   "execution_count": 33,
   "metadata": {},
   "outputs": [],
   "source": [
    "p_list=['N2(X1Sigmag+)']\n",
    "pp_list=['N2(B3Pig)']\n",
    "vp_list = np.arange(11)\n",
    "vpp_list = np.arange(11)\n",
    "jp_list = np.arange(1)\n",
    "jpp_list = np.arange(1)\n",
    "psi_p_keep = [p_list,[0,5,10],[0]]\n",
    "psi_pp_keep = [pp_list,[0,5,10],[0]]\n",
    "dbug = False"
   ]
  },
  {
   "cell_type": "code",
   "execution_count": 34,
   "metadata": {},
   "outputs": [],
   "source": [
    "psi_p, psi_pp, fcf = thomson.fcf(p_list, pp_list,\n",
    "                                 vp_list, vpp_list,\n",
    "                                 jp_list, jpp_list,\n",
    "                                 diatomic_constants=N2_DIATOMIC_CONSTANTS,\n",
    "                                 reduced_mass=MU_NITROGEN_KG,\n",
    "                                 k=17,\n",
    "                                 delta_r=.5,\n",
    "                                 psi_p_keep=psi_p_keep,\n",
    "                                 psi_pp_keep=psi_pp_keep,\n",
    "                                 dbug=False)"
   ]
  },
  {
   "cell_type": "code",
   "execution_count": 35,
   "metadata": {
    "scrolled": true
   },
   "outputs": [
    {
     "name": "stdout",
     "output_type": "stream",
     "text": [
      "\n",
      "v'/v'': 0\n",
      "0\t6.11E-02\t6.05E-02\n",
      "1\t1.47E-01\t1.46E-01\n",
      "2\t1.95E-01\t1.95E-01\n",
      "3\t1.90E-01\t1.90E-01\n",
      "4\t1.51E-01\t1.52E-01\n",
      "5\t1.05E-01\t1.06E-01\n",
      "6\t6.65E-02\t6.66E-02\n",
      "7\t3.90E-02\t3.90E-02\n",
      "8\t2.16E-02\t2.16E-02\n",
      "9\t1.15E-02\t1.15E-02\n",
      "10\t5.92E-03\t5.90E-03\n",
      "\n",
      "v'/v'': 1\n",
      "0\t1.91E-01\t1.89E-01\n",
      "1\t1.93E-01\t1.93E-01\n",
      "2\t6.54E-02\t6.62E-02\n",
      "3\t7.17E-04\t8.04E-04\n",
      "4\t2.58E-02\t2.55E-02\n",
      "5\t7.60E-02\t7.59E-02\n",
      "6\t1.04E-01\t1.04E-01\n",
      "7\t1.03E-01\t1.03E-01\n",
      "8\t8.39E-02\t8.42E-02\n",
      "9\t6.04E-02\t6.06E-02\n",
      "10\t3.98E-02\t3.99E-02\n",
      "\n",
      "v'/v'': 2\n",
      "0\t2.74E-01\t2.73E-01\n",
      "1\t4.50E-02\t4.62E-02\n",
      "2\t2.39E-02\t2.30E-02\n",
      "3\t1.05E-01\t1.04E-01\n",
      "4\t8.38E-02\t8.44E-02\n",
      "5\t2.07E-02\t2.11E-02\n",
      "6\t5.33E-04\t4.96E-04\n",
      "7\t2.49E-02\t2.49E-02\n",
      "8\t5.85E-02\t5.88E-02\n",
      "9\t7.72E-02\t7.78E-02\n",
      "10\t7.73E-02\t7.79E-02\n",
      "\n",
      "v'/v'': 3\n",
      "0\t2.41E-01\t2.41E-01\n",
      "1\t1.59E-02\t1.48E-02\n",
      "2\t1.30E-01\t1.30E-01\n",
      "3\t3.60E-02\t3.70E-02\n",
      "4\t7.32E-03\t6.86E-03\n",
      "5\t6.56E-02\t6.52E-02\n",
      "6\t7.50E-02\t7.53E-02\n",
      "7\t3.34E-02\t3.38E-02\n",
      "8\t2.39E-03\t2.44E-03\n",
      "9\t6.14E-03\t6.21E-03\n",
      "10\t3.00E-02\t3.04E-02\n",
      "\n",
      "v'/v'': 4\n",
      "0\t1.44E-01\t1.45E-01\n",
      "1\t1.42E-01\t1.39E-01\n",
      "2\t4.81E-02\t4.97E-02\n",
      "3\t3.09E-02\t2.95E-02\n",
      "4\t9.25E-02\t9.25E-02\n",
      "5\t2.61E-02\t2.69E-02\n",
      "6\t3.74E-03\t3.45E-03\n",
      "7\t4.62E-02\t4.59E-02\n",
      "8\t6.37E-02\t6.39E-02\n",
      "9\t3.82E-02\t3.85E-02\n",
      "10\t8.13E-03\t8.11E-03\n",
      "\n",
      "v'/v'': 5\n",
      "0\t6.24E-02\t6.36E-02\n",
      "1\t2.05E-01\t2.04E-01\n",
      "2\t9.67E-03\t8.48E-03\n",
      "3\t1.11E-01\t1.11E-01\n",
      "4\t6.91E-03\t7.69E-03\n",
      "5\t4.12E-02\t4.00E-02\n",
      "6\t7.11E-02\t7.14E-02\n",
      "7\t1.87E-02\t1.93E-02\n",
      "8\t2.54E-03\t2.36E-03\n",
      "9\t3.48E-02\t3.47E-02\n",
      "10\t5.38E-02\t5.41E-02\n",
      "\n",
      "v'/v'': 6\n",
      "0\t2.03E-02\t2.09E-02\n",
      "1\t1.51E-01\t1.52E-01\n",
      "2\t1.24E-01\t1.21E-01\n",
      "3\t2.50E-02\t2.68E-02\n",
      "4\t5.99E-02\t5.78E-02\n",
      "5\t6.26E-02\t6.38E-02\n",
      "6\t4.31E-05\t4.60E-06\n",
      "7\t4.58E-02\t4.50E-02\n",
      "8\t5.61E-02\t5.65E-02\n",
      "9\t1.36E-02\t1.41E-02\n",
      "10\t1.89E-03\t1.81E-03\n",
      "\n",
      "v'/v'': 7\n",
      "0\t5.02E-03\t5.27E-03\n",
      "1\t7.14E-02\t7.31E-02\n",
      "2\t1.86E-01\t1.85E-01\n",
      "3\t2.43E-02\t2.20E-02\n",
      "4\t8.84E-02\t8.96E-02\n",
      "5\t3.07E-03\t2.40E-03\n",
      "6\t7.35E-02\t7.27E-02\n",
      "7\t2.77E-02\t2.88E-02\n",
      "8\t4.27E-03\t3.82E-03\n",
      "9\t4.60E-02\t4.56E-02\n",
      "10\t4.50E-02\t4.55E-02\n",
      "\n",
      "v'/v'': 8\n",
      "0\t9.65E-04\t1.03E-03\n",
      "1\t2.37E-02\t2.46E-02\n",
      "2\t1.34E-01\t1.36E-01\n",
      "3\t1.41E-01\t1.37E-01\n",
      "4\t3.07E-03\t4.02E-03\n",
      "5\t8.95E-02\t8.79E-02\n",
      "6\t1.72E-02\t1.87E-02\n",
      "7\t2.91E-02\t2.76E-02\n",
      "8\t6.02E-02\t6.06E-02\n",
      "9\t9.13E-03\t9.79E-03\n",
      "10\t1.03E-02\t9.89E-03\n",
      "\n",
      "v'/v'': 9\n",
      "0\t1.44E-04\t1.59E-04\n",
      "1\t5.76E-03\t6.10E-03\n",
      "2\t6.02E-02\t6.21E-02\n",
      "3\t1.72E-01\t1.72E-01\n",
      "4\t5.97E-02\t5.57E-02\n",
      "5\t4.75E-02\t5.00E-02\n",
      "6\t3.77E-02\t3.52E-02\n",
      "7\t5.98E-02\t6.10E-02\n",
      "8\t1.75E-04\t5.43E-05\n",
      "9\t4.67E-02\t4.58E-02\n",
      "10\t4.06E-02\t4.14E-02\n",
      "\n",
      "v'/v'': 10\n",
      "0\t1.68E-05\t2.23E-05\n",
      "1\t1.05E-03\t1.11E-03\n",
      "2\t1.86E-02\t1.97E-02\n",
      "3\t1.08E-01\t1.10E-01\n",
      "4\t1.62E-01\t1.59E-01\n",
      "5\t5.91E-03\t4.43E-03\n",
      "6\t8.79E-02\t8.86E-02\n",
      "7\t1.36E-03\t8.26E-04\n",
      "8\t6.72E-02\t6.63E-02\n",
      "9\t1.79E-02\t1.92E-02\n",
      "10\t1.15E-02\t1.07E-02\n"
     ]
    }
   ],
   "source": [
    "for i in range(len(fcf[0][0][0][0])):\n",
    "    print('\\nv\\'/v\\'\\': {}'.format(i))\n",
    "    for j in range(len(fcf[0][0][0][0][0])):\n",
    "        print('{}\\t{:.2E}\\t{:.2E}'.format(j, data_fcf_n2_table_20[i][j], fcf[0][0][0][0][i][j]))\n"
   ]
  },
  {
   "cell_type": "markdown",
   "metadata": {},
   "source": [
    "These calculated FCF's appear to be fairly close to Gilmore's results, especially for v', v'' < 5."
   ]
  },
  {
   "cell_type": "code",
   "execution_count": 36,
   "metadata": {},
   "outputs": [
    {
     "data": {
      "text/plain": [
       "0.0011526260122714964"
      ]
     },
     "execution_count": 36,
     "metadata": {},
     "output_type": "execute_result"
    }
   ],
   "source": [
    "thomson.rmse_calc_ref(np.array(fcf[0][0][0][0]), data_fcf_n2_table_20)"
   ]
  },
  {
   "cell_type": "code",
   "execution_count": 46,
   "metadata": {},
   "outputs": [],
   "source": [
    "p_list=['N2(X1Sigmag+)']\n",
    "pp_list=['N2+(X2Sigmag+)']\n",
    "vp_list = np.arange(11)\n",
    "vpp_list = np.arange(11)\n",
    "jp_list = np.arange(1)\n",
    "jpp_list = np.arange(1)\n",
    "psi_p_keep = [p_list,[0,5,10],[0]]\n",
    "psi_pp_keep = [pp_list,[0,5,10],[0]]\n",
    "dbug = False"
   ]
  },
  {
   "cell_type": "code",
   "execution_count": 47,
   "metadata": {},
   "outputs": [],
   "source": [
    "psi_p, psi_pp, fcf = thomson.fcf(p_list, pp_list,\n",
    "                                 vp_list, vpp_list,\n",
    "                                 jp_list, jpp_list,\n",
    "                                 diatomic_constants=N2_DIATOMIC_CONSTANTS,\n",
    "                                 reduced_mass=MU_NITROGEN_KG,\n",
    "                                 k=17,\n",
    "                                 delta_r=.5,\n",
    "                                 psi_p_keep=psi_p_keep,\n",
    "                                 psi_pp_keep=psi_pp_keep,\n",
    "                                 dbug=False)"
   ]
  },
  {
   "cell_type": "code",
   "execution_count": 48,
   "metadata": {},
   "outputs": [
    {
     "name": "stdout",
     "output_type": "stream",
     "text": [
      "\n",
      "v'/v'': 0\n",
      "0\t9.17E-01\t9.17E-01\n",
      "1\t7.79E-02\t7.83E-02\n",
      "2\t4.65E-03\t4.67E-03\n",
      "3\t2.68E-04\t2.67E-04\n",
      "4\t1.76E-05\t1.70E-05\n",
      "5\t1.55E-06\t1.28E-06\n",
      "6\t2.13E-07\t1.16E-07\n",
      "7\t4.74E-08\t1.25E-08\n",
      "8\t1.47E-08\t1.39E-09\n",
      "9\t5.49E-09\t7.75E-10\n",
      "10\t2.24E-09\t1.70E-09\n",
      "\n",
      "v'/v'': 1\n",
      "0\t8.02E-02\t8.06E-02\n",
      "1\t7.60E-01\t7.58E-01\n",
      "2\t1.45E-01\t1.46E-01\n",
      "3\t1.38E-02\t1.38E-02\n",
      "4\t1.12E-03\t1.09E-03\n",
      "5\t9.62E-05\t8.77E-05\n",
      "6\t1.06E-05\t7.95E-06\n",
      "7\t1.71E-06\t8.39E-07\n",
      "8\t4.21E-07\t1.03E-07\n",
      "9\t1.42E-07\t1.18E-08\n",
      "10\t5.67E-08\t5.10E-09\n",
      "\n",
      "v'/v'': 2\n",
      "0\t2.53E-03\t2.59E-03\n",
      "1\t1.54E-01\t1.55E-01\n",
      "2\t6.12E-01\t6.10E-01\n",
      "3\t2.01E-01\t2.02E-01\n",
      "4\t2.72E-02\t2.72E-02\n",
      "5\t2.89E-03\t2.77E-03\n",
      "6\t3.14E-04\t2.72E-04\n",
      "7\t4.18E-05\t2.88E-05\n",
      "8\t7.79E-06\t3.46E-06\n",
      "9\t2.11E-06\t4.76E-07\n",
      "10\t7.58E-07\t6.68E-08\n",
      "\n",
      "v'/v'': 3\n",
      "0\t4.47E-05\t4.70E-05\n",
      "1\t7.91E-03\t8.10E-03\n",
      "2\t2.21E-01\t2.22E-01\n",
      "3\t4.75E-01\t4.75E-01\n",
      "4\t2.44E-01\t2.45E-01\n",
      "5\t4.45E-02\t4.40E-02\n",
      "6\t6.00E-03\t5.60E-03\n",
      "7\t7.97E-04\t6.52E-04\n",
      "8\t1.25E-04\t7.94E-05\n",
      "9\t2.65E-05\t1.07E-05\n",
      "10\t7.79E-06\t1.61E-06\n",
      "\n",
      "v'/v'': 4\n",
      "0\t4.17E-07\t4.91E-07\n",
      "1\t2.04E-04\t2.09E-04\n",
      "2\t1.65E-02\t1.68E-02\n",
      "3\t2.80E-01\t2.79E-01\n",
      "4\t3.51E-01\t3.54E-01\n",
      "5\t2.74E-01\t2.75E-01\n",
      "6\t6.50E-02\t6.37E-02\n",
      "7\t1.08E-02\t9.84E-03\n",
      "8\t1.72E-03\t1.34E-03\n",
      "9\t3.16E-04\t1.85E-04\n",
      "10\t7.48E-05\t2.76E-05\n",
      "\n",
      "v'/v'': 5\n",
      "0\t1.26E-08\t2.96E-09\n",
      "1\t2.57E-06\t2.89E-06\n",
      "2\t5.84E-04\t5.78E-04\n",
      "3\t2.86E-02\t2.90E-02\n",
      "4\t3.29E-01\t3.26E-01\n",
      "5\t2.42E-13\t2.49E-01\n",
      "6\t2.90E-01\t2.92E-01\n",
      "7\t8.78E-02\t8.52E-02\n",
      "8\t1.78E-02\t1.57E-02\n",
      "9\t3.34E-03\t2.47E-03\n",
      "10\t7.01E-04\t3.81E-04\n",
      "\n",
      "v'/v'': 6\n",
      "0\t2.10E-10\t1.12E-11\n",
      "1\t9.23E-08\t2.23E-08\n",
      "2\t9.55E-06\t1.02E-05\n",
      "3\t1.34E-03\t1.27E-03\n",
      "4\t4.46E-02\t4.46E-02\n",
      "5\t3.67E-01\t3.61E-01\n",
      "6\t1.50E-01\t1.63E-01\n",
      "7\t2.91E-01\t2.95E-01\n",
      "8\t1.11E-01\t1.07E-01\n",
      "9\t2.71E-02\t2.34E-02\n",
      "10\t5.94E-03\t4.19E-03\n",
      "\n",
      "v'/v'': 7\n",
      "0\t1.01E-10\t1.23E-12\n",
      "1\t1.28E-09\t1.20E-10\n",
      "2\t3.96E-07\t9.76E-08\n",
      "3\t2.78E-05\t2.79E-05\n",
      "4\t2.68E-03\t2.45E-03\n",
      "5\t6.46E-02\t6.36E-02\n",
      "6\t3.91E-01\t3.83E-01\n",
      "7\t7.83E-02\t9.48E-02\n",
      "8\t2.76E-01\t2.86E-01\n",
      "9\t1.34E-01\t1.29E-01\n",
      "10\t3.89E-02\t3.29E-02\n",
      "\n",
      "v'/v'': 8\n",
      "0\t2.09E-11\t4.13E-12\n",
      "1\t8.14E-10\t3.58E-12\n",
      "2\t4.23E-09\t6.07E-10\n",
      "3\t1.31E-06\t3.25E-07\n",
      "4\t6.99E-05\t6.52E-05\n",
      "5\t4.91E-03\t4.28E-03\n",
      "6\t8.87E-02\t8.58E-02\n",
      "7\t4.01E-01\t3.93E-01\n",
      "8\t2.90E-02\t4.57E-02\n",
      "9\t2.47E-01\t2.66E-01\n",
      "10\t1.54E-01\t1.49E-01\n",
      "\n",
      "v'/v'': 9\n",
      "0\t5.10E-12\t1.14E-08\n",
      "1\t1.83E-10\t1.80E-10\n",
      "2\t3.74E-09\t1.89E-14\n",
      "3\t9.68E-09\t2.33E-09\n",
      "4\t3.66E-06\t9.08E-07\n",
      "5\t1.59E-04\t1.37E-04\n",
      "6\t8.42E-03\t6.98E-03\n",
      "7\t1.17E-01\t1.11E-01\n",
      "8\t3.94E-01\t3.89E-01\n",
      "9\t3.68E-03\t1.49E-02\n",
      "10\t2.05E-01\t2.37E-01\n",
      "\n",
      "v'/v'': 10\n",
      "0\t1.35E-12\t7.95E-07\n",
      "1\t5.16E-11\t5.12E-09\n",
      "2\t9.13E-10\t4.38E-12\n",
      "3\t1.28E-08\t8.51E-13\n",
      "4\t1.63E-08\t7.58E-09\n",
      "5\t9.21E-06\t2.25E-06\n",
      "6\t3.34E-04\t2.64E-04\n",
      "7\t1.37E-02\t1.08E-02\n",
      "8\t1.48E-01\t1.38E-01\n",
      "9\t3.70E-01\t3.74E-01\n",
      "10\t2.24E-03\t1.15E-03\n"
     ]
    }
   ],
   "source": [
    "thomson.print_fcf_calc_ref(fcf[0][0][0][0], data_fcf_n2_table_28)"
   ]
  },
  {
   "cell_type": "code",
   "execution_count": 49,
   "metadata": {},
   "outputs": [
    {
     "data": {
      "text/plain": [
       "0.023184043388411773"
      ]
     },
     "execution_count": 49,
     "metadata": {},
     "output_type": "execute_result"
    }
   ],
   "source": [
    "thomson.rmse_calc_ref(np.array(fcf[0][0][0][0]), data_fcf_n2_table_28)"
   ]
  },
  {
   "cell_type": "markdown",
   "metadata": {},
   "source": [
    "A check of the closure relationship.\n",
    "\n",
    "#TODO: explain this; what does it mean exactly?"
   ]
  },
  {
   "cell_type": "code",
   "execution_count": 50,
   "metadata": {},
   "outputs": [
    {
     "name": "stdout",
     "output_type": "stream",
     "text": [
      "v'\tclosure_vp\n",
      "0\t1.0000000021331412\n",
      "1\t1.0000000011538985\n",
      "2\t0.9999999849640492\n",
      "3\t0.9999996754398927\n",
      "4\t0.9999944400311878\n",
      "5\t0.9999234690525584\n",
      "6\t0.9991185109944564\n",
      "7\t0.9917309332251839\n",
      "8\t0.9430207456596036\n",
      "9\t0.7592436440663655\n",
      "10\t0.5237038541372935\n",
      "\n",
      "v''\tclosure_vpp\n",
      "0\t1.0000008065548889\n",
      "1\t1.0000000053339373\n",
      "2\t0.9999999999788536\n",
      "3\t0.9999999999359711\n",
      "4\t1.0000000004676097\n",
      "5\t0.9999999905918385\n",
      "6\t0.9999947282076345\n",
      "7\t0.9995099091507826\n",
      "8\t0.983186329826082\n",
      "9\t0.8096005743622836\n",
      "10\t0.42444291644774834\n"
     ]
    }
   ],
   "source": [
    "thomson.fcf_closure(fcf[0][0][0][0])"
   ]
  },
  {
   "cell_type": "code",
   "execution_count": 41,
   "metadata": {},
   "outputs": [],
   "source": [
    "psi_0 = psi_p[2]['psi_r']\n",
    "r_array_0 = psi_p[2]['r_array']\n",
    "psi_1 = psi_pp[2]['psi_r']\n",
    "r_array_1 = psi_pp[2]['r_array']\n",
    "psi_0_1 = psi_0 * psi_1"
   ]
  },
  {
   "cell_type": "code",
   "execution_count": 42,
   "metadata": {},
   "outputs": [
    {
     "data": {
      "image/png": "[encoded data removed]",
      "text/plain": [
       "<Figure size 432x288 with 1 Axes>"
      ]
     },
     "metadata": {
      "needs_background": "light"
     },
     "output_type": "display_data"
    }
   ],
   "source": [
    "plt.plot(r_array_0,psi_0, 'r')\n",
    "plt.axis([min(r_array_0), max(r_array_0), min(psi_0), max(psi_0)])\n",
    "plt.show()"
   ]
  },
  {
   "cell_type": "code",
   "execution_count": 43,
   "metadata": {},
   "outputs": [
    {
     "data": {
      "image/png": "[encoded data removed]",
      "text/plain": [
       "<Figure size 432x288 with 1 Axes>"
      ]
     },
     "metadata": {
      "needs_background": "light"
     },
     "output_type": "display_data"
    }
   ],
   "source": [
    "plt.plot(r_array_1, psi_1, 'r')\n",
    "plt.axis([min(r_array_1), max(r_array_1), min(psi_1), max(psi_1)])\n",
    "plt.show()"
   ]
  },
  {
   "cell_type": "code",
   "execution_count": 44,
   "metadata": {
    "scrolled": true
   },
   "outputs": [
    {
     "data": {
      "image/png": "[encoded data removed]",
      "text/plain": [
       "<Figure size 432x288 with 1 Axes>"
      ]
     },
     "metadata": {
      "needs_background": "light"
     },
     "output_type": "display_data"
    }
   ],
   "source": [
    "plt.plot(r_array_0, psi_0_1, 'r')\n",
    "plt.axis([min(r_array_0), max(r_array_0), min(psi_0_1), max(psi_0_1)])\n",
    "plt.show()"
   ]
  },
  {
   "cell_type": "code",
   "execution_count": 45,
   "metadata": {},
   "outputs": [
    {
     "name": "stdout",
     "output_type": "stream",
     "text": [
      "v'\tclosure_vp\n",
      "0\t1.0000000021331412\n",
      "1\t1.0000000011538985\n",
      "2\t0.9999999849640492\n",
      "3\t0.9999996754398927\n",
      "4\t0.9999944400311878\n",
      "5\t0.9999234690525584\n",
      "6\t0.9991185109944564\n",
      "7\t0.9917309332251839\n",
      "8\t0.9430207456596036\n",
      "9\t0.7592436440663655\n",
      "10\t0.5237038541372935\n",
      "\n",
      "v''\tclosure_vpp\n",
      "0\t1.0000008065548889\n",
      "1\t1.0000000053339373\n",
      "2\t0.9999999999788536\n",
      "3\t0.9999999999359711\n",
      "4\t1.0000000004676097\n",
      "5\t0.9999999905918385\n",
      "6\t0.9999947282076345\n",
      "7\t0.9995099091507826\n",
      "8\t0.983186329826082\n",
      "9\t0.8096005743622836\n",
      "10\t0.42444291644774834\n"
     ]
    }
   ],
   "source": [
    "thomson.fcf_closure(fcf[0][0][0][0])"
   ]
  },
  {
   "cell_type": "code",
   "execution_count": null,
   "metadata": {},
   "outputs": [],
   "source": []
  }
 ],
 "metadata": {
  "kernelspec": {
   "display_name": "Python 3",
   "language": "python",
   "name": "python3"
  },
  "language_info": {
   "codemirror_mode": {
    "name": "ipython",
    "version": 3
   },
   "file_extension": ".py",
   "mimetype": "text/x-python",
   "name": "python",
   "nbconvert_exporter": "python",
   "pygments_lexer": "ipython3",
   "version": "3.7.2"
  }
 },
 "nbformat": 4,
 "nbformat_minor": 2
}
