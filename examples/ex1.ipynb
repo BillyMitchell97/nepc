{
 "cells": [
  {
   "cell_type": "code",
   "execution_count": 1,
   "metadata": {},
   "outputs": [],
   "source": [
    "import nepc"
   ]
  },
  {
   "cell_type": "code",
   "execution_count": 2,
   "metadata": {},
   "outputs": [],
   "source": [
    "cnx, cursor = nepc.connect()"
   ]
  },
  {
   "cell_type": "code",
   "execution_count": 3,
   "metadata": {},
   "outputs": [],
   "source": [
    "## executing a MySQL statement using 'execute()' method\n",
    "cursor.execute(\"SHOW DATABASES\")"
   ]
  },
  {
   "cell_type": "code",
   "execution_count": 4,
   "metadata": {},
   "outputs": [],
   "source": [
    "## 'fetchall()' method fetches all the rows from the last executed statement\n",
    "databases = cursor.fetchall() ## it returns a list of all databases present"
   ]
  },
  {
   "cell_type": "code",
   "execution_count": 5,
   "metadata": {},
   "outputs": [
    {
     "name": "stdout",
     "output_type": "stream",
     "text": [
      "[('information_schema',), ('nepc',)]\n"
     ]
    }
   ],
   "source": [
    "## printing the list of databases\n",
    "print(databases)"
   ]
  },
  {
   "cell_type": "code",
   "execution_count": 6,
   "metadata": {},
   "outputs": [
    {
     "data": {
      "text/plain": [
       "[(1, 'angus'), (2, 'bPCM_N')]"
      ]
     },
     "execution_count": 6,
     "metadata": {},
     "output_type": "execute_result"
    }
   ],
   "source": [
    "cursor.execute(\"SELECT model_id, name FROM models\")\n",
    "cursor.fetchall()"
   ]
  },
  {
   "cell_type": "code",
   "execution_count": 7,
   "metadata": {},
   "outputs": [
    {
     "name": "stdout",
     "output_type": "stream",
     "text": [
      "[(3, 'angus'), (4, 'angus'), (6, 'angus'), (7, 'angus'), (11, 'angus'), (13, 'angus'), (15, 'angus'), (19, 'angus'), (21, 'angus'), (25, 'angus'), (30, 'angus'), (31, 'angus'), (32, 'angus'), (33, 'angus'), (34, 'angus'), (35, 'angus'), (36, 'angus'), (37, 'angus')]\n"
     ]
    }
   ],
   "source": [
    "cursor.execute(\"SELECT cs.cs_id as cs_id, m.name \" + \n",
    "               \"FROM cs \" +\n",
    "               \"JOIN models2cs m2cs ON (cs.cs_id = m2cs.cs_id) \" +\n",
    "               \"JOIN models m ON (m2cs.model_id = m.model_id) \" +\n",
    "               \"WHERE m.name LIKE 'angus'\")\n",
    "cs = cursor.fetchall()\n",
    "print(cs)"
   ]
  },
  {
   "cell_type": "code",
   "execution_count": 8,
   "metadata": {},
   "outputs": [
    {
     "name": "stdout",
     "output_type": "stream",
     "text": [
      "\n",
      "Rows in csdata: \n",
      "(1065,)\n"
     ]
    }
   ],
   "source": [
    "nepc.countTableRows(cursor, \"csdata\")"
   ]
  },
  {
   "cell_type": "code",
   "execution_count": 9,
   "metadata": {},
   "outputs": [
    {
     "name": "stdout",
     "output_type": "stream",
     "text": [
      "(3, 4, 2, 1.0, 1e-20, 'itikawa2006', 36, None, 45, None, None, None, None, None, None, 'Brunger determined their recommended values considering five sets of beam measurementsthe cross section; the data has a sharp peak in the vicinity of the threshold identified with a core-excited shape resonance; two groups have determined the resonant cross section with the use of direct detection of the molecule in the metastable E state;  the magnitudes of the two sets of cross section differ significantly from one another; by using a trochoidal electron spectrometer, Poparich determined the absolute values of the cross section at 11.94 and 12.14 eV, and this measurement supported one set of the cross section against the other', 0.4, 0.4)\n",
      "[(11.5, 0.0), (11.9, 0.148), (11.95, 0.12), (12.0, 0.095), (12.5, 0.029), (13.0, 0.02), (14.0, 0.008), (15.0, 0.003), (16.0, 0.002), (17.0, 0.004), (18.0, 0.007), (19.0, 0.01), (20.0, 0.012), (21.0, 0.012), (25.0, 0.009), (30.0, 0.007), (35.0, 0.005), (40.0, 0.003), (45.0, 0.0025), (50.0, 0.0018)]\n",
      "(4, 4, 2, 1.0, 1e-20, 'itikawa2006', 36, None, 44, None, None, None, None, None, None, 'a weighted average of the experimental cross sections has been taken with a polynomial least square fit to the energy dependence of the individual set of the cross sections. Thus the estimated uncertainty indicates the degree of the concurrence of the individual experimental results', 0.3, 0.3)\n",
      "[(11.0, 0.001), (11.5, 0.074), (12.0, 0.147), (12.5, 0.229), (13.0, 0.335), (13.5, 0.455), (14.0, 0.551), (14.5, 0.583), (15.0, 0.551), (15.7, 0.478), (16.0, 0.447), (16.5, 0.403), (17.0, 0.353), (17.5, 0.302), (18.0, 0.276), (18.5, 0.258), (19.0, 0.242), (19.5, 0.226), (20.0, 0.212), (25.0, 0.122), (30.0, 0.077), (35.0, 0.052), (40.0, 0.038), (45.0, 0.028), (50.0, 0.022)]\n",
      "(6, 4, 2, 1.0, 1e-20, 'itikawa2006', 36, None, 43, None, None, None, None, None, None, 'a weighted average of the experimental cross sections has been taken with a polynomial least square fit to the energy dependence of the individual set of the cross sections. Thus the estimated uncertainty indicates the degree of the concurrence of the individual experimental results', 0.3, 0.3)\n",
      "[(8.9, 0.0001), (9.0, 0.002), (9.5, 0.024), (10.0, 0.043), (10.5, 0.061), (11.0, 0.076), (11.5, 0.088), (12.0, 0.096), (12.5, 0.102), (13.0, 0.105), (13.5, 0.105), (14.0, 0.103), (14.5, 0.099), (15.0, 0.093), (15.5, 0.086), (16.0, 0.078), (17.0, 0.062), (18.0, 0.049), (19.0, 0.044), (20.0, 0.04), (25.0, 0.026), (30.0, 0.018), (35.0, 0.013), (40.0, 0.01), (45.0, 0.008), (50.0, 0.006)]\n",
      "(7, 4, 2, 1.0, 1e-20, 'itikawa2006', 36, None, 46, None, None, None, None, None, None, 'a weighted average of the experimental cross sections has been taken with a polynomial least square fit to the energy dependence of the individual set of the cross sections. Thus the estimated uncertainty indicates the degree of the concurrence of the individual experimental results', 0.33, 0.33)\n",
      "[(12.25, 0.0), (13.0, 0.009), (14.0, 0.022), (15.0, 0.033), (16.0, 0.042), (17.0, 0.05), (18.0, 0.056), (19.0, 0.06), (20.0, 0.063), (21.0, 0.064), (22.0, 0.063), (23.0, 0.062), (24.0, 0.059), (25.0, 0.055), (27.5, 0.044), (30.0, 0.035), (35.0, 0.025), (40.0, 0.02), (45.0, 0.016), (50.0, 0.014)]\n",
      "(11, 4, 2, 1.0, 1e-20, 'itikawa2006', 36, None, 40, None, None, None, None, None, None, 'R-matrix method theoretical cross sections have been referred to for the detailed structure near threshold; oherwise a weighted average of the experimental cross sections has been taken with a polynomial least square fit to the energy dependence of the individual set of the cross sections; thus the estimated uncertainty indicates the degree of the concurrence of the individual experimental results', 0.4, 0.4)\n",
      "[(10.0, 0.007), (10.5, 0.008), (11.0, 0.019), (11.5, 0.037), (12.0, 0.058), (12.5, 0.082), (13.0, 0.105), (13.5, 0.125), (14.0, 0.143), (14.5, 0.155), (15.0, 0.163), (15.5, 0.165), (16.0, 0.162), (16.5, 0.153), (17.0, 0.14), (17.5, 0.124), (18.0, 0.11), (18.5, 0.101), (19.0, 0.093), (19.5, 0.086), (20.0, 0.08), (25.0, 0.041), (30.0, 0.024), (35.0, 0.015), (40.0, 0.01), (45.0, 0.007), (50.0, 0.005)]\n",
      "(13, 4, 2, 1.0, 1e-20, 'itikawa2006', 36, None, 39, None, None, None, None, None, None, 'R-matrix method theoretical cross sections have been referred to for the detailed structure near threshold; oherwise a weighted average of the experimental cross sections has been taken with a polynomial least square fit to the energy dependence of the individual set of the cross sections; thus the estimated uncertainty indicates the degree of the concurrence of the individual experimental results', 0.35, 0.35)\n",
      "[(9.0, 0.017), (9.5, 0.045), (10.0, 0.072), (10.5, 0.096), (11.0, 0.119), (11.5, 0.14), (12.0, 0.159), (12.5, 0.176), (13.0, 0.191), (13.5, 0.205), (14.0, 0.216), (14.5, 0.224), (15.0, 0.231), (16.0, 0.238), (16.5, 0.238), (17.0, 0.236), (18.0, 0.227), (19.0, 0.209), (20.0, 0.194), (25.0, 0.131), (30.0, 0.088), (35.0, 0.059), (40.0, 0.04), (45.0, 0.027), (50.0, 0.018)]\n",
      "(15, 4, 2, 1.0, 1e-20, 'itikawa2006', 36, None, 38, None, None, None, None, None, None, 'R-matrix method theoretical cross sections have been referred to for the detailed structure near threshold; oherwise a weighted average of the experimental cross sections has been taken with a polynomial least square fit to the energy dependence of the individual set of the cross sections; thus the estimated uncertainty indicates the degree of the concurrence of the individual experimental results', 0.35, 0.35)\n",
      "[(8.55, 0.002), (9.0, 0.141), (9.5, 0.202), (10.0, 0.25), (10.5, 0.287), (11.0, 0.313), (11.5, 0.33), (12.0, 0.338), (12.5, 0.339), (13.0, 0.333), (13.5, 0.323), (14.0, 0.308), (14.5, 0.29), (15.0, 0.27), (16.0, 0.224), (17.0, 0.199), (18.0, 0.177), (19.0, 0.159), (20.0, 0.144), (25.0, 0.092), (30.0, 0.064), (35.0, 0.049), (40.0, 0.036), (45.0, 0.028), (50.0, 0.023)]\n",
      "(19, 4, 2, 1.0, 1e-20, 'itikawa2006', 36, None, None, None, None, None, None, None, None, 'a weighted average of the experimental cross sections has been taken with a polynomial least square fit to the energy dependence of the individual set of the cross sections. Thus the estimated uncertainty indicates the degree of the concurrence of the individual experimental results', 0.3, 0.3)\n",
      "[(9.4, 0.006), (9.5, 0.011), (10.0, 0.031), (10.5, 0.042), (11.0, 0.051), (11.5, 0.059), (12.0, 0.069), (12.5, 0.08), (13.0, 0.091), (13.5, 0.101), (14.0, 0.11), (14.5, 0.113), (15.0, 0.113), (15.5, 0.107), (16.0, 0.095), (16.5, 0.079), (17.0, 0.063), (17.5, 0.056), (18.0, 0.05), (18.5, 0.045), (19.0, 0.041), (20.0, 0.034), (25.0, 0.018), (30.0, 0.014), (35.0, 0.012), (40.0, 0.011), (45.0, 0.01), (50.0, 0.01)]\n",
      "(21, 4, 2, 1.0, 1e-20, 'itikawa2006', 36, None, 42, None, None, None, None, None, None, \"when compiling the data set, Brunger considered four sets of beam measurements, an electron energy loss measurement in which the data were normalized using an emission cross section of the Lymanâ€“Birgeâ€“Hopfield (LBH) system, and Mason and Newell's direct detection of the excited molecule\", 0.25, 0.25)\n",
      "[(8.0, 0.001), (8.5, 0.016), (9.0, 0.038), (9.5, 0.066), (10.0, 0.099), (11.0, 0.174), (12.0, 0.254), (13.0, 0.329), (14.0, 0.394), (15.0, 0.443), (15.5, 0.459), (16.0, 0.469), (16.5, 0.473), (17.0, 0.471), (17.5, 0.462), (18.0, 0.446), (19.0, 0.394), (21.5, 0.3), (25.0, 0.258), (30.0, 0.215), (35.0, 0.185), (40.0, 0.161), (45.0, 0.144), (50.0, 0.129), (60.0, 0.108), (70.0, 0.092), (80.0, 0.081), (90.0, 0.072), (100.0, 0.065)]\n",
      "(25, 4, 2, 1.0, 1e-20, 'itikawa2006', 36, None, 37, None, None, None, None, None, None, 'R-matrix method theoretical cross sections have been referred to for the detailed structure near threshold; oherwise a weighted average of the experimental cross sections has been taken with a polynomial least square fit to the energy dependence of the individual set of the cross sections; thus the estimated uncertainty indicates the degree of the concurrence of the individual experimental results', 0.4, 0.4)\n",
      "[(7.65, 0.005), (7.96, 0.048), (8.26, 0.085), (8.52, 0.125), (8.74, 0.137), (9.57, 0.153), (10.4, 0.168), (10.96, 0.183), (11.53, 0.226), (11.88, 0.251), (11.97, 0.254), (12.1, 0.257), (12.23, 0.254), (12.54, 0.239), (13.15, 0.202), (13.9, 0.18), (14.85, 0.162)]\n",
      "(30, 4, 2, 1.0, 1e-20, 'itikawa2006', 36, None, 37, None, None, None, None, None, None, 'R-matrix method theoretical cross sections have been referred to for the detailed structure near threshold; oherwise a weighted average of the experimental cross sections has been taken with a polynomial least square fit to the energy dependence of the individual set of the cross sections; thus the estimated uncertainty indicates the degree of the concurrence of the individual experimental results', 0.35, 0.35)\n",
      "[(15.0, 0.16), (16.0, 0.152), (17.0, 0.145), (18.0, 0.138), (19.0, 0.132), (20.0, 0.126), (25.0, 0.099), (30.0, 0.078), (35.0, 0.062), (40.0, 0.049), (45.0, 0.038), (50.0, 0.03)]\n",
      "(31, 4, 22, 1.0, 0.0001, 'zipf1980', 36, None, 3, 3, None, None, None, None, None, 'in situ study of the excitation and collisional deactivation of N(2p) atoms in an IBC II + aurora. The N(2p)  concentration and altitude distribution from 110 to 195 km was determined from measurements of the intensity of the NI(4S - 2p;lambda=3466 Angstrom) doublet. The optical data were obtained by a filtered photometer onboard a  Taurus-Orion sounding rocket (33.001 UA) that was launched into a bright auroral arc. Complementary measurements of the  intensity of the (0, 0) first negative band of N2+[lambda=3914 Angstrom] and of the flux and energy distribution of the precipitating electrons in the  0-500 eV energy range were also made.  This channel is one of two N2 singlet state predissociation pathways. We make the assumption that 15% of N2 singlet states dissociate into a N(2D) pair. Since the values in Table 3 are specific cross sections, the cross sections for this process are computed as 26% of Table 3 column [2].', None, None)\n",
      "[(12.0, 0.0), (13.0, 0.0), (13.5, 1.04e-18), (14.0, 2.2360000000000003e-18), (14.5, 3.25e-18), (15.0, 4.342e-18), (15.5, 5.304e-18), (16.0, 6.292e-18), (17.0, 8.112e-18), (18.0, 9.75e-18), (19.0, 1.1362e-17), (20.0, 1.2766e-17), (22.0, 1.521e-17), (24.0, 1.7342000000000002e-17), (26.0, 1.911e-17), (28.0, 2.0332000000000002e-17), (30.0, 2.1398e-17), (33.0, 2.2698e-17), (36.0, 2.3711999999999998e-17), (39.0, 2.4492e-17), (42.0, 2.522e-17), (45.0, 2.574e-17), (50.0, 2.6520000000000004e-17), (55.0, 2.678e-17), (60.0, 2.704e-17), (70.0, 2.756e-17), (80.0, 2.8080000000000005e-17), (90.0, 2.782e-17), (100.0, 2.73e-17), (120.0, 2.626e-17), (140.0, 2.496e-17), (160.0, 2.3660000000000002e-17), (180.0, 2.249e-17), (200.0, 2.1398e-17), (250.0, 1.885e-17), (300.0, 1.69e-17), (350.0, 1.521e-17), (400.0, 1.3832e-17)]\n",
      "(32, 4, 22, 1.0, 0.0001, 'zipf1980', 36, None, 2, 3, None, None, None, None, None, 'in situ study of the excitation and collisional deactivation of N(2p) atoms in an IBC II + aurora. The N(2p)  concentration and altitude distribution from 110 to 195 km was determined from measurements of the intensity of the NI(4S - 2p;lambda=3466 Angstrom) doublet. The optical data were obtained by a filtered photometer onboard a  Taurus-Orion sounding rocket (33.001 UA) that was launched into a bright auroral arc. Complementary measurements of the  intensity of the (0, 0) first negative band of N2+[lambda=3914 Angstrom] and of the flux and energy distribution of the precipitating electrons in the  0-500 eV energy range were also made.  This channel is one of two N2 singlet state predissociation pathways. We make the assumption that 85% of N2 singlet states dissociate into a N(4S) and N(2D) pair. Since the values in Table 3 are specific cross sections, the cross sections for this process are computed as 74% of Table 3 column [2].', None, None)\n",
      "[(12.0, 0.0), (13.0, 0.0), (13.5, 2.96e-18), (14.0, 6.364e-18), (14.5, 9.25e-18), (15.0, 1.2357999999999998e-17), (15.5, 1.5096e-17), (16.0, 1.7908e-17), (17.0, 2.3088e-17), (18.0, 2.7749999999999998e-17), (19.0, 3.2338e-17), (20.0, 3.6334e-17), (22.0, 4.329e-17), (24.0, 4.9358000000000005e-17), (26.0, 5.439e-17), (28.0, 5.786800000000001e-17), (30.0, 6.0902e-17), (33.0, 6.4602e-17), (36.0, 6.748799999999999e-17), (39.0, 6.970799999999999e-17), (42.0, 7.177999999999999e-17), (45.0, 7.325999999999999e-17), (50.0, 7.548000000000001e-17), (55.0, 7.622e-17), (60.0, 7.696e-17), (70.0, 7.844e-17), (80.0, 7.992e-17), (90.0, 7.918e-17), (100.0, 7.77e-17), (120.0, 7.474e-17), (140.0, 7.103999999999999e-17), (160.0, 6.734e-17), (180.0, 6.401e-17), (200.0, 6.0902e-17), (250.0, 5.3649999999999994e-17), (300.0, 4.8099999999999995e-17), (350.0, 4.329e-17), (400.0, 3.9368e-17)]\n",
      "(33, 4, 26, 1.0, 0.0001, 'zipf1980', 36, None, 33, 3, None, None, None, None, None, 'in situ study of the excitation and collisional deactivation of N(2p) atoms in an IBC II + aurora. The N(2p)  concentration and altitude distribution from 110 to 195 km was determined from measurements of the intensity of the NI(4S - 2p;lambda=3466 Angstrom) doublet. The optical data were obtained by a filtered photometer onboard a  Taurus-Orion sounding rocket (33.001 UA) that was launched into a bright auroral arc. Complementary measurements of the  intensity of the (0, 0) first negative band of N2+[lambda=3914 Angstrom] and of the flux and energy distribution of the precipitating electrons in the  0-500 eV energy range were also made.  Data taken from column [3] of Table 3.', None, None)\n",
      "[(12.0, 0.0), (13.0, 0.0), (13.5, 0.0), (14.0, 0.0), (14.5, 0.0), (15.0, 0.0), (15.5, 0.0), (16.0, 0.0), (17.0, 0.0), (18.0, 0.0), (19.0, 0.0), (20.0, 0.0), (22.0, 0.0), (24.0, 0.0), (26.0, 0.0), (28.0, 0.0), (30.0, 9.75e-19), (33.0, 2.05e-18), (36.0, 3.75e-18), (39.0, 5.4e-18), (42.0, 7.85e-18), (45.0, 9.6e-18), (50.0, 1.35e-17), (55.0, 1.7e-17), (60.0, 1.95e-17), (70.0, 2.35e-17), (80.0, 2.65e-17), (90.0, 2.9e-17), (100.0, 3.05e-17), (120.0, 3.15e-17), (140.0, 3.1e-17), (160.0, 3.03e-17), (180.0, 2.92e-17), (200.0, 2.8e-17), (250.0, 2.48e-17), (300.0, 2.22e-17), (350.0, 1.98e-17), (400.0, 1.83e-17)]\n",
      "(34, 4, 22, 1.0, 0.0001, 'zipf1980', 36, None, 2, 4, None, None, None, None, None, 'in situ study of the excitation and collisional deactivation of N(2p) atoms in an IBC II + aurora. The N(2p)  concentration and altitude distribution from 110 to 195 km was determined from measurements of the intensity of the NI(4S - 2p;lambda=3466 Angstrom) doublet. The optical data were obtained by a filtered photometer onboard a  Taurus-Orion sounding rocket (33.001 UA) that was launched into a bright auroral arc. Complementary measurements of the  intensity of the (0, 0) first negative band of N2+[lambda=3914 Angstrom] and of the flux and energy distribution of the precipitating electrons in the  0-500 eV energy range were also made.  Data taken directly from column [5] of Table 3', None, None)\n",
      "[(12.0, 0.0), (13.0, 0.0), (13.5, 0.0), (14.0, 0.0), (14.5, 2.2e-18), (15.0, 3.5e-18), (15.5, 5.4e-18), (16.0, 8e-18), (17.0, 1.27e-17), (18.0, 1.83e-17), (19.0, 2.38e-17), (20.0, 2.9e-17), (22.0, 3.92e-17), (24.0, 4.78e-17), (26.0, 5.56e-17), (28.0, 6.22e-17), (30.0, 6.75e-17), (33.0, 7.22e-17), (36.0, 7.57e-17), (39.0, 7.77e-17), (42.0, 7.9e-17), (45.0, 8e-17), (50.0, 8.1e-17), (55.0, 8.07e-17), (60.0, 8.05e-17), (70.0, 7.95e-17), (80.0, 7.7e-17), (90.0, 7.42e-17), (100.0, 7.17e-17), (120.0, 6.63e-17), (140.0, 6.22e-17), (160.0, 5.85e-17), (180.0, 5.53e-17), (200.0, 5.25e-17), (250.0, 4.7e-17), (300.0, 4.3e-17), (350.0, 3.95e-17), (400.0, 3.7e-17)]\n",
      "(35, 4, 26, 1.0, 0.0001, 'zipf1980', 36, None, 33, 2, None, None, None, None, None, 'in situ study of the excitation and collisional deactivation of N(2p) atoms in an IBC II + aurora. The N(2p)  concentration and altitude distribution from 110 to 195 km was determined from measurements of the intensity of the NI(4S - 2p;lambda=3466 Angstrom) doublet. The optical data were obtained by a filtered photometer onboard a  Taurus-Orion sounding rocket (33.001 UA) that was launched into a bright auroral arc. Complementary measurements of the  intensity of the (0, 0) first negative band of N2+[lambda=3914 Angstrom] and of the flux and energy distribution of the precipitating electrons in the  0-500 eV energy range were also made.  Dissociative ionization channel results in equal probability of 4S and 2D N states, so data for taken from column [3] of Table 3.', None, None)\n",
      "[(12.0, 0.0), (13.0, 0.0), (13.5, 0.0), (14.0, 0.0), (14.5, 0.0), (15.0, 0.0), (15.5, 0.0), (16.0, 0.0), (17.0, 0.0), (18.0, 0.0), (19.0, 0.0), (20.0, 0.0), (22.0, 0.0), (24.0, 0.0), (26.0, 0.0), (28.0, 0.0), (30.0, 9.75e-19), (33.0, 2.05e-18), (36.0, 3.75e-18), (39.0, 5.4e-18), (42.0, 7.85e-18), (45.0, 9.6e-18), (50.0, 1.35e-17), (55.0, 1.7e-17), (60.0, 1.95e-17), (70.0, 2.35e-17), (80.0, 2.65e-17), (90.0, 2.9e-17), (100.0, 3.05e-17), (120.0, 3.15e-17), (140.0, 3.1e-17), (160.0, 3.03e-17), (180.0, 2.92e-17), (200.0, 2.8e-17), (250.0, 2.48e-17), (300.0, 2.22e-17), (350.0, 1.98e-17), (400.0, 1.83e-17)]\n",
      "(36, 4, 21, 1.0, 0.0001, 'zipf1980', 35, None, 1, 1, None, None, None, None, None, 'in situ study of the excitation and collisional deactivation of N(2p) atoms in an IBC II + aurora. The N(2p)  concentration and altitude distribution from 110 to 195 km was determined from measurements of the intensity of the NI(4S - 2p;lambda=3466 Angstrom) doublet. The optical data were obtained by a filtered photometer onboard a  Taurus-Orion sounding rocket (33.001 UA) that was launched into a bright auroral arc. Complementary measurements of the  intensity of the (0, 0) first negative band of N2+[lambda=3914 Angstrom] and of the flux and energy distribution of the precipitating electrons in the  0-500 eV energy range were also made.  Values determined by adding columns [2] and [5] from Table 3', None, None)\n",
      "[(12.0, 0.0), (13.0, 0.0), (13.5, 4e-18), (14.0, 8.6e-18), (14.5, 1.47e-17), (15.0, 2.02e-17), (15.5, 2.5799999999999998e-17), (16.0, 3.22e-17), (17.0, 4.39e-17), (18.0, 5.58e-17), (19.0, 6.75e-17), (20.0, 7.81e-17), (22.0, 9.77e-17), (24.0, 1.145e-16), (26.0, 1.2910000000000002e-16), (28.0, 1.4040000000000002e-16), (30.0, 1.498e-16), (33.0, 1.5949999999999998e-16), (36.0, 1.669e-16), (39.0, 1.719e-16), (42.0, 1.76e-16), (45.0, 1.79e-16), (50.0, 1.8300000000000002e-16), (55.0, 1.837e-16), (60.0, 1.845e-16), (70.0, 1.855e-16), (80.0, 1.85e-16), (90.0, 1.8120000000000002e-16), (100.0, 1.767e-16), (120.0, 1.673e-16), (140.0, 1.5819999999999999e-16), (160.0, 1.4950000000000001e-16), (180.0, 1.418e-16), (200.0, 1.348e-16), (250.0, 1.195e-16), (300.0, 1.08e-16), (350.0, 9.8e-17), (400.0, 9.019999999999999e-17)]\n",
      "(37, 4, 27, 1.0, 0.0001, 'zipf1980', 36, None, 32, 1, None, None, None, None, None, 'in situ study of the excitation and collisional deactivation of N(2p) atoms in an IBC II + aurora. The N(2p)  concentration and altitude distribution from 110 to 195 km was determined from measurements of the intensity of the NI(4S - 2p;lambda=3466 Angstrom) doublet. The optical data were obtained by a filtered photometer onboard a  Taurus-Orion sounding rocket (33.001 UA) that was launched into a bright auroral arc. Complementary measurements of the  intensity of the (0, 0) first negative band of N2+[lambda=3914 Angstrom] and of the flux and energy distribution of the precipitating electrons in the  0-500 eV energy range were also made.  Data taken from column [3] of Table 3.  Multiply values in table by 2 since there is equal probability of 4S and 2D N states.', None, None)\n",
      "[(12.0, 0.0), (13.0, 0.0), (13.5, 0.0), (14.0, 0.0), (14.5, 0.0), (15.0, 0.0), (15.5, 0.0), (16.0, 0.0), (17.0, 0.0), (18.0, 0.0), (19.0, 0.0), (20.0, 0.0), (22.0, 0.0), (24.0, 0.0), (26.0, 0.0), (28.0, 0.0), (30.0, 1.95e-18), (33.0, 4.1e-18), (36.0, 7.5e-18), (39.0, 1.08e-17), (42.0, 1.57e-17), (45.0, 1.92e-17), (50.0, 2.7e-17), (55.0, 3.4e-17), (60.0, 3.9e-17), (70.0, 4.7e-17), (80.0, 5.3e-17), (90.0, 5.8e-17), (100.0, 6.1e-17), (120.0, 6.3e-17), (140.0, 6.2e-17), (160.0, 6.06e-17), (180.0, 5.84e-17), (200.0, 5.6e-17), (250.0, 4.96e-17), (300.0, 4.44e-17), (350.0, 3.96e-17), (400.0, 3.66e-17)]\n"
     ]
    }
   ],
   "source": [
    "nepc.model(cursor,\"angus\")"
   ]
  },
  {
   "cell_type": "code",
   "execution_count": 10,
   "metadata": {},
   "outputs": [],
   "source": [
    "#cnx.close()"
   ]
  },
  {
   "cell_type": "code",
   "execution_count": 11,
   "metadata": {},
   "outputs": [
    {
     "name": "stdout",
     "output_type": "stream",
     "text": [
      "[(1, 4, 11, 1.0, 1e-22, 'itikawa2006', 42, None, 36, None, 135.4, 3, 0, None, None, '', None, None)]\n"
     ]
    }
   ],
   "source": [
    "cursor.execute(\"SELECT * FROM cs WHERE cs_id = 1\")\n",
    "cs = cursor.fetchall()\n",
    "print(cs)"
   ]
  },
  {
   "cell_type": "code",
   "execution_count": null,
   "metadata": {},
   "outputs": [],
   "source": []
  }
 ],
 "metadata": {
  "kernelspec": {
   "display_name": "Python 3",
   "language": "python",
   "name": "python3"
  },
  "language_info": {
   "codemirror_mode": {
    "name": "ipython",
    "version": 3
   },
   "file_extension": ".py",
   "mimetype": "text/x-python",
   "name": "python",
   "nbconvert_exporter": "python",
   "pygments_lexer": "ipython3",
   "version": "3.7.2"
  }
 },
 "nbformat": 4,
 "nbformat_minor": 2
}
